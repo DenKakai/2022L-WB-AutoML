{
 "cells": [
  {
   "cell_type": "markdown",
   "metadata": {},
   "source": [
    "## Multimodal Prediction\n",
    "\n",
    "Kod rodzaju proof-of-concept wykonamy na zbiorze kanglowskim petfinder. Zawiera on informacje o zwierzętach wystawionych do adopcji (jakie - za chwilę)."
   ]
  },
  {
   "cell_type": "code",
   "execution_count": 37,
   "metadata": {},
   "outputs": [],
   "source": [
    "import autogluon"
   ]
  },
  {
   "cell_type": "code",
   "execution_count": 38,
   "metadata": {},
   "outputs": [],
   "source": [
    "download_dir = './ag_petfinder_tutorial'\n",
    "zip_file = 'https://automl-mm-bench.s3.amazonaws.com/petfinder_kaggle.zip'"
   ]
  },
  {
   "cell_type": "code",
   "execution_count": 39,
   "metadata": {},
   "outputs": [],
   "source": [
    "from autogluon.core.utils.loaders import load_zip\n",
    "load_zip.unzip(zip_file, unzip_dir=download_dir)\n"
   ]
  },
  {
   "cell_type": "code",
   "execution_count": 40,
   "metadata": {},
   "outputs": [
    {
     "data": {
      "text/plain": [
       "['file.zip', 'petfinder_processed']"
      ]
     },
     "execution_count": 40,
     "metadata": {},
     "output_type": "execute_result"
    }
   ],
   "source": [
    "import os\n",
    "os.listdir(download_dir)"
   ]
  },
  {
   "cell_type": "code",
   "execution_count": 41,
   "metadata": {},
   "outputs": [
    {
     "data": {
      "text/plain": [
       "['train.csv', 'train_images', 'test.csv', 'test_images', 'dev.csv']"
      ]
     },
     "execution_count": 41,
     "metadata": {},
     "output_type": "execute_result"
    }
   ],
   "source": [
    "dataset_path = download_dir + '/petfinder_processed'\n",
    "os.listdir(dataset_path)\n"
   ]
  },
  {
   "cell_type": "code",
   "execution_count": 42,
   "metadata": {},
   "outputs": [
    {
     "data": {
      "text/plain": [
       "['7432630e3-1.jpg',\n",
       " '7e3d0e3f0-3.jpg',\n",
       " '6a5ba2ea7-4.jpg',\n",
       " 'a5984b6df-1.jpg',\n",
       " '0ecc1200a-4.jpg',\n",
       " '5d225055d-2.jpg',\n",
       " '5113edf84-1.jpg',\n",
       " 'ed5c2d9dd-1.jpg',\n",
       " 'c61aef5bc-4.jpg',\n",
       " '3fbc4677d-1.jpg']"
      ]
     },
     "execution_count": 42,
     "metadata": {},
     "output_type": "execute_result"
    }
   ],
   "source": [
    "os.listdir(dataset_path + '/train_images')[:10]"
   ]
  },
  {
   "cell_type": "code",
   "execution_count": 43,
   "metadata": {},
   "outputs": [],
   "source": [
    "import pandas as pd\n",
    "\n",
    "train_data = pd.read_csv(f'{dataset_path}/train.csv', index_col=0)\n",
    "test_data = pd.read_csv(f'{dataset_path}/dev.csv', index_col=0)"
   ]
  },
  {
   "cell_type": "markdown",
   "metadata": {},
   "source": [
    "## Struktura zbioru petfinder"
   ]
  },
  {
   "cell_type": "code",
   "execution_count": 44,
   "metadata": {},
   "outputs": [
    {
     "data": {
      "text/html": [
       "<div>\n",
       "<style scoped>\n",
       "    .dataframe tbody tr th:only-of-type {\n",
       "        vertical-align: middle;\n",
       "    }\n",
       "\n",
       "    .dataframe tbody tr th {\n",
       "        vertical-align: top;\n",
       "    }\n",
       "\n",
       "    .dataframe thead th {\n",
       "        text-align: right;\n",
       "    }\n",
       "</style>\n",
       "<table border=\"1\" class=\"dataframe\">\n",
       "  <thead>\n",
       "    <tr style=\"text-align: right;\">\n",
       "      <th></th>\n",
       "      <th>Type</th>\n",
       "      <th>Name</th>\n",
       "      <th>Age</th>\n",
       "      <th>Breed1</th>\n",
       "      <th>Breed2</th>\n",
       "      <th>Gender</th>\n",
       "      <th>Color1</th>\n",
       "      <th>Color2</th>\n",
       "      <th>Color3</th>\n",
       "      <th>MaturitySize</th>\n",
       "      <th>...</th>\n",
       "      <th>Quantity</th>\n",
       "      <th>Fee</th>\n",
       "      <th>State</th>\n",
       "      <th>RescuerID</th>\n",
       "      <th>VideoAmt</th>\n",
       "      <th>Description</th>\n",
       "      <th>PetID</th>\n",
       "      <th>PhotoAmt</th>\n",
       "      <th>AdoptionSpeed</th>\n",
       "      <th>Images</th>\n",
       "    </tr>\n",
       "  </thead>\n",
       "  <tbody>\n",
       "    <tr>\n",
       "      <th>10721</th>\n",
       "      <td>1</td>\n",
       "      <td>Elbi</td>\n",
       "      <td>2</td>\n",
       "      <td>307</td>\n",
       "      <td>307</td>\n",
       "      <td>2</td>\n",
       "      <td>5</td>\n",
       "      <td>0</td>\n",
       "      <td>0</td>\n",
       "      <td>3</td>\n",
       "      <td>...</td>\n",
       "      <td>1</td>\n",
       "      <td>0</td>\n",
       "      <td>41336</td>\n",
       "      <td>e9a86209c54f589ba72c345364cf01aa</td>\n",
       "      <td>0</td>\n",
       "      <td>I'm looking for people to adopt my dog</td>\n",
       "      <td>e4b90955c</td>\n",
       "      <td>4.0</td>\n",
       "      <td>4</td>\n",
       "      <td>train_images/e4b90955c-1.jpg;train_images/e4b9...</td>\n",
       "    </tr>\n",
       "    <tr>\n",
       "      <th>13114</th>\n",
       "      <td>2</td>\n",
       "      <td>Darling</td>\n",
       "      <td>4</td>\n",
       "      <td>266</td>\n",
       "      <td>0</td>\n",
       "      <td>1</td>\n",
       "      <td>1</td>\n",
       "      <td>0</td>\n",
       "      <td>0</td>\n",
       "      <td>2</td>\n",
       "      <td>...</td>\n",
       "      <td>1</td>\n",
       "      <td>0</td>\n",
       "      <td>41401</td>\n",
       "      <td>01f954cdf61526daf3fbeb8a074be742</td>\n",
       "      <td>0</td>\n",
       "      <td>Darling was born at the back lane of Jalan Alo...</td>\n",
       "      <td>a0c1384d1</td>\n",
       "      <td>5.0</td>\n",
       "      <td>3</td>\n",
       "      <td>train_images/a0c1384d1-1.jpg;train_images/a0c1...</td>\n",
       "    </tr>\n",
       "    <tr>\n",
       "      <th>13194</th>\n",
       "      <td>1</td>\n",
       "      <td>Wolf</td>\n",
       "      <td>3</td>\n",
       "      <td>307</td>\n",
       "      <td>0</td>\n",
       "      <td>1</td>\n",
       "      <td>1</td>\n",
       "      <td>2</td>\n",
       "      <td>0</td>\n",
       "      <td>2</td>\n",
       "      <td>...</td>\n",
       "      <td>1</td>\n",
       "      <td>0</td>\n",
       "      <td>41332</td>\n",
       "      <td>6e19409f2847326ce3b6d0cec7e42f81</td>\n",
       "      <td>0</td>\n",
       "      <td>I found Wolf about a month ago stuck in a drai...</td>\n",
       "      <td>cf357f057</td>\n",
       "      <td>7.0</td>\n",
       "      <td>4</td>\n",
       "      <td>train_images/cf357f057-1.jpg;train_images/cf35...</td>\n",
       "    </tr>\n",
       "  </tbody>\n",
       "</table>\n",
       "<p>3 rows × 25 columns</p>\n",
       "</div>"
      ],
      "text/plain": [
       "       Type     Name  Age  Breed1  Breed2  Gender  Color1  Color2  Color3  \\\n",
       "10721     1     Elbi    2     307     307       2       5       0       0   \n",
       "13114     2  Darling    4     266       0       1       1       0       0   \n",
       "13194     1     Wolf    3     307       0       1       1       2       0   \n",
       "\n",
       "       MaturitySize  ...  Quantity  Fee  State  \\\n",
       "10721             3  ...         1    0  41336   \n",
       "13114             2  ...         1    0  41401   \n",
       "13194             2  ...         1    0  41332   \n",
       "\n",
       "                              RescuerID  VideoAmt  \\\n",
       "10721  e9a86209c54f589ba72c345364cf01aa         0   \n",
       "13114  01f954cdf61526daf3fbeb8a074be742         0   \n",
       "13194  6e19409f2847326ce3b6d0cec7e42f81         0   \n",
       "\n",
       "                                             Description      PetID  PhotoAmt  \\\n",
       "10721             I'm looking for people to adopt my dog  e4b90955c       4.0   \n",
       "13114  Darling was born at the back lane of Jalan Alo...  a0c1384d1       5.0   \n",
       "13194  I found Wolf about a month ago stuck in a drai...  cf357f057       7.0   \n",
       "\n",
       "      AdoptionSpeed                                             Images  \n",
       "10721             4  train_images/e4b90955c-1.jpg;train_images/e4b9...  \n",
       "13114             3  train_images/a0c1384d1-1.jpg;train_images/a0c1...  \n",
       "13194             4  train_images/cf357f057-1.jpg;train_images/cf35...  \n",
       "\n",
       "[3 rows x 25 columns]"
      ]
     },
     "execution_count": 44,
     "metadata": {},
     "output_type": "execute_result"
    }
   ],
   "source": [
    "train_data.head(3)"
   ]
  },
  {
   "cell_type": "code",
   "execution_count": 45,
   "metadata": {},
   "outputs": [],
   "source": [
    "label = 'AdoptionSpeed'\n",
    "image_col = 'Images'"
   ]
  },
  {
   "cell_type": "markdown",
   "metadata": {},
   "source": [
    "Jako zmienną celu przyjmijmy AdoptionSpeed &mdash; to zmienna kategoryczna (5 wartości) określająca jak szybko zwierzę zostało adoptowane. \n",
    "\n",
    "## Zdjęcia\n",
    "\n",
    "Autogluon nie jest w stanie dokonywać predykcji na kolumnie zawierającej ścieżki do wielu zdjęć. Z tego powodu z dostępnej listy musimy wybrać jedną (tu - wybieramy pierwszy)"
   ]
  },
  {
   "cell_type": "code",
   "execution_count": 46,
   "metadata": {},
   "outputs": [
    {
     "data": {
      "text/plain": [
       "'train_images/e4b90955c-1.jpg;train_images/e4b90955c-2.jpg;train_images/e4b90955c-3.jpg;train_images/e4b90955c-4.jpg'"
      ]
     },
     "execution_count": 46,
     "metadata": {},
     "output_type": "execute_result"
    }
   ],
   "source": [
    "train_data[image_col].iloc[0]"
   ]
  },
  {
   "cell_type": "code",
   "execution_count": 47,
   "metadata": {},
   "outputs": [
    {
     "data": {
      "text/plain": [
       "'train_images/e4b90955c-1.jpg'"
      ]
     },
     "execution_count": 47,
     "metadata": {},
     "output_type": "execute_result"
    }
   ],
   "source": [
    "train_data[image_col] = train_data[image_col].apply(lambda ele: ele.split(';')[0])\n",
    "test_data[image_col] = test_data[image_col].apply(lambda ele: ele.split(';')[0])\n",
    "\n",
    "train_data[image_col].iloc[0]\n"
   ]
  },
  {
   "cell_type": "code",
   "execution_count": 48,
   "metadata": {},
   "outputs": [
    {
     "data": {
      "text/plain": [
       "'/home/kurowskik/ag_petfinder_tutorial/petfinder_processed/train_images/e4b90955c-1.jpg'"
      ]
     },
     "execution_count": 48,
     "metadata": {},
     "output_type": "execute_result"
    }
   ],
   "source": [
    "def path_expander(path, base_folder):\n",
    "    path_l = path.split(';')\n",
    "    return ';'.join([os.path.abspath(os.path.join(base_folder, path)) for path in path_l])\n",
    "\n",
    "train_data[image_col] = train_data[image_col].apply(lambda ele: path_expander(ele, base_folder=dataset_path))\n",
    "test_data[image_col] = test_data[image_col].apply(lambda ele: path_expander(ele, base_folder=dataset_path))\n",
    "\n",
    "train_data[image_col].iloc[0]"
   ]
  },
  {
   "cell_type": "markdown",
   "metadata": {},
   "source": [
    "Zasadniczo już teraz zakończyliśmy proces \"dostosowywania\" zbioru danych do uczenia. Możemy jeszcze pokusić się o lepsze przyjrzenie się danym w zbiorze."
   ]
  },
  {
   "cell_type": "code",
   "execution_count": 49,
   "metadata": {},
   "outputs": [
    {
     "data": {
      "text/html": [
       "<div>\n",
       "<style scoped>\n",
       "    .dataframe tbody tr th:only-of-type {\n",
       "        vertical-align: middle;\n",
       "    }\n",
       "\n",
       "    .dataframe tbody tr th {\n",
       "        vertical-align: top;\n",
       "    }\n",
       "\n",
       "    .dataframe thead th {\n",
       "        text-align: right;\n",
       "    }\n",
       "</style>\n",
       "<table border=\"1\" class=\"dataframe\">\n",
       "  <thead>\n",
       "    <tr style=\"text-align: right;\">\n",
       "      <th></th>\n",
       "      <th>Type</th>\n",
       "      <th>Name</th>\n",
       "      <th>Age</th>\n",
       "      <th>Breed1</th>\n",
       "      <th>Breed2</th>\n",
       "      <th>Gender</th>\n",
       "      <th>Color1</th>\n",
       "      <th>Color2</th>\n",
       "      <th>Color3</th>\n",
       "      <th>MaturitySize</th>\n",
       "      <th>...</th>\n",
       "      <th>Quantity</th>\n",
       "      <th>Fee</th>\n",
       "      <th>State</th>\n",
       "      <th>RescuerID</th>\n",
       "      <th>VideoAmt</th>\n",
       "      <th>Description</th>\n",
       "      <th>PetID</th>\n",
       "      <th>PhotoAmt</th>\n",
       "      <th>AdoptionSpeed</th>\n",
       "      <th>Images</th>\n",
       "    </tr>\n",
       "  </thead>\n",
       "  <tbody>\n",
       "    <tr>\n",
       "      <th>10721</th>\n",
       "      <td>1</td>\n",
       "      <td>Elbi</td>\n",
       "      <td>2</td>\n",
       "      <td>307</td>\n",
       "      <td>307</td>\n",
       "      <td>2</td>\n",
       "      <td>5</td>\n",
       "      <td>0</td>\n",
       "      <td>0</td>\n",
       "      <td>3</td>\n",
       "      <td>...</td>\n",
       "      <td>1</td>\n",
       "      <td>0</td>\n",
       "      <td>41336</td>\n",
       "      <td>e9a86209c54f589ba72c345364cf01aa</td>\n",
       "      <td>0</td>\n",
       "      <td>I'm looking for people to adopt my dog</td>\n",
       "      <td>e4b90955c</td>\n",
       "      <td>4.0</td>\n",
       "      <td>4</td>\n",
       "      <td>/home/kurowskik/ag_petfinder_tutorial/petfinde...</td>\n",
       "    </tr>\n",
       "    <tr>\n",
       "      <th>13114</th>\n",
       "      <td>2</td>\n",
       "      <td>Darling</td>\n",
       "      <td>4</td>\n",
       "      <td>266</td>\n",
       "      <td>0</td>\n",
       "      <td>1</td>\n",
       "      <td>1</td>\n",
       "      <td>0</td>\n",
       "      <td>0</td>\n",
       "      <td>2</td>\n",
       "      <td>...</td>\n",
       "      <td>1</td>\n",
       "      <td>0</td>\n",
       "      <td>41401</td>\n",
       "      <td>01f954cdf61526daf3fbeb8a074be742</td>\n",
       "      <td>0</td>\n",
       "      <td>Darling was born at the back lane of Jalan Alo...</td>\n",
       "      <td>a0c1384d1</td>\n",
       "      <td>5.0</td>\n",
       "      <td>3</td>\n",
       "      <td>/home/kurowskik/ag_petfinder_tutorial/petfinde...</td>\n",
       "    </tr>\n",
       "    <tr>\n",
       "      <th>13194</th>\n",
       "      <td>1</td>\n",
       "      <td>Wolf</td>\n",
       "      <td>3</td>\n",
       "      <td>307</td>\n",
       "      <td>0</td>\n",
       "      <td>1</td>\n",
       "      <td>1</td>\n",
       "      <td>2</td>\n",
       "      <td>0</td>\n",
       "      <td>2</td>\n",
       "      <td>...</td>\n",
       "      <td>1</td>\n",
       "      <td>0</td>\n",
       "      <td>41332</td>\n",
       "      <td>6e19409f2847326ce3b6d0cec7e42f81</td>\n",
       "      <td>0</td>\n",
       "      <td>I found Wolf about a month ago stuck in a drai...</td>\n",
       "      <td>cf357f057</td>\n",
       "      <td>7.0</td>\n",
       "      <td>4</td>\n",
       "      <td>/home/kurowskik/ag_petfinder_tutorial/petfinde...</td>\n",
       "    </tr>\n",
       "  </tbody>\n",
       "</table>\n",
       "<p>3 rows × 25 columns</p>\n",
       "</div>"
      ],
      "text/plain": [
       "       Type     Name  Age  Breed1  Breed2  Gender  Color1  Color2  Color3  \\\n",
       "10721     1     Elbi    2     307     307       2       5       0       0   \n",
       "13114     2  Darling    4     266       0       1       1       0       0   \n",
       "13194     1     Wolf    3     307       0       1       1       2       0   \n",
       "\n",
       "       MaturitySize  ...  Quantity  Fee  State  \\\n",
       "10721             3  ...         1    0  41336   \n",
       "13114             2  ...         1    0  41401   \n",
       "13194             2  ...         1    0  41332   \n",
       "\n",
       "                              RescuerID  VideoAmt  \\\n",
       "10721  e9a86209c54f589ba72c345364cf01aa         0   \n",
       "13114  01f954cdf61526daf3fbeb8a074be742         0   \n",
       "13194  6e19409f2847326ce3b6d0cec7e42f81         0   \n",
       "\n",
       "                                             Description      PetID  PhotoAmt  \\\n",
       "10721             I'm looking for people to adopt my dog  e4b90955c       4.0   \n",
       "13114  Darling was born at the back lane of Jalan Alo...  a0c1384d1       5.0   \n",
       "13194  I found Wolf about a month ago stuck in a drai...  cf357f057       7.0   \n",
       "\n",
       "      AdoptionSpeed                                             Images  \n",
       "10721             4  /home/kurowskik/ag_petfinder_tutorial/petfinde...  \n",
       "13114             3  /home/kurowskik/ag_petfinder_tutorial/petfinde...  \n",
       "13194             4  /home/kurowskik/ag_petfinder_tutorial/petfinde...  \n",
       "\n",
       "[3 rows x 25 columns]"
      ]
     },
     "execution_count": 49,
     "metadata": {},
     "output_type": "execute_result"
    }
   ],
   "source": [
    "train_data.head(3)"
   ]
  },
  {
   "cell_type": "code",
   "execution_count": 50,
   "metadata": {},
   "outputs": [
    {
     "data": {
      "text/plain": [
       "Type                                                             2\n",
       "Name                                                       Darling\n",
       "Age                                                              4\n",
       "Breed1                                                         266\n",
       "Breed2                                                           0\n",
       "Gender                                                           1\n",
       "Color1                                                           1\n",
       "Color2                                                           0\n",
       "Color3                                                           0\n",
       "MaturitySize                                                     2\n",
       "FurLength                                                        1\n",
       "Vaccinated                                                       2\n",
       "Dewormed                                                         2\n",
       "Sterilized                                                       2\n",
       "Health                                                           1\n",
       "Quantity                                                         1\n",
       "Fee                                                              0\n",
       "State                                                        41401\n",
       "RescuerID                         01f954cdf61526daf3fbeb8a074be742\n",
       "VideoAmt                                                         0\n",
       "Description      Darling was born at the back lane of Jalan Alo...\n",
       "PetID                                                    a0c1384d1\n",
       "PhotoAmt                                                       5.0\n",
       "AdoptionSpeed                                                    3\n",
       "Images           /home/kurowskik/ag_petfinder_tutorial/petfinde...\n",
       "Name: 13114, dtype: object"
      ]
     },
     "execution_count": 50,
     "metadata": {},
     "output_type": "execute_result"
    }
   ],
   "source": [
    "example_row = train_data.iloc[1]\n",
    "\n",
    "example_row"
   ]
  },
  {
   "cell_type": "code",
   "execution_count": 51,
   "metadata": {},
   "outputs": [
    {
     "data": {
      "text/plain": [
       "'Darling was born at the back lane of Jalan Alor and was foster by a feeder. All his siblings had died of accident. His mother and grandmother had just been spayed. Darling make a great condo/apartment cat. He love to play a lot. He would make a great companion for someone looking for a cat to love.'"
      ]
     },
     "execution_count": 51,
     "metadata": {},
     "output_type": "execute_result"
    }
   ],
   "source": [
    "example_row['Description']"
   ]
  },
  {
   "cell_type": "code",
   "execution_count": 52,
   "metadata": {},
   "outputs": [
    {
     "data": {
      "image/jpeg": "[encoded data removed]",
      "text/plain": [
       "<IPython.core.display.Image object>"
      ]
     },
     "metadata": {},
     "output_type": "display_data"
    }
   ],
   "source": [
    "example_image = example_row['Images']\n",
    "\n",
    "from IPython.display import Image, display\n",
    "pil_img = Image(filename=example_image)\n",
    "display(pil_img)\n"
   ]
  },
  {
   "cell_type": "markdown",
   "metadata": {},
   "source": [
    "## Uczenie - typy zmiennych, hiperparametry i modele"
   ]
  },
  {
   "cell_type": "code",
   "execution_count": 53,
   "metadata": {},
   "outputs": [],
   "source": [
    "train_data = train_data.sample(500, random_state=0)\n"
   ]
  },
  {
   "cell_type": "markdown",
   "metadata": {},
   "source": [
    "autogluon automatycznie rozpoznaje typy zmiennych"
   ]
  },
  {
   "cell_type": "code",
   "execution_count": 59,
   "metadata": {},
   "outputs": [
    {
     "name": "stdout",
     "output_type": "stream",
     "text": [
      "('float', [])        :  1 | ['PhotoAmt']\n",
      "('int', [])          : 19 | ['Type', 'Age', 'Breed1', 'Breed2', 'Gender', ...]\n",
      "('object', [])       :  4 | ['Name', 'RescuerID', 'PetID', 'Images']\n",
      "('object', ['text']) :  1 | ['Description']\n"
     ]
    }
   ],
   "source": [
    "from autogluon.tabular import FeatureMetadata\n",
    "feature_metadata = FeatureMetadata.from_df(train_data)\n",
    "\n",
    "print(feature_metadata)"
   ]
  },
  {
   "cell_type": "markdown",
   "metadata": {},
   "source": [
    "i ma przygotowany zestaw domyślnych hiperparametrów dla danych multimodalnych."
   ]
  },
  {
   "cell_type": "code",
   "execution_count": 60,
   "metadata": {},
   "outputs": [
    {
     "data": {
      "text/plain": [
       "{'NN': {},\n",
       " 'GBM': [{},\n",
       "  {'extra_trees': True, 'ag_args': {'name_suffix': 'XT'}},\n",
       "  'GBMLarge'],\n",
       " 'CAT': {},\n",
       " 'XGB': {},\n",
       " 'AG_TEXT_NN': ['medium_quality_faster_train'],\n",
       " 'AG_IMAGE_NN': {}}"
      ]
     },
     "execution_count": 60,
     "metadata": {},
     "output_type": "execute_result"
    }
   ],
   "source": [
    "from autogluon.tabular.configs.hyperparameter_configs import get_hyperparameter_config\n",
    "hyperparameters = get_hyperparameter_config('multimodal')\n",
    "\n",
    "hyperparameters\n"
   ]
  },
  {
   "cell_type": "markdown",
   "metadata": {},
   "source": [
    "Aby rozpocząć uczenie sieci, wystarczy tylko podać kilka argumentów..."
   ]
  },
  {
   "cell_type": "code",
   "execution_count": 61,
   "metadata": {},
   "outputs": [
    {
     "name": "stderr",
     "output_type": "stream",
     "text": [
      "/home/kurowskik/anaconda3/lib/python3.8/site-packages/lightgbm/engine.py:239: UserWarning: 'verbose_eval' argument is deprecated and will be removed in a future release of LightGBM. Pass 'log_evaluation()' callback via 'callbacks' argument instead.\n",
      "  _log_warning(\"'verbose_eval' argument is deprecated and will be removed in a future release of LightGBM. \"\n",
      "/home/kurowskik/anaconda3/lib/python3.8/site-packages/lightgbm/engine.py:239: UserWarning: 'verbose_eval' argument is deprecated and will be removed in a future release of LightGBM. Pass 'log_evaluation()' callback via 'callbacks' argument instead.\n",
      "  _log_warning(\"'verbose_eval' argument is deprecated and will be removed in a future release of LightGBM. \"\n",
      "/home/kurowskik/anaconda3/lib/python3.8/site-packages/lightgbm/engine.py:239: UserWarning: 'verbose_eval' argument is deprecated and will be removed in a future release of LightGBM. Pass 'log_evaluation()' callback via 'callbacks' argument instead.\n",
      "  _log_warning(\"'verbose_eval' argument is deprecated and will be removed in a future release of LightGBM. \"\n"
     ]
    }
   ],
   "source": [
    "from autogluon.tabular import TabularPredictor\n",
    "predictor = TabularPredictor(label=label).fit( # label to AdoptionSpeed - zmienna celu\n",
    "    train_data=train_data,                     # train data to wysamplowane zmienne na podstawie ktorych predykujemy\n",
    "    hyperparameters=hyperparameters,           # hiperparametry modeli - tu, domyslne dla multimodala\n",
    "    feature_metadata=feature_metadata,         # metadata (typy zmiennych), okresla ktory model przylozymy do ktorych zmiennych\n",
    "    time_limit=900,                            # mozemy okreslic ile czasu chcemy dac \n",
    ")"
   ]
  },
  {
   "cell_type": "markdown",
   "metadata": {},
   "source": [
    "\n",
    "... aby utworzyć wiele modeli, które możemy następnie zaledwie jedną komendą porównać na zbiorze testowym (nie tylko pod względem wyniku, ale też n.in. tempa jego osiągniecia, czy tempie uczenia)\n"
   ]
  },
  {
   "cell_type": "code",
   "execution_count": 57,
   "metadata": {},
   "outputs": [
    {
     "name": "stdout",
     "output_type": "stream",
     "text": [
      "                 model  score_test  score_val  pred_time_test  pred_time_val   fit_time  pred_time_test_marginal  pred_time_val_marginal  fit_time_marginal  stack_level  can_infer  fit_order\n",
      "0           LightGBMXT    0.328776       0.37        0.044802       0.011404   1.509037                 0.044802                0.011404           1.509037            1       True          2\n",
      "1  WeightedEnsemble_L2    0.328776       0.37        0.046339       0.011863   1.731998                 0.001537                0.000459           0.222961            2       True          7\n",
      "2        LightGBMLarge    0.323775       0.37        0.035372       0.007688  11.759903                 0.035372                0.007688          11.759903            1       True          6\n",
      "3       NeuralNetMXNet    0.297099       0.33        0.456137       0.207687   3.394728                 0.456137                0.207687           3.394728            1       True          5\n",
      "4              XGBoost    0.292431       0.35        0.100362       0.006877   1.437630                 0.100362                0.006877           1.437630            1       True          4\n",
      "5             LightGBM    0.289763       0.34        0.066176       0.016160   2.008855                 0.066176                0.016160           2.008855            1       True          1\n",
      "6             CatBoost    0.269757       0.35        0.019778       0.016340   1.419400                 0.019778                0.016340           1.419400            1       True          3\n"
     ]
    }
   ],
   "source": [
    "leaderboard = predictor.leaderboard(test_data)\n"
   ]
  },
  {
   "cell_type": "markdown",
   "metadata": {},
   "source": [
    "Finalnie możemy porównać rezultaty otrzymanych modeli "
   ]
  }
 ],
 "metadata": {
  "kernelspec": {
   "display_name": "Python 3 (ipykernel)",
   "language": "python",
   "name": "python3"
  },
  "language_info": {
   "codemirror_mode": {
    "name": "ipython",
    "version": 3
   },
   "file_extension": ".py",
   "mimetype": "text/x-python",
   "name": "python",
   "nbconvert_exporter": "python",
   "pygments_lexer": "ipython3",
   "version": "3.9.7"
  }
 },
 "nbformat": 4,
 "nbformat_minor": 4
}
