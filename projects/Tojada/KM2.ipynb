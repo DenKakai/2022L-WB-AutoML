{
 "cells": [
  {
   "cell_type": "markdown",
   "id": "5f324021",
   "metadata": {},
   "source": [
    "# Kamień milowy 2 - Auto Keras\n",
    "### Damian Skowroński, Tomasz Kurpiński, Jan Kruszewski"
   ]
  },
  {
   "cell_type": "markdown",
   "id": "dc7497f1",
   "metadata": {},
   "source": [
    "#### Naszym zadaniem było stworzenie funkcji służącej do przygotowania zbioru danych opisujących problem predykcyjny do użycia frameworku AutoML - Auto Keras."
   ]
  },
  {
   "cell_type": "markdown",
   "id": "28243169",
   "metadata": {},
   "source": [
    "#### Funkcja zawarta jest w skrypcie `.py`. Poniżej przedstawiamy wyniki uzyskane za pomocą pliku `.json`, w którym wcześniej zapisaliśmy metryki."
   ]
  },
  {
   "cell_type": "markdown",
   "id": "614aec42",
   "metadata": {},
   "source": [
    "#### Lista dostępnych zbiorów danych"
   ]
  },
  {
   "cell_type": "code",
   "execution_count": 102,
   "id": "cfb9b25a",
   "metadata": {},
   "outputs": [],
   "source": [
    "import json\n",
    "import pandas as pd\n",
    "import numpy as np\n",
    "dataset_names = np.array([ \n",
    "            \"adult\",\n",
    "            \"airlines\",\n",
    "            \"bank-marketing\",\n",
    "            \"credit-g\" ,\n",
    "            \"higgs\",\n",
    "            \"jasmine\",\n",
    "            \"kc1\",\n",
    "            \"kr-vs-kp\",\n",
    "            \"nomao\",\n",
    "            \"numerai28.6\",\n",
    "            \"phoneme\" ,\n",
    "            \"sylvine\",\n",
    "            \"car\",\n",
    "            \"cnae-9\",\n",
    "            \"connect-4\",\n",
    "            \"covertype\",\n",
    "            \"mfeat-factors\",\n",
    "            \"segment\",\n",
    "            \"shuttle\",\n",
    "            \"vehicle\"\n",
    "            ])"
   ]
  },
  {
   "cell_type": "markdown",
   "id": "6c42526e",
   "metadata": {},
   "source": [
    "#### Odczytujemy plik z wynikami zapisując je do tabelki"
   ]
  },
  {
   "cell_type": "code",
   "execution_count": 105,
   "id": "7c43104b",
   "metadata": {},
   "outputs": [],
   "source": [
    "f = open('results_trials5.json')\n",
    "data = json.load(f)\n",
    "df=pd.DataFrame(columns=['dataset_name', 'accuracy', 'recall', 'precision', 'f1_micro', 'finding_best_model_time'])\n",
    "\n",
    "for i in dataset_names:\n",
    "    df = df.append({'dataset_name' : i, \n",
    "         'accuracy': data[i]['scores']['accuracy'], \n",
    "         'recall' : data[i]['scores']['recall'], \n",
    "         'precision' :data[i]['scores']['precision'], \n",
    "         'f1_micro' : data[i]['scores']['f1_micro'],\n",
    "        'finding_best_model_time': data[i]['time']},\n",
    "        \n",
    "        ignore_index=True)\n",
    "f.close()"
   ]
  },
  {
   "cell_type": "markdown",
   "id": "b8fcd167",
   "metadata": {},
   "source": [
    "#### Wyniki dla różnych danych "
   ]
  },
  {
   "cell_type": "code",
   "execution_count": 106,
   "id": "f5115816",
   "metadata": {},
   "outputs": [
    {
     "data": {
      "text/html": [
       "<div>\n",
       "<style scoped>\n",
       "    .dataframe tbody tr th:only-of-type {\n",
       "        vertical-align: middle;\n",
       "    }\n",
       "\n",
       "    .dataframe tbody tr th {\n",
       "        vertical-align: top;\n",
       "    }\n",
       "\n",
       "    .dataframe thead th {\n",
       "        text-align: right;\n",
       "    }\n",
       "</style>\n",
       "<table border=\"1\" class=\"dataframe\">\n",
       "  <thead>\n",
       "    <tr style=\"text-align: right;\">\n",
       "      <th></th>\n",
       "      <th>dataset_name</th>\n",
       "      <th>accuracy</th>\n",
       "      <th>recall</th>\n",
       "      <th>precision</th>\n",
       "      <th>f1_micro</th>\n",
       "      <th>finding_best_model_time</th>\n",
       "    </tr>\n",
       "  </thead>\n",
       "  <tbody>\n",
       "    <tr>\n",
       "      <th>0</th>\n",
       "      <td>adult</td>\n",
       "      <td>0.819016</td>\n",
       "      <td>0.819016</td>\n",
       "      <td>0.819016</td>\n",
       "      <td>0.819016</td>\n",
       "      <td>13.714162</td>\n",
       "    </tr>\n",
       "    <tr>\n",
       "      <th>1</th>\n",
       "      <td>airlines</td>\n",
       "      <td>0.624796</td>\n",
       "      <td>0.624796</td>\n",
       "      <td>0.624796</td>\n",
       "      <td>0.624796</td>\n",
       "      <td>5.409910</td>\n",
       "    </tr>\n",
       "    <tr>\n",
       "      <th>2</th>\n",
       "      <td>bank-marketing</td>\n",
       "      <td>0.885942</td>\n",
       "      <td>0.885942</td>\n",
       "      <td>0.885942</td>\n",
       "      <td>0.885942</td>\n",
       "      <td>6.144583</td>\n",
       "    </tr>\n",
       "    <tr>\n",
       "      <th>3</th>\n",
       "      <td>credit-g</td>\n",
       "      <td>0.712000</td>\n",
       "      <td>0.712000</td>\n",
       "      <td>0.712000</td>\n",
       "      <td>0.712000</td>\n",
       "      <td>7.137818</td>\n",
       "    </tr>\n",
       "    <tr>\n",
       "      <th>4</th>\n",
       "      <td>higgs</td>\n",
       "      <td>0.664382</td>\n",
       "      <td>0.664382</td>\n",
       "      <td>0.664382</td>\n",
       "      <td>0.664382</td>\n",
       "      <td>14.322792</td>\n",
       "    </tr>\n",
       "    <tr>\n",
       "      <th>5</th>\n",
       "      <td>jasmine</td>\n",
       "      <td>0.965147</td>\n",
       "      <td>0.965147</td>\n",
       "      <td>0.965147</td>\n",
       "      <td>0.965147</td>\n",
       "      <td>37.185698</td>\n",
       "    </tr>\n",
       "    <tr>\n",
       "      <th>6</th>\n",
       "      <td>kc1</td>\n",
       "      <td>0.829545</td>\n",
       "      <td>0.829545</td>\n",
       "      <td>0.829545</td>\n",
       "      <td>0.829545</td>\n",
       "      <td>5.784938</td>\n",
       "    </tr>\n",
       "    <tr>\n",
       "      <th>7</th>\n",
       "      <td>kr-vs-kp</td>\n",
       "      <td>0.853567</td>\n",
       "      <td>0.853567</td>\n",
       "      <td>0.853567</td>\n",
       "      <td>0.853567</td>\n",
       "      <td>11.348145</td>\n",
       "    </tr>\n",
       "    <tr>\n",
       "      <th>8</th>\n",
       "      <td>nomao</td>\n",
       "      <td>0.933271</td>\n",
       "      <td>0.933271</td>\n",
       "      <td>0.933271</td>\n",
       "      <td>0.933271</td>\n",
       "      <td>83.501832</td>\n",
       "    </tr>\n",
       "    <tr>\n",
       "      <th>9</th>\n",
       "      <td>numerai28.6</td>\n",
       "      <td>0.499460</td>\n",
       "      <td>0.499460</td>\n",
       "      <td>0.499460</td>\n",
       "      <td>0.499460</td>\n",
       "      <td>30.120320</td>\n",
       "    </tr>\n",
       "    <tr>\n",
       "      <th>10</th>\n",
       "      <td>phoneme</td>\n",
       "      <td>0.768320</td>\n",
       "      <td>0.768320</td>\n",
       "      <td>0.768320</td>\n",
       "      <td>0.768320</td>\n",
       "      <td>2.319155</td>\n",
       "    </tr>\n",
       "    <tr>\n",
       "      <th>11</th>\n",
       "      <td>sylvine</td>\n",
       "      <td>0.015613</td>\n",
       "      <td>0.015613</td>\n",
       "      <td>0.015613</td>\n",
       "      <td>0.015613</td>\n",
       "      <td>5.020517</td>\n",
       "    </tr>\n",
       "    <tr>\n",
       "      <th>12</th>\n",
       "      <td>car</td>\n",
       "      <td>0.659722</td>\n",
       "      <td>0.659722</td>\n",
       "      <td>0.659722</td>\n",
       "      <td>0.659722</td>\n",
       "      <td>2.944412</td>\n",
       "    </tr>\n",
       "    <tr>\n",
       "      <th>13</th>\n",
       "      <td>cnae-9</td>\n",
       "      <td>0.733333</td>\n",
       "      <td>0.733333</td>\n",
       "      <td>0.733333</td>\n",
       "      <td>0.733333</td>\n",
       "      <td>202.614651</td>\n",
       "    </tr>\n",
       "    <tr>\n",
       "      <th>14</th>\n",
       "      <td>connect-4</td>\n",
       "      <td>0.700947</td>\n",
       "      <td>0.700947</td>\n",
       "      <td>0.700947</td>\n",
       "      <td>0.700947</td>\n",
       "      <td>49.729007</td>\n",
       "    </tr>\n",
       "    <tr>\n",
       "      <th>15</th>\n",
       "      <td>covertype</td>\n",
       "      <td>0.711565</td>\n",
       "      <td>0.711565</td>\n",
       "      <td>0.711565</td>\n",
       "      <td>0.711565</td>\n",
       "      <td>387.117596</td>\n",
       "    </tr>\n",
       "    <tr>\n",
       "      <th>16</th>\n",
       "      <td>mfeat-factors</td>\n",
       "      <td>0.972000</td>\n",
       "      <td>0.972000</td>\n",
       "      <td>0.972000</td>\n",
       "      <td>0.972000</td>\n",
       "      <td>33.211068</td>\n",
       "    </tr>\n",
       "    <tr>\n",
       "      <th>17</th>\n",
       "      <td>segment</td>\n",
       "      <td>0.686851</td>\n",
       "      <td>0.686851</td>\n",
       "      <td>0.686851</td>\n",
       "      <td>0.686851</td>\n",
       "      <td>5.250334</td>\n",
       "    </tr>\n",
       "    <tr>\n",
       "      <th>18</th>\n",
       "      <td>shuttle</td>\n",
       "      <td>0.975172</td>\n",
       "      <td>0.975172</td>\n",
       "      <td>0.975172</td>\n",
       "      <td>0.975172</td>\n",
       "      <td>11.269550</td>\n",
       "    </tr>\n",
       "    <tr>\n",
       "      <th>19</th>\n",
       "      <td>vehicle</td>\n",
       "      <td>0.495283</td>\n",
       "      <td>0.495283</td>\n",
       "      <td>0.495283</td>\n",
       "      <td>0.495283</td>\n",
       "      <td>4.299420</td>\n",
       "    </tr>\n",
       "  </tbody>\n",
       "</table>\n",
       "</div>"
      ],
      "text/plain": [
       "      dataset_name  accuracy    recall  precision  f1_micro  \\\n",
       "0            adult  0.819016  0.819016   0.819016  0.819016   \n",
       "1         airlines  0.624796  0.624796   0.624796  0.624796   \n",
       "2   bank-marketing  0.885942  0.885942   0.885942  0.885942   \n",
       "3         credit-g  0.712000  0.712000   0.712000  0.712000   \n",
       "4            higgs  0.664382  0.664382   0.664382  0.664382   \n",
       "5          jasmine  0.965147  0.965147   0.965147  0.965147   \n",
       "6              kc1  0.829545  0.829545   0.829545  0.829545   \n",
       "7         kr-vs-kp  0.853567  0.853567   0.853567  0.853567   \n",
       "8            nomao  0.933271  0.933271   0.933271  0.933271   \n",
       "9      numerai28.6  0.499460  0.499460   0.499460  0.499460   \n",
       "10         phoneme  0.768320  0.768320   0.768320  0.768320   \n",
       "11         sylvine  0.015613  0.015613   0.015613  0.015613   \n",
       "12             car  0.659722  0.659722   0.659722  0.659722   \n",
       "13          cnae-9  0.733333  0.733333   0.733333  0.733333   \n",
       "14       connect-4  0.700947  0.700947   0.700947  0.700947   \n",
       "15       covertype  0.711565  0.711565   0.711565  0.711565   \n",
       "16   mfeat-factors  0.972000  0.972000   0.972000  0.972000   \n",
       "17         segment  0.686851  0.686851   0.686851  0.686851   \n",
       "18         shuttle  0.975172  0.975172   0.975172  0.975172   \n",
       "19         vehicle  0.495283  0.495283   0.495283  0.495283   \n",
       "\n",
       "    finding_best_model_time  \n",
       "0                 13.714162  \n",
       "1                  5.409910  \n",
       "2                  6.144583  \n",
       "3                  7.137818  \n",
       "4                 14.322792  \n",
       "5                 37.185698  \n",
       "6                  5.784938  \n",
       "7                 11.348145  \n",
       "8                 83.501832  \n",
       "9                 30.120320  \n",
       "10                 2.319155  \n",
       "11                 5.020517  \n",
       "12                 2.944412  \n",
       "13               202.614651  \n",
       "14                49.729007  \n",
       "15               387.117596  \n",
       "16                33.211068  \n",
       "17                 5.250334  \n",
       "18                11.269550  \n",
       "19                 4.299420  "
      ]
     },
     "execution_count": 106,
     "metadata": {},
     "output_type": "execute_result"
    }
   ],
   "source": [
    "df"
   ]
  },
  {
   "cell_type": "markdown",
   "id": "270043a6",
   "metadata": {},
   "source": [
    "#### Średnia accuracy"
   ]
  },
  {
   "cell_type": "code",
   "execution_count": 119,
   "id": "e8d78f6b",
   "metadata": {},
   "outputs": [
    {
     "data": {
      "text/plain": [
       "0.7252967191865074"
      ]
     },
     "execution_count": 119,
     "metadata": {},
     "output_type": "execute_result"
    }
   ],
   "source": [
    "np.mean(df['accuracy'])"
   ]
  },
  {
   "cell_type": "markdown",
   "id": "3334dbbd",
   "metadata": {},
   "source": [
    "#### Jak widać otrzymaliśmy te same wyniki dla różnych metryk. Wydaje nam się, że jest to związane z obraniem parametru micro dla wszystkich metryk poza accuracy. Informacje na ten temat znaleźliśmy w artykule: https://arxiv.org/pdf/2008.05756.pdf"
   ]
  },
  {
   "cell_type": "markdown",
   "id": "a7694ec4",
   "metadata": {},
   "source": [
    "#### Wykres z wynikami dla wybranych metryk"
   ]
  },
  {
   "cell_type": "code",
   "execution_count": 114,
   "id": "851a950f",
   "metadata": {
    "scrolled": true
   },
   "outputs": [
    {
     "data": {
      "image/png": "[encoded data removed]",
      "text/plain": [
       "<Figure size 1080x1080 with 1 Axes>"
      ]
     },
     "metadata": {
      "needs_background": "light"
     },
     "output_type": "display_data"
    }
   ],
   "source": [
    "import matplotlib.pyplot as plt \n",
    "  \n",
    "X = dataset_names\n",
    "  \n",
    "X_axis = np.arange(len(X))\n",
    "plt.figure(figsize=(15, 15))\n",
    "\n",
    "plt.bar(X_axis + 0.3, df['accuracy'], 0.1, label = 'accuracy', color='dimgrey')\n",
    "plt.bar(X_axis - 0.1, df['recall'], 0.1, label = 'recall', color='dimgrey')\n",
    "plt.bar(X_axis + 0.1, df['precision'], 0.1, label = 'precision', color='slategrey')\n",
    "plt.bar(X_axis - 0.3, df['f1_micro'], 0.1, label = 'f1_micro', color='k')\n",
    "  \n",
    "plt.xticks(X_axis, X)\n",
    "plt.xlabel(\"data sets\")\n",
    "plt.ylabel(\"Score\")\n",
    "plt.title(\"Scores of models for every set\")\n",
    "plt.xticks(rotation = 45)\n",
    "plt.legend()\n",
    "plt.show()"
   ]
  },
  {
   "cell_type": "markdown",
   "id": "aee466c8",
   "metadata": {},
   "source": [
    "## Podsumowanie\n",
    "* Wyniki oscylują średnio wokół wyniku 0.725.\n",
    "* Najlepsze wyniki otrzymaliśmy dla zbiorów `jasmine`, `mfeat-factors` i `shuttle`.\n",
    "* Zdecydowanie najgorszy wynik mogłoby się zdawać mamy dla zbioru `sylvine`, jednak mamy tu do czynienia z klasyfikacją binarną, więc wystarczy zamienić etykiety by otrzymać bardzo dobry wynik."
   ]
  }
 ],
 "metadata": {
  "kernelspec": {
   "display_name": "Python 3 (ipykernel)",
   "language": "python",
   "name": "python3"
  },
  "language_info": {
   "codemirror_mode": {
    "name": "ipython",
    "version": 3
   },
   "file_extension": ".py",
   "mimetype": "text/x-python",
   "name": "python",
   "nbconvert_exporter": "python",
   "pygments_lexer": "ipython3",
   "version": "3.9.7"
  }
 },
 "nbformat": 4,
 "nbformat_minor": 5
}
