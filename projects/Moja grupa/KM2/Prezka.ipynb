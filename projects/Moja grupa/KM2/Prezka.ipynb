{
 "cells": [
  {
   "cell_type": "markdown",
   "id": "15ebeb7a-6154-45fb-8a75-2e378b547602",
   "metadata": {},
   "source": [
    "# Trudności implementacyjne"
   ]
  },
  {
   "cell_type": "markdown",
   "id": "fd9dc6b6-bbdb-45f9-af6b-5703dee342d2",
   "metadata": {},
   "source": [
    "## Brak splitera zaimplementowanego w autosklearn2.0"
   ]
  },
  {
   "cell_type": "markdown",
   "id": "3b563c10-4d0d-48cb-a605-8603f48ffaa1",
   "metadata": {},
   "source": [
    "Spliter jest zaimplementowany tylko i wyłącznie w zwykłym autosklearnie. W teorii autosklearn2.0 ma strategie, które aplikuje w zależności od wielkości zbioru. Np. (SuccesiveHalving) jedną z strategi jest dopasowanie zbioru na kolejno 1/4, 1/2 części zbioru i w końcu na całym zbiorze. Strategie te zastępują splitera."
   ]
  },
  {
   "cell_type": "markdown",
   "id": "22335305-08ea-4733-b2b2-0a3049f0014f",
   "metadata": {},
   "source": [
    "![alt text](errory/first.jpg)"
   ]
  },
  {
   "cell_type": "markdown",
   "id": "eaa70702-33e2-43f9-9b58-4b0ac735e0f7",
   "metadata": {},
   "source": [
    "![alt text](errory/second.jpg)"
   ]
  },
  {
   "cell_type": "markdown",
   "id": "721df12c-d853-4ff8-b49e-1b232f86b899",
   "metadata": {},
   "source": [
    "Jako, że Autosklearn2Classifier jest rozszerzeniem klasy z zwykłego autosklearn'a nie istnieje możliwość włożenia jakiejkolwiek zmiany do środka."
   ]
  },
  {
   "cell_type": "markdown",
   "id": "d29f45ca-0e01-4534-b992-42d25716ee15",
   "metadata": {
    "tags": []
   },
   "source": [
    "## Dummy "
   ]
  },
  {
   "cell_type": "markdown",
   "id": "d4f4d05d-f1f3-40fc-ad09-afe21498ed6a",
   "metadata": {
    "tags": []
   },
   "source": [
    "![alt text](errory/dummy.jpg)"
   ]
  },
  {
   "cell_type": "markdown",
   "id": "df89d8f7-f0b2-4f75-b8c9-5db944c22b87",
   "metadata": {},
   "source": [
    "Błąd, który wynikał raczej z innej biblioteki. Rozwiązaniem tego problemu był upgrade paczki ``llvm-openmp``, żeby dostać się do nie trzeba było przejść przez 2 issue na githubie. Jeden był w [issue naszej paczki](https://github.com/automl/auto-sklearn/issues/1418) w nim był odnośnik do innego issue z [innym repozytorium](https://github.com/ContinuumIO/anaconda-issues/issues/10195). Chodziło najpewniej o jakieś problemy z przetwarzaniem wielowątkowym."
   ]
  },
  {
   "cell_type": "markdown",
   "id": "ca6e9319-6336-4e7b-b1b4-04139ebee978",
   "metadata": {
    "tags": []
   },
   "source": [
    "## Błąd paczki"
   ]
  },
  {
   "cell_type": "markdown",
   "id": "a22074c6-b411-41b0-af22-02facd318d34",
   "metadata": {},
   "source": [
    "![alt text](errory/view_warni.png)"
   ]
  },
  {
   "cell_type": "markdown",
   "id": "22d35618-de35-4866-9732-0fceece4e603",
   "metadata": {},
   "source": [
    "## F1 Score"
   ]
  },
  {
   "cell_type": "markdown",
   "id": "5ca944a6-c8c4-40ed-8d40-78447c73b8b8",
   "metadata": {},
   "source": [
    "Błąd ten wiązał się z niemożnością rozpoznania przez model która etykieta oznacza \"1\"(Positive) a która \"0\"(Neagtive). Z tego powodu nie można było obliczyć F1 score i musieliśmy porzucić tą metrykę."
   ]
  },
  {
   "cell_type": "markdown",
   "id": "e272a880-639e-4dab-9f05-ffeea3787f87",
   "metadata": {},
   "source": [
    "## Time_left_for_this_task"
   ]
  },
  {
   "cell_type": "markdown",
   "id": "d4e2a0c9-08da-4620-b176-cfa65ad75ae4",
   "metadata": {},
   "source": [
    "Mimo ustawienia czasu na wykonanie jednej operacji fit na 120 sekund (dla każdego folda, razem powinno skonczyć się po 20 minutach), trwało to o wiele dłużej (1 ramka robiła się ponad godzinę). "
   ]
  },
  {
   "cell_type": "markdown",
   "id": "97205808-f8b8-4617-8af8-55230bead3a6",
   "metadata": {},
   "source": [
    "# Podsumowanie"
   ]
  },
  {
   "cell_type": "markdown",
   "id": "a0467aa0-fcb0-4648-aa68-0826b6df7242",
   "metadata": {},
   "source": [
    "## Wyniki"
   ]
  },
  {
   "cell_type": "code",
   "execution_count": 1,
   "id": "0a232f30-44fd-418a-97f9-ebfa236dcf9d",
   "metadata": {},
   "outputs": [
    {
     "data": {
      "text/html": [
       "<div>\n",
       "<style scoped>\n",
       "    .dataframe tbody tr th:only-of-type {\n",
       "        vertical-align: middle;\n",
       "    }\n",
       "\n",
       "    .dataframe tbody tr th {\n",
       "        vertical-align: top;\n",
       "    }\n",
       "\n",
       "    .dataframe thead th {\n",
       "        text-align: right;\n",
       "    }\n",
       "</style>\n",
       "<table border=\"1\" class=\"dataframe\">\n",
       "  <thead>\n",
       "    <tr style=\"text-align: right;\">\n",
       "      <th></th>\n",
       "      <th>accuracy</th>\n",
       "      <th>auc</th>\n",
       "    </tr>\n",
       "  </thead>\n",
       "  <tbody>\n",
       "    <tr>\n",
       "      <th>kr-vs-kp</th>\n",
       "      <td>0.969020 +- 0.010704</td>\n",
       "      <td>0.997327 +- 0.001657</td>\n",
       "    </tr>\n",
       "    <tr>\n",
       "      <th>credit-g</th>\n",
       "      <td>0.713000 +- 0.049810</td>\n",
       "      <td>0.784286 +- 0.039923</td>\n",
       "    </tr>\n",
       "    <tr>\n",
       "      <th>kc1</th>\n",
       "      <td>0.830729 +- 0.031422</td>\n",
       "      <td>0.814633 +- 0.032763</td>\n",
       "    </tr>\n",
       "    <tr>\n",
       "      <th>KDDCup09_appetency</th>\n",
       "      <td>0.982200 +- 0.000000</td>\n",
       "      <td>0.500000 +- 0.000000</td>\n",
       "    </tr>\n",
       "    <tr>\n",
       "      <th>adult</th>\n",
       "      <td>0.829164 +- 0.012293</td>\n",
       "      <td>0.922191 +- 0.004102</td>\n",
       "    </tr>\n",
       "    <tr>\n",
       "      <th>phoneme</th>\n",
       "      <td>0.874725 +- 0.015991</td>\n",
       "      <td>0.945183 +- 0.011482</td>\n",
       "    </tr>\n",
       "    <tr>\n",
       "      <th>nomao</th>\n",
       "      <td>0.952271 +- 0.002623</td>\n",
       "      <td>0.991082 +- 0.000941</td>\n",
       "    </tr>\n",
       "    <tr>\n",
       "      <th>blood-transfusion-service-center</th>\n",
       "      <td>0.759243 +- 0.037808</td>\n",
       "      <td>0.759514 +- 0.040616</td>\n",
       "    </tr>\n",
       "    <tr>\n",
       "      <th>bank-marketing</th>\n",
       "      <td>0.865452 +- 0.025790</td>\n",
       "      <td>0.925061 +- 0.007016</td>\n",
       "    </tr>\n",
       "    <tr>\n",
       "      <th>Amazon_employee_access</th>\n",
       "      <td>0.795048 +- 0.072844</td>\n",
       "      <td>0.742967 +- 0.014928</td>\n",
       "    </tr>\n",
       "    <tr>\n",
       "      <th>higgs</th>\n",
       "      <td>0.709118 +- 0.005331</td>\n",
       "      <td>0.787859 +- 0.006444</td>\n",
       "    </tr>\n",
       "    <tr>\n",
       "      <th>Australian</th>\n",
       "      <td>0.866667 +- 0.028102</td>\n",
       "      <td>0.938931 +- 0.022525</td>\n",
       "    </tr>\n",
       "    <tr>\n",
       "      <th>numerai28.6</th>\n",
       "      <td>0.519736 +- 0.004422</td>\n",
       "      <td>0.528440 +- 0.004246</td>\n",
       "    </tr>\n",
       "    <tr>\n",
       "      <th>MiniBooNE</th>\n",
       "      <td>0.719377 +- 0.000023</td>\n",
       "      <td>0.500000 +- 0.000000</td>\n",
       "    </tr>\n",
       "    <tr>\n",
       "      <th>guillermo</th>\n",
       "      <td>0.599850 +- 0.000229</td>\n",
       "      <td>0.500000 +- 0.000000</td>\n",
       "    </tr>\n",
       "    <tr>\n",
       "      <th>riccardo</th>\n",
       "      <td>0.750000 +- 0.000000</td>\n",
       "      <td>0.500000 +- 0.000000</td>\n",
       "    </tr>\n",
       "    <tr>\n",
       "      <th>APSFailure</th>\n",
       "      <td>0.981908 +- 0.000066</td>\n",
       "      <td>0.500000 +- 0.000000</td>\n",
       "    </tr>\n",
       "    <tr>\n",
       "      <th>christine</th>\n",
       "      <td>0.500000 +- 0.000413</td>\n",
       "      <td>0.500000 +- 0.000000</td>\n",
       "    </tr>\n",
       "    <tr>\n",
       "      <th>jasmine</th>\n",
       "      <td>0.809307 +- 0.016282</td>\n",
       "      <td>0.876776 +- 0.019175</td>\n",
       "    </tr>\n",
       "    <tr>\n",
       "      <th>sylvine</th>\n",
       "      <td>0.939891 +- 0.006401</td>\n",
       "      <td>0.980818 +- 0.003078</td>\n",
       "    </tr>\n",
       "    <tr>\n",
       "      <th>airlines</th>\n",
       "      <td>0.554558 +- 0.000006</td>\n",
       "      <td>0.500000 +- 0.000000</td>\n",
       "    </tr>\n",
       "    <tr>\n",
       "      <th>albert</th>\n",
       "      <td>0.500000 +- 0.000000</td>\n",
       "      <td>0.500000 +- 0.000000</td>\n",
       "    </tr>\n",
       "  </tbody>\n",
       "</table>\n",
       "</div>"
      ],
      "text/plain": [
       "                                              accuracy                   auc\n",
       "kr-vs-kp                          0.969020 +- 0.010704  0.997327 +- 0.001657\n",
       "credit-g                          0.713000 +- 0.049810  0.784286 +- 0.039923\n",
       "kc1                               0.830729 +- 0.031422  0.814633 +- 0.032763\n",
       "KDDCup09_appetency                0.982200 +- 0.000000  0.500000 +- 0.000000\n",
       "adult                             0.829164 +- 0.012293  0.922191 +- 0.004102\n",
       "phoneme                           0.874725 +- 0.015991  0.945183 +- 0.011482\n",
       "nomao                             0.952271 +- 0.002623  0.991082 +- 0.000941\n",
       "blood-transfusion-service-center  0.759243 +- 0.037808  0.759514 +- 0.040616\n",
       "bank-marketing                    0.865452 +- 0.025790  0.925061 +- 0.007016\n",
       "Amazon_employee_access            0.795048 +- 0.072844  0.742967 +- 0.014928\n",
       "higgs                             0.709118 +- 0.005331  0.787859 +- 0.006444\n",
       "Australian                        0.866667 +- 0.028102  0.938931 +- 0.022525\n",
       "numerai28.6                       0.519736 +- 0.004422  0.528440 +- 0.004246\n",
       "MiniBooNE                         0.719377 +- 0.000023  0.500000 +- 0.000000\n",
       "guillermo                         0.599850 +- 0.000229  0.500000 +- 0.000000\n",
       "riccardo                          0.750000 +- 0.000000  0.500000 +- 0.000000\n",
       "APSFailure                        0.981908 +- 0.000066  0.500000 +- 0.000000\n",
       "christine                         0.500000 +- 0.000413  0.500000 +- 0.000000\n",
       "jasmine                           0.809307 +- 0.016282  0.876776 +- 0.019175\n",
       "sylvine                           0.939891 +- 0.006401  0.980818 +- 0.003078\n",
       "airlines                          0.554558 +- 0.000006  0.500000 +- 0.000000\n",
       "albert                            0.500000 +- 0.000000  0.500000 +- 0.000000"
      ]
     },
     "execution_count": 1,
     "metadata": {},
     "output_type": "execute_result"
    }
   ],
   "source": [
    "import pandas as pd\n",
    "pd.read_csv(\"final_cutted.csv\", index_col=0)"
   ]
  },
  {
   "cell_type": "markdown",
   "id": "6f532924-6fb1-4335-8756-2d6a6376fddc",
   "metadata": {},
   "source": [
    "## Wnioski"
   ]
  },
  {
   "cell_type": "markdown",
   "id": "df0e04ef-b669-412d-9a1f-6d7ae227e669",
   "metadata": {},
   "source": [
    "Wszystkie wyniki auc = 0.5 są to wyniki dla dummy estimatora. Wynika to z tego, że nasz automl'owy framework dostał za mało czasu, aby dać jakieś sensowne rozwiązanie. Ogólnie widzimy, to w dużej ilości przypadków."
   ]
  }
 ],
 "metadata": {
  "kernelspec": {
   "display_name": "Python 3 (ipykernel)",
   "language": "python",
   "name": "python3"
  },
  "language_info": {
   "codemirror_mode": {
    "name": "ipython",
    "version": 3
   },
   "file_extension": ".py",
   "mimetype": "text/x-python",
   "name": "python",
   "nbconvert_exporter": "python",
   "pygments_lexer": "ipython3",
   "version": "3.9.7"
  }
 },
 "nbformat": 4,
 "nbformat_minor": 5
}
