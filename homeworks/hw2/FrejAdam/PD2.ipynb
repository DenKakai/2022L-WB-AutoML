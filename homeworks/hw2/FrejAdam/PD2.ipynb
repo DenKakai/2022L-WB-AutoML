{
 "cells": [
  {
   "cell_type": "markdown",
   "id": "e5796843",
   "metadata": {},
   "source": [
    "# PD2 - Adam Frej"
   ]
  },
  {
   "cell_type": "markdown",
   "id": "cf9edc2a",
   "metadata": {},
   "source": [
    "## Import danych"
   ]
  },
  {
   "cell_type": "code",
   "execution_count": 135,
   "id": "da5b3e9e",
   "metadata": {},
   "outputs": [],
   "source": [
    "import pandas as pd\n",
    "import numpy as np\n",
    "pd.options.display.max_columns = 60\n",
    "from sklearn.model_selection import cross_validate, GridSearchCV, RandomizedSearchCV\n",
    "from sklearn.ensemble import GradientBoostingClassifier\n",
    "from sklearn import metrics\n",
    "import scipy.stats, skopt\n",
    "np.random.seed(123)"
   ]
  },
  {
   "cell_type": "code",
   "execution_count": 2,
   "id": "4d61db3f",
   "metadata": {},
   "outputs": [],
   "source": [
    "data = pd.read_csv(\"diabetic_data_preprocessed.csv\")"
   ]
  },
  {
   "cell_type": "code",
   "execution_count": 19,
   "id": "49e2348f",
   "metadata": {},
   "outputs": [
    {
     "data": {
      "text/html": [
       "<div>\n",
       "<style scoped>\n",
       "    .dataframe tbody tr th:only-of-type {\n",
       "        vertical-align: middle;\n",
       "    }\n",
       "\n",
       "    .dataframe tbody tr th {\n",
       "        vertical-align: top;\n",
       "    }\n",
       "\n",
       "    .dataframe thead th {\n",
       "        text-align: right;\n",
       "    }\n",
       "</style>\n",
       "<table border=\"1\" class=\"dataframe\">\n",
       "  <thead>\n",
       "    <tr style=\"text-align: right;\">\n",
       "      <th></th>\n",
       "      <th>race</th>\n",
       "      <th>gender</th>\n",
       "      <th>age</th>\n",
       "      <th>payer_code</th>\n",
       "      <th>medical_specialty</th>\n",
       "      <th>diag_1</th>\n",
       "      <th>diag_2</th>\n",
       "      <th>diag_3</th>\n",
       "      <th>A1Cresult</th>\n",
       "      <th>metformin</th>\n",
       "      <th>glipizide</th>\n",
       "      <th>glyburide</th>\n",
       "      <th>pioglitazone</th>\n",
       "      <th>rosiglitazone</th>\n",
       "      <th>insulin</th>\n",
       "      <th>change</th>\n",
       "      <th>diabetesMed</th>\n",
       "      <th>admission_type_id</th>\n",
       "      <th>discharge_disposition_id</th>\n",
       "      <th>admission_source_id</th>\n",
       "      <th>time_in_hospital</th>\n",
       "      <th>num_lab_procedures</th>\n",
       "      <th>num_procedures</th>\n",
       "      <th>num_medications</th>\n",
       "      <th>number_diagnoses</th>\n",
       "      <th>readmitted</th>\n",
       "    </tr>\n",
       "  </thead>\n",
       "  <tbody>\n",
       "    <tr>\n",
       "      <th>0</th>\n",
       "      <td>3</td>\n",
       "      <td>0</td>\n",
       "      <td>0</td>\n",
       "      <td>0</td>\n",
       "      <td>16</td>\n",
       "      <td>138</td>\n",
       "      <td>122</td>\n",
       "      <td>126</td>\n",
       "      <td>2</td>\n",
       "      <td>1</td>\n",
       "      <td>1</td>\n",
       "      <td>1</td>\n",
       "      <td>1</td>\n",
       "      <td>1</td>\n",
       "      <td>1</td>\n",
       "      <td>1</td>\n",
       "      <td>0</td>\n",
       "      <td>5</td>\n",
       "      <td>23</td>\n",
       "      <td>0</td>\n",
       "      <td>1</td>\n",
       "      <td>41</td>\n",
       "      <td>0</td>\n",
       "      <td>1</td>\n",
       "      <td>1</td>\n",
       "      <td>0</td>\n",
       "    </tr>\n",
       "    <tr>\n",
       "      <th>1</th>\n",
       "      <td>3</td>\n",
       "      <td>0</td>\n",
       "      <td>1</td>\n",
       "      <td>0</td>\n",
       "      <td>0</td>\n",
       "      <td>28</td>\n",
       "      <td>11</td>\n",
       "      <td>138</td>\n",
       "      <td>2</td>\n",
       "      <td>1</td>\n",
       "      <td>1</td>\n",
       "      <td>1</td>\n",
       "      <td>1</td>\n",
       "      <td>1</td>\n",
       "      <td>3</td>\n",
       "      <td>0</td>\n",
       "      <td>1</td>\n",
       "      <td>0</td>\n",
       "      <td>0</td>\n",
       "      <td>6</td>\n",
       "      <td>3</td>\n",
       "      <td>59</td>\n",
       "      <td>0</td>\n",
       "      <td>18</td>\n",
       "      <td>9</td>\n",
       "      <td>1</td>\n",
       "    </tr>\n",
       "    <tr>\n",
       "      <th>2</th>\n",
       "      <td>1</td>\n",
       "      <td>0</td>\n",
       "      <td>2</td>\n",
       "      <td>0</td>\n",
       "      <td>0</td>\n",
       "      <td>104</td>\n",
       "      <td>10</td>\n",
       "      <td>138</td>\n",
       "      <td>2</td>\n",
       "      <td>1</td>\n",
       "      <td>2</td>\n",
       "      <td>1</td>\n",
       "      <td>1</td>\n",
       "      <td>1</td>\n",
       "      <td>1</td>\n",
       "      <td>1</td>\n",
       "      <td>1</td>\n",
       "      <td>0</td>\n",
       "      <td>0</td>\n",
       "      <td>6</td>\n",
       "      <td>2</td>\n",
       "      <td>11</td>\n",
       "      <td>5</td>\n",
       "      <td>13</td>\n",
       "      <td>6</td>\n",
       "      <td>0</td>\n",
       "    </tr>\n",
       "    <tr>\n",
       "      <th>3</th>\n",
       "      <td>3</td>\n",
       "      <td>1</td>\n",
       "      <td>3</td>\n",
       "      <td>0</td>\n",
       "      <td>0</td>\n",
       "      <td>124</td>\n",
       "      <td>133</td>\n",
       "      <td>48</td>\n",
       "      <td>2</td>\n",
       "      <td>1</td>\n",
       "      <td>1</td>\n",
       "      <td>1</td>\n",
       "      <td>1</td>\n",
       "      <td>1</td>\n",
       "      <td>3</td>\n",
       "      <td>0</td>\n",
       "      <td>1</td>\n",
       "      <td>0</td>\n",
       "      <td>0</td>\n",
       "      <td>6</td>\n",
       "      <td>2</td>\n",
       "      <td>44</td>\n",
       "      <td>1</td>\n",
       "      <td>16</td>\n",
       "      <td>7</td>\n",
       "      <td>0</td>\n",
       "    </tr>\n",
       "    <tr>\n",
       "      <th>4</th>\n",
       "      <td>3</td>\n",
       "      <td>1</td>\n",
       "      <td>4</td>\n",
       "      <td>0</td>\n",
       "      <td>0</td>\n",
       "      <td>8</td>\n",
       "      <td>133</td>\n",
       "      <td>8</td>\n",
       "      <td>2</td>\n",
       "      <td>1</td>\n",
       "      <td>2</td>\n",
       "      <td>1</td>\n",
       "      <td>1</td>\n",
       "      <td>1</td>\n",
       "      <td>2</td>\n",
       "      <td>0</td>\n",
       "      <td>1</td>\n",
       "      <td>0</td>\n",
       "      <td>0</td>\n",
       "      <td>6</td>\n",
       "      <td>1</td>\n",
       "      <td>51</td>\n",
       "      <td>0</td>\n",
       "      <td>8</td>\n",
       "      <td>5</td>\n",
       "      <td>0</td>\n",
       "    </tr>\n",
       "  </tbody>\n",
       "</table>\n",
       "</div>"
      ],
      "text/plain": [
       "   race  gender  age  payer_code  medical_specialty  diag_1  diag_2  diag_3  \\\n",
       "0     3       0    0           0                 16     138     122     126   \n",
       "1     3       0    1           0                  0      28      11     138   \n",
       "2     1       0    2           0                  0     104      10     138   \n",
       "3     3       1    3           0                  0     124     133      48   \n",
       "4     3       1    4           0                  0       8     133       8   \n",
       "\n",
       "   A1Cresult  metformin  glipizide  glyburide  pioglitazone  rosiglitazone  \\\n",
       "0          2          1          1          1             1              1   \n",
       "1          2          1          1          1             1              1   \n",
       "2          2          1          2          1             1              1   \n",
       "3          2          1          1          1             1              1   \n",
       "4          2          1          2          1             1              1   \n",
       "\n",
       "   insulin  change  diabetesMed  admission_type_id  discharge_disposition_id  \\\n",
       "0        1       1            0                  5                        23   \n",
       "1        3       0            1                  0                         0   \n",
       "2        1       1            1                  0                         0   \n",
       "3        3       0            1                  0                         0   \n",
       "4        2       0            1                  0                         0   \n",
       "\n",
       "   admission_source_id  time_in_hospital  num_lab_procedures  num_procedures  \\\n",
       "0                    0                 1                  41               0   \n",
       "1                    6                 3                  59               0   \n",
       "2                    6                 2                  11               5   \n",
       "3                    6                 2                  44               1   \n",
       "4                    6                 1                  51               0   \n",
       "\n",
       "   num_medications  number_diagnoses  readmitted  \n",
       "0                1                 1           0  \n",
       "1               18                 9           1  \n",
       "2               13                 6           0  \n",
       "3               16                 7           0  \n",
       "4                8                 5           0  "
      ]
     },
     "execution_count": 19,
     "metadata": {},
     "output_type": "execute_result"
    }
   ],
   "source": [
    "data.head()"
   ]
  },
  {
   "cell_type": "code",
   "execution_count": 66,
   "id": "fb21cbdb",
   "metadata": {},
   "outputs": [],
   "source": [
    "x_data = data.drop(columns='readmitted')\n",
    "y_data = data['readmitted']"
   ]
  },
  {
   "cell_type": "markdown",
   "id": "88bf3b36",
   "metadata": {},
   "source": [
    "## Modelowanie - GradientBoostingClassifier"
   ]
  },
  {
   "cell_type": "markdown",
   "id": "7aaf1378",
   "metadata": {},
   "source": [
    "### Domyślne parametry"
   ]
  },
  {
   "cell_type": "code",
   "execution_count": 142,
   "id": "bf14e9bd",
   "metadata": {},
   "outputs": [
    {
     "data": {
      "text/plain": [
       "{'fit_time': array([12.1364255 , 11.83867073, 12.31958342, 12.23300886, 11.99380374]),\n",
       " 'score_time': array([0.07156181, 0.07156086, 0.06755829, 0.06805873, 0.06505585]),\n",
       " 'test_roc_auc': array([0.63688693, 0.65501016, 0.63206664, 0.63698394, 0.64235791]),\n",
       " 'test_accuracy': array([0.59015427, 0.5996659 , 0.59146072, 0.59268904, 0.59431042])}"
      ]
     },
     "execution_count": 142,
     "metadata": {},
     "output_type": "execute_result"
    }
   ],
   "source": [
    "gbc = GradientBoostingClassifier()\n",
    "gbc_def = cross_validate(gbc, x_data, y_data, cv=5, scoring=['roc_auc', 'accuracy'])\n",
    "gbc_def"
   ]
  },
  {
   "cell_type": "code",
   "execution_count": 144,
   "id": "c2ab12c0",
   "metadata": {},
   "outputs": [
    {
     "data": {
      "text/plain": [
       "0.6406611174237551"
      ]
     },
     "execution_count": 144,
     "metadata": {},
     "output_type": "execute_result"
    }
   ],
   "source": [
    "gbc_def['test_roc_auc'].mean()"
   ]
  },
  {
   "cell_type": "code",
   "execution_count": 145,
   "id": "c3ba8549",
   "metadata": {},
   "outputs": [
    {
     "data": {
      "text/plain": [
       "0.5936560688422402"
      ]
     },
     "execution_count": 145,
     "metadata": {},
     "output_type": "execute_result"
    }
   ],
   "source": [
    "gbc_def['test_accuracy'].mean()"
   ]
  },
  {
   "cell_type": "markdown",
   "id": "c17eaa67",
   "metadata": {},
   "source": [
    "### Ręczna zmiana hiperparametrów"
   ]
  },
  {
   "cell_type": "code",
   "execution_count": 146,
   "id": "ddd895e5",
   "metadata": {},
   "outputs": [
    {
     "data": {
      "text/plain": [
       "{'fit_time': array([29.60343051, 29.85214424, 29.86065197, 30.25198793, 30.9716053 ]),\n",
       " 'score_time': array([0.15213084, 0.15863657, 0.14412403, 0.13811874, 0.13961959]),\n",
       " 'test_roc_auc': array([0.6484925 , 0.66165558, 0.65003123, 0.6577971 , 0.65746475]),\n",
       " 'test_accuracy': array([0.6052373 , 0.61013118, 0.60305606, 0.60875547, 0.60620056])}"
      ]
     },
     "execution_count": 146,
     "metadata": {},
     "output_type": "execute_result"
    }
   ],
   "source": [
    "gbc = GradientBoostingClassifier(n_estimators = 150, max_depth=5)\n",
    "gbc_adj = cross_validate(gbc, x_data, y_data, cv=5, scoring=['roc_auc', 'accuracy'])\n",
    "gbc_adj"
   ]
  },
  {
   "cell_type": "code",
   "execution_count": 147,
   "id": "9b2eb2e7",
   "metadata": {},
   "outputs": [
    {
     "data": {
      "text/plain": [
       "0.6550882315090395"
      ]
     },
     "execution_count": 147,
     "metadata": {},
     "output_type": "execute_result"
    }
   ],
   "source": [
    "gbc_adj['test_roc_auc'].mean()"
   ]
  },
  {
   "cell_type": "code",
   "execution_count": 148,
   "id": "d2e2bb33",
   "metadata": {},
   "outputs": [
    {
     "data": {
      "text/plain": [
       "0.6066761142111747"
      ]
     },
     "execution_count": 148,
     "metadata": {},
     "output_type": "execute_result"
    }
   ],
   "source": [
    "gbc_adj['test_accuracy'].mean()"
   ]
  },
  {
   "cell_type": "markdown",
   "id": "2271c0b0",
   "metadata": {},
   "source": [
    "### Random search"
   ]
  },
  {
   "cell_type": "code",
   "execution_count": 129,
   "id": "39bc2ecb",
   "metadata": {},
   "outputs": [
    {
     "data": {
      "text/plain": [
       "RandomizedSearchCV(cv=5, estimator=GradientBoostingClassifier(),\n",
       "                   param_distributions={'max_depth': <scipy.stats._distn_infrastructure.rv_frozen object at 0x0000021618C88708>,\n",
       "                                        'n_estimators': <scipy.stats._distn_infrastructure.rv_frozen object at 0x0000021618C8B608>},\n",
       "                   refit='roc_auc', scoring=['roc_auc', 'accuracy'])"
      ]
     },
     "execution_count": 129,
     "metadata": {},
     "output_type": "execute_result"
    }
   ],
   "source": [
    "parameters_distribution = {'n_estimators':scipy.stats.randint(50,150), 'max_depth':scipy.stats.randint(2,4)}\n",
    "gbc = GradientBoostingClassifier()\n",
    "clf_random = RandomizedSearchCV(gbc, parameters_distribution, scoring=['roc_auc', 'accuracy'], refit='roc_auc', cv=5)\n",
    "clf_random.fit(x_data, y_data)"
   ]
  },
  {
   "cell_type": "code",
   "execution_count": 131,
   "id": "b5d33ba1",
   "metadata": {
    "scrolled": true
   },
   "outputs": [
    {
     "data": {
      "text/plain": [
       "{'mean_fit_time': array([10.1672338 ,  4.93984337, 10.71910801,  5.31376438,  9.35043173,\n",
       "         9.5068666 ,  9.68071594,  8.95138927,  4.48875537, 10.43726573]),\n",
       " 'std_fit_time': array([0.36567493, 0.12561238, 0.16550311, 0.07868958, 0.16116392,\n",
       "        0.16069498, 0.18194392, 0.05396719, 0.02718094, 0.23601792]),\n",
       " 'mean_score_time': array([0.06015191, 0.03913388, 0.06105285, 0.04093547, 0.0578505 ,\n",
       "        0.05905137, 0.05795031, 0.05704937, 0.03773327, 0.06115274]),\n",
       " 'std_score_time': array([0.00267453, 0.00165682, 0.00327406, 0.00177352, 0.0021137 ,\n",
       "        0.00238939, 0.00290749, 0.00295189, 0.00326789, 0.00402085]),\n",
       " 'param_max_depth': masked_array(data=[3, 2, 2, 2, 3, 3, 2, 3, 2, 2],\n",
       "              mask=[False, False, False, False, False, False, False, False,\n",
       "                    False, False],\n",
       "        fill_value='?',\n",
       "             dtype=object),\n",
       " 'param_n_estimators': masked_array(data=[84, 60, 127, 65, 77, 80, 120, 76, 56, 125],\n",
       "              mask=[False, False, False, False, False, False, False, False,\n",
       "                    False, False],\n",
       "        fill_value='?',\n",
       "             dtype=object),\n",
       " 'params': [{'max_depth': 3, 'n_estimators': 84},\n",
       "  {'max_depth': 2, 'n_estimators': 60},\n",
       "  {'max_depth': 2, 'n_estimators': 127},\n",
       "  {'max_depth': 2, 'n_estimators': 65},\n",
       "  {'max_depth': 3, 'n_estimators': 77},\n",
       "  {'max_depth': 3, 'n_estimators': 80},\n",
       "  {'max_depth': 2, 'n_estimators': 120},\n",
       "  {'max_depth': 3, 'n_estimators': 76},\n",
       "  {'max_depth': 2, 'n_estimators': 56},\n",
       "  {'max_depth': 2, 'n_estimators': 125}],\n",
       " 'split0_test_roc_auc': array([0.63426625, 0.6176009 , 0.62184036, 0.61809378, 0.63414976,\n",
       "        0.63422747, 0.62044353, 0.63414169, 0.61857463, 0.62005843]),\n",
       " 'split1_test_roc_auc': array([0.65168388, 0.64807058, 0.64830189, 0.64829312, 0.65263476,\n",
       "        0.65155011, 0.64822404, 0.65264796, 0.64743406, 0.64801622]),\n",
       " 'split2_test_roc_auc': array([0.62982116, 0.61159084, 0.62309204, 0.6124969 , 0.62895734,\n",
       "        0.62931695, 0.62233984, 0.62834985, 0.61133784, 0.62305968]),\n",
       " 'split3_test_roc_auc': array([0.63472092, 0.61282235, 0.62722682, 0.6135462 , 0.63297453,\n",
       "        0.63333284, 0.62686761, 0.63285217, 0.6115318 , 0.6272454 ]),\n",
       " 'split4_test_roc_auc': array([0.64197555, 0.62231534, 0.6337286 , 0.62289115, 0.64093691,\n",
       "        0.6415284 , 0.63299501, 0.64059709, 0.61983121, 0.63340937]),\n",
       " 'mean_test_roc_auc': array([0.63849355, 0.62248   , 0.63083794, 0.62306423, 0.63793066,\n",
       "        0.63799115, 0.630174  , 0.63771775, 0.62174191, 0.63035782]),\n",
       " 'std_test_roc_auc': array([0.00766058, 0.01334582, 0.0096679 , 0.01314149, 0.00830213,\n",
       "        0.00784174, 0.0100075 , 0.00843115, 0.0133136 , 0.00990109]),\n",
       " 'rank_test_roc_auc': array([ 1,  9,  5,  8,  3,  2,  7,  4, 10,  6]),\n",
       " 'split0_test_accuracy': array([0.58838558, 0.57644689, 0.58278471, 0.57738037, 0.58583079,\n",
       "        0.58769775, 0.58121254, 0.58524123, 0.57634863, 0.58106515]),\n",
       " 'split1_test_accuracy': array([0.59809365, 0.58929887, 0.59804451, 0.59047806, 0.59720926,\n",
       "        0.59661966, 0.59711099, 0.59730752, 0.58866015, 0.59750405]),\n",
       " 'split2_test_accuracy': array([0.58924974, 0.57912838, 0.58659657, 0.57848966, 0.58851275,\n",
       "        0.5897902 , 0.58561391, 0.58880755, 0.57888272, 0.58669484]),\n",
       " 'split3_test_accuracy': array([0.59087112, 0.58045497, 0.58566305, 0.58158502, 0.58811969,\n",
       "        0.58851275, 0.58581045, 0.58846362, 0.58060237, 0.58640004]),\n",
       " 'split4_test_accuracy': array([0.59421216, 0.58207635, 0.58988847, 0.58320641, 0.59313123,\n",
       "        0.59318037, 0.59096939, 0.59259077, 0.57824399, 0.59013413]),\n",
       " 'mean_test_accuracy': array([0.59216245, 0.58148109, 0.58859546, 0.5822279 , 0.59056074,\n",
       "        0.59116015, 0.58814346, 0.59048214, 0.58054757, 0.58835964]),\n",
       " 'std_test_accuracy': array([0.00357202, 0.00432212, 0.00524053, 0.00462405, 0.00408254,\n",
       "        0.00330942, 0.00544576, 0.00413226, 0.00427846, 0.00541462]),\n",
       " 'rank_test_accuracy': array([ 1,  9,  5,  8,  3,  2,  7,  4, 10,  6])}"
      ]
     },
     "execution_count": 131,
     "metadata": {},
     "output_type": "execute_result"
    }
   ],
   "source": [
    "clf_random.cv_results_"
   ]
  },
  {
   "cell_type": "code",
   "execution_count": 159,
   "id": "5bacb957",
   "metadata": {},
   "outputs": [
    {
     "data": {
      "text/plain": [
       "array([0.62174191, 0.62248   , 0.62306423, 0.630174  , 0.63035782,\n",
       "       0.63083794, 0.63771775, 0.63793066, 0.63799115, 0.63849355])"
      ]
     },
     "execution_count": 159,
     "metadata": {},
     "output_type": "execute_result"
    }
   ],
   "source": [
    "clf_random.cv_results_['mean_test_roc_auc']"
   ]
  },
  {
   "cell_type": "markdown",
   "id": "6dbf6b47",
   "metadata": {},
   "source": [
    "Najlepszy wynik: 0.63849355, dla parametrów: {'max_depth': 2, 'n_estimators': 125}."
   ]
  },
  {
   "cell_type": "markdown",
   "id": "0c72dc66",
   "metadata": {},
   "source": [
    "### Grid search"
   ]
  },
  {
   "cell_type": "code",
   "execution_count": 80,
   "id": "b8d634e1",
   "metadata": {
    "scrolled": false
   },
   "outputs": [
    {
     "data": {
      "text/plain": [
       "GridSearchCV(cv=5, estimator=GradientBoostingClassifier(),\n",
       "             param_grid={'max_depth': [2, 3, 4],\n",
       "                         'n_estimators': [50, 100, 150]},\n",
       "             refit='roc_auc', return_train_score=True,\n",
       "             scoring=['roc_auc', 'accuracy'])"
      ]
     },
     "execution_count": 80,
     "metadata": {},
     "output_type": "execute_result"
    }
   ],
   "source": [
    "parameters = {'n_estimators':[50,100,150], 'max_depth':[2,3,4]}\n",
    "gbc = GradientBoostingClassifier()\n",
    "clf = GridSearchCV(gbc, parameters, scoring=['roc_auc', 'accuracy'], return_train_score=True, refit='roc_auc', cv=5)\n",
    "clf.fit(x_data, y_data)"
   ]
  },
  {
   "cell_type": "code",
   "execution_count": 81,
   "id": "98bed006",
   "metadata": {
    "scrolled": true
   },
   "outputs": [
    {
     "data": {
      "text/plain": [
       "{'mean_fit_time': array([ 4.07339921,  7.98115549, 11.985396  ,  5.97273078, 12.04774909,\n",
       "        17.9623302 ,  8.0598206 , 16.12905421, 23.73298736]),\n",
       " 'std_fit_time': array([0.06352266, 0.03539926, 0.09432218, 0.08670149, 0.39907465,\n",
       "        0.09776181, 0.0671331 , 0.33270422, 0.46449541]),\n",
       " 'mean_score_time': array([0.0362309 , 0.05164437, 0.06805854, 0.04433794, 0.06955948,\n",
       "        0.0905777 , 0.05474687, 0.09047813, 0.11609979]),\n",
       " 'std_score_time': array([0.00244355, 0.00250052, 0.00313354, 0.00265915, 0.00232618,\n",
       "        0.00327385, 0.00269689, 0.00480433, 0.00425815]),\n",
       " 'param_max_depth': masked_array(data=[2, 2, 2, 3, 3, 3, 4, 4, 4],\n",
       "              mask=[False, False, False, False, False, False, False, False,\n",
       "                    False],\n",
       "        fill_value='?',\n",
       "             dtype=object),\n",
       " 'param_n_estimators': masked_array(data=[50, 100, 150, 50, 100, 150, 50, 100, 150],\n",
       "              mask=[False, False, False, False, False, False, False, False,\n",
       "                    False],\n",
       "        fill_value='?',\n",
       "             dtype=object),\n",
       " 'params': [{'max_depth': 2, 'n_estimators': 50},\n",
       "  {'max_depth': 2, 'n_estimators': 100},\n",
       "  {'max_depth': 2, 'n_estimators': 150},\n",
       "  {'max_depth': 3, 'n_estimators': 50},\n",
       "  {'max_depth': 3, 'n_estimators': 100},\n",
       "  {'max_depth': 3, 'n_estimators': 150},\n",
       "  {'max_depth': 4, 'n_estimators': 50},\n",
       "  {'max_depth': 4, 'n_estimators': 100},\n",
       "  {'max_depth': 4, 'n_estimators': 150}],\n",
       " 'split0_test_roc_auc': array([0.61874501, 0.6225612 , 0.62425443, 0.63363364, 0.63688316,\n",
       "        0.641881  , 0.63764215, 0.64434164, 0.64793423]),\n",
       " 'split1_test_roc_auc': array([0.6479253 , 0.64835238, 0.65009207, 0.64889045, 0.65501016,\n",
       "        0.65859254, 0.65121253, 0.65670467, 0.66085064]),\n",
       " 'split2_test_roc_auc': array([0.60869482, 0.61937555, 0.62484312, 0.62190739, 0.63206664,\n",
       "        0.63659059, 0.62902649, 0.63903474, 0.6448403 ]),\n",
       " 'split3_test_roc_auc': array([0.6099255 , 0.62396001, 0.63051861, 0.62259904, 0.63698394,\n",
       "        0.64293972, 0.63680155, 0.64897561, 0.65471214]),\n",
       " 'split4_test_roc_auc': array([0.61799013, 0.63011431, 0.63781987, 0.63503317, 0.64235791,\n",
       "        0.64707974, 0.64567653, 0.65357941, 0.65563233]),\n",
       " 'mean_test_roc_auc': array([0.62065615, 0.62887269, 0.63350562, 0.63241274, 0.64066036,\n",
       "        0.64541672, 0.64007185, 0.64852722, 0.65279393]),\n",
       " 'std_test_roc_auc': array([0.01423086, 0.01034567, 0.00962568, 0.00986452, 0.00787951,\n",
       "        0.0073879 , 0.00766975, 0.00632807, 0.0057188 ]),\n",
       " 'rank_test_roc_auc': array([9, 8, 6, 7, 4, 3, 5, 2, 1]),\n",
       " 'split0_train_roc_auc': array([0.63665738, 0.6489274 , 0.65535359, 0.65518071, 0.66817634,\n",
       "        0.67685489, 0.67122303, 0.68825813, 0.69852096]),\n",
       " 'split1_train_roc_auc': array([0.63043135, 0.64328311, 0.64970075, 0.65124579, 0.66512429,\n",
       "        0.67315183, 0.6675642 , 0.68318724, 0.69438885]),\n",
       " 'split2_train_roc_auc': array([0.63685355, 0.65141735, 0.65838756, 0.655448  , 0.67086945,\n",
       "        0.67809963, 0.6701942 , 0.68802258, 0.69918346]),\n",
       " 'split3_train_roc_auc': array([0.6364615 , 0.65057745, 0.65887299, 0.65463188, 0.67012093,\n",
       "        0.67847061, 0.67312876, 0.69042163, 0.70122915]),\n",
       " 'split4_train_roc_auc': array([0.63431729, 0.64737446, 0.65707497, 0.65357455, 0.66979617,\n",
       "        0.67772531, 0.67075805, 0.68789678, 0.69876243]),\n",
       " 'mean_train_roc_auc': array([0.63494421, 0.64831595, 0.65587797, 0.65401619, 0.66881743,\n",
       "        0.67686046, 0.67057365, 0.68755727, 0.69841697]),\n",
       " 'std_train_roc_auc': array([0.00243482, 0.00287482, 0.00332066, 0.00152679, 0.00204539,\n",
       "        0.00193029, 0.00179917, 0.0023717 , 0.00222943]),\n",
       " 'split0_test_accuracy': array([0.57634863, 0.57998428, 0.58435688, 0.58352167, 0.59015427,\n",
       "        0.59437948, 0.58730471, 0.59688513, 0.60209295]),\n",
       " 'split1_test_accuracy': array([0.58826709, 0.59524394, 0.59838844, 0.59342603, 0.5996659 ,\n",
       "        0.60502137, 0.5959318 , 0.60418612, 0.60944333]),\n",
       " 'split2_test_accuracy': array([0.57799833, 0.58526998, 0.58777576, 0.58487692, 0.59146072,\n",
       "        0.59435955, 0.58762836, 0.59760232, 0.6020734 ]),\n",
       " 'split3_test_accuracy': array([0.57966884, 0.58585958, 0.58674397, 0.58256768, 0.59268904,\n",
       "        0.59548961, 0.59431042, 0.59991156, 0.60482484]),\n",
       " 'split4_test_accuracy': array([0.57667174, 0.58772663, 0.59376996, 0.58782489, 0.59431042,\n",
       "        0.59809365, 0.59887977, 0.60418612, 0.60590576]),\n",
       " 'mean_test_accuracy': array([0.57979093, 0.58681688, 0.590207  , 0.58644344, 0.59365607,\n",
       "        0.59746873, 0.59281101, 0.60055425, 0.60486806]),\n",
       " 'std_test_accuracy': array([0.00439664, 0.00493633, 0.00513338, 0.00391605, 0.00330344,\n",
       "        0.00401398, 0.00460427, 0.00312954, 0.00273945]),\n",
       " 'rank_test_accuracy': array([9, 7, 6, 8, 4, 3, 5, 2, 1]),\n",
       " 'split0_train_accuracy': array([0.59649683, 0.60439493, 0.60874318, 0.6085098 , 0.61762394,\n",
       "        0.62407262, 0.62060876, 0.63493097, 0.64269395]),\n",
       " 'split1_train_accuracy': array([0.59096213, 0.60069031, 0.60570179, 0.60552983, 0.61732156,\n",
       "        0.62259099, 0.61761635, 0.63014506, 0.63934507]),\n",
       " 'split2_train_accuracy': array([0.59769324, 0.60694238, 0.61331728, 0.60890767, 0.6214241 ,\n",
       "        0.62633732, 0.61991328, 0.63398966, 0.64165428]),\n",
       " 'split3_train_accuracy': array([0.59578937, 0.60630366, 0.61229779, 0.60893223, 0.62025721,\n",
       "        0.62735681, 0.62297176, 0.63661823, 0.64483559]),\n",
       " 'split4_train_accuracy': array([0.59399604, 0.60328203, 0.6104062 , 0.60720032, 0.62038004,\n",
       "        0.62636188, 0.620552  , 0.63303158, 0.64117524]),\n",
       " 'mean_train_accuracy': array([0.59498752, 0.60432266, 0.61009325, 0.60781597, 0.61940137,\n",
       "        0.62534392, 0.62033243, 0.6337431 , 0.64194083]),\n",
       " 'std_train_accuracy': array([0.00234217, 0.00223917, 0.00270037, 0.00130573, 0.0016289 ,\n",
       "        0.00174755, 0.00171134, 0.00215362, 0.00180848])}"
      ]
     },
     "execution_count": 81,
     "metadata": {},
     "output_type": "execute_result"
    }
   ],
   "source": [
    "clf.cv_results_"
   ]
  },
  {
   "cell_type": "code",
   "execution_count": 160,
   "id": "886fc589",
   "metadata": {},
   "outputs": [
    {
     "data": {
      "text/plain": [
       "array([0.62065615, 0.62887269, 0.63350562, 0.63241274, 0.64066036,\n",
       "       0.64541672, 0.64007185, 0.64852722, 0.65279393])"
      ]
     },
     "execution_count": 160,
     "metadata": {},
     "output_type": "execute_result"
    }
   ],
   "source": [
    "clf.cv_results_['mean_test_roc_auc']"
   ]
  },
  {
   "cell_type": "markdown",
   "id": "b2f0c3bb",
   "metadata": {},
   "source": [
    "Najlepszy wynik: 0.65279393, dla parametrów: {'max_depth': 4, 'n_estimators': 150}."
   ]
  },
  {
   "cell_type": "markdown",
   "id": "d7c1b14c",
   "metadata": {},
   "source": [
    "### Optymalizacja bayesowska"
   ]
  },
  {
   "cell_type": "code",
   "execution_count": 140,
   "id": "1a7df421",
   "metadata": {},
   "outputs": [
    {
     "data": {
      "text/plain": [
       "BayesSearchCV(cv=5, estimator=GradientBoostingClassifier(), n_iter=10,\n",
       "              scoring='roc_auc',\n",
       "              search_spaces={'max_depth': Integer(low=2, high=5, prior='uniform', transform='normalize'),\n",
       "                             'n_estimators': Integer(low=5, high=150, prior='uniform', transform='normalize')})"
      ]
     },
     "execution_count": 140,
     "metadata": {},
     "output_type": "execute_result"
    }
   ],
   "source": [
    "search_spaces = {'n_estimators':skopt.space.space.Integer(5, 150), 'max_depth':skopt.space.space.Integer(2,5)}\n",
    "gbc = GradientBoostingClassifier()\n",
    "opt = skopt.BayesSearchCV(gbc, search_spaces=search_spaces, n_iter=10, scoring='roc_auc', cv=5, verbose=0)\n",
    "opt.fit(x_data, y_data)"
   ]
  },
  {
   "cell_type": "code",
   "execution_count": 141,
   "id": "296e9151",
   "metadata": {
    "scrolled": true
   },
   "outputs": [
    {
     "data": {
      "text/plain": [
       "{'mean_fit_time': array([10.46999445, 17.72082319,  1.44354043,  5.67687593,  8.25609255,\n",
       "         8.26840377,  1.3180326 , 10.56147308, 18.65792828,  6.62119184]),\n",
       " 'std_fit_time': array([0.60462205, 0.29039039, 0.02382977, 0.16001597, 0.20189207,\n",
       "        0.13751133, 0.02002269, 0.3500312 , 0.32389133, 0.10498034]),\n",
       " 'mean_score_time': array([0.03352838, 0.04734049, 0.01401181, 0.0236238 , 0.02922482,\n",
       "        0.03112659, 0.01371164, 0.03292818, 0.05214467, 0.02541823]),\n",
       " 'std_score_time': array([0.00223749, 0.00186175, 0.00126652, 0.00146838, 0.00150473,\n",
       "        0.00285556, 0.00116686, 0.0011586 , 0.00182931, 0.00124469]),\n",
       " 'param_max_depth': masked_array(data=[3, 4, 3, 2, 4, 4, 2, 3, 5, 3],\n",
       "              mask=[False, False, False, False, False, False, False, False,\n",
       "                    False, False],\n",
       "        fill_value='?',\n",
       "             dtype=object),\n",
       " 'param_n_estimators': masked_array(data=[83, 105, 11, 67, 48, 48, 15, 86, 92, 55],\n",
       "              mask=[False, False, False, False, False, False, False, False,\n",
       "                    False, False],\n",
       "        fill_value='?',\n",
       "             dtype=object),\n",
       " 'params': [OrderedDict([('max_depth', 3), ('n_estimators', 83)]),\n",
       "  OrderedDict([('max_depth', 4), ('n_estimators', 105)]),\n",
       "  OrderedDict([('max_depth', 3), ('n_estimators', 11)]),\n",
       "  OrderedDict([('max_depth', 2), ('n_estimators', 67)]),\n",
       "  OrderedDict([('max_depth', 4), ('n_estimators', 48)]),\n",
       "  OrderedDict([('max_depth', 4), ('n_estimators', 48)]),\n",
       "  OrderedDict([('max_depth', 2), ('n_estimators', 15)]),\n",
       "  OrderedDict([('max_depth', 3), ('n_estimators', 86)]),\n",
       "  OrderedDict([('max_depth', 5), ('n_estimators', 92)]),\n",
       "  OrderedDict([('max_depth', 3), ('n_estimators', 55)])],\n",
       " 'split0_test_score': array([0.6340162 , 0.64356592, 0.60574301, 0.61847498, 0.63674459,\n",
       "        0.63674768, 0.60215703, 0.63443774, 0.64454968, 0.63394314]),\n",
       " 'split1_test_score': array([0.651691  , 0.65749897, 0.63410955, 0.64818712, 0.65144353,\n",
       "        0.65144237, 0.63830501, 0.65271651, 0.66057452, 0.64881341]),\n",
       " 'split2_test_score': array([0.62954228, 0.63982315, 0.6028308 , 0.61248325, 0.62819649,\n",
       "        0.62819649, 0.59110365, 0.62996841, 0.64617425, 0.62357831]),\n",
       " 'split3_test_score': array([0.63440436, 0.64966477, 0.59079661, 0.61426755, 0.63543062,\n",
       "        0.63543062, 0.58508166, 0.63535069, 0.65299374, 0.62482332]),\n",
       " 'split4_test_score': array([0.64207833, 0.65397372, 0.6109189 , 0.62297385, 0.64406565,\n",
       "        0.64406661, 0.59875741, 0.64222857, 0.65511331, 0.63624117]),\n",
       " 'mean_test_score': array([0.63834644, 0.6489053 , 0.60887977, 0.62327735, 0.63917617,\n",
       "        0.63917675, 0.60308095, 0.63894039, 0.6518811 , 0.63347987]),\n",
       " 'std_test_score': array([0.00779498, 0.00649787, 0.0142417 , 0.01297182, 0.00793587,\n",
       "        0.00793544, 0.01858877, 0.0079278 , 0.00589201, 0.00912068]),\n",
       " 'rank_test_score': array([ 6,  2,  9,  8,  4,  3, 10,  5,  1,  7])}"
      ]
     },
     "execution_count": 141,
     "metadata": {},
     "output_type": "execute_result"
    }
   ],
   "source": [
    "opt.cv_results_"
   ]
  },
  {
   "cell_type": "code",
   "execution_count": 161,
   "id": "edda1eb5",
   "metadata": {},
   "outputs": [
    {
     "data": {
      "text/plain": [
       "array([0.63834644, 0.6489053 , 0.60887977, 0.62327735, 0.63917617,\n",
       "       0.63917675, 0.60308095, 0.63894039, 0.6518811 , 0.63347987])"
      ]
     },
     "execution_count": 161,
     "metadata": {},
     "output_type": "execute_result"
    }
   ],
   "source": [
    "opt.cv_results_['mean_test_score']"
   ]
  },
  {
   "cell_type": "markdown",
   "id": "a1959088",
   "metadata": {},
   "source": [
    "Najlepszy wynik: 0.6518811 , dla parametrów: ('max_depth', 5), ('n_estimators', 92)."
   ]
  },
  {
   "cell_type": "markdown",
   "id": "cf49d4e2",
   "metadata": {},
   "source": [
    "## Wnioski\n",
    "Generalnie wyniki wszędzie były podobne. Nie jest zaskoczeniem, że powiększanie parametrów ('max_depth', 'n_estimators') polepsza wyniki, bo zwiększają one złożoność modelu. Jednak jest to bardzo kosztowne. Dla większych modeli z kroswalidacją czasy dochodziły do 10 minut."
   ]
  }
 ],
 "metadata": {
  "kernelspec": {
   "display_name": "Python 3",
   "language": "python",
   "name": "python3"
  },
  "language_info": {
   "codemirror_mode": {
    "name": "ipython",
    "version": 3
   },
   "file_extension": ".py",
   "mimetype": "text/x-python",
   "name": "python",
   "nbconvert_exporter": "python",
   "pygments_lexer": "ipython3",
   "version": "3.7.10"
  }
 },
 "nbformat": 4,
 "nbformat_minor": 5
}
