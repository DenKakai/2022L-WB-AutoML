{
 "cells": [
  {
   "cell_type": "markdown",
   "id": "5e3eb674",
   "metadata": {},
   "source": [
    "# *Praca domowa 2*\n",
    "Mikołaj Roguski\n"
   ]
  },
  {
   "cell_type": "markdown",
   "id": "9049d769",
   "metadata": {},
   "source": [
    "# import danch oraz przygotowanie ich do klasyfikacji binarnej"
   ]
  },
  {
   "cell_type": "code",
   "execution_count": 1,
   "id": "1a24c337",
   "metadata": {},
   "outputs": [],
   "source": [
    "import pandas as pd\n",
    "import numpy as np\n",
    "from sklearn.model_selection import train_test_split\n",
    "from sklearn.ensemble import RandomForestClassifier, AdaBoostClassifier\n",
    "from sklearn.svm import SVC\n",
    "from sklearn.tree import DecisionTreeClassifier\n",
    "from sklearn.metrics import roc_auc_score\n",
    "from sklearn.metrics import accuracy_score"
   ]
  },
  {
   "cell_type": "markdown",
   "id": "24c39490",
   "metadata": {},
   "source": [
    "### import danych"
   ]
  },
  {
   "cell_type": "code",
   "execution_count": 2,
   "id": "2c645eee",
   "metadata": {},
   "outputs": [],
   "source": [
    "df = pd.read_csv('dfout.csv')"
   ]
  },
  {
   "cell_type": "markdown",
   "id": "a429f2e2",
   "metadata": {},
   "source": [
    "### przypomnienie jak wyglądają dane"
   ]
  },
  {
   "cell_type": "code",
   "execution_count": 3,
   "id": "47485a76",
   "metadata": {},
   "outputs": [
    {
     "data": {
      "text/plain": [
       "(98044, 78)"
      ]
     },
     "execution_count": 3,
     "metadata": {},
     "output_type": "execute_result"
    }
   ],
   "source": [
    "df.shape"
   ]
  },
  {
   "cell_type": "code",
   "execution_count": 6,
   "id": "99c86594",
   "metadata": {
    "scrolled": true
   },
   "outputs": [
    {
     "data": {
      "text/html": [
       "<div>\n",
       "<style scoped>\n",
       "    .dataframe tbody tr th:only-of-type {\n",
       "        vertical-align: middle;\n",
       "    }\n",
       "\n",
       "    .dataframe tbody tr th {\n",
       "        vertical-align: top;\n",
       "    }\n",
       "\n",
       "    .dataframe thead th {\n",
       "        text-align: right;\n",
       "    }\n",
       "</style>\n",
       "<table border=\"1\" class=\"dataframe\">\n",
       "  <thead>\n",
       "    <tr style=\"text-align: right;\">\n",
       "      <th></th>\n",
       "      <th>age</th>\n",
       "      <th>time_in_hospital</th>\n",
       "      <th>num_lab_procedures</th>\n",
       "      <th>num_procedures</th>\n",
       "      <th>num_medications</th>\n",
       "      <th>number_outpatient</th>\n",
       "      <th>number_emergency</th>\n",
       "      <th>number_inpatient</th>\n",
       "      <th>number_diagnoses</th>\n",
       "      <th>change</th>\n",
       "      <th>...</th>\n",
       "      <th>discharge_hs</th>\n",
       "      <th>discharge_other</th>\n",
       "      <th>admission_source_er</th>\n",
       "      <th>admission_source_physician</th>\n",
       "      <th>admission_source_other</th>\n",
       "      <th>diag_other</th>\n",
       "      <th>diag_circulatory</th>\n",
       "      <th>diag_endocrine</th>\n",
       "      <th>diag_respiratory</th>\n",
       "      <th>diag_genitourinary</th>\n",
       "    </tr>\n",
       "  </thead>\n",
       "  <tbody>\n",
       "    <tr>\n",
       "      <th>count</th>\n",
       "      <td>98044.000000</td>\n",
       "      <td>98044.000000</td>\n",
       "      <td>98044.000000</td>\n",
       "      <td>98044.000000</td>\n",
       "      <td>98044.000000</td>\n",
       "      <td>98044.000000</td>\n",
       "      <td>98044.000000</td>\n",
       "      <td>98044.000000</td>\n",
       "      <td>98044.000000</td>\n",
       "      <td>98044.000000</td>\n",
       "      <td>...</td>\n",
       "      <td>98044.000000</td>\n",
       "      <td>98044.000000</td>\n",
       "      <td>98044.000000</td>\n",
       "      <td>98044.000000</td>\n",
       "      <td>98044.000000</td>\n",
       "      <td>98044.000000</td>\n",
       "      <td>98044.000000</td>\n",
       "      <td>98044.000000</td>\n",
       "      <td>98044.000000</td>\n",
       "      <td>98044.000000</td>\n",
       "    </tr>\n",
       "    <tr>\n",
       "      <th>mean</th>\n",
       "      <td>65.981804</td>\n",
       "      <td>4.403288</td>\n",
       "      <td>43.104657</td>\n",
       "      <td>1.336900</td>\n",
       "      <td>16.033230</td>\n",
       "      <td>0.373516</td>\n",
       "      <td>0.201960</td>\n",
       "      <td>0.646098</td>\n",
       "      <td>7.449053</td>\n",
       "      <td>0.461711</td>\n",
       "      <td>...</td>\n",
       "      <td>0.136959</td>\n",
       "      <td>0.138499</td>\n",
       "      <td>0.573059</td>\n",
       "      <td>0.136939</td>\n",
       "      <td>0.290002</td>\n",
       "      <td>0.813074</td>\n",
       "      <td>0.576833</td>\n",
       "      <td>0.222074</td>\n",
       "      <td>0.134562</td>\n",
       "      <td>0.171362</td>\n",
       "    </tr>\n",
       "    <tr>\n",
       "      <th>std</th>\n",
       "      <td>15.925716</td>\n",
       "      <td>2.986385</td>\n",
       "      <td>19.687546</td>\n",
       "      <td>1.703316</td>\n",
       "      <td>8.121909</td>\n",
       "      <td>1.279804</td>\n",
       "      <td>0.944477</td>\n",
       "      <td>1.273604</td>\n",
       "      <td>1.921457</td>\n",
       "      <td>0.498534</td>\n",
       "      <td>...</td>\n",
       "      <td>0.343806</td>\n",
       "      <td>0.345425</td>\n",
       "      <td>0.494636</td>\n",
       "      <td>0.343784</td>\n",
       "      <td>0.453765</td>\n",
       "      <td>0.389854</td>\n",
       "      <td>0.494064</td>\n",
       "      <td>0.415643</td>\n",
       "      <td>0.341257</td>\n",
       "      <td>0.376827</td>\n",
       "    </tr>\n",
       "    <tr>\n",
       "      <th>min</th>\n",
       "      <td>5.000000</td>\n",
       "      <td>1.000000</td>\n",
       "      <td>1.000000</td>\n",
       "      <td>0.000000</td>\n",
       "      <td>1.000000</td>\n",
       "      <td>0.000000</td>\n",
       "      <td>0.000000</td>\n",
       "      <td>0.000000</td>\n",
       "      <td>1.000000</td>\n",
       "      <td>0.000000</td>\n",
       "      <td>...</td>\n",
       "      <td>0.000000</td>\n",
       "      <td>0.000000</td>\n",
       "      <td>0.000000</td>\n",
       "      <td>0.000000</td>\n",
       "      <td>0.000000</td>\n",
       "      <td>0.000000</td>\n",
       "      <td>0.000000</td>\n",
       "      <td>0.000000</td>\n",
       "      <td>0.000000</td>\n",
       "      <td>0.000000</td>\n",
       "    </tr>\n",
       "    <tr>\n",
       "      <th>25%</th>\n",
       "      <td>55.000000</td>\n",
       "      <td>2.000000</td>\n",
       "      <td>32.000000</td>\n",
       "      <td>0.000000</td>\n",
       "      <td>10.000000</td>\n",
       "      <td>0.000000</td>\n",
       "      <td>0.000000</td>\n",
       "      <td>0.000000</td>\n",
       "      <td>6.000000</td>\n",
       "      <td>0.000000</td>\n",
       "      <td>...</td>\n",
       "      <td>0.000000</td>\n",
       "      <td>0.000000</td>\n",
       "      <td>0.000000</td>\n",
       "      <td>0.000000</td>\n",
       "      <td>0.000000</td>\n",
       "      <td>1.000000</td>\n",
       "      <td>0.000000</td>\n",
       "      <td>0.000000</td>\n",
       "      <td>0.000000</td>\n",
       "      <td>0.000000</td>\n",
       "    </tr>\n",
       "    <tr>\n",
       "      <th>50%</th>\n",
       "      <td>65.000000</td>\n",
       "      <td>4.000000</td>\n",
       "      <td>44.000000</td>\n",
       "      <td>1.000000</td>\n",
       "      <td>15.000000</td>\n",
       "      <td>0.000000</td>\n",
       "      <td>0.000000</td>\n",
       "      <td>0.000000</td>\n",
       "      <td>8.000000</td>\n",
       "      <td>0.000000</td>\n",
       "      <td>...</td>\n",
       "      <td>0.000000</td>\n",
       "      <td>0.000000</td>\n",
       "      <td>1.000000</td>\n",
       "      <td>0.000000</td>\n",
       "      <td>0.000000</td>\n",
       "      <td>1.000000</td>\n",
       "      <td>1.000000</td>\n",
       "      <td>0.000000</td>\n",
       "      <td>0.000000</td>\n",
       "      <td>0.000000</td>\n",
       "    </tr>\n",
       "    <tr>\n",
       "      <th>75%</th>\n",
       "      <td>75.000000</td>\n",
       "      <td>6.000000</td>\n",
       "      <td>57.000000</td>\n",
       "      <td>2.000000</td>\n",
       "      <td>20.000000</td>\n",
       "      <td>0.000000</td>\n",
       "      <td>0.000000</td>\n",
       "      <td>1.000000</td>\n",
       "      <td>9.000000</td>\n",
       "      <td>1.000000</td>\n",
       "      <td>...</td>\n",
       "      <td>0.000000</td>\n",
       "      <td>0.000000</td>\n",
       "      <td>1.000000</td>\n",
       "      <td>0.000000</td>\n",
       "      <td>1.000000</td>\n",
       "      <td>1.000000</td>\n",
       "      <td>1.000000</td>\n",
       "      <td>0.000000</td>\n",
       "      <td>0.000000</td>\n",
       "      <td>0.000000</td>\n",
       "    </tr>\n",
       "    <tr>\n",
       "      <th>max</th>\n",
       "      <td>95.000000</td>\n",
       "      <td>14.000000</td>\n",
       "      <td>132.000000</td>\n",
       "      <td>6.000000</td>\n",
       "      <td>81.000000</td>\n",
       "      <td>42.000000</td>\n",
       "      <td>76.000000</td>\n",
       "      <td>21.000000</td>\n",
       "      <td>16.000000</td>\n",
       "      <td>1.000000</td>\n",
       "      <td>...</td>\n",
       "      <td>1.000000</td>\n",
       "      <td>1.000000</td>\n",
       "      <td>1.000000</td>\n",
       "      <td>1.000000</td>\n",
       "      <td>1.000000</td>\n",
       "      <td>1.000000</td>\n",
       "      <td>1.000000</td>\n",
       "      <td>1.000000</td>\n",
       "      <td>1.000000</td>\n",
       "      <td>1.000000</td>\n",
       "    </tr>\n",
       "  </tbody>\n",
       "</table>\n",
       "<p>8 rows × 76 columns</p>\n",
       "</div>"
      ],
      "text/plain": [
       "                age  time_in_hospital  num_lab_procedures  num_procedures  \\\n",
       "count  98044.000000      98044.000000        98044.000000    98044.000000   \n",
       "mean      65.981804          4.403288           43.104657        1.336900   \n",
       "std       15.925716          2.986385           19.687546        1.703316   \n",
       "min        5.000000          1.000000            1.000000        0.000000   \n",
       "25%       55.000000          2.000000           32.000000        0.000000   \n",
       "50%       65.000000          4.000000           44.000000        1.000000   \n",
       "75%       75.000000          6.000000           57.000000        2.000000   \n",
       "max       95.000000         14.000000          132.000000        6.000000   \n",
       "\n",
       "       num_medications  number_outpatient  number_emergency  number_inpatient  \\\n",
       "count     98044.000000       98044.000000      98044.000000      98044.000000   \n",
       "mean         16.033230           0.373516          0.201960          0.646098   \n",
       "std           8.121909           1.279804          0.944477          1.273604   \n",
       "min           1.000000           0.000000          0.000000          0.000000   \n",
       "25%          10.000000           0.000000          0.000000          0.000000   \n",
       "50%          15.000000           0.000000          0.000000          0.000000   \n",
       "75%          20.000000           0.000000          0.000000          1.000000   \n",
       "max          81.000000          42.000000         76.000000         21.000000   \n",
       "\n",
       "       number_diagnoses        change  ...  discharge_hs  discharge_other  \\\n",
       "count      98044.000000  98044.000000  ...  98044.000000     98044.000000   \n",
       "mean           7.449053      0.461711  ...      0.136959         0.138499   \n",
       "std            1.921457      0.498534  ...      0.343806         0.345425   \n",
       "min            1.000000      0.000000  ...      0.000000         0.000000   \n",
       "25%            6.000000      0.000000  ...      0.000000         0.000000   \n",
       "50%            8.000000      0.000000  ...      0.000000         0.000000   \n",
       "75%            9.000000      1.000000  ...      0.000000         0.000000   \n",
       "max           16.000000      1.000000  ...      1.000000         1.000000   \n",
       "\n",
       "       admission_source_er  admission_source_physician  \\\n",
       "count         98044.000000                98044.000000   \n",
       "mean              0.573059                    0.136939   \n",
       "std               0.494636                    0.343784   \n",
       "min               0.000000                    0.000000   \n",
       "25%               0.000000                    0.000000   \n",
       "50%               1.000000                    0.000000   \n",
       "75%               1.000000                    0.000000   \n",
       "max               1.000000                    1.000000   \n",
       "\n",
       "       admission_source_other    diag_other  diag_circulatory  diag_endocrine  \\\n",
       "count            98044.000000  98044.000000      98044.000000    98044.000000   \n",
       "mean                 0.290002      0.813074          0.576833        0.222074   \n",
       "std                  0.453765      0.389854          0.494064        0.415643   \n",
       "min                  0.000000      0.000000          0.000000        0.000000   \n",
       "25%                  0.000000      1.000000          0.000000        0.000000   \n",
       "50%                  0.000000      1.000000          1.000000        0.000000   \n",
       "75%                  1.000000      1.000000          1.000000        0.000000   \n",
       "max                  1.000000      1.000000          1.000000        1.000000   \n",
       "\n",
       "       diag_respiratory  diag_genitourinary  \n",
       "count      98044.000000        98044.000000  \n",
       "mean           0.134562            0.171362  \n",
       "std            0.341257            0.376827  \n",
       "min            0.000000            0.000000  \n",
       "25%            0.000000            0.000000  \n",
       "50%            0.000000            0.000000  \n",
       "75%            0.000000            0.000000  \n",
       "max            1.000000            1.000000  \n",
       "\n",
       "[8 rows x 76 columns]"
      ]
     },
     "execution_count": 6,
     "metadata": {},
     "output_type": "execute_result"
    }
   ],
   "source": [
    "df.describe()"
   ]
  },
  {
   "cell_type": "markdown",
   "id": "ef8e2f74",
   "metadata": {},
   "source": [
    " pierwsza kolumno to stary index niechce jej"
   ]
  },
  {
   "cell_type": "code",
   "execution_count": 5,
   "id": "b3f87b1f",
   "metadata": {},
   "outputs": [],
   "source": [
    "df.drop(df.columns[0], axis = 1, inplace = True)"
   ]
  },
  {
   "cell_type": "markdown",
   "id": "b0e16951",
   "metadata": {},
   "source": [
    "### zmapowanie wektorowych wartości na 0 i 1"
   ]
  },
  {
   "cell_type": "code",
   "execution_count": 7,
   "id": "78f2a062",
   "metadata": {},
   "outputs": [],
   "source": [
    "from collections import defaultdict\n",
    "d = defaultdict(lambda :1)\n",
    "d['[0 0 1]'] = 0\n",
    "df['readmitted']=df['readmitted'].map(d)"
   ]
  },
  {
   "cell_type": "markdown",
   "id": "1bf1e0c8",
   "metadata": {},
   "source": [
    "## podział na zbiory treningowe i testowe"
   ]
  },
  {
   "cell_type": "code",
   "execution_count": 8,
   "id": "f76ec496",
   "metadata": {},
   "outputs": [],
   "source": [
    "X_train, X_test, Y_train, Y_test = train_test_split(\n",
    "    df.drop('readmitted',axis = 1), # X\n",
    "    df['readmitted'], # y\n",
    "    test_size=0.3,\n",
    "    stratify=df['readmitted'],\n",
    "    random_state=37)"
   ]
  },
  {
   "cell_type": "markdown",
   "id": "0dded606",
   "metadata": {},
   "source": [
    "## wybór modelu\n",
    "żeby mieć hiperparametry do zmiany i szybko liczący się model wybieram randomforestclassifier"
   ]
  },
  {
   "cell_type": "markdown",
   "id": "20ea5cb8",
   "metadata": {},
   "source": [
    "## test czy działa zbiór"
   ]
  },
  {
   "cell_type": "code",
   "execution_count": 98,
   "id": "d4c82b40",
   "metadata": {},
   "outputs": [],
   "source": [
    "from sklearn.metrics import f1_score"
   ]
  },
  {
   "cell_type": "code",
   "execution_count": 9,
   "id": "43ed84c8",
   "metadata": {},
   "outputs": [
    {
     "data": {
      "text/plain": [
       "RandomForestClassifier()"
      ]
     },
     "execution_count": 9,
     "metadata": {},
     "output_type": "execute_result"
    }
   ],
   "source": [
    "rfc = RandomForestClassifier(random_state = 37, n_jobs = -1)\n",
    "rfc.fit(X_train,Y_train)\n"
   ]
  },
  {
   "cell_type": "code",
   "execution_count": 99,
   "id": "f34dd0c4",
   "metadata": {},
   "outputs": [
    {
     "name": "stdout",
     "output_type": "stream",
     "text": [
      "0.6600572212993829\n",
      "0.5473941368078176\n"
     ]
    }
   ],
   "source": [
    "rfc_out = rfc.predict(X_test)\n",
    "rfc_out_prob = rfc.predict_proba(X_test)\n",
    "print(roc_auc_score(Y_test,rfc_out_prob[:,1]))\n",
    "print(f1_score(Y_test,rfc_out))"
   ]
  },
  {
   "cell_type": "markdown",
   "id": "cf56ff37",
   "metadata": {},
   "source": []
  },
  {
   "cell_type": "markdown",
   "id": "d82e85d1",
   "metadata": {},
   "source": [
    "## manualna optymalizacja hiperparametrów"
   ]
  },
  {
   "cell_type": "code",
   "execution_count": 100,
   "id": "933ba2af",
   "metadata": {},
   "outputs": [
    {
     "name": "stdout",
     "output_type": "stream",
     "text": [
      "0.6208745637592553\n",
      "0.5473941368078176\n",
      "0.5501352648573175\n"
     ]
    }
   ],
   "source": [
    "rfc = RandomForestClassifier(\n",
    "    n_estimators=210,\n",
    "    criterion='entropy',\n",
    "    max_depth=6,\n",
    "    min_samples_split=0.1,\n",
    "    min_samples_leaf=5,\n",
    "    max_features=19,\n",
    "    random_state = 37,\n",
    "    n_jobs=-1,\n",
    "    \n",
    ")\n",
    "rfc.fit(X_train,Y_train)\n",
    "rfc_out = rfc.predict(X_test)\n",
    "print(roc_auc_score(Y_test, rfc_out))\n",
    "print(f1_score(Y_test, rfc_out))\n",
    "print(f1_score(Y_train,rfc.predict(X_train)))"
   ]
  },
  {
   "cell_type": "markdown",
   "id": "08178429",
   "metadata": {},
   "source": [
    "# automatyczna optymalizacja"
   ]
  },
  {
   "cell_type": "code",
   "execution_count": 24,
   "id": "d182c2c3",
   "metadata": {},
   "outputs": [],
   "source": [
    "from scipy.stats import uniform\n",
    "from scipy.stats import randint\n",
    "random_state = 37"
   ]
  },
  {
   "cell_type": "markdown",
   "id": "bfbc2e72",
   "metadata": {},
   "source": [
    "cross walidacja wykonana będzie na 5 zbiorach , optymalizacja będzie wg roc_auc "
   ]
  },
  {
   "cell_type": "markdown",
   "id": "408244a4",
   "metadata": {},
   "source": [
    "## RandomizedSearchCV"
   ]
  },
  {
   "cell_type": "code",
   "execution_count": 93,
   "id": "fc4a3c8e",
   "metadata": {},
   "outputs": [
    {
     "data": {
      "text/plain": [
       "RandomizedSearchCV(estimator=RandomForestClassifier(random_state=37), n_iter=50,\n",
       "                   n_jobs=3,\n",
       "                   param_distributions={'criterion': ['gini', 'entropy'],\n",
       "                                        'max_depth': <scipy.stats._distn_infrastructure.rv_frozen object at 0x0000021025C56FA0>,\n",
       "                                        'max_features': <scipy.stats._distn_infrastructure.rv_frozen object at 0x00000210267126D0>,\n",
       "                                        'min_samples_split': <scipy.stats._distn_infrastructure.rv_frozen object at 0x0000021007B2A0A0>,\n",
       "                                        'n_estimators': <scipy.stats._distn_infrastructure.rv_frozen object at 0x000002100A115790>},\n",
       "                   random_state=37, refit='roc_auc', scoring='roc_auc')"
      ]
     },
     "execution_count": 93,
     "metadata": {},
     "output_type": "execute_result"
    }
   ],
   "source": [
    "from sklearn.model_selection import RandomizedSearchCV\n",
    "rscv = RandomizedSearchCV(\n",
    "                        RandomForestClassifier(random_state = random_state),\n",
    "                        param_distributions={'n_estimators':randint(low = 0, high = 1500),\n",
    "                                             'criterion':['gini','entropy'],\n",
    "                                             'max_depth':randint(low = 1, high = 10),\n",
    "                                             'min_samples_split':uniform(),\n",
    "                                             'max_features':randint(low = 1, high = 76)},\n",
    "                        n_jobs=3,\n",
    "                        scoring='roc_auc',\n",
    "                        refit= 'roc_auc',\n",
    "                        n_iter=50,\n",
    "                        random_state = random_state\n",
    ")\n",
    "rscv.fit(X_train,Y_train)\n"
   ]
  },
  {
   "cell_type": "code",
   "execution_count": 95,
   "id": "ed05fc80",
   "metadata": {},
   "outputs": [
    {
     "data": {
      "text/plain": [
       "0.6665895635922704"
      ]
     },
     "execution_count": 95,
     "metadata": {},
     "output_type": "execute_result"
    }
   ],
   "source": [
    "rscv.best_score_"
   ]
  },
  {
   "cell_type": "code",
   "execution_count": 96,
   "id": "1c3a0c11",
   "metadata": {},
   "outputs": [
    {
     "data": {
      "text/plain": [
       "{'criterion': 'gini',\n",
       " 'max_depth': 6,\n",
       " 'max_features': 22,\n",
       " 'min_samples_split': 0.04412111139287256,\n",
       " 'n_estimators': 83}"
      ]
     },
     "execution_count": 96,
     "metadata": {},
     "output_type": "execute_result"
    }
   ],
   "source": [
    "rscv.best_params_"
   ]
  },
  {
   "cell_type": "code",
   "execution_count": 101,
   "id": "81025375",
   "metadata": {},
   "outputs": [
    {
     "name": "stdout",
     "output_type": "stream",
     "text": [
      "0.6224163579082086\n",
      "0.5440039480177661\n"
     ]
    }
   ],
   "source": [
    "out  = rscv.predict(X_test)\n",
    "print(roc_auc_score(Y_test,out))\n",
    "print(f1_score(Y_test,out))"
   ]
  },
  {
   "cell_type": "markdown",
   "id": "e9d6a1a8",
   "metadata": {},
   "source": [
    "## GridSearchCV"
   ]
  },
  {
   "cell_type": "code",
   "execution_count": 37,
   "id": "6053c08e",
   "metadata": {},
   "outputs": [
    {
     "data": {
      "text/plain": [
       "RandomizedSearchCV(estimator=RandomForestClassifier(n_jobs=-1, random_state=37),\n",
       "                   n_jobs=3,\n",
       "                   param_distributions={'criterion': ['gini', 'entropy'],\n",
       "                                        'max_depth': <scipy.stats._distn_infrastructure.rv_frozen object at 0x0000021069B78D30>,\n",
       "                                        'max_features': <scipy.stats._distn_infrastructure.rv_frozen object at 0x000002100E1C7BE0>,\n",
       "                                        'min_samples_split': <scipy.stats._distn_infrastructure.rv_frozen object at 0x000002100E1C7CA0>,\n",
       "                                        'n_estimators': <scipy.stats._distn_infrastructure.rv_frozen object at 0x000002100E1C7430>},\n",
       "                   random_state=37, refit='roc_auc', scoring='roc_auc')"
      ]
     },
     "execution_count": 37,
     "metadata": {},
     "output_type": "execute_result"
    }
   ],
   "source": [
    "from sklearn.model_selection import GridSearchCV\n",
    "gscv = RandomizedSearchCV(\n",
    "                        RandomForestClassifier(n_jobs = -1, random_state = random_state),\n",
    "                        param_distributions={'n_estimators':randint(low = 0, high = 300),\n",
    "                                             'criterion':['gini','entropy'],\n",
    "                                             'max_depth':randint(low = 1, high = 10),\n",
    "                                             'min_samples_split':uniform(),\n",
    "                                             'max_features':randint(low = 1, high = 76)},\n",
    "                        n_jobs=3,\n",
    "                        scoring='roc_auc',\n",
    "                        refit= 'roc_auc',\n",
    "                        n_iter=50,\n",
    "                        random_state = random_state)\n",
    "gscv.fit(X_train,Y_train)\n"
   ]
  },
  {
   "cell_type": "code",
   "execution_count": 38,
   "id": "9a180ccd",
   "metadata": {},
   "outputs": [
    {
     "data": {
      "text/plain": [
       "0.6554816296445758"
      ]
     },
     "execution_count": 38,
     "metadata": {},
     "output_type": "execute_result"
    }
   ],
   "source": [
    "gscv.best_score_"
   ]
  },
  {
   "cell_type": "code",
   "execution_count": 39,
   "id": "3d9e690d",
   "metadata": {},
   "outputs": [
    {
     "data": {
      "text/plain": [
       "{'criterion': 'gini',\n",
       " 'max_depth': 2,\n",
       " 'max_features': 27,\n",
       " 'min_samples_split': 0.19680428807852413,\n",
       " 'n_estimators': 244}"
      ]
     },
     "execution_count": 39,
     "metadata": {},
     "output_type": "execute_result"
    }
   ],
   "source": [
    "gscv.best_params_"
   ]
  },
  {
   "cell_type": "code",
   "execution_count": 103,
   "id": "d3defa60",
   "metadata": {},
   "outputs": [
    {
     "name": "stdout",
     "output_type": "stream",
     "text": [
      "0.6060288010106185\n",
      "0.5261565612000504\n"
     ]
    }
   ],
   "source": [
    "out = gscv.predict(X_test)\n",
    "print(roc_auc_score(Y_test,out))\n",
    "print(f1_score(Y_test,out))"
   ]
  },
  {
   "cell_type": "markdown",
   "id": "73da1df0",
   "metadata": {},
   "source": [
    "## Optymalizacja Bayesowska"
   ]
  },
  {
   "cell_type": "code",
   "execution_count": 74,
   "id": "d122d20d",
   "metadata": {},
   "outputs": [],
   "source": [
    "import skopt,scipy\n",
    "search_spaces = {\n",
    "        'criterion': ['gini', 'entropy'],\n",
    "        'n_estimators': skopt.space.space.Integer(1, 500),\n",
    "        'max_depth': skopt.space.space.Integer(1, 20),\n",
    "        'min_samples_split':skopt.space.space.Real(low = 0.00001,high=1),\n",
    "        'max_features':skopt.space.space.Integer(1,76)\n",
    "}"
   ]
  },
  {
   "cell_type": "code",
   "execution_count": 76,
   "id": "77010423",
   "metadata": {},
   "outputs": [
    {
     "data": {
      "text/plain": [
       "BayesSearchCV(estimator=RandomForestClassifier(n_jobs=1, random_state=37),\n",
       "              random_state=37, refit='roc_auc', scoring='roc_auc',\n",
       "              search_spaces={'criterion': ['gini', 'entropy'],\n",
       "                             'max_depth': Integer(low=1, high=20, prior='uniform', transform='normalize'),\n",
       "                             'max_features': Integer(low=1, high=76, prior='uniform', transform='normalize'),\n",
       "                             'min_samples_split': Real(low=1e-05, high=1, prior='uniform', transform='normalize'),\n",
       "                             'n_estimators': Integer(low=1, high=500, prior='uniform', transform='normalize')})"
      ]
     },
     "execution_count": 76,
     "metadata": {},
     "output_type": "execute_result"
    }
   ],
   "source": [
    "bo = skopt.BayesSearchCV(\n",
    "        RandomForestClassifier(n_jobs = 1, random_state = random_state),\n",
    "        search_spaces,\n",
    "        n_jobs = 1,\n",
    "        n_iter = 50,\n",
    "        scoring = 'roc_auc',\n",
    "        refit = 'roc_auc',\n",
    "        random_state = random_state\n",
    ")\n",
    "bo.fit(X_train, Y_train)"
   ]
  },
  {
   "cell_type": "code",
   "execution_count": 77,
   "id": "9470d8ac",
   "metadata": {},
   "outputs": [
    {
     "data": {
      "text/plain": [
       "0.6845506161726673"
      ]
     },
     "execution_count": 77,
     "metadata": {},
     "output_type": "execute_result"
    }
   ],
   "source": [
    "bo.best_score_"
   ]
  },
  {
   "cell_type": "code",
   "execution_count": 78,
   "id": "763064f5",
   "metadata": {},
   "outputs": [
    {
     "data": {
      "text/plain": [
       "OrderedDict([('criterion', 'entropy'),\n",
       "             ('max_depth', 15),\n",
       "             ('max_features', 10),\n",
       "             ('min_samples_split', 1e-05),\n",
       "             ('n_estimators', 186)])"
      ]
     },
     "execution_count": 78,
     "metadata": {},
     "output_type": "execute_result"
    }
   ],
   "source": [
    "bo.best_params_"
   ]
  },
  {
   "cell_type": "code",
   "execution_count": 102,
   "id": "ef94f963",
   "metadata": {},
   "outputs": [
    {
     "name": "stdout",
     "output_type": "stream",
     "text": [
      "0.683000773865825\n",
      "0.5551692740667163\n"
     ]
    }
   ],
   "source": [
    "\n",
    "print(roc_auc_score(Y_test,bo.predict_proba(X_test)[:,1]))\n",
    "print(f1_score(Y_test, bo.predict(X_test)))"
   ]
  },
  {
   "cell_type": "markdown",
   "id": "d849c936",
   "metadata": {},
   "source": [
    "## podsumowanie\n",
    "najlepiej sprawdziła sie optymalizacja bayesowska, na drugim miejscu random a ostatni grid search, natomiast optymalizacja bayesowska liczyła się najdłużej."
   ]
  },
  {
   "cell_type": "code",
   "execution_count": null,
   "id": "9f0089c9",
   "metadata": {},
   "outputs": [],
   "source": []
  }
 ],
 "metadata": {
  "kernelspec": {
   "display_name": "Python 3",
   "language": "python",
   "name": "python3"
  },
  "language_info": {
   "codemirror_mode": {
    "name": "ipython",
    "version": 3
   },
   "file_extension": ".py",
   "mimetype": "text/x-python",
   "name": "python",
   "nbconvert_exporter": "python",
   "pygments_lexer": "ipython3",
   "version": "3.8.10"
  }
 },
 "nbformat": 4,
 "nbformat_minor": 5
}
