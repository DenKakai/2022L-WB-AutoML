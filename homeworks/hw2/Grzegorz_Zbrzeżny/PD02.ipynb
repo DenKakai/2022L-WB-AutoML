{
 "cells": [
  {
   "cell_type": "code",
   "execution_count": 32,
   "metadata": {
    "scrolled": false
   },
   "outputs": [],
   "source": [
    "import pandas as pd\n",
    "import seaborn as sns\n",
    "import numpy as np\n",
    "from sklearn.model_selection import train_test_split\n",
    "import matplotlib.pyplot as plt\n",
    "from sklearn.ensemble import RandomForestClassifier\n",
    "from sklearn.metrics import roc_auc_score, f1_score, accuracy_score\n",
    "from sklearn.model_selection import GridSearchCV, RandomizedSearchCV\n",
    "from skopt import BayesSearchCV\n",
    "from sklearn.model_selection import cross_val_predict\n",
    "from sklearn.metrics import confusion_matrix"
   ]
  },
  {
   "cell_type": "code",
   "execution_count": 33,
   "metadata": {},
   "outputs": [],
   "source": [
    "df = pd.read_csv(\"modified_data.csv\")"
   ]
  },
  {
   "cell_type": "code",
   "execution_count": 34,
   "metadata": {
    "scrolled": true
   },
   "outputs": [
    {
     "data": {
      "text/html": [
       "<div>\n",
       "<style scoped>\n",
       "    .dataframe tbody tr th:only-of-type {\n",
       "        vertical-align: middle;\n",
       "    }\n",
       "\n",
       "    .dataframe tbody tr th {\n",
       "        vertical-align: top;\n",
       "    }\n",
       "\n",
       "    .dataframe thead th {\n",
       "        text-align: right;\n",
       "    }\n",
       "</style>\n",
       "<table border=\"1\" class=\"dataframe\">\n",
       "  <thead>\n",
       "    <tr style=\"text-align: right;\">\n",
       "      <th></th>\n",
       "      <th>gender</th>\n",
       "      <th>age</th>\n",
       "      <th>discharge_disposition_id</th>\n",
       "      <th>admission_source_id</th>\n",
       "      <th>time_in_hospital</th>\n",
       "      <th>num_lab_procedures</th>\n",
       "      <th>num_medications</th>\n",
       "      <th>number_outpatient</th>\n",
       "      <th>number_emergency</th>\n",
       "      <th>number_inpatient</th>\n",
       "      <th>...</th>\n",
       "      <th>max_glu_serum_Norm</th>\n",
       "      <th>diag_1_Circulatory</th>\n",
       "      <th>diag_1_Diabetes</th>\n",
       "      <th>diag_1_Digestive</th>\n",
       "      <th>diag_1_Genitourinary</th>\n",
       "      <th>diag_1_Injury</th>\n",
       "      <th>diag_1_Musculoskeletal</th>\n",
       "      <th>diag_1_Neoplasms</th>\n",
       "      <th>diag_1_Other</th>\n",
       "      <th>diag_1_Respiratory</th>\n",
       "    </tr>\n",
       "  </thead>\n",
       "  <tbody>\n",
       "    <tr>\n",
       "      <th>0</th>\n",
       "      <td>0</td>\n",
       "      <td>15</td>\n",
       "      <td>1</td>\n",
       "      <td>7</td>\n",
       "      <td>0</td>\n",
       "      <td>59</td>\n",
       "      <td>18</td>\n",
       "      <td>0</td>\n",
       "      <td>0</td>\n",
       "      <td>0</td>\n",
       "      <td>...</td>\n",
       "      <td>0</td>\n",
       "      <td>0</td>\n",
       "      <td>0</td>\n",
       "      <td>0</td>\n",
       "      <td>0</td>\n",
       "      <td>0</td>\n",
       "      <td>0</td>\n",
       "      <td>1</td>\n",
       "      <td>0</td>\n",
       "      <td>0</td>\n",
       "    </tr>\n",
       "    <tr>\n",
       "      <th>1</th>\n",
       "      <td>0</td>\n",
       "      <td>25</td>\n",
       "      <td>1</td>\n",
       "      <td>7</td>\n",
       "      <td>0</td>\n",
       "      <td>11</td>\n",
       "      <td>13</td>\n",
       "      <td>2</td>\n",
       "      <td>0</td>\n",
       "      <td>1</td>\n",
       "      <td>...</td>\n",
       "      <td>0</td>\n",
       "      <td>0</td>\n",
       "      <td>0</td>\n",
       "      <td>0</td>\n",
       "      <td>0</td>\n",
       "      <td>0</td>\n",
       "      <td>0</td>\n",
       "      <td>0</td>\n",
       "      <td>1</td>\n",
       "      <td>0</td>\n",
       "    </tr>\n",
       "    <tr>\n",
       "      <th>2</th>\n",
       "      <td>1</td>\n",
       "      <td>35</td>\n",
       "      <td>1</td>\n",
       "      <td>7</td>\n",
       "      <td>0</td>\n",
       "      <td>44</td>\n",
       "      <td>16</td>\n",
       "      <td>0</td>\n",
       "      <td>0</td>\n",
       "      <td>0</td>\n",
       "      <td>...</td>\n",
       "      <td>0</td>\n",
       "      <td>0</td>\n",
       "      <td>0</td>\n",
       "      <td>0</td>\n",
       "      <td>0</td>\n",
       "      <td>0</td>\n",
       "      <td>0</td>\n",
       "      <td>1</td>\n",
       "      <td>0</td>\n",
       "      <td>0</td>\n",
       "    </tr>\n",
       "    <tr>\n",
       "      <th>3</th>\n",
       "      <td>1</td>\n",
       "      <td>45</td>\n",
       "      <td>1</td>\n",
       "      <td>7</td>\n",
       "      <td>0</td>\n",
       "      <td>51</td>\n",
       "      <td>8</td>\n",
       "      <td>0</td>\n",
       "      <td>0</td>\n",
       "      <td>0</td>\n",
       "      <td>...</td>\n",
       "      <td>0</td>\n",
       "      <td>0</td>\n",
       "      <td>0</td>\n",
       "      <td>0</td>\n",
       "      <td>0</td>\n",
       "      <td>0</td>\n",
       "      <td>0</td>\n",
       "      <td>1</td>\n",
       "      <td>0</td>\n",
       "      <td>0</td>\n",
       "    </tr>\n",
       "    <tr>\n",
       "      <th>4</th>\n",
       "      <td>1</td>\n",
       "      <td>55</td>\n",
       "      <td>1</td>\n",
       "      <td>2</td>\n",
       "      <td>0</td>\n",
       "      <td>31</td>\n",
       "      <td>16</td>\n",
       "      <td>0</td>\n",
       "      <td>0</td>\n",
       "      <td>0</td>\n",
       "      <td>...</td>\n",
       "      <td>0</td>\n",
       "      <td>1</td>\n",
       "      <td>0</td>\n",
       "      <td>0</td>\n",
       "      <td>0</td>\n",
       "      <td>0</td>\n",
       "      <td>0</td>\n",
       "      <td>0</td>\n",
       "      <td>0</td>\n",
       "      <td>0</td>\n",
       "    </tr>\n",
       "  </tbody>\n",
       "</table>\n",
       "<p>5 rows × 71 columns</p>\n",
       "</div>"
      ],
      "text/plain": [
       "   gender  age  discharge_disposition_id  admission_source_id  \\\n",
       "0       0   15                         1                    7   \n",
       "1       0   25                         1                    7   \n",
       "2       1   35                         1                    7   \n",
       "3       1   45                         1                    7   \n",
       "4       1   55                         1                    2   \n",
       "\n",
       "   time_in_hospital  num_lab_procedures  num_medications  number_outpatient  \\\n",
       "0                 0                  59               18                  0   \n",
       "1                 0                  11               13                  2   \n",
       "2                 0                  44               16                  0   \n",
       "3                 0                  51                8                  0   \n",
       "4                 0                  31               16                  0   \n",
       "\n",
       "   number_emergency  number_inpatient  ...  max_glu_serum_Norm  \\\n",
       "0                 0                 0  ...                   0   \n",
       "1                 0                 1  ...                   0   \n",
       "2                 0                 0  ...                   0   \n",
       "3                 0                 0  ...                   0   \n",
       "4                 0                 0  ...                   0   \n",
       "\n",
       "   diag_1_Circulatory  diag_1_Diabetes  diag_1_Digestive  \\\n",
       "0                   0                0                 0   \n",
       "1                   0                0                 0   \n",
       "2                   0                0                 0   \n",
       "3                   0                0                 0   \n",
       "4                   1                0                 0   \n",
       "\n",
       "   diag_1_Genitourinary  diag_1_Injury  diag_1_Musculoskeletal  \\\n",
       "0                     0              0                       0   \n",
       "1                     0              0                       0   \n",
       "2                     0              0                       0   \n",
       "3                     0              0                       0   \n",
       "4                     0              0                       0   \n",
       "\n",
       "   diag_1_Neoplasms  diag_1_Other  diag_1_Respiratory  \n",
       "0                 1             0                   0  \n",
       "1                 0             1                   0  \n",
       "2                 1             0                   0  \n",
       "3                 1             0                   0  \n",
       "4                 0             0                   0  \n",
       "\n",
       "[5 rows x 71 columns]"
      ]
     },
     "execution_count": 34,
     "metadata": {},
     "output_type": "execute_result"
    }
   ],
   "source": [
    "df.head()"
   ]
  },
  {
   "cell_type": "code",
   "execution_count": 35,
   "metadata": {},
   "outputs": [],
   "source": [
    "data = df.copy()\n",
    "y = data[\"readmitted\"].copy()\n",
    "X = data.drop(\"readmitted\", axis = 1)"
   ]
  },
  {
   "cell_type": "code",
   "execution_count": 36,
   "metadata": {},
   "outputs": [],
   "source": [
    "X_train, X_test, y_train, y_test = train_test_split(X, y, test_size = 0.3, random_state = 42, stratify = y)"
   ]
  },
  {
   "cell_type": "markdown",
   "metadata": {},
   "source": [
    "# Uczenie przy defaultowych parametrach"
   ]
  },
  {
   "cell_type": "code",
   "execution_count": 37,
   "metadata": {},
   "outputs": [],
   "source": [
    "rfc = RandomForestClassifier()\n",
    "rfc.fit(X_train, y_train)\n",
    "proba = rfc.predict_proba(X_test)[:, 1]\n",
    "pred = rfc.predict(X_test)"
   ]
  },
  {
   "cell_type": "code",
   "execution_count": 38,
   "metadata": {},
   "outputs": [
    {
     "name": "stdout",
     "output_type": "stream",
     "text": [
      "spółczynnik roc_auc wynosi: 0.6756\n",
      "spółczynnik f1 wynosi: 0.5681\n"
     ]
    }
   ],
   "source": [
    "roc = \"{:.4f}\".format(roc_auc_score(y_test, proba))\n",
    "f1 = \"{:.4f}\".format(f1_score(y_test, pred))\n",
    "print(f\"spółczynnik roc_auc wynosi: {roc}\")\n",
    "print(f\"spółczynnik f1 wynosi: {f1}\")"
   ]
  },
  {
   "cell_type": "markdown",
   "metadata": {},
   "source": [
    "# Uczenie przy wybranych przeze mnie parametrach"
   ]
  },
  {
   "cell_type": "code",
   "execution_count": 39,
   "metadata": {},
   "outputs": [],
   "source": [
    "rfc = RandomForestClassifier(max_depth = 12, \n",
    "                             min_samples_split = 15,\n",
    "                             min_samples_leaf = 8,\n",
    "                             n_estimators = 150,\n",
    "                            criterion = \"gini\")\n",
    "rfc.fit(X_train, y_train)\n",
    "proba = rfc.predict_proba(X_test)[:, 1]\n",
    "pred = rfc.predict(X_test)"
   ]
  },
  {
   "cell_type": "code",
   "execution_count": 40,
   "metadata": {},
   "outputs": [
    {
     "name": "stdout",
     "output_type": "stream",
     "text": [
      "spółczynnik roc_auc wynosi: 0.6897\n",
      "spółczynnik f1 wynosi: 0.5554\n"
     ]
    }
   ],
   "source": [
    "roc = \"{:.4f}\".format(roc_auc_score(y_test, proba))\n",
    "f1 = \"{:.4f}\".format(f1_score(y_test, pred))\n",
    "print(f\"spółczynnik roc_auc wynosi: {roc}\")\n",
    "print(f\"spółczynnik f1 wynosi: {f1}\")"
   ]
  },
  {
   "cell_type": "markdown",
   "metadata": {},
   "source": [
    "# Uczenie przy parametrach wybranych metodą random search"
   ]
  },
  {
   "cell_type": "code",
   "execution_count": 41,
   "metadata": {},
   "outputs": [],
   "source": [
    "params = {\"max_depth\" : [i for i in range(4, 15)],\n",
    "          \"max_features\" : [\"auto\", \"sqrt\"],\n",
    "          'criterion':['gini','entropy'],\n",
    "          \"min_samples_split\" : [i for i in range(2, 20, 3)],\n",
    "          \"min_samples_leaf\" : [i for i in range(1, 20, 3)],\n",
    "          \"n_estimators\" : [i for i in range(150, 500, 50)]}"
   ]
  },
  {
   "cell_type": "code",
   "execution_count": 42,
   "metadata": {
    "scrolled": true
   },
   "outputs": [
    {
     "name": "stdout",
     "output_type": "stream",
     "text": [
      "Fitting 3 folds for each of 100 candidates, totalling 300 fits\n"
     ]
    },
    {
     "name": "stderr",
     "output_type": "stream",
     "text": [
      "[Parallel(n_jobs=-1)]: Using backend LokyBackend with 12 concurrent workers.\n",
      "[Parallel(n_jobs=-1)]: Done  17 tasks      | elapsed:   46.1s\n",
      "[Parallel(n_jobs=-1)]: Done 138 tasks      | elapsed:  5.3min\n",
      "[Parallel(n_jobs=-1)]: Done 300 out of 300 | elapsed: 11.7min finished\n"
     ]
    },
    {
     "data": {
      "text/plain": [
       "{'n_estimators': 400,\n",
       " 'min_samples_split': 8,\n",
       " 'min_samples_leaf': 4,\n",
       " 'max_features': 'sqrt',\n",
       " 'max_depth': 14,\n",
       " 'criterion': 'gini'}"
      ]
     },
     "execution_count": 42,
     "metadata": {},
     "output_type": "execute_result"
    }
   ],
   "source": [
    "rfc = RandomForestClassifier()\n",
    "clf = RandomizedSearchCV(rfc, params, n_iter = 100, cv = 3, verbose=2, random_state=42, n_jobs = -1)\n",
    "clf.fit(X_train, y_train)\n",
    "clf.best_params_"
   ]
  },
  {
   "cell_type": "code",
   "execution_count": 43,
   "metadata": {},
   "outputs": [],
   "source": [
    "proba = clf.predict_proba(X_test)[:, 1]\n",
    "pred = clf.predict(X_test)"
   ]
  },
  {
   "cell_type": "code",
   "execution_count": 44,
   "metadata": {},
   "outputs": [
    {
     "name": "stdout",
     "output_type": "stream",
     "text": [
      "spółczynnik roc_auc wynosi: 0.6919\n",
      "spółczynnik f1 wynosi: 0.5604\n"
     ]
    }
   ],
   "source": [
    "roc = \"{:.4f}\".format(roc_auc_score(y_test, proba))\n",
    "f1 = \"{:.4f}\".format(f1_score(y_test, pred))\n",
    "print(f\"spółczynnik roc_auc wynosi: {roc}\")\n",
    "print(f\"spółczynnik f1 wynosi: {f1}\")"
   ]
  },
  {
   "cell_type": "markdown",
   "metadata": {},
   "source": [
    "# Uczenie przy parametrach wybranych metodą Bayesa"
   ]
  },
  {
   "cell_type": "code",
   "execution_count": 45,
   "metadata": {
    "scrolled": false
   },
   "outputs": [
    {
     "data": {
      "text/plain": [
       "OrderedDict([('criterion', 'entropy'),\n",
       "             ('max_depth', 11),\n",
       "             ('max_features', 'sqrt'),\n",
       "             ('min_samples_leaf', 13),\n",
       "             ('min_samples_split', 14),\n",
       "             ('n_estimators', 250)])"
      ]
     },
     "execution_count": 45,
     "metadata": {},
     "output_type": "execute_result"
    }
   ],
   "source": [
    "rfc = RandomForestClassifier()\n",
    "opt = BayesSearchCV(\n",
    "        estimator=rfc,\n",
    "        search_spaces=params,\n",
    "        scoring='roc_auc',\n",
    "        n_jobs=4,\n",
    "        n_iter=10,\n",
    "        verbose=0,\n",
    "        random_state=1,\n",
    "        cv=3\n",
    "    )\n",
    "opt.fit(X_train, y_train)\n",
    "opt.best_params_"
   ]
  },
  {
   "cell_type": "code",
   "execution_count": 46,
   "metadata": {},
   "outputs": [],
   "source": [
    "proba = opt.predict_proba(X_test)[:, 1]\n",
    "pred = opt.predict(X_test)"
   ]
  },
  {
   "cell_type": "code",
   "execution_count": 47,
   "metadata": {},
   "outputs": [
    {
     "name": "stdout",
     "output_type": "stream",
     "text": [
      "spółczynnik roc_auc wynosi: 0.6887\n",
      "spółczynnik f1 wynosi: 0.5509\n"
     ]
    }
   ],
   "source": [
    "roc = \"{:.4f}\".format(roc_auc_score(y_test, proba))\n",
    "f1 = \"{:.4f}\".format(f1_score(y_test, pred))\n",
    "print(f\"spółczynnik roc_auc wynosi: {roc}\")\n",
    "print(f\"spółczynnik f1 wynosi: {f1}\")"
   ]
  },
  {
   "cell_type": "markdown",
   "metadata": {},
   "source": [
    "# Uczenie przy parametrach wybranych metodą grid search"
   ]
  },
  {
   "cell_type": "code",
   "execution_count": 48,
   "metadata": {},
   "outputs": [],
   "source": [
    "params_for_grid = {\"max_depth\" : [i for i in range(12, 14)],\n",
    "                   \"bootstrap\" : [True],\n",
    "                   'criterion':['gini','entropy'],\n",
    "                   \"min_samples_split\" : [i for i in range(11, 12, 13)],\n",
    "                   \"min_samples_leaf\" : [5, 6, 7],\n",
    "                   \"n_estimators\" : [i for i in range(300, 350, 400)]}"
   ]
  },
  {
   "cell_type": "code",
   "execution_count": 49,
   "metadata": {},
   "outputs": [
    {
     "name": "stdout",
     "output_type": "stream",
     "text": [
      "Fitting 3 folds for each of 12 candidates, totalling 36 fits\n"
     ]
    },
    {
     "name": "stderr",
     "output_type": "stream",
     "text": [
      "[Parallel(n_jobs=-1)]: Using backend LokyBackend with 12 concurrent workers.\n",
      "[Parallel(n_jobs=-1)]: Done  32 out of  36 | elapsed:  1.9min remaining:   14.0s\n",
      "[Parallel(n_jobs=-1)]: Done  36 out of  36 | elapsed:  1.9min finished\n"
     ]
    },
    {
     "data": {
      "text/plain": [
       "{'bootstrap': True,\n",
       " 'criterion': 'gini',\n",
       " 'max_depth': 13,\n",
       " 'min_samples_leaf': 6,\n",
       " 'min_samples_split': 11,\n",
       " 'n_estimators': 300}"
      ]
     },
     "execution_count": 49,
     "metadata": {},
     "output_type": "execute_result"
    }
   ],
   "source": [
    "rfc = RandomForestClassifier()\n",
    "gsr = GridSearchCV(rfc, params_for_grid, scoring = 'roc_auc', cv = 3, n_jobs = -1, verbose = 2)\n",
    "gsr.fit(X_train, y_train)\n",
    "gsr.best_params_"
   ]
  },
  {
   "cell_type": "code",
   "execution_count": 50,
   "metadata": {},
   "outputs": [],
   "source": [
    "proba = gsr.predict_proba(X_test)[:, 1]\n",
    "pred = gsr.predict(X_test)"
   ]
  },
  {
   "cell_type": "code",
   "execution_count": 51,
   "metadata": {},
   "outputs": [
    {
     "name": "stdout",
     "output_type": "stream",
     "text": [
      "spółczynnik roc_auc wynosi: 0.6919\n",
      "spółczynnik f1 wynosi: 0.5587\n"
     ]
    }
   ],
   "source": [
    "roc = \"{:.4f}\".format(roc_auc_score(y_test, proba))\n",
    "f1 = \"{:.4f}\".format(f1_score(y_test, pred))\n",
    "print(f\"spółczynnik roc_auc wynosi: {roc}\")\n",
    "print(f\"spółczynnik f1 wynosi: {f1}\")"
   ]
  }
 ],
 "metadata": {
  "kernelspec": {
   "display_name": "Python 3",
   "language": "python",
   "name": "python3"
  },
  "language_info": {
   "codemirror_mode": {
    "name": "ipython",
    "version": 3
   },
   "file_extension": ".py",
   "mimetype": "text/x-python",
   "name": "python",
   "nbconvert_exporter": "python",
   "pygments_lexer": "ipython3",
   "version": "3.8.3"
  }
 },
 "nbformat": 4,
 "nbformat_minor": 4
}
