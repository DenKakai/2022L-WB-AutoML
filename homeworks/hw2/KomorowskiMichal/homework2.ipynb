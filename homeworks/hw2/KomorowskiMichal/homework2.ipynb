{
 "cells": [
  {
   "cell_type": "code",
   "execution_count": 1,
   "metadata": {
    "datalore": {
     "hide_input_from_viewers": false,
     "hide_output_from_viewers": false,
     "node_id": "gzKMqsdsQ6oPTbQ5rjKtIR",
     "type": "CODE"
    }
   },
   "outputs": [],
   "source": [
    "import pandas as pd\n",
    "import numpy as np\n",
    "import lightgbm as lgb\n",
    "import re\n",
    "\n",
    "from sklearn.model_selection import train_test_split\n",
    "from category_encoders import TargetEncoder\n",
    "from sklearn.preprocessing import OneHotEncoder, OrdinalEncoder\n",
    "\n",
    "from sklearn.metrics import accuracy_score\n",
    "from sklearn.metrics import roc_auc_score, accuracy_score\n",
    "\n",
    "from skopt import BayesSearchCV\n",
    "\n",
    "from sklearnex import patch_sklearn\n",
    "patch_sklearn()"
   ]
  },
  {
   "cell_type": "code",
   "execution_count": null,
   "metadata": {},
   "outputs": [],
   "source": [
    "!pip install scikit-learn-intelex"
   ]
  },
  {
   "cell_type": "code",
   "execution_count": 2,
   "metadata": {
    "datalore": {
     "hide_input_from_viewers": false,
     "hide_output_from_viewers": false,
     "node_id": "VIMlKJ5VKDlVczw95dQi4D",
     "type": "CODE"
    }
   },
   "outputs": [],
   "source": [
    "df = pd.read_csv('data.csv')\n",
    "\n",
    "df = df.rename(columns = lambda x: re.sub('[^A-Za-z0-9_]+', '', str(x)))"
   ]
  },
  {
   "cell_type": "code",
   "execution_count": 3,
   "metadata": {
    "datalore": {
     "hide_input_from_viewers": false,
     "hide_output_from_viewers": false,
     "node_id": "4TsorOAI9Bh0D4TDJn5Chw",
     "type": "CODE"
    }
   },
   "outputs": [],
   "source": [
    "X = df.drop('readmitted', axis=1)\n",
    "y = df.readmitted"
   ]
  },
  {
   "cell_type": "code",
   "execution_count": 4,
   "metadata": {
    "datalore": {
     "hide_input_from_viewers": false,
     "hide_output_from_viewers": false,
     "node_id": "d9FgAANimhPnUefQ7x5AcF",
     "type": "CODE"
    }
   },
   "outputs": [],
   "source": [
    "X_train, X_test, y_train, y_test = train_test_split(X, y, test_size=0.2, random_state=42, stratify=y)"
   ]
  },
  {
   "cell_type": "code",
   "execution_count": 5,
   "metadata": {
    "datalore": {
     "hide_input_from_viewers": false,
     "hide_output_from_viewers": false,
     "node_id": "xYf8NROyWLSVt5Auytl4rU",
     "type": "CODE"
    }
   },
   "outputs": [
    {
     "data": {
      "text/plain": [
       "LGBMClassifier()"
      ]
     },
     "execution_count": 5,
     "metadata": {},
     "output_type": "execute_result"
    }
   ],
   "source": [
    "lgbc = lgb.LGBMClassifier()\n",
    "\n",
    "lgbc.fit(X_train, y_train)"
   ]
  },
  {
   "cell_type": "code",
   "execution_count": 6,
   "metadata": {
    "datalore": {
     "hide_input_from_viewers": false,
     "hide_output_from_viewers": false,
     "node_id": "JwcA71IkvJAYfxm9j0HTyH",
     "type": "CODE"
    }
   },
   "outputs": [
    {
     "name": "stdout",
     "output_type": "stream",
     "text": [
      "LightGBM roc_auc_score: 0.7287\n"
     ]
    }
   ],
   "source": [
    "print('LightGBM roc_auc_score: {0:0.4f}'.format(roc_auc_score(y_test, lgbc.predict_proba(X_test)[:, 1])))"
   ]
  },
  {
   "cell_type": "code",
   "execution_count": 7,
   "metadata": {
    "datalore": {
     "hide_input_from_viewers": false,
     "hide_output_from_viewers": false,
     "node_id": "zHIUJmpsK3k5jU7uynOb9Q",
     "type": "CODE"
    }
   },
   "outputs": [
    {
     "name": "stdout",
     "output_type": "stream",
     "text": [
      "[LightGBM] [Warning] min_data_in_leaf is set=100, min_child_samples=20 will be ignored. Current value: min_data_in_leaf=100\n"
     ]
    },
    {
     "data": {
      "text/plain": [
       "LGBMClassifier(max_depth=8, min_data_in_leaf=100, num_leaves=256)"
      ]
     },
     "execution_count": 7,
     "metadata": {},
     "output_type": "execute_result"
    }
   ],
   "source": [
    "lgbc = lgb.LGBMClassifier(max_depth=8, num_leaves=256, min_data_in_leaf=100, n_estimators=100)\n",
    "\n",
    "lgbc.fit(X_train, y_train)"
   ]
  },
  {
   "cell_type": "code",
   "execution_count": 19,
   "metadata": {
    "datalore": {
     "hide_input_from_viewers": false,
     "hide_output_from_viewers": false,
     "node_id": "B1dG2id4BvuZdBPwXXZ3L2",
     "type": "CODE"
    }
   },
   "outputs": [
    {
     "name": "stdout",
     "output_type": "stream",
     "text": [
      "LightGBM roc_auc_score: 0.7294\n",
      "LightGBM accuracy_score: 0.6677\n"
     ]
    }
   ],
   "source": [
    "print('LightGBM roc_auc_score: {0:0.4f}'.format(roc_auc_score(y_test, lgbc.predict_proba(X_test)[:, 1])))\n",
    "print('LightGBM accuracy_score: {0:0.4f}'.format(accuracy_score(y_test, lgbc.predict(X_test))))"
   ]
  },
  {
   "cell_type": "code",
   "execution_count": 9,
   "metadata": {
    "datalore": {
     "hide_input_from_viewers": false,
     "hide_output_from_viewers": false,
     "node_id": "vVh5gIYYWv9KsKbk5QMqBt",
     "type": "CODE"
    }
   },
   "outputs": [],
   "source": [
    "param_grid = {\n",
    "    \"max_depth\": [2, 3, 4, 5, 6, 7, 8, 9, 10, 11, 12],\n",
    "    \"num_leaves\": list(np.int64(np.linspace(20, 3000, 100))),\n",
    "    \"min_data_in_leaf\": [100, 500, 1000, 5000],\n",
    "    \"n_estimators\": [100, 500, 1000, 5000]\n",
    "}"
   ]
  },
  {
   "cell_type": "code",
   "execution_count": 11,
   "metadata": {
    "datalore": {
     "hide_input_from_viewers": false,
     "hide_output_from_viewers": false,
     "node_id": "h4esaJGCQ5IjEnWvLhWfUO",
     "type": "CODE"
    }
   },
   "outputs": [],
   "source": [
    "from sklearn.model_selection import RandomizedSearchCV\n",
    "\n",
    "rs = RandomizedSearchCV(lgb.LGBMClassifier(), param_distributions=param_grid, n_iter=5, cv=3, verbose=1)"
   ]
  },
  {
   "cell_type": "code",
   "execution_count": 12,
   "metadata": {
    "datalore": {
     "hide_input_from_viewers": false,
     "hide_output_from_viewers": false,
     "node_id": "986rSqcIY3SDIB1cdypeHW",
     "type": "CODE"
    }
   },
   "outputs": [
    {
     "name": "stdout",
     "output_type": "stream",
     "text": [
      "Fitting 3 folds for each of 5 candidates, totalling 15 fits\n",
      "[LightGBM] [Warning] min_data_in_leaf is set=1000, min_child_samples=20 will be ignored. Current value: min_data_in_leaf=1000\n",
      "[LightGBM] [Warning] min_data_in_leaf is set=1000, min_child_samples=20 will be ignored. Current value: min_data_in_leaf=1000\n",
      "[LightGBM] [Warning] min_data_in_leaf is set=1000, min_child_samples=20 will be ignored. Current value: min_data_in_leaf=1000\n",
      "[LightGBM] [Warning] min_data_in_leaf is set=1000, min_child_samples=20 will be ignored. Current value: min_data_in_leaf=1000\n",
      "[LightGBM] [Warning] min_data_in_leaf is set=1000, min_child_samples=20 will be ignored. Current value: min_data_in_leaf=1000\n",
      "[LightGBM] [Warning] min_data_in_leaf is set=1000, min_child_samples=20 will be ignored. Current value: min_data_in_leaf=1000\n",
      "[LightGBM] [Warning] min_data_in_leaf is set=500, min_child_samples=20 will be ignored. Current value: min_data_in_leaf=500\n",
      "[LightGBM] [Warning] min_data_in_leaf is set=500, min_child_samples=20 will be ignored. Current value: min_data_in_leaf=500\n",
      "[LightGBM] [Warning] min_data_in_leaf is set=500, min_child_samples=20 will be ignored. Current value: min_data_in_leaf=500\n",
      "[LightGBM] [Warning] min_data_in_leaf is set=5000, min_child_samples=20 will be ignored. Current value: min_data_in_leaf=5000\n",
      "[LightGBM] [Warning] min_data_in_leaf is set=5000, min_child_samples=20 will be ignored. Current value: min_data_in_leaf=5000\n",
      "[LightGBM] [Warning] min_data_in_leaf is set=5000, min_child_samples=20 will be ignored. Current value: min_data_in_leaf=5000\n",
      "[LightGBM] [Warning] min_data_in_leaf is set=100, min_child_samples=20 will be ignored. Current value: min_data_in_leaf=100\n",
      "[LightGBM] [Warning] min_data_in_leaf is set=100, min_child_samples=20 will be ignored. Current value: min_data_in_leaf=100\n",
      "[LightGBM] [Warning] min_data_in_leaf is set=100, min_child_samples=20 will be ignored. Current value: min_data_in_leaf=100\n",
      "[LightGBM] [Warning] min_data_in_leaf is set=1000, min_child_samples=20 will be ignored. Current value: min_data_in_leaf=1000\n"
     ]
    },
    {
     "data": {
      "text/plain": [
       "RandomizedSearchCV(cv=3, estimator=LGBMClassifier(), n_iter=5,\n",
       "                   param_distributions={'max_depth': [2, 3, 4, 5, 6, 7, 8, 9,\n",
       "                                                      10, 11, 12],\n",
       "                                        'min_data_in_leaf': [100, 500, 1000,\n",
       "                                                             5000],\n",
       "                                        'n_estimators': [100, 500, 1000, 5000],\n",
       "                                        'num_leaves': [20, 50, 80, 110, 140,\n",
       "                                                       170, 200, 230, 260, 290,\n",
       "                                                       321, 351, 381, 411, 441,\n",
       "                                                       471, 501, 531, 561, 591,\n",
       "                                                       622, 652, 682, 712, 742,\n",
       "                                                       772, 802, 832, 862, 892, ...]},\n",
       "                   verbose=1)"
      ]
     },
     "execution_count": 12,
     "metadata": {},
     "output_type": "execute_result"
    }
   ],
   "source": [
    "rs.fit(X_train, y_train)"
   ]
  },
  {
   "cell_type": "code",
   "execution_count": 13,
   "metadata": {
    "datalore": {
     "hide_input_from_viewers": false,
     "hide_output_from_viewers": false,
     "node_id": "0J9riVn5sZmnBu4rbd6x7h",
     "type": "CODE"
    }
   },
   "outputs": [
    {
     "data": {
      "text/plain": [
       "LGBMClassifier(max_depth=10, min_data_in_leaf=1000, num_leaves=2608)"
      ]
     },
     "execution_count": 13,
     "metadata": {},
     "output_type": "execute_result"
    }
   ],
   "source": [
    "rs.best_estimator_"
   ]
  },
  {
   "cell_type": "code",
   "execution_count": 20,
   "metadata": {},
   "outputs": [
    {
     "name": "stdout",
     "output_type": "stream",
     "text": [
      "LightGBM roc_auc_score: 0.7295\n",
      "LightGBM accuracy_score: 0.6677\n"
     ]
    }
   ],
   "source": [
    "print('LightGBM roc_auc_score: {0:0.4f}'.format(roc_auc_score(y_test, rs.best_estimator_.predict_proba(X_test)[:, 1])))\n",
    "print('LightGBM accuracy_score: {0:0.4f}'.format(accuracy_score(y_test, lgbc.predict(X_test))))"
   ]
  },
  {
   "cell_type": "code",
   "execution_count": 15,
   "metadata": {
    "datalore": {
     "hide_input_from_viewers": false,
     "hide_output_from_viewers": false,
     "node_id": "uiQ6xI0nKWDK8kmK1RMQfI",
     "type": "CODE"
    }
   },
   "outputs": [],
   "source": [
    "opt = BayesSearchCV(\n",
    "    lgb.LGBMClassifier(),\n",
    "    {  \n",
    "         \"max_depth\": [2, 3, 4, 5, 6, 7, 8, 9, 10, 11, 12],\n",
    "        \"num_leaves\": list(np.int64(np.linspace(20, 3000, 100))),\n",
    "        \"min_data_in_leaf\": [100, 500, 1000, 5000],\n",
    "        \"n_estimators\": [100, 500, 1000, 5000]\n",
    "    },\n",
    "    n_iter=10,\n",
    "    cv=3,\n",
    "    n_jobs=-1\n",
    ")"
   ]
  },
  {
   "cell_type": "code",
   "execution_count": 16,
   "metadata": {
    "datalore": {
     "hide_input_from_viewers": false,
     "hide_output_from_viewers": false,
     "node_id": "Sg09lcxWimhvctANU0OIHQ",
     "type": "CODE"
    }
   },
   "outputs": [
    {
     "name": "stdout",
     "output_type": "stream",
     "text": [
      "[LightGBM] [Warning] min_data_in_leaf is set=1000, min_child_samples=20 will be ignored. Current value: min_data_in_leaf=1000\n"
     ]
    },
    {
     "data": {
      "text/plain": [
       "BayesSearchCV(cv=3, estimator=LGBMClassifier(), n_iter=10, n_jobs=-1,\n",
       "              search_spaces={'max_depth': [2, 3, 4, 5, 6, 7, 8, 9, 10, 11, 12],\n",
       "                             'min_data_in_leaf': [100, 500, 1000, 5000],\n",
       "                             'n_estimators': [100, 500, 1000, 5000],\n",
       "                             'num_leaves': [20, 50, 80, 110, 140, 170, 200, 230,\n",
       "                                            260, 290, 321, 351, 381, 411, 441,\n",
       "                                            471, 501, 531, 561, 591, 622, 652,\n",
       "                                            682, 712, 742, 772, 802, 832, 862,\n",
       "                                            892, ...]})"
      ]
     },
     "execution_count": 16,
     "metadata": {},
     "output_type": "execute_result"
    }
   ],
   "source": [
    "opt.fit(X_train, y_train)"
   ]
  },
  {
   "cell_type": "code",
   "execution_count": 17,
   "metadata": {
    "datalore": {
     "hide_input_from_viewers": false,
     "hide_output_from_viewers": false,
     "node_id": "Edt8YvcUchHHJIMvoHngGI",
     "type": "CODE"
    }
   },
   "outputs": [
    {
     "data": {
      "text/plain": [
       "OrderedDict([('max_depth', 7),\n",
       "             ('min_data_in_leaf', 1000),\n",
       "             ('n_estimators', 100),\n",
       "             ('num_leaves', 1675)])"
      ]
     },
     "execution_count": 17,
     "metadata": {},
     "output_type": "execute_result"
    }
   ],
   "source": [
    "opt.best_params_"
   ]
  },
  {
   "cell_type": "code",
   "execution_count": 21,
   "metadata": {
    "datalore": {
     "hide_input_from_viewers": false,
     "hide_output_from_viewers": false,
     "node_id": "m1SsiEsiPpof8IDsiaNM8a",
     "type": "CODE"
    }
   },
   "outputs": [
    {
     "name": "stdout",
     "output_type": "stream",
     "text": [
      "LightGBM roc_auc_score: 0.7283\n",
      "LightGBM accuracy_score: 0.6677\n"
     ]
    }
   ],
   "source": [
    "print('LightGBM roc_auc_score: {0:0.4f}'.format(roc_auc_score(y_test, opt.best_estimator_.predict_proba(X_test)[:, 1])))\n",
    "print('LightGBM accuracy_score: {0:0.4f}'.format(accuracy_score(y_test, lgbc.predict(X_test))))"
   ]
  }
 ],
 "metadata": {
  "datalore": {
   "base_environment": "default",
   "computation_mode": "JUPYTER",
   "package_manager": "pip",
   "packages": [
    {
     "name": "lightgbm",
     "source": "PIP",
     "version": "3.3.2"
    },
    {
     "name": "category-encoders",
     "source": "PIP",
     "version": "2.4.0"
    },
    {
     "name": "scikit-optimize",
     "source": "PIP",
     "version": "0.9.0"
    }
   ],
   "version": 1
  },
  "kernelspec": {
   "display_name": "Python 3 (ipykernel)",
   "language": "python",
   "name": "python3"
  },
  "language_info": {
   "codemirror_mode": {
    "name": "ipython",
    "version": 3
   },
   "file_extension": ".py",
   "mimetype": "text/x-python",
   "name": "python",
   "nbconvert_exporter": "python",
   "pygments_lexer": "ipython3",
   "version": "3.9.7"
  }
 },
 "nbformat": 4,
 "nbformat_minor": 4
}
