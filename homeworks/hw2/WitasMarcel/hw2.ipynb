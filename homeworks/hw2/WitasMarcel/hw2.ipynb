{
 "cells": [
  {
   "cell_type": "markdown",
   "id": "12e93751",
   "metadata": {},
   "source": [
    "# Warsztaty Badawcze\n",
    "## Praca domowa 2\n",
    "*Marcel Witas*"
   ]
  },
  {
   "cell_type": "code",
   "execution_count": 1,
   "id": "a8b6b8cc",
   "metadata": {
    "scrolled": true
   },
   "outputs": [],
   "source": [
    "import matplotlib.pyplot as plt\n",
    "import numpy as np\n",
    "import pandas as pd\n",
    "import seaborn as sns\n",
    "from sklearn.ensemble import ExtraTreesClassifier\n",
    "from sklearn.model_selection import train_test_split \n",
    "from sklearn.metrics import accuracy_score, precision_score\n",
    "from sklearn.metrics import roc_auc_score\n",
    "from sklearn.model_selection import cross_validate\n",
    "import scipy, skopt\n",
    "from sklearn.model_selection import GridSearchCV, RandomizedSearchCV"
   ]
  },
  {
   "cell_type": "markdown",
   "id": "9520c22d",
   "metadata": {},
   "source": [
    "## Wczytanie danych"
   ]
  },
  {
   "cell_type": "markdown",
   "id": "4e3132aa",
   "metadata": {},
   "source": [
    "Wczytujemy zbiór danych, na którym został wykonany preprocessing podczas poprzedniej pracy domowej."
   ]
  },
  {
   "cell_type": "code",
   "execution_count": 2,
   "id": "c40dafe6",
   "metadata": {},
   "outputs": [
    {
     "data": {
      "text/html": [
       "<div>\n",
       "<style scoped>\n",
       "    .dataframe tbody tr th:only-of-type {\n",
       "        vertical-align: middle;\n",
       "    }\n",
       "\n",
       "    .dataframe tbody tr th {\n",
       "        vertical-align: top;\n",
       "    }\n",
       "\n",
       "    .dataframe thead th {\n",
       "        text-align: right;\n",
       "    }\n",
       "</style>\n",
       "<table border=\"1\" class=\"dataframe\">\n",
       "  <thead>\n",
       "    <tr style=\"text-align: right;\">\n",
       "      <th></th>\n",
       "      <th>gender</th>\n",
       "      <th>age</th>\n",
       "      <th>time_in_hospital</th>\n",
       "      <th>num_lab_procedures</th>\n",
       "      <th>num_procedures</th>\n",
       "      <th>num_medications</th>\n",
       "      <th>number_outpatient</th>\n",
       "      <th>number_emergency</th>\n",
       "      <th>number_inpatient</th>\n",
       "      <th>number_diagnoses</th>\n",
       "      <th>...</th>\n",
       "      <th>discharge_disposition_id_23</th>\n",
       "      <th>discharge_disposition_id_30</th>\n",
       "      <th>admission_source_id_0</th>\n",
       "      <th>admission_source_id_1</th>\n",
       "      <th>admission_source_id_2</th>\n",
       "      <th>admission_source_id_4</th>\n",
       "      <th>admission_source_id_5</th>\n",
       "      <th>admission_source_id_6</th>\n",
       "      <th>admission_source_id_7</th>\n",
       "      <th>admission_source_id_30</th>\n",
       "    </tr>\n",
       "  </thead>\n",
       "  <tbody>\n",
       "    <tr>\n",
       "      <th>0</th>\n",
       "      <td>0</td>\n",
       "      <td>5</td>\n",
       "      <td>1</td>\n",
       "      <td>41</td>\n",
       "      <td>0</td>\n",
       "      <td>1</td>\n",
       "      <td>0</td>\n",
       "      <td>0</td>\n",
       "      <td>0</td>\n",
       "      <td>1</td>\n",
       "      <td>...</td>\n",
       "      <td>0</td>\n",
       "      <td>0</td>\n",
       "      <td>0</td>\n",
       "      <td>1</td>\n",
       "      <td>0</td>\n",
       "      <td>0</td>\n",
       "      <td>0</td>\n",
       "      <td>0</td>\n",
       "      <td>0</td>\n",
       "      <td>0</td>\n",
       "    </tr>\n",
       "    <tr>\n",
       "      <th>1</th>\n",
       "      <td>0</td>\n",
       "      <td>15</td>\n",
       "      <td>3</td>\n",
       "      <td>59</td>\n",
       "      <td>0</td>\n",
       "      <td>18</td>\n",
       "      <td>0</td>\n",
       "      <td>0</td>\n",
       "      <td>0</td>\n",
       "      <td>9</td>\n",
       "      <td>...</td>\n",
       "      <td>0</td>\n",
       "      <td>0</td>\n",
       "      <td>0</td>\n",
       "      <td>0</td>\n",
       "      <td>0</td>\n",
       "      <td>0</td>\n",
       "      <td>0</td>\n",
       "      <td>0</td>\n",
       "      <td>1</td>\n",
       "      <td>0</td>\n",
       "    </tr>\n",
       "    <tr>\n",
       "      <th>2</th>\n",
       "      <td>0</td>\n",
       "      <td>25</td>\n",
       "      <td>2</td>\n",
       "      <td>11</td>\n",
       "      <td>5</td>\n",
       "      <td>13</td>\n",
       "      <td>2</td>\n",
       "      <td>0</td>\n",
       "      <td>1</td>\n",
       "      <td>6</td>\n",
       "      <td>...</td>\n",
       "      <td>0</td>\n",
       "      <td>0</td>\n",
       "      <td>0</td>\n",
       "      <td>0</td>\n",
       "      <td>0</td>\n",
       "      <td>0</td>\n",
       "      <td>0</td>\n",
       "      <td>0</td>\n",
       "      <td>1</td>\n",
       "      <td>0</td>\n",
       "    </tr>\n",
       "    <tr>\n",
       "      <th>3</th>\n",
       "      <td>1</td>\n",
       "      <td>35</td>\n",
       "      <td>2</td>\n",
       "      <td>44</td>\n",
       "      <td>1</td>\n",
       "      <td>16</td>\n",
       "      <td>0</td>\n",
       "      <td>0</td>\n",
       "      <td>0</td>\n",
       "      <td>7</td>\n",
       "      <td>...</td>\n",
       "      <td>0</td>\n",
       "      <td>0</td>\n",
       "      <td>0</td>\n",
       "      <td>0</td>\n",
       "      <td>0</td>\n",
       "      <td>0</td>\n",
       "      <td>0</td>\n",
       "      <td>0</td>\n",
       "      <td>1</td>\n",
       "      <td>0</td>\n",
       "    </tr>\n",
       "    <tr>\n",
       "      <th>4</th>\n",
       "      <td>1</td>\n",
       "      <td>45</td>\n",
       "      <td>1</td>\n",
       "      <td>51</td>\n",
       "      <td>0</td>\n",
       "      <td>8</td>\n",
       "      <td>0</td>\n",
       "      <td>0</td>\n",
       "      <td>0</td>\n",
       "      <td>5</td>\n",
       "      <td>...</td>\n",
       "      <td>0</td>\n",
       "      <td>0</td>\n",
       "      <td>0</td>\n",
       "      <td>0</td>\n",
       "      <td>0</td>\n",
       "      <td>0</td>\n",
       "      <td>0</td>\n",
       "      <td>0</td>\n",
       "      <td>1</td>\n",
       "      <td>0</td>\n",
       "    </tr>\n",
       "  </tbody>\n",
       "</table>\n",
       "<p>5 rows × 80 columns</p>\n",
       "</div>"
      ],
      "text/plain": [
       "   gender  age  time_in_hospital  num_lab_procedures  num_procedures  \\\n",
       "0       0    5                 1                  41               0   \n",
       "1       0   15                 3                  59               0   \n",
       "2       0   25                 2                  11               5   \n",
       "3       1   35                 2                  44               1   \n",
       "4       1   45                 1                  51               0   \n",
       "\n",
       "   num_medications  number_outpatient  number_emergency  number_inpatient  \\\n",
       "0                1                  0                 0                 0   \n",
       "1               18                  0                 0                 0   \n",
       "2               13                  2                 0                 1   \n",
       "3               16                  0                 0                 0   \n",
       "4                8                  0                 0                 0   \n",
       "\n",
       "   number_diagnoses  ...  discharge_disposition_id_23  \\\n",
       "0                 1  ...                            0   \n",
       "1                 9  ...                            0   \n",
       "2                 6  ...                            0   \n",
       "3                 7  ...                            0   \n",
       "4                 5  ...                            0   \n",
       "\n",
       "   discharge_disposition_id_30  admission_source_id_0  admission_source_id_1  \\\n",
       "0                            0                      0                      1   \n",
       "1                            0                      0                      0   \n",
       "2                            0                      0                      0   \n",
       "3                            0                      0                      0   \n",
       "4                            0                      0                      0   \n",
       "\n",
       "   admission_source_id_2  admission_source_id_4  admission_source_id_5  \\\n",
       "0                      0                      0                      0   \n",
       "1                      0                      0                      0   \n",
       "2                      0                      0                      0   \n",
       "3                      0                      0                      0   \n",
       "4                      0                      0                      0   \n",
       "\n",
       "   admission_source_id_6  admission_source_id_7  admission_source_id_30  \n",
       "0                      0                      0                       0  \n",
       "1                      0                      1                       0  \n",
       "2                      0                      1                       0  \n",
       "3                      0                      1                       0  \n",
       "4                      0                      1                       0  \n",
       "\n",
       "[5 rows x 80 columns]"
      ]
     },
     "execution_count": 2,
     "metadata": {},
     "output_type": "execute_result"
    }
   ],
   "source": [
    "diabetes_df = pd.read_csv(\"diabetes_preprocessed.csv\")\n",
    "diabetes_df.head()"
   ]
  },
  {
   "cell_type": "code",
   "execution_count": 3,
   "id": "e6aac5c3",
   "metadata": {},
   "outputs": [],
   "source": [
    "X = diabetes_df.drop('readmitted', axis=1)\n",
    "y = diabetes_df['readmitted']"
   ]
  },
  {
   "cell_type": "markdown",
   "id": "09e4059e",
   "metadata": {},
   "source": [
    "## Podział na zbiory treningowe i testowe"
   ]
  },
  {
   "cell_type": "code",
   "execution_count": 4,
   "id": "9ff52fdb",
   "metadata": {},
   "outputs": [],
   "source": [
    "X_train, X_test, y_train, y_test = train_test_split(X, \n",
    "                                                    y,\n",
    "                                                    random_state=13, train_size=0.7)"
   ]
  },
  {
   "cell_type": "markdown",
   "id": "903cb2a9",
   "metadata": {},
   "source": [
    "## Model\n",
    "Użyty zostanie ExtraTreesClassifier. Ta klasa implementuje meta estymator, który dopasowuje liczbę losowych drzew decyzyjnych (tzw. dodatkowych drzew) do różnych podpróbek zbioru danych i używa uśredniania w celu poprawy dokładności predykcyjnej i kontroli nadmiernego dopasowania.\n",
    "https://scikit-learn.org/stable/modules/generated/sklearn.ensemble.ExtraTreesClassifier.html"
   ]
  },
  {
   "cell_type": "markdown",
   "id": "bccd8066",
   "metadata": {},
   "source": [
    "## Model z domyślnymi hiperparametrami"
   ]
  },
  {
   "cell_type": "code",
   "execution_count": 5,
   "id": "42aea8c1",
   "metadata": {},
   "outputs": [
    {
     "data": {
      "text/plain": [
       "ExtraTreesClassifier()"
      ]
     },
     "execution_count": 5,
     "metadata": {},
     "output_type": "execute_result"
    }
   ],
   "source": [
    "xTree = ExtraTreesClassifier()\n",
    "xTree.fit(X_train, y_train)\n"
   ]
  },
  {
   "cell_type": "code",
   "execution_count": 6,
   "id": "58289277",
   "metadata": {},
   "outputs": [],
   "source": [
    "pr = xTree.predict(X_test)"
   ]
  },
  {
   "cell_type": "code",
   "execution_count": 7,
   "id": "b550eb0c",
   "metadata": {},
   "outputs": [],
   "source": [
    "prp = xTree.predict_proba(X_test)"
   ]
  },
  {
   "cell_type": "code",
   "execution_count": 8,
   "id": "24333237",
   "metadata": {},
   "outputs": [
    {
     "data": {
      "text/plain": [
       "0.6240254209526306"
      ]
     },
     "execution_count": 8,
     "metadata": {},
     "output_type": "execute_result"
    }
   ],
   "source": [
    "accuracy_score(y_test, pr)"
   ]
  },
  {
   "cell_type": "code",
   "execution_count": 9,
   "id": "e22c018b",
   "metadata": {},
   "outputs": [
    {
     "data": {
      "text/plain": [
       "0.6729110563586784"
      ]
     },
     "execution_count": 9,
     "metadata": {},
     "output_type": "execute_result"
    }
   ],
   "source": [
    "roc_auc_score(y_test, prp[:, 1])"
   ]
  },
  {
   "cell_type": "markdown",
   "id": "db0cba2b",
   "metadata": {},
   "source": [
    "## Ręczna zmiana hiperparametrów\n"
   ]
  },
  {
   "cell_type": "markdown",
   "id": "8a6b7f55",
   "metadata": {},
   "source": [
    "Zdecydowałem się na zmianę następujących hiperparametrów:\n",
    "* n_estimators \n",
    "* criterion\n",
    "* min_samples_split\n",
    "* max_features \n",
    "* min_samples_leaf"
   ]
  },
  {
   "cell_type": "code",
   "execution_count": 10,
   "id": "3f46e728",
   "metadata": {},
   "outputs": [],
   "source": [
    "xTree_man = ExtraTreesClassifier(n_estimators=500,\n",
    "                                 criterion=\"entropy\",\n",
    "                                 min_samples_split=3,\n",
    "                                 max_features = 'sqrt',\n",
    "                                 min_samples_leaf = 3\n",
    "                                )\n"
   ]
  },
  {
   "cell_type": "code",
   "execution_count": 11,
   "id": "459ffe27",
   "metadata": {},
   "outputs": [
    {
     "data": {
      "text/plain": [
       "ExtraTreesClassifier(criterion='entropy', max_features='sqrt',\n",
       "                     min_samples_leaf=3, min_samples_split=3, n_estimators=500)"
      ]
     },
     "execution_count": 11,
     "metadata": {},
     "output_type": "execute_result"
    }
   ],
   "source": [
    "xTree_man.fit(X_train, y_train)"
   ]
  },
  {
   "cell_type": "code",
   "execution_count": 12,
   "id": "bf459e8a",
   "metadata": {},
   "outputs": [],
   "source": [
    "pr = xTree_man.predict(X_test)"
   ]
  },
  {
   "cell_type": "code",
   "execution_count": 13,
   "id": "8e57f865",
   "metadata": {},
   "outputs": [],
   "source": [
    "prp = xTree_man.predict_proba(X_test)"
   ]
  },
  {
   "cell_type": "code",
   "execution_count": 14,
   "id": "51d6603d",
   "metadata": {},
   "outputs": [
    {
     "data": {
      "text/plain": [
       "0.6375876302168643"
      ]
     },
     "execution_count": 14,
     "metadata": {},
     "output_type": "execute_result"
    }
   ],
   "source": [
    "accuracy_score(y_test, pr)"
   ]
  },
  {
   "cell_type": "code",
   "execution_count": 15,
   "id": "67e14533",
   "metadata": {
    "scrolled": true
   },
   "outputs": [
    {
     "data": {
      "text/plain": [
       "0.693390865494723"
      ]
     },
     "execution_count": 15,
     "metadata": {},
     "output_type": "execute_result"
    }
   ],
   "source": [
    "roc_auc_score(y_test, prp[:, 1])"
   ]
  },
  {
   "cell_type": "markdown",
   "id": "b9cc5d9c",
   "metadata": {},
   "source": [
    "Teraz spróbujemy zoptymalizować te hiperparametry."
   ]
  },
  {
   "cell_type": "markdown",
   "id": "f2af7e37",
   "metadata": {},
   "source": [
    "## Random search (RS)\n"
   ]
  },
  {
   "cell_type": "code",
   "execution_count": 5,
   "id": "52a4205e",
   "metadata": {},
   "outputs": [],
   "source": [
    "xTree_rs = ExtraTreesClassifier()\n",
    "\n",
    "parameters_distribution = {'n_estimators': scipy.stats.randint(80, 600), \n",
    "                          'min_samples_split' : scipy.stats.randint(2,6), \n",
    "                           'max_features' : scipy.stats.randint(5, 11), 'criterion':['gini', 'entropy'],\n",
    "                           'min_samples_leaf' : scipy.stats.randint(1, 8)}\n",
    "\n",
    "\n"
   ]
  },
  {
   "cell_type": "code",
   "execution_count": 6,
   "id": "86a7993c",
   "metadata": {},
   "outputs": [],
   "source": [
    "rs_clf = RandomizedSearchCV(xTree_rs, parameters_distribution, random_state=13, cv=3)"
   ]
  },
  {
   "cell_type": "code",
   "execution_count": 7,
   "id": "7b820ba1",
   "metadata": {},
   "outputs": [
    {
     "data": {
      "text/plain": [
       "RandomizedSearchCV(cv=3, estimator=ExtraTreesClassifier(),\n",
       "                   param_distributions={'criterion': ['gini', 'entropy'],\n",
       "                                        'max_features': <scipy.stats._distn_infrastructure.rv_frozen object at 0x0000029898EDC550>,\n",
       "                                        'min_samples_leaf': <scipy.stats._distn_infrastructure.rv_frozen object at 0x0000029898EDC7F0>,\n",
       "                                        'min_samples_split': <scipy.stats._distn_infrastructure.rv_frozen object at 0x0000029898EDC3D0>,\n",
       "                                        'n_estimators': <scipy.stats._distn_infrastructure.rv_frozen object at 0x0000029898EDC0D0>},\n",
       "                   random_state=13)"
      ]
     },
     "execution_count": 7,
     "metadata": {},
     "output_type": "execute_result"
    }
   ],
   "source": [
    "rs_clf.fit(X_train, y_train)"
   ]
  },
  {
   "cell_type": "code",
   "execution_count": 8,
   "id": "248dd6ee",
   "metadata": {},
   "outputs": [
    {
     "data": {
      "text/plain": [
       "{'criterion': 'entropy',\n",
       " 'max_features': 10,\n",
       " 'min_samples_leaf': 4,\n",
       " 'min_samples_split': 5,\n",
       " 'n_estimators': 550}"
      ]
     },
     "execution_count": 8,
     "metadata": {},
     "output_type": "execute_result"
    }
   ],
   "source": [
    "rs_clf.best_params_"
   ]
  },
  {
   "cell_type": "code",
   "execution_count": 9,
   "id": "017a9fe0",
   "metadata": {},
   "outputs": [],
   "source": [
    "pr = rs_clf.predict(X_test)\n"
   ]
  },
  {
   "cell_type": "code",
   "execution_count": 10,
   "id": "f6eeaa56",
   "metadata": {},
   "outputs": [],
   "source": [
    "prp = rs_clf.predict_proba(X_test)"
   ]
  },
  {
   "cell_type": "code",
   "execution_count": 11,
   "id": "6f098992",
   "metadata": {},
   "outputs": [
    {
     "data": {
      "text/plain": [
       "0.6403066238616262"
      ]
     },
     "execution_count": 11,
     "metadata": {},
     "output_type": "execute_result"
    }
   ],
   "source": [
    "accuracy_score(y_test, pr)"
   ]
  },
  {
   "cell_type": "code",
   "execution_count": 12,
   "id": "27510dd5",
   "metadata": {},
   "outputs": [
    {
     "data": {
      "text/plain": [
       "0.6939242173741684"
      ]
     },
     "execution_count": 12,
     "metadata": {},
     "output_type": "execute_result"
    }
   ],
   "source": [
    "roc_auc_score(y_test, prp[:, 1])"
   ]
  },
  {
   "cell_type": "markdown",
   "id": "561c8096",
   "metadata": {},
   "source": [
    "## Grid search (GS)\n"
   ]
  },
  {
   "cell_type": "code",
   "execution_count": 13,
   "id": "a4989844",
   "metadata": {},
   "outputs": [],
   "source": [
    "parameters = {'criterion':('gini', 'entropy'), \n",
    "              'min_samples_split':[4,5], \n",
    "               'max_features' : [6,7,8]}\n",
    "xTree_grid = ExtraTreesClassifier()"
   ]
  },
  {
   "cell_type": "code",
   "execution_count": 14,
   "id": "c2d104de",
   "metadata": {},
   "outputs": [],
   "source": [
    "grid_clf = GridSearchCV(xTree_grid, parameters, scoring = 'roc_auc',  cv=3)\n"
   ]
  },
  {
   "cell_type": "code",
   "execution_count": 15,
   "id": "00f2691b",
   "metadata": {
    "scrolled": true
   },
   "outputs": [
    {
     "data": {
      "text/plain": [
       "GridSearchCV(cv=3, estimator=ExtraTreesClassifier(),\n",
       "             param_grid={'criterion': ('gini', 'entropy'),\n",
       "                         'max_features': [6, 7, 8],\n",
       "                         'min_samples_split': [4, 5]},\n",
       "             scoring='roc_auc')"
      ]
     },
     "execution_count": 15,
     "metadata": {},
     "output_type": "execute_result"
    }
   ],
   "source": [
    "grid_clf.fit(X_train, y_train)"
   ]
  },
  {
   "cell_type": "code",
   "execution_count": 16,
   "id": "190e5438",
   "metadata": {},
   "outputs": [
    {
     "data": {
      "text/plain": [
       "{'criterion': 'entropy', 'max_features': 7, 'min_samples_split': 5}"
      ]
     },
     "execution_count": 16,
     "metadata": {},
     "output_type": "execute_result"
    }
   ],
   "source": [
    "grid_clf.best_params_"
   ]
  },
  {
   "cell_type": "code",
   "execution_count": 17,
   "id": "dc161ed5",
   "metadata": {},
   "outputs": [],
   "source": [
    "pr = grid_clf.predict(X_test)"
   ]
  },
  {
   "cell_type": "code",
   "execution_count": 18,
   "id": "1b4d5948",
   "metadata": {},
   "outputs": [],
   "source": [
    "prp = grid_clf.predict_proba(X_test)"
   ]
  },
  {
   "cell_type": "code",
   "execution_count": 19,
   "id": "f1ee847c",
   "metadata": {},
   "outputs": [
    {
     "data": {
      "text/plain": [
       "0.6297254799187578"
      ]
     },
     "execution_count": 19,
     "metadata": {},
     "output_type": "execute_result"
    }
   ],
   "source": [
    "accuracy_score(y_test, pr)"
   ]
  },
  {
   "cell_type": "code",
   "execution_count": 20,
   "id": "080d48a3",
   "metadata": {},
   "outputs": [
    {
     "data": {
      "text/plain": [
       "0.6800297269855862"
      ]
     },
     "execution_count": 20,
     "metadata": {},
     "output_type": "execute_result"
    }
   ],
   "source": [
    "roc_auc_score(y_test, prp[:, 1])"
   ]
  },
  {
   "cell_type": "markdown",
   "id": "211fcabb",
   "metadata": {},
   "source": [
    "## Optymalizacja bayesowska (BO)\n"
   ]
  },
  {
   "cell_type": "code",
   "execution_count": 21,
   "id": "71a7957f",
   "metadata": {},
   "outputs": [],
   "source": [
    "search_spaces = {\n",
    "        'criterion': ['gini', 'entropy'],\n",
    "        'n_estimators': skopt.space.space.Integer(10, 500),\n",
    "        'max_features': skopt.space.space.Integer(5, 12),\n",
    "    'min_samples_leaf':skopt.space.space.Integer(1, 10),\n",
    "}\n",
    "\n",
    "xTree_bo = ExtraTreesClassifier()"
   ]
  },
  {
   "cell_type": "code",
   "execution_count": 22,
   "id": "a6736caa",
   "metadata": {},
   "outputs": [],
   "source": [
    "bo_clf = skopt.BayesSearchCV(\n",
    "        estimator=xTree_bo,\n",
    "        search_spaces=search_spaces,\n",
    "        scoring='roc_auc',\n",
    "        n_jobs=4,\n",
    "        n_iter=15,\n",
    "        verbose=0,\n",
    "        random_state=13\n",
    "    )"
   ]
  },
  {
   "cell_type": "code",
   "execution_count": 23,
   "id": "b5218db1",
   "metadata": {},
   "outputs": [
    {
     "data": {
      "text/plain": [
       "BayesSearchCV(estimator=ExtraTreesClassifier(), n_iter=15, n_jobs=4,\n",
       "              random_state=13, scoring='roc_auc',\n",
       "              search_spaces={'criterion': ['gini', 'entropy'],\n",
       "                             'max_features': Integer(low=5, high=12, prior='uniform', transform='normalize'),\n",
       "                             'min_samples_leaf': Integer(low=1, high=10, prior='uniform', transform='normalize'),\n",
       "                             'n_estimators': Integer(low=10, high=500, prior='uniform', transform='normalize')})"
      ]
     },
     "execution_count": 23,
     "metadata": {},
     "output_type": "execute_result"
    }
   ],
   "source": [
    "bo_clf.fit(X_train, y_train)"
   ]
  },
  {
   "cell_type": "code",
   "execution_count": 24,
   "id": "47806fd1",
   "metadata": {},
   "outputs": [
    {
     "data": {
      "text/plain": [
       "OrderedDict([('criterion', 'entropy'),\n",
       "             ('max_features', 12),\n",
       "             ('min_samples_leaf', 10),\n",
       "             ('n_estimators', 390)])"
      ]
     },
     "execution_count": 24,
     "metadata": {},
     "output_type": "execute_result"
    }
   ],
   "source": [
    "bo_clf.best_params_"
   ]
  },
  {
   "cell_type": "code",
   "execution_count": 25,
   "id": "041aaecf",
   "metadata": {},
   "outputs": [],
   "source": [
    "pr = bo_clf.predict(X_test)"
   ]
  },
  {
   "cell_type": "code",
   "execution_count": 26,
   "id": "86c0532c",
   "metadata": {},
   "outputs": [],
   "source": [
    "prp = bo_clf.predict_proba(X_test)"
   ]
  },
  {
   "cell_type": "code",
   "execution_count": 27,
   "id": "b1b58178",
   "metadata": {},
   "outputs": [
    {
     "data": {
      "text/plain": [
       "0.6420756076787001"
      ]
     },
     "execution_count": 27,
     "metadata": {},
     "output_type": "execute_result"
    }
   ],
   "source": [
    "accuracy_score(y_test, pr)"
   ]
  },
  {
   "cell_type": "code",
   "execution_count": 28,
   "id": "752a114e",
   "metadata": {},
   "outputs": [
    {
     "data": {
      "text/plain": [
       "0.6958901121776782"
      ]
     },
     "execution_count": 28,
     "metadata": {},
     "output_type": "execute_result"
    }
   ],
   "source": [
    "roc_auc_score(y_test, prp[:, 1])"
   ]
  },
  {
   "cell_type": "markdown",
   "id": "db56faa9",
   "metadata": {},
   "source": [
    "## Podsumowanie\n",
    "\n",
    "<table>\n",
    "<thead>\n",
    "  <tr>\n",
    "    <th></th>  \n",
    "    <th>Ręczna zmiana</th>\n",
    "    <th>default</th>\n",
    "    <th>GS</th>\n",
    "    <th>RS</th>\n",
    "    <th>BO</th>   \n",
    "  </tr>\n",
    "</thead>\n",
    "<tbody>\n",
    "   <tr>\n",
    "    <td>AUC</td>\n",
    "    <td>0.6934</td>\n",
    "    <td>0.6729</td>\n",
    "    <td>0.6800</td>\n",
    "    <td>0.6939</td>\n",
    "    <td>0.6959</td>\n",
    "      </tr>\n",
    "   <tr>\n",
    "    <td>Accuracy</td>\n",
    "    <td>0.6376</td>\n",
    "    <td>0.6240</td>\n",
    "    <td>0.6297</td>\n",
    "    <td>0.6403</td>\n",
    "    <td>0.6420</td>\n",
    "      </tr>\n",
    "  </tbody>\n",
    "</table>\n",
    "\n"
   ]
  },
  {
   "cell_type": "markdown",
   "id": "d87033cb",
   "metadata": {},
   "source": [
    "Różnice w AUC score nie okazały się zbyt duże. Wszystkie modele z optymalizacją hiperparametrów były lepsze, niż domyślne. Najlepiej sprawdziła się Optymalizacja Bayesowska, zarówno pod względem metryki AUC, jak i accuracy. Niewiele gorsze była RandomSearch. Wadą jest oczywiście o wiele dłuższy czas wykonanania"
   ]
  },
  {
   "cell_type": "markdown",
   "id": "7a447e46",
   "metadata": {},
   "source": [
    "n_estimators, criterion, min_samples_leaf, min_samples_split, max_features"
   ]
  }
 ],
 "metadata": {
  "kernelspec": {
   "display_name": "Python 3",
   "language": "python",
   "name": "python3"
  },
  "language_info": {
   "codemirror_mode": {
    "name": "ipython",
    "version": 3
   },
   "file_extension": ".py",
   "mimetype": "text/x-python",
   "name": "python",
   "nbconvert_exporter": "python",
   "pygments_lexer": "ipython3",
   "version": "3.8.8"
  }
 },
 "nbformat": 4,
 "nbformat_minor": 5
}
