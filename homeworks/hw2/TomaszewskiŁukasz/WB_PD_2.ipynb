{
 "cells": [
  {
   "cell_type": "markdown",
   "id": "a4847aaa",
   "metadata": {},
   "source": [
    "# Praca domowa 2\n",
    "#### Łukasz Tomaszewski"
   ]
  },
  {
   "cell_type": "code",
   "execution_count": 1,
   "id": "6376e2cb",
   "metadata": {},
   "outputs": [],
   "source": [
    "import pandas as pd\n",
    "import numpy as np"
   ]
  },
  {
   "cell_type": "code",
   "execution_count": 2,
   "id": "4d1850d2",
   "metadata": {},
   "outputs": [],
   "source": [
    "df = pd.read_csv('hw1.csv')\n",
    "df = df.drop(['Unnamed: 0'], axis =1 )"
   ]
  },
  {
   "cell_type": "code",
   "execution_count": 3,
   "id": "cf48c760",
   "metadata": {},
   "outputs": [],
   "source": [
    "y = df['readmitted']\n",
    "X = df.drop(['readmitted'], axis = 1)"
   ]
  },
  {
   "cell_type": "markdown",
   "id": "0a96800b",
   "metadata": {},
   "source": [
    "Podzielmy ramkę na zbiór treningowy i testowy."
   ]
  },
  {
   "cell_type": "code",
   "execution_count": 4,
   "id": "8ca8e86c",
   "metadata": {},
   "outputs": [],
   "source": [
    "from sklearn.model_selection import train_test_split"
   ]
  },
  {
   "cell_type": "code",
   "execution_count": 5,
   "id": "bd7d5112",
   "metadata": {},
   "outputs": [],
   "source": [
    "X_train, X_test, y_train, y_test = train_test_split(X, y, test_size = 0.3, random_state = 42)"
   ]
  },
  {
   "cell_type": "markdown",
   "id": "49f78077",
   "metadata": {},
   "source": [
    "Wybierzmy model - RandomForestClassifier."
   ]
  },
  {
   "cell_type": "code",
   "execution_count": 6,
   "id": "a41b602f",
   "metadata": {},
   "outputs": [],
   "source": [
    "from sklearn.ensemble import RandomForestClassifier"
   ]
  },
  {
   "cell_type": "markdown",
   "id": "f391ed79",
   "metadata": {},
   "source": [
    "## Domyślne parametry"
   ]
  },
  {
   "cell_type": "code",
   "execution_count": 7,
   "id": "3796c722",
   "metadata": {},
   "outputs": [
    {
     "data": {
      "text/plain": [
       "RandomForestClassifier()"
      ]
     },
     "execution_count": 7,
     "metadata": {},
     "output_type": "execute_result"
    }
   ],
   "source": [
    "rfc_clf = RandomForestClassifier()\n",
    "rfc_clf.fit(X_train, y_train)"
   ]
  },
  {
   "cell_type": "code",
   "execution_count": 8,
   "id": "0824ee2d",
   "metadata": {},
   "outputs": [],
   "source": [
    "predicted_class = rfc_clf.predict(X_test)\n",
    "predicted_prob = rfc_clf.predict_proba(X_test)"
   ]
  },
  {
   "cell_type": "markdown",
   "id": "f5c8cfed",
   "metadata": {},
   "source": [
    "Jako drugi sposób walidacji wybieramy accuracy_score."
   ]
  },
  {
   "cell_type": "code",
   "execution_count": 9,
   "id": "625a44c9",
   "metadata": {},
   "outputs": [],
   "source": [
    "from sklearn.metrics import roc_auc_score\n",
    "from sklearn.metrics import accuracy_score"
   ]
  },
  {
   "cell_type": "code",
   "execution_count": 10,
   "id": "e42ffc6b",
   "metadata": {},
   "outputs": [
    {
     "data": {
      "text/plain": [
       "0.8441008043128087"
      ]
     },
     "execution_count": 10,
     "metadata": {},
     "output_type": "execute_result"
    }
   ],
   "source": [
    "roc_auc_score(y_test, predicted_prob[:,1])"
   ]
  },
  {
   "cell_type": "code",
   "execution_count": 11,
   "id": "44a37801",
   "metadata": {},
   "outputs": [
    {
     "data": {
      "text/plain": [
       "0.7788659962658456"
      ]
     },
     "execution_count": 11,
     "metadata": {},
     "output_type": "execute_result"
    }
   ],
   "source": [
    "accuracy_score(y_test, predicted_class)"
   ]
  },
  {
   "cell_type": "markdown",
   "id": "5db3eaee",
   "metadata": {},
   "source": [
    "Dla AUC udało nam sie osiągnąc wynik 0.844, co jest całkiem dobrym rezultatem. Spróbujmy jeszcze polepszyć otrzymany wynik."
   ]
  },
  {
   "cell_type": "markdown",
   "id": "1292145b",
   "metadata": {},
   "source": [
    "## Ręczna zmiana hiperparametrów"
   ]
  },
  {
   "cell_type": "markdown",
   "id": "1faf9d81",
   "metadata": {},
   "source": [
    "Parametrami, które możemy poprawić wydają się być parametry: n_estimators, criterion, min_samples_leaf oraz min_samples_split. Przetestujmy różne kombinację wartości dla tych parametrów.\n",
    "(Poniższe parametry są efektem wielu prób, z których zostały wybrane najlepsze wartości)"
   ]
  },
  {
   "cell_type": "code",
   "execution_count": 12,
   "id": "5bc0a669",
   "metadata": {},
   "outputs": [
    {
     "data": {
      "text/plain": [
       "RandomForestClassifier(criterion='entropy', min_samples_leaf=2,\n",
       "                       min_samples_split=4, n_estimators=1500, n_jobs=-1)"
      ]
     },
     "execution_count": 12,
     "metadata": {},
     "output_type": "execute_result"
    }
   ],
   "source": [
    "rfc_clf = RandomForestClassifier(n_estimators = 1500,criterion='entropy', min_samples_leaf = 2,min_samples_split = 4,\n",
    "                                 n_jobs=-1)\n",
    "rfc_clf.fit(X_train, y_train)"
   ]
  },
  {
   "cell_type": "markdown",
   "id": "a4265438",
   "metadata": {},
   "source": [
    "Dla wybranych parametrów runtime trwał dłużej, jednak dał lepsze efekty niż dla parametórw domyślnych. Wydaje się, że najważniejszym parametrem jest n_estimators - jego zwiększenie najbardziej poprawia rezultat, jednak powyżej wartości 1500 rezultat był bardzo zbliżony, a nawet gorszy, a czas potrzebny na wykonanie znacząco wzrastał."
   ]
  },
  {
   "cell_type": "code",
   "execution_count": 13,
   "id": "20bcc653",
   "metadata": {},
   "outputs": [],
   "source": [
    "predicted_class = rfc_clf.predict(X_test)\n",
    "predicted_prob = rfc_clf.predict_proba(X_test)"
   ]
  },
  {
   "cell_type": "code",
   "execution_count": 14,
   "id": "48087b4c",
   "metadata": {},
   "outputs": [
    {
     "data": {
      "text/plain": [
       "0.8508373369945336"
      ]
     },
     "execution_count": 14,
     "metadata": {},
     "output_type": "execute_result"
    }
   ],
   "source": [
    "roc_auc_score(y_test, predicted_prob[:,1])"
   ]
  },
  {
   "cell_type": "code",
   "execution_count": 15,
   "id": "db108f33",
   "metadata": {},
   "outputs": [
    {
     "data": {
      "text/plain": [
       "0.7804055160666907"
      ]
     },
     "execution_count": 15,
     "metadata": {},
     "output_type": "execute_result"
    }
   ],
   "source": [
    "accuracy_score(y_test, predicted_class)"
   ]
  },
  {
   "cell_type": "markdown",
   "id": "931717e2",
   "metadata": {},
   "source": [
    "Dzięki ręcznej zmianie hiperparametrów udało nam się uzyskać nieco lepszy rezultat niż ten dla ustawień domyślnych. Spróbujmy znaleźć lepsze parametry, wykorzystując poniższe funkcje. \n",
    "Dla każdej z nich cv = 3"
   ]
  },
  {
   "cell_type": "markdown",
   "id": "926fe7a6",
   "metadata": {},
   "source": [
    "## Random Search"
   ]
  },
  {
   "cell_type": "code",
   "execution_count": 16,
   "id": "b00b1f6d",
   "metadata": {},
   "outputs": [],
   "source": [
    "from sklearn.model_selection import RandomizedSearchCV"
   ]
  },
  {
   "cell_type": "code",
   "execution_count": 17,
   "id": "4158903b",
   "metadata": {},
   "outputs": [],
   "source": [
    "rfc_clf = RandomForestClassifier()"
   ]
  },
  {
   "cell_type": "code",
   "execution_count": 18,
   "id": "4f77825d",
   "metadata": {},
   "outputs": [],
   "source": [
    "import skopt, scipy"
   ]
  },
  {
   "cell_type": "markdown",
   "id": "3ff70d80",
   "metadata": {},
   "source": [
    "Wylosujmy 50 przypadków, gdzie możliwe wartości parametrów opisane są poniżej."
   ]
  },
  {
   "cell_type": "code",
   "execution_count": 19,
   "id": "c647bdb8",
   "metadata": {
    "scrolled": true
   },
   "outputs": [
    {
     "name": "stdout",
     "output_type": "stream",
     "text": [
      "Fitting 3 folds for each of 50 candidates, totalling 150 fits\n"
     ]
    },
    {
     "data": {
      "text/plain": [
       "RandomizedSearchCV(cv=3, estimator=RandomForestClassifier(), n_iter=50,\n",
       "                   n_jobs=-1,\n",
       "                   param_distributions={'criterion': ['gini', 'entropy'],\n",
       "                                        'min_samples_leaf': <scipy.stats._distn_infrastructure.rv_frozen object at 0x0000026381BEE640>,\n",
       "                                        'min_samples_split': <scipy.stats._distn_infrastructure.rv_frozen object at 0x0000026381BEE280>,\n",
       "                                        'n_estimators': <scipy.stats._distn_infrastructure.rv_frozen object at 0x0000026381BEE3D0>},\n",
       "                   scoring='roc_auc', verbose=10)"
      ]
     },
     "execution_count": 19,
     "metadata": {},
     "output_type": "execute_result"
    }
   ],
   "source": [
    "parameters = {\n",
    "    'criterion': ['gini', 'entropy'],\n",
    "    'min_samples_leaf': scipy.stats.randint(2,20),\n",
    "    'min_samples_split': scipy.stats.randint(3,20),\n",
    "    'n_estimators': scipy.stats.randint(100,1500)\n",
    "}\n",
    "\n",
    "rs = RandomizedSearchCV(estimator = rfc_clf, param_distributions = parameters, verbose=10, \n",
    "                               cv = 3, n_iter = 50, n_jobs = -1, scoring='roc_auc')\n",
    "rs.fit(X_train, y_train)"
   ]
  },
  {
   "cell_type": "markdown",
   "id": "80743567",
   "metadata": {},
   "source": [
    "Jakie były najlepsze parametry:"
   ]
  },
  {
   "cell_type": "code",
   "execution_count": 20,
   "id": "2fe270c0",
   "metadata": {
    "scrolled": true
   },
   "outputs": [
    {
     "data": {
      "text/plain": [
       "{'criterion': 'entropy',\n",
       " 'min_samples_leaf': 2,\n",
       " 'min_samples_split': 11,\n",
       " 'n_estimators': 742}"
      ]
     },
     "execution_count": 20,
     "metadata": {},
     "output_type": "execute_result"
    }
   ],
   "source": [
    "rs.best_params_"
   ]
  },
  {
   "cell_type": "markdown",
   "id": "8d72ca8a",
   "metadata": {},
   "source": [
    "Weźmy najlepsze parametry i sprawdźmy dla nich AUC."
   ]
  },
  {
   "cell_type": "code",
   "execution_count": 21,
   "id": "fd953d20",
   "metadata": {},
   "outputs": [],
   "source": [
    "rs = rs.best_estimator_"
   ]
  },
  {
   "cell_type": "code",
   "execution_count": 22,
   "id": "b3fbb80b",
   "metadata": {},
   "outputs": [],
   "source": [
    "predicted_class = rs.predict(X_test)\n",
    "predicted_prob = rs.predict_proba(X_test)"
   ]
  },
  {
   "cell_type": "code",
   "execution_count": 23,
   "id": "f1245ad2",
   "metadata": {},
   "outputs": [
    {
     "data": {
      "text/plain": [
       "0.8511484391511555"
      ]
     },
     "execution_count": 23,
     "metadata": {},
     "output_type": "execute_result"
    }
   ],
   "source": [
    "roc_auc_score(y_test, predicted_prob[:,1])"
   ]
  },
  {
   "cell_type": "code",
   "execution_count": 24,
   "id": "8f9cf894",
   "metadata": {},
   "outputs": [
    {
     "data": {
      "text/plain": [
       "0.7802744931049166"
      ]
     },
     "execution_count": 24,
     "metadata": {},
     "output_type": "execute_result"
    }
   ],
   "source": [
    "accuracy_score(y_test, predicted_class)"
   ]
  },
  {
   "cell_type": "markdown",
   "id": "dafaa61b",
   "metadata": {},
   "source": [
    "Udało nam się osiągnąć wynik lepszy niż w przypadku ręcznej zmiany hiperparametrów."
   ]
  },
  {
   "cell_type": "markdown",
   "id": "ccc1c24c",
   "metadata": {},
   "source": [
    "## Grid Search"
   ]
  },
  {
   "cell_type": "code",
   "execution_count": 25,
   "id": "b585b6f8",
   "metadata": {},
   "outputs": [],
   "source": [
    "from sklearn.model_selection import GridSearchCV"
   ]
  },
  {
   "cell_type": "code",
   "execution_count": 26,
   "id": "b300401a",
   "metadata": {},
   "outputs": [],
   "source": [
    "rfc_clf = RandomForestClassifier()"
   ]
  },
  {
   "cell_type": "markdown",
   "id": "d66772d3",
   "metadata": {},
   "source": [
    "Sprawdźmy, która kombinacja podanych niżej hiperparametrów jest najlepsza."
   ]
  },
  {
   "cell_type": "code",
   "execution_count": 27,
   "id": "8a1482a3",
   "metadata": {
    "scrolled": true
   },
   "outputs": [
    {
     "name": "stdout",
     "output_type": "stream",
     "text": [
      "Fitting 3 folds for each of 64 candidates, totalling 192 fits\n"
     ]
    },
    {
     "data": {
      "text/plain": [
       "GridSearchCV(cv=3, estimator=RandomForestClassifier(), n_jobs=-1,\n",
       "             param_grid={'criterion': ['gini', 'entropy'],\n",
       "                         'min_samples_leaf': [2, 3, 5, 10],\n",
       "                         'min_samples_split': [3, 4, 6, 10],\n",
       "                         'n_estimators': [500, 1000]},\n",
       "             scoring='roc_auc', verbose=10)"
      ]
     },
     "execution_count": 27,
     "metadata": {},
     "output_type": "execute_result"
    }
   ],
   "source": [
    "parameters = {\n",
    "    'criterion': ['gini', 'entropy'],\n",
    "    'min_samples_leaf': [2, 3, 5, 10],\n",
    "    'min_samples_split': [3, 4, 6, 10],\n",
    "    'n_estimators': [500, 1000]\n",
    "}\n",
    "\n",
    "gs = GridSearchCV(estimator = rfc_clf, param_grid = parameters, n_jobs = -1, verbose = 10, cv = 3,\n",
    "                  scoring='roc_auc')\n",
    "gs.fit(X_train, y_train)"
   ]
  },
  {
   "cell_type": "markdown",
   "id": "6909b61f",
   "metadata": {},
   "source": [
    "Najlepsza kombinacja:"
   ]
  },
  {
   "cell_type": "code",
   "execution_count": 28,
   "id": "663388a0",
   "metadata": {},
   "outputs": [
    {
     "data": {
      "text/plain": [
       "{'criterion': 'entropy',\n",
       " 'min_samples_leaf': 3,\n",
       " 'min_samples_split': 10,\n",
       " 'n_estimators': 1000}"
      ]
     },
     "execution_count": 28,
     "metadata": {},
     "output_type": "execute_result"
    }
   ],
   "source": [
    "gs.best_params_"
   ]
  },
  {
   "cell_type": "markdown",
   "id": "edf75a48",
   "metadata": {},
   "source": [
    "Sprawdźmy AUC."
   ]
  },
  {
   "cell_type": "code",
   "execution_count": 29,
   "id": "44d5f540",
   "metadata": {},
   "outputs": [],
   "source": [
    "gs = gs.best_estimator_"
   ]
  },
  {
   "cell_type": "code",
   "execution_count": 30,
   "id": "b063f107",
   "metadata": {},
   "outputs": [],
   "source": [
    "predicted_class = gs.predict(X_test)\n",
    "predicted_prob = gs.predict_proba(X_test)"
   ]
  },
  {
   "cell_type": "code",
   "execution_count": 31,
   "id": "a7d541f6",
   "metadata": {},
   "outputs": [
    {
     "data": {
      "text/plain": [
       "0.8508267230021713"
      ]
     },
     "execution_count": 31,
     "metadata": {},
     "output_type": "execute_result"
    }
   ],
   "source": [
    "roc_auc_score(y_test, predicted_prob[:,1])"
   ]
  },
  {
   "cell_type": "code",
   "execution_count": 32,
   "id": "db7a5bb8",
   "metadata": {},
   "outputs": [
    {
     "data": {
      "text/plain": [
       "0.7800124471813685"
      ]
     },
     "execution_count": 32,
     "metadata": {},
     "output_type": "execute_result"
    }
   ],
   "source": [
    "accuracy_score(y_test, predicted_class)"
   ]
  },
  {
   "cell_type": "markdown",
   "id": "ce5855bd",
   "metadata": {},
   "source": [
    "Wynik nieznacznie gorszy od wyniku uzyskanego przy ręcznym wyborze hiperparametrów."
   ]
  },
  {
   "cell_type": "markdown",
   "id": "bdb1f951",
   "metadata": {},
   "source": [
    "## Optymalizacja bayesowska"
   ]
  },
  {
   "cell_type": "code",
   "execution_count": 33,
   "id": "8ff10c31",
   "metadata": {},
   "outputs": [],
   "source": [
    "rfc_clf = RandomForestClassifier()"
   ]
  },
  {
   "cell_type": "markdown",
   "id": "53ea6187",
   "metadata": {},
   "source": [
    "Wylosujmy 50 przypadków, gdzie możliwe wartości parametrów opisane są poniżej."
   ]
  },
  {
   "cell_type": "code",
   "execution_count": 34,
   "id": "6861b56f",
   "metadata": {
    "scrolled": true
   },
   "outputs": [],
   "source": [
    "search_spaces = {\n",
    "        'criterion': ['gini', 'entropy'],\n",
    "        'min_samples_split': skopt.space.space.Integer(2, 20),\n",
    "        'min_samples_leaf': skopt.space.space.Integer(3, 20),\n",
    "        'n_estimators': skopt.space.space.Integer(100,1500)\n",
    "}"
   ]
  },
  {
   "cell_type": "code",
   "execution_count": 35,
   "id": "7a4f407b",
   "metadata": {
    "scrolled": false
   },
   "outputs": [
    {
     "name": "stdout",
     "output_type": "stream",
     "text": [
      "Fitting 3 folds for each of 1 candidates, totalling 3 fits\n",
      "Fitting 3 folds for each of 1 candidates, totalling 3 fits\n",
      "Fitting 3 folds for each of 1 candidates, totalling 3 fits\n",
      "Fitting 3 folds for each of 1 candidates, totalling 3 fits\n",
      "Fitting 3 folds for each of 1 candidates, totalling 3 fits\n",
      "Fitting 3 folds for each of 1 candidates, totalling 3 fits\n",
      "Fitting 3 folds for each of 1 candidates, totalling 3 fits\n",
      "Fitting 3 folds for each of 1 candidates, totalling 3 fits\n",
      "Fitting 3 folds for each of 1 candidates, totalling 3 fits\n",
      "Fitting 3 folds for each of 1 candidates, totalling 3 fits\n",
      "Fitting 3 folds for each of 1 candidates, totalling 3 fits\n",
      "Fitting 3 folds for each of 1 candidates, totalling 3 fits\n",
      "Fitting 3 folds for each of 1 candidates, totalling 3 fits\n",
      "Fitting 3 folds for each of 1 candidates, totalling 3 fits\n",
      "Fitting 3 folds for each of 1 candidates, totalling 3 fits\n",
      "Fitting 3 folds for each of 1 candidates, totalling 3 fits\n",
      "Fitting 3 folds for each of 1 candidates, totalling 3 fits\n",
      "Fitting 3 folds for each of 1 candidates, totalling 3 fits\n",
      "Fitting 3 folds for each of 1 candidates, totalling 3 fits\n",
      "Fitting 3 folds for each of 1 candidates, totalling 3 fits\n",
      "Fitting 3 folds for each of 1 candidates, totalling 3 fits\n",
      "Fitting 3 folds for each of 1 candidates, totalling 3 fits\n",
      "Fitting 3 folds for each of 1 candidates, totalling 3 fits\n",
      "Fitting 3 folds for each of 1 candidates, totalling 3 fits\n",
      "Fitting 3 folds for each of 1 candidates, totalling 3 fits\n",
      "Fitting 3 folds for each of 1 candidates, totalling 3 fits\n",
      "Fitting 3 folds for each of 1 candidates, totalling 3 fits\n",
      "Fitting 3 folds for each of 1 candidates, totalling 3 fits\n",
      "Fitting 3 folds for each of 1 candidates, totalling 3 fits\n",
      "Fitting 3 folds for each of 1 candidates, totalling 3 fits\n",
      "Fitting 3 folds for each of 1 candidates, totalling 3 fits\n",
      "Fitting 3 folds for each of 1 candidates, totalling 3 fits\n",
      "Fitting 3 folds for each of 1 candidates, totalling 3 fits\n",
      "Fitting 3 folds for each of 1 candidates, totalling 3 fits\n",
      "Fitting 3 folds for each of 1 candidates, totalling 3 fits\n",
      "Fitting 3 folds for each of 1 candidates, totalling 3 fits\n",
      "Fitting 3 folds for each of 1 candidates, totalling 3 fits\n",
      "Fitting 3 folds for each of 1 candidates, totalling 3 fits\n",
      "Fitting 3 folds for each of 1 candidates, totalling 3 fits\n",
      "Fitting 3 folds for each of 1 candidates, totalling 3 fits\n",
      "Fitting 3 folds for each of 1 candidates, totalling 3 fits\n",
      "Fitting 3 folds for each of 1 candidates, totalling 3 fits\n",
      "Fitting 3 folds for each of 1 candidates, totalling 3 fits\n",
      "Fitting 3 folds for each of 1 candidates, totalling 3 fits\n",
      "Fitting 3 folds for each of 1 candidates, totalling 3 fits\n",
      "Fitting 3 folds for each of 1 candidates, totalling 3 fits\n",
      "Fitting 3 folds for each of 1 candidates, totalling 3 fits\n",
      "Fitting 3 folds for each of 1 candidates, totalling 3 fits\n",
      "Fitting 3 folds for each of 1 candidates, totalling 3 fits\n",
      "Fitting 3 folds for each of 1 candidates, totalling 3 fits\n"
     ]
    },
    {
     "data": {
      "text/plain": [
       "BayesSearchCV(cv=3, estimator=RandomForestClassifier(), n_jobs=-1,\n",
       "              scoring='roc_auc',\n",
       "              search_spaces={'criterion': ['gini', 'entropy'],\n",
       "                             'min_samples_leaf': Integer(low=3, high=20, prior='uniform', transform='normalize'),\n",
       "                             'min_samples_split': Integer(low=2, high=20, prior='uniform', transform='normalize'),\n",
       "                             'n_estimators': Integer(low=100, high=1500, prior='uniform', transform='normalize')},\n",
       "              verbose=10)"
      ]
     },
     "execution_count": 35,
     "metadata": {},
     "output_type": "execute_result"
    }
   ],
   "source": [
    "ob = skopt.BayesSearchCV(\n",
    "        estimator=rfc_clf,\n",
    "        search_spaces=search_spaces,\n",
    "        scoring='roc_auc',\n",
    "        n_jobs=-1,\n",
    "        n_iter = 50,\n",
    "        verbose= 10,\n",
    "        cv = 3\n",
    "    )\n",
    "ob.fit(X_train, y_train)"
   ]
  },
  {
   "cell_type": "markdown",
   "id": "2ca9a014",
   "metadata": {},
   "source": [
    "Najlepsze znalezione parametry:"
   ]
  },
  {
   "cell_type": "code",
   "execution_count": 36,
   "id": "26d93322",
   "metadata": {},
   "outputs": [
    {
     "data": {
      "text/plain": [
       "OrderedDict([('criterion', 'entropy'),\n",
       "             ('min_samples_leaf', 3),\n",
       "             ('min_samples_split', 8),\n",
       "             ('n_estimators', 1359)])"
      ]
     },
     "execution_count": 36,
     "metadata": {},
     "output_type": "execute_result"
    }
   ],
   "source": [
    "ob.best_params_"
   ]
  },
  {
   "cell_type": "markdown",
   "id": "ee290612",
   "metadata": {},
   "source": [
    "Sprawdźmy wyniki."
   ]
  },
  {
   "cell_type": "code",
   "execution_count": 37,
   "id": "4dcf61ae",
   "metadata": {},
   "outputs": [],
   "source": [
    "ob = ob.best_estimator_"
   ]
  },
  {
   "cell_type": "code",
   "execution_count": 38,
   "id": "0e526257",
   "metadata": {},
   "outputs": [],
   "source": [
    "predicted_class = ob.predict(X_test)\n",
    "predicted_prob = ob.predict_proba(X_test)"
   ]
  },
  {
   "cell_type": "code",
   "execution_count": 39,
   "id": "ea33af1a",
   "metadata": {},
   "outputs": [
    {
     "data": {
      "text/plain": [
       "0.850817036655483"
      ]
     },
     "execution_count": 39,
     "metadata": {},
     "output_type": "execute_result"
    }
   ],
   "source": [
    "roc_auc_score(y_test, predicted_prob[:,1])"
   ]
  },
  {
   "cell_type": "code",
   "execution_count": 40,
   "id": "1cc5b1ce",
   "metadata": {
    "scrolled": true
   },
   "outputs": [
    {
     "data": {
      "text/plain": [
       "0.779979691440925"
      ]
     },
     "execution_count": 40,
     "metadata": {},
     "output_type": "execute_result"
    }
   ],
   "source": [
    "accuracy_score(y_test, predicted_class)"
   ]
  },
  {
   "cell_type": "markdown",
   "id": "83a52382",
   "metadata": {},
   "source": [
    "Optymalizacja bayesowska uzyskała wynik zbliżony do Grid Searcha."
   ]
  },
  {
   "cell_type": "markdown",
   "id": "7f971012",
   "metadata": {},
   "source": [
    "## Podsumowanie"
   ]
  },
  {
   "cell_type": "markdown",
   "id": "49ad94f1",
   "metadata": {},
   "source": [
    "Wszystkie metody, które zmieniały hiperparametry okazały się byś lepsze niż domyślna funkcja. Najlepiej zadziałał RandomSearch, następnie była ręczna zmiana hiperparametrów, GridSearch i optymalizacja bayesowska. Różnice w wyniku dla sposobów modyfikujących hiperparamtery nie były jednak duże."
   ]
  }
 ],
 "metadata": {
  "kernelspec": {
   "display_name": "Python 3",
   "language": "python",
   "name": "python3"
  },
  "language_info": {
   "codemirror_mode": {
    "name": "ipython",
    "version": 3
   },
   "file_extension": ".py",
   "mimetype": "text/x-python",
   "name": "python",
   "nbconvert_exporter": "python",
   "pygments_lexer": "ipython3",
   "version": "3.8.8"
  }
 },
 "nbformat": 4,
 "nbformat_minor": 5
}
