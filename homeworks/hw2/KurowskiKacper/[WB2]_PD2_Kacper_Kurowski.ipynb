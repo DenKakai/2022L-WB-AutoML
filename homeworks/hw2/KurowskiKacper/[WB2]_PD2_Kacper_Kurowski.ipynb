{
 "cells": [
  {
   "cell_type": "markdown",
   "metadata": {},
   "source": [
    "# [WB2] PD2 Kacper Kurowski\n",
    "\n",
    "Wczytajmy przydatne paczki"
   ]
  },
  {
   "cell_type": "code",
   "execution_count": 80,
   "metadata": {},
   "outputs": [],
   "source": [
    "import pandas as pd\n",
    "import seaborn as sns\n",
    "\n",
    "from sklearn.preprocessing import OneHotEncoder, FunctionTransformer\n",
    "from sklearn.compose import ColumnTransformer\n",
    "\n",
    "from sklearn.ensemble import GradientBoostingClassifier #wybrany model\n",
    "\n",
    "import pandas as pd\n",
    "import numpy as np\n",
    "from sklearn.model_selection import train_test_split\n",
    "from sklearn import metrics\n",
    "\n",
    "from sklearn.model_selection import GridSearchCV\n",
    "\n",
    "from sklearn.model_selection import RandomizedSearchCV\n",
    "from scipy.stats import uniform\n",
    "\n",
    "import scipy, skopt\n",
    "\n",
    "from sklearn.metrics import f1_score"
   ]
  },
  {
   "cell_type": "markdown",
   "metadata": {},
   "source": [
    "## Preprocessing"
   ]
  },
  {
   "cell_type": "markdown",
   "metadata": {},
   "source": [
    "Dokonujemy preprocessing danych. Musiał być częściowo zmieniony względem poprzedniej pracy domowej."
   ]
  },
  {
   "cell_type": "code",
   "execution_count": 2,
   "metadata": {},
   "outputs": [],
   "source": [
    "data = pd.read_csv(\"dataset_diabetes/diabetic_data.csv\")"
   ]
  },
  {
   "cell_type": "code",
   "execution_count": 3,
   "metadata": {},
   "outputs": [],
   "source": [
    "data2 = data.replace('?', pd.NA)"
   ]
  },
  {
   "cell_type": "code",
   "execution_count": 4,
   "metadata": {},
   "outputs": [],
   "source": [
    "data2['race'] = data2['race'].fillna('Unknown')\n",
    "data2['payer_code'] = data2['payer_code'].fillna('Unknown')\n",
    "data2['medical_specialty'] = data2['medical_specialty'].fillna('Unknown')\n",
    "\n",
    "data2['diag_1'] = data2['diag_1'].fillna('Unknown')\n",
    "data2['diag_2'] = data2['diag_2'].fillna('Unknown')\n",
    "data2['diag_3'] = data2['diag_3'].fillna('Unknown')"
   ]
  },
  {
   "cell_type": "code",
   "execution_count": 5,
   "metadata": {},
   "outputs": [],
   "source": [
    "data2['Count_nbr'] = data2.groupby('patient_nbr')['patient_nbr'].transform('count')"
   ]
  },
  {
   "cell_type": "code",
   "execution_count": 6,
   "metadata": {},
   "outputs": [],
   "source": [
    "data2.drop('encounter_id', axis=1, inplace=True)\n",
    "data2.drop('patient_nbr', axis=1, inplace=True)\n",
    "data2.drop('weight', axis=1, inplace=True)"
   ]
  },
  {
   "cell_type": "code",
   "execution_count": 7,
   "metadata": {},
   "outputs": [],
   "source": [
    "dictionary = {\n",
    "    '[0-10)' : 5,\n",
    "    '[10-20)' : 15,\n",
    "    '[20-30)' : 25,\n",
    "    '[30-40)' : 35,\n",
    "    '[40-50)' : 45,\n",
    "    '[50-60)' : 55,\n",
    "    '[60-70)' : 65,\n",
    "    '[70-80)' : 75,\n",
    "    '[80-90)' : 85,\n",
    "    '[90-100)' : 95\n",
    "}"
   ]
  },
  {
   "cell_type": "code",
   "execution_count": 8,
   "metadata": {},
   "outputs": [],
   "source": [
    "data2['age'] = data2['age'].map(dictionary)"
   ]
  },
  {
   "cell_type": "code",
   "execution_count": 10,
   "metadata": {},
   "outputs": [],
   "source": [
    "y_transf = {\n",
    "    'NO' : 0,\n",
    "    '>30': 1,\n",
    "    '<30': 1\n",
    "}"
   ]
  },
  {
   "cell_type": "code",
   "execution_count": 11,
   "metadata": {},
   "outputs": [],
   "source": [
    "data2[\"readmitted\"] = data2[\"readmitted\"].map(y_transf)"
   ]
  },
  {
   "cell_type": "code",
   "execution_count": 16,
   "metadata": {},
   "outputs": [],
   "source": [
    "\n",
    "ohe_columns = data2.select_dtypes(exclude='number').columns.tolist()\n",
    "ohe_columns.extend(['admission_type_id', 'discharge_disposition_id', 'admission_source_id'])\n"
   ]
  },
  {
   "cell_type": "code",
   "execution_count": 20,
   "metadata": {},
   "outputs": [],
   "source": [
    "y = data2[\"readmitted\"]\n",
    "data2.drop(\"readmitted\", inplace=True, axis=1)"
   ]
  },
  {
   "cell_type": "code",
   "execution_count": 21,
   "metadata": {},
   "outputs": [],
   "source": [
    "encoder = ColumnTransformer([\n",
    "        ('one_hot_encoder', OneHotEncoder(drop='first'), ohe_columns),\n",
    "    ],\n",
    "    remainder='passthrough'\n",
    ")\n",
    "X = encoder.fit_transform( data2)"
   ]
  },
  {
   "cell_type": "code",
   "execution_count": 25,
   "metadata": {},
   "outputs": [],
   "source": [
    "X_train, X_test, y_train, y_test = train_test_split(X, y, test_size=0.33, random_state=42)\n"
   ]
  },
  {
   "cell_type": "markdown",
   "metadata": {},
   "source": [
    "## Wytenowane modele"
   ]
  },
  {
   "cell_type": "markdown",
   "metadata": {},
   "source": [
    "### Domyślny GradBoostClass"
   ]
  },
  {
   "cell_type": "code",
   "execution_count": 26,
   "metadata": {},
   "outputs": [
    {
     "data": {
      "text/plain": [
       "GradientBoostingClassifier()"
      ]
     },
     "execution_count": 26,
     "metadata": {},
     "output_type": "execute_result"
    }
   ],
   "source": [
    "gbc_def = GradientBoostingClassifier()\n",
    "gbc_def.fit( X_train, y_train)"
   ]
  },
  {
   "cell_type": "code",
   "execution_count": null,
   "metadata": {},
   "outputs": [],
   "source": [
    "gbc_def_y_pred_proba = gbc_def.predict_proba(X_test)[::,1]\n",
    "gbc_def_y_pred_class = gbc_def.predict(X_test)"
   ]
  },
  {
   "cell_type": "markdown",
   "metadata": {},
   "source": [
    "### GradBoostClass z własnymi hiperparam"
   ]
  },
  {
   "cell_type": "code",
   "execution_count": 27,
   "metadata": {},
   "outputs": [
    {
     "data": {
      "text/plain": [
       "GradientBoostingClassifier(criterion='mse', learning_rate=0.05)"
      ]
     },
     "execution_count": 27,
     "metadata": {},
     "output_type": "execute_result"
    }
   ],
   "source": [
    "\n",
    "gbc_min = GradientBoostingClassifier( criterion='mse', learning_rate=0.05)\n",
    "gbc_min.fit( X_train, y_train)"
   ]
  },
  {
   "cell_type": "code",
   "execution_count": null,
   "metadata": {},
   "outputs": [],
   "source": [
    "gbc_min_y_pred_proba = gbc_min.predict_proba(X_test)[::,1]\n",
    "gbc_min_y_pred_class = gbc_min.predict(X_test)"
   ]
  },
  {
   "cell_type": "markdown",
   "metadata": {},
   "source": [
    "### GradBoostClass z grid search"
   ]
  },
  {
   "cell_type": "code",
   "execution_count": 33,
   "metadata": {},
   "outputs": [],
   "source": [
    "gbc_cv = GradientBoostingClassifier()"
   ]
  },
  {
   "cell_type": "code",
   "execution_count": 34,
   "metadata": {},
   "outputs": [],
   "source": [
    "parameters = {\n",
    "    'criterion':('friedman_mse', 'mse'),\n",
    "    'learning_rate': (0.02, 0.05, 0.1,0.2,0.5 ),\n",
    "    'max_depth': (2,3,4,5)\n",
    "}"
   ]
  },
  {
   "cell_type": "code",
   "execution_count": 35,
   "metadata": {},
   "outputs": [],
   "source": [
    "clf = GridSearchCV( gbc_cv, parameters)"
   ]
  },
  {
   "cell_type": "code",
   "execution_count": 36,
   "metadata": {},
   "outputs": [
    {
     "data": {
      "text/plain": [
       "GridSearchCV(estimator=GradientBoostingClassifier(),\n",
       "             param_grid={'criterion': ('friedman_mse', 'mse'),\n",
       "                         'learning_rate': (0.02, 0.05, 0.1, 0.2, 0.5),\n",
       "                         'max_depth': (2, 3, 4, 5)})"
      ]
     },
     "execution_count": 36,
     "metadata": {},
     "output_type": "execute_result"
    }
   ],
   "source": [
    "clf.fit( X_train, y_train)"
   ]
  },
  {
   "cell_type": "code",
   "execution_count": 64,
   "metadata": {},
   "outputs": [],
   "source": [
    "gbc_gri_y_pred_proba = clf.predict_proba(X_test)[::,1]\n",
    "gbc_gri_y_pred_class = clf.predict(X_test)"
   ]
  },
  {
   "cell_type": "markdown",
   "metadata": {},
   "source": [
    "### GradBoostClass z random search"
   ]
  },
  {
   "cell_type": "code",
   "execution_count": 47,
   "metadata": {},
   "outputs": [],
   "source": [
    "parameters2 = {\n",
    "    'criterion':('friedman_mse', 'mse'),\n",
    "    'learning_rate': uniform(loc=0.02, scale = 0.48),\n",
    "    'max_depth': (2,3,4,5)\n",
    "}"
   ]
  },
  {
   "cell_type": "code",
   "execution_count": 44,
   "metadata": {},
   "outputs": [],
   "source": [
    "rand_gcb = GradientBoostingClassifier()"
   ]
  },
  {
   "cell_type": "code",
   "execution_count": 48,
   "metadata": {},
   "outputs": [],
   "source": [
    "rand_clf = RandomizedSearchCV(rand_gcb, parameters2, random_state=0)\n",
    "search = rand_clf.fit(X_train, y_train)"
   ]
  },
  {
   "cell_type": "code",
   "execution_count": 68,
   "metadata": {},
   "outputs": [],
   "source": [
    "gbc_ran_y_pred_proba = rand_clf.predict_proba(X_test)[::,1]\n",
    "gbc_ran_y_pred_class = rand_clf.predict(X_test)"
   ]
  },
  {
   "cell_type": "markdown",
   "metadata": {},
   "source": [
    "### GradBoostClass z Bayesian"
   ]
  },
  {
   "cell_type": "code",
   "execution_count": 53,
   "metadata": {},
   "outputs": [
    {
     "data": {
      "text/plain": [
       "BayesSearchCV(estimator=GradientBoostingClassifier(), n_iter=10, n_jobs=4,\n",
       "              random_state=1, scoring='roc_auc',\n",
       "              search_spaces={'criterion': ('friedman_mse', 'mse'),\n",
       "                             'learning_rate': (0.02, 0.05, 0.1, 0.2, 0.5),\n",
       "                             'max_depth': (2, 3, 4, 5)})"
      ]
     },
     "execution_count": 53,
     "metadata": {},
     "output_type": "execute_result"
    }
   ],
   "source": [
    "bay_gcb = GradientBoostingClassifier()\n",
    "opt_1 = skopt.BayesSearchCV(\n",
    "        estimator=bay_gcb,\n",
    "        search_spaces=parameters,\n",
    "        scoring='roc_auc',\n",
    "        n_jobs=4,\n",
    "        n_iter=10,\n",
    "        verbose=0,\n",
    "        random_state=1\n",
    "    )\n",
    "opt_1.fit(X_train, y_train)"
   ]
  },
  {
   "cell_type": "code",
   "execution_count": 70,
   "metadata": {},
   "outputs": [],
   "source": [
    "gbc_bay_y_pred_proba = opt_1.predict_proba(X_test)[::,1]\n",
    "gbc_bay_y_pred_class = opt_1.predict(X_test)"
   ]
  },
  {
   "cell_type": "markdown",
   "metadata": {},
   "source": [
    "## Porównanie wyników"
   ]
  },
  {
   "cell_type": "code",
   "execution_count": 71,
   "metadata": {},
   "outputs": [],
   "source": [
    "names = [\n",
    "    \"Default\",\n",
    "    \"Mine\",\n",
    "    \"Grid Search\",\n",
    "    \"Random search\",\n",
    "    \"Bayesian\"\n",
    "]\n",
    "probs = [\n",
    "    gbc_def_y_pred_proba,\n",
    "    gbc_min_y_pred_proba,\n",
    "    gbc_gri_y_pred_proba,\n",
    "    gbc_ran_y_pred_proba,\n",
    "    gbc_bay_y_pred_proba\n",
    "]\n",
    "\n",
    "classes = [\n",
    "    gbc_def_y_pred_class,\n",
    "    gbc_min_y_pred_class,\n",
    "    gbc_gri_y_pred_class,\n",
    "    gbc_ran_y_pred_class,\n",
    "    gbc_bay_y_pred_class\n",
    "]\n"
   ]
  },
  {
   "cell_type": "code",
   "execution_count": 76,
   "metadata": {},
   "outputs": [
    {
     "name": "stdout",
     "output_type": "stream",
     "text": [
      "Wyniki: \n",
      "\n",
      "Default\n",
      "Wartość ROC: 0.8691661762253381\n",
      "Wartość F1: 0.7742492829745325\n",
      "\n",
      "Mine\n",
      "Wartość ROC: 0.8640663938699079\n",
      "Wartość F1: 0.7681063585424425\n",
      "\n",
      "Grid Search\n",
      "Wartość ROC: 0.874859654032675\n",
      "Wartość F1: 0.7768154101995566\n",
      "\n",
      "Random search\n",
      "Wartość ROC: 0.8727821819527614\n",
      "Wartość F1: 0.7786533941656297\n",
      "\n",
      "Bayesian\n",
      "Wartość ROC: 0.8743305068267772\n",
      "Wartość F1: 0.776982417124192\n",
      "\n"
     ]
    }
   ],
   "source": [
    "print( \"Wyniki: \\n\")\n",
    "for i in range(5):\n",
    "    print( names[i])\n",
    "    print(\"Wartość ROC: \" + str(metrics.roc_auc_score(y_test, probs[i])))\n",
    "    print(\"Wartość F1: \" + str(f1_score(y_test, classes[i]))+\"\\n\")\n",
    "    "
   ]
  }
 ],
 "metadata": {
  "kernelspec": {
   "display_name": "Python 3",
   "language": "python",
   "name": "python3"
  },
  "language_info": {
   "codemirror_mode": {
    "name": "ipython",
    "version": 3
   },
   "file_extension": ".py",
   "mimetype": "text/x-python",
   "name": "python",
   "nbconvert_exporter": "python",
   "pygments_lexer": "ipython3",
   "version": "3.8.3"
  }
 },
 "nbformat": 4,
 "nbformat_minor": 4
}
