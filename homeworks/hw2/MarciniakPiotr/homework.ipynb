{
 "cells": [
  {
   "cell_type": "markdown",
   "id": "b64a81d3-0d7b-4a01-bb2a-655a5ef63e30",
   "metadata": {},
   "source": [
    "# Wczytywanie paczek i danych\n",
    "Dane zostały przygotowane w ten sposób, aby macierz eksperymentów była macierzą rzadką. \n",
    "Wynika to z faktu, że po OneHotEncoderze powstało wiele kolumn z duża ilością zer. "
   ]
  },
  {
   "cell_type": "code",
   "execution_count": 1,
   "id": "14c87575-0e33-477b-83c3-cd5fcac5417b",
   "metadata": {
    "tags": []
   },
   "outputs": [],
   "source": [
    "import numpy as np\n",
    "import pandas as pd\n",
    "from xgboost import XGBClassifier\n",
    "from scipy.sparse import load_npz"
   ]
  },
  {
   "cell_type": "code",
   "execution_count": 2,
   "id": "7f11626f-2cb7-4ef3-8b7b-3dc01eeb353a",
   "metadata": {},
   "outputs": [
    {
     "data": {
      "text/plain": [
       "(scipy.sparse.csr.csr_matrix, numpy.ndarray)"
      ]
     },
     "execution_count": 2,
     "metadata": {},
     "output_type": "execute_result"
    }
   ],
   "source": [
    "np.random.seed(321)\n",
    "X = load_npz('data/x.npz')\n",
    "y = np.load('data/y.npy')\n",
    "type(X), type(y)"
   ]
  },
  {
   "cell_type": "markdown",
   "id": "2582884c-97b9-43c2-b642-edf3041c5b08",
   "metadata": {},
   "source": [
    "Poprzednio y został zaenkodowany, w ten sposób, że 0 - 1 tyczyło się tego, czy pacjent ponownie przyjęty przed 30, czy po 30 dniach.\n",
    "Natomiast 2 oznaczała brak ponownego przyjęcia."
   ]
  },
  {
   "cell_type": "code",
   "execution_count": 3,
   "id": "ecf076e2-3eb3-4557-9323-1e8e22bf8218",
   "metadata": {},
   "outputs": [
    {
     "data": {
      "text/plain": [
       "array([0, 1])"
      ]
     },
     "execution_count": 3,
     "metadata": {},
     "output_type": "execute_result"
    }
   ],
   "source": [
    "y = np.where((y == 0) | (y == 1), 1, 0)\n",
    "np.unique(y)"
   ]
  },
  {
   "cell_type": "markdown",
   "id": "840d5e0c-a3c8-47b6-837e-798e56a592c2",
   "metadata": {},
   "source": [
    "W nowym enkodingu 0 oznacza brak ponownego przyjęcia, natomiast 1 ponowne przyjęcie ."
   ]
  },
  {
   "cell_type": "markdown",
   "id": "7d893bad-d127-41d1-9e82-80f6e5ca1bd1",
   "metadata": {},
   "source": [
    "# Default"
   ]
  },
  {
   "cell_type": "code",
   "execution_count": 4,
   "id": "16bd18dd-5453-4af2-8ff6-df9c4cb5460d",
   "metadata": {},
   "outputs": [
    {
     "data": {
      "text/html": [
       "<div>\n",
       "<style scoped>\n",
       "    .dataframe tbody tr th:only-of-type {\n",
       "        vertical-align: middle;\n",
       "    }\n",
       "\n",
       "    .dataframe tbody tr th {\n",
       "        vertical-align: top;\n",
       "    }\n",
       "\n",
       "    .dataframe thead th {\n",
       "        text-align: right;\n",
       "    }\n",
       "</style>\n",
       "<table border=\"1\" class=\"dataframe\">\n",
       "  <thead>\n",
       "    <tr style=\"text-align: right;\">\n",
       "      <th></th>\n",
       "      <th>fit_time</th>\n",
       "      <th>score_time</th>\n",
       "      <th>test_roc_auc</th>\n",
       "      <th>test_f1</th>\n",
       "      <th>test_accuracy</th>\n",
       "    </tr>\n",
       "  </thead>\n",
       "  <tbody>\n",
       "    <tr>\n",
       "      <th>0</th>\n",
       "      <td>3.781112</td>\n",
       "      <td>0.099984</td>\n",
       "      <td>0.685450</td>\n",
       "      <td>0.500264</td>\n",
       "      <td>0.627868</td>\n",
       "    </tr>\n",
       "    <tr>\n",
       "      <th>1</th>\n",
       "      <td>3.536879</td>\n",
       "      <td>0.083776</td>\n",
       "      <td>0.688002</td>\n",
       "      <td>0.544257</td>\n",
       "      <td>0.632683</td>\n",
       "    </tr>\n",
       "    <tr>\n",
       "      <th>2</th>\n",
       "      <td>4.702118</td>\n",
       "      <td>0.077793</td>\n",
       "      <td>0.676557</td>\n",
       "      <td>0.567136</td>\n",
       "      <td>0.620646</td>\n",
       "    </tr>\n",
       "    <tr>\n",
       "      <th>3</th>\n",
       "      <td>4.432848</td>\n",
       "      <td>0.097249</td>\n",
       "      <td>0.702413</td>\n",
       "      <td>0.628700</td>\n",
       "      <td>0.644408</td>\n",
       "    </tr>\n",
       "    <tr>\n",
       "      <th>4</th>\n",
       "      <td>4.238864</td>\n",
       "      <td>0.071316</td>\n",
       "      <td>0.702484</td>\n",
       "      <td>0.625487</td>\n",
       "      <td>0.645489</td>\n",
       "    </tr>\n",
       "  </tbody>\n",
       "</table>\n",
       "</div>"
      ],
      "text/plain": [
       "   fit_time  score_time  test_roc_auc   test_f1  test_accuracy\n",
       "0  3.781112    0.099984      0.685450  0.500264       0.627868\n",
       "1  3.536879    0.083776      0.688002  0.544257       0.632683\n",
       "2  4.702118    0.077793      0.676557  0.567136       0.620646\n",
       "3  4.432848    0.097249      0.702413  0.628700       0.644408\n",
       "4  4.238864    0.071316      0.702484  0.625487       0.645489"
      ]
     },
     "execution_count": 4,
     "metadata": {},
     "output_type": "execute_result"
    }
   ],
   "source": [
    "from sklearn.model_selection import cross_validate\n",
    "\n",
    "metrics = ['roc_auc', 'f1', 'accuracy']\n",
    "cv = 5\n",
    "xgb_default = XGBClassifier(use_label_encoder=False, eval_metric='logloss')\n",
    "score_default = cross_validate(xgb_default, X, y, cv=cv, scoring=metrics)\n",
    "res = pd.DataFrame(score_default)\n",
    "res"
   ]
  },
  {
   "cell_type": "markdown",
   "id": "0e193299-d8a8-4253-ba32-f61ef1b21e0e",
   "metadata": {},
   "source": [
    "## Wyniki"
   ]
  },
  {
   "cell_type": "code",
   "execution_count": 5,
   "id": "72d9ed87-6e00-4586-b750-9bfd95492626",
   "metadata": {},
   "outputs": [
    {
     "data": {
      "text/html": [
       "<div>\n",
       "<style scoped>\n",
       "    .dataframe tbody tr th:only-of-type {\n",
       "        vertical-align: middle;\n",
       "    }\n",
       "\n",
       "    .dataframe tbody tr th {\n",
       "        vertical-align: top;\n",
       "    }\n",
       "\n",
       "    .dataframe thead th {\n",
       "        text-align: right;\n",
       "    }\n",
       "</style>\n",
       "<table border=\"1\" class=\"dataframe\">\n",
       "  <thead>\n",
       "    <tr style=\"text-align: right;\">\n",
       "      <th></th>\n",
       "      <th>fit_time</th>\n",
       "      <th>score_time</th>\n",
       "      <th>test_roc_auc</th>\n",
       "      <th>test_f1</th>\n",
       "      <th>test_accuracy</th>\n",
       "    </tr>\n",
       "  </thead>\n",
       "  <tbody>\n",
       "    <tr>\n",
       "      <th>count</th>\n",
       "      <td>5.000000</td>\n",
       "      <td>5.000000</td>\n",
       "      <td>5.000000</td>\n",
       "      <td>5.000000</td>\n",
       "      <td>5.000000</td>\n",
       "    </tr>\n",
       "    <tr>\n",
       "      <th>mean</th>\n",
       "      <td>4.138364</td>\n",
       "      <td>0.086024</td>\n",
       "      <td>0.690981</td>\n",
       "      <td>0.573169</td>\n",
       "      <td>0.634219</td>\n",
       "    </tr>\n",
       "    <tr>\n",
       "      <th>std</th>\n",
       "      <td>0.475409</td>\n",
       "      <td>0.012349</td>\n",
       "      <td>0.011297</td>\n",
       "      <td>0.054791</td>\n",
       "      <td>0.010698</td>\n",
       "    </tr>\n",
       "    <tr>\n",
       "      <th>min</th>\n",
       "      <td>3.536879</td>\n",
       "      <td>0.071316</td>\n",
       "      <td>0.676557</td>\n",
       "      <td>0.500264</td>\n",
       "      <td>0.620646</td>\n",
       "    </tr>\n",
       "    <tr>\n",
       "      <th>25%</th>\n",
       "      <td>3.781112</td>\n",
       "      <td>0.077793</td>\n",
       "      <td>0.685450</td>\n",
       "      <td>0.544257</td>\n",
       "      <td>0.627868</td>\n",
       "    </tr>\n",
       "    <tr>\n",
       "      <th>50%</th>\n",
       "      <td>4.238864</td>\n",
       "      <td>0.083776</td>\n",
       "      <td>0.688002</td>\n",
       "      <td>0.567136</td>\n",
       "      <td>0.632683</td>\n",
       "    </tr>\n",
       "    <tr>\n",
       "      <th>75%</th>\n",
       "      <td>4.432848</td>\n",
       "      <td>0.097249</td>\n",
       "      <td>0.702413</td>\n",
       "      <td>0.625487</td>\n",
       "      <td>0.644408</td>\n",
       "    </tr>\n",
       "    <tr>\n",
       "      <th>max</th>\n",
       "      <td>4.702118</td>\n",
       "      <td>0.099984</td>\n",
       "      <td>0.702484</td>\n",
       "      <td>0.628700</td>\n",
       "      <td>0.645489</td>\n",
       "    </tr>\n",
       "  </tbody>\n",
       "</table>\n",
       "</div>"
      ],
      "text/plain": [
       "       fit_time  score_time  test_roc_auc   test_f1  test_accuracy\n",
       "count  5.000000    5.000000      5.000000  5.000000       5.000000\n",
       "mean   4.138364    0.086024      0.690981  0.573169       0.634219\n",
       "std    0.475409    0.012349      0.011297  0.054791       0.010698\n",
       "min    3.536879    0.071316      0.676557  0.500264       0.620646\n",
       "25%    3.781112    0.077793      0.685450  0.544257       0.627868\n",
       "50%    4.238864    0.083776      0.688002  0.567136       0.632683\n",
       "75%    4.432848    0.097249      0.702413  0.625487       0.644408\n",
       "max    4.702118    0.099984      0.702484  0.628700       0.645489"
      ]
     },
     "execution_count": 5,
     "metadata": {},
     "output_type": "execute_result"
    }
   ],
   "source": [
    "res.describe()"
   ]
  },
  {
   "cell_type": "markdown",
   "id": "a00fae19-84e4-41d1-88cc-583adcdf91ca",
   "metadata": {},
   "source": [
    "# Ręczna zmiana"
   ]
  },
  {
   "cell_type": "code",
   "execution_count": 6,
   "id": "91ebf70b-cd8c-4e1c-8d6c-274a1d6fc44c",
   "metadata": {},
   "outputs": [
    {
     "data": {
      "text/html": [
       "<div>\n",
       "<style scoped>\n",
       "    .dataframe tbody tr th:only-of-type {\n",
       "        vertical-align: middle;\n",
       "    }\n",
       "\n",
       "    .dataframe tbody tr th {\n",
       "        vertical-align: top;\n",
       "    }\n",
       "\n",
       "    .dataframe thead th {\n",
       "        text-align: right;\n",
       "    }\n",
       "</style>\n",
       "<table border=\"1\" class=\"dataframe\">\n",
       "  <thead>\n",
       "    <tr style=\"text-align: right;\">\n",
       "      <th></th>\n",
       "      <th>fit_time</th>\n",
       "      <th>score_time</th>\n",
       "      <th>test_roc_auc</th>\n",
       "      <th>test_f1</th>\n",
       "      <th>test_accuracy</th>\n",
       "    </tr>\n",
       "  </thead>\n",
       "  <tbody>\n",
       "    <tr>\n",
       "      <th>0</th>\n",
       "      <td>5.078144</td>\n",
       "      <td>0.114693</td>\n",
       "      <td>0.686062</td>\n",
       "      <td>0.502916</td>\n",
       "      <td>0.627328</td>\n",
       "    </tr>\n",
       "    <tr>\n",
       "      <th>1</th>\n",
       "      <td>4.827207</td>\n",
       "      <td>0.104720</td>\n",
       "      <td>0.687109</td>\n",
       "      <td>0.542394</td>\n",
       "      <td>0.632732</td>\n",
       "    </tr>\n",
       "    <tr>\n",
       "      <th>2</th>\n",
       "      <td>4.695625</td>\n",
       "      <td>0.104228</td>\n",
       "      <td>0.680447</td>\n",
       "      <td>0.573923</td>\n",
       "      <td>0.625903</td>\n",
       "    </tr>\n",
       "    <tr>\n",
       "      <th>3</th>\n",
       "      <td>5.287105</td>\n",
       "      <td>0.120677</td>\n",
       "      <td>0.704349</td>\n",
       "      <td>0.631181</td>\n",
       "      <td>0.644900</td>\n",
       "    </tr>\n",
       "    <tr>\n",
       "      <th>4</th>\n",
       "      <td>5.854117</td>\n",
       "      <td>0.175038</td>\n",
       "      <td>0.702415</td>\n",
       "      <td>0.626907</td>\n",
       "      <td>0.645588</td>\n",
       "    </tr>\n",
       "  </tbody>\n",
       "</table>\n",
       "</div>"
      ],
      "text/plain": [
       "   fit_time  score_time  test_roc_auc   test_f1  test_accuracy\n",
       "0  5.078144    0.114693      0.686062  0.502916       0.627328\n",
       "1  4.827207    0.104720      0.687109  0.542394       0.632732\n",
       "2  4.695625    0.104228      0.680447  0.573923       0.625903\n",
       "3  5.287105    0.120677      0.704349  0.631181       0.644900\n",
       "4  5.854117    0.175038      0.702415  0.626907       0.645588"
      ]
     },
     "execution_count": 6,
     "metadata": {},
     "output_type": "execute_result"
    }
   ],
   "source": [
    "xgb = XGBClassifier(eta=0.2, gamma=1.5, max_depth=8, use_label_encoder=False, eval_metric='logloss')\n",
    "score_default = cross_validate(xgb, X, y, cv=cv, scoring=metrics)\n",
    "res = pd.DataFrame(score_default)\n",
    "res"
   ]
  },
  {
   "cell_type": "markdown",
   "id": "c4c392b6-62a3-43e4-a0f1-1c5f5b49d40a",
   "metadata": {},
   "source": [
    "## Wyniki"
   ]
  },
  {
   "cell_type": "code",
   "execution_count": 7,
   "id": "1e343e41-5704-43da-a640-8a801d443f55",
   "metadata": {},
   "outputs": [
    {
     "data": {
      "text/html": [
       "<div>\n",
       "<style scoped>\n",
       "    .dataframe tbody tr th:only-of-type {\n",
       "        vertical-align: middle;\n",
       "    }\n",
       "\n",
       "    .dataframe tbody tr th {\n",
       "        vertical-align: top;\n",
       "    }\n",
       "\n",
       "    .dataframe thead th {\n",
       "        text-align: right;\n",
       "    }\n",
       "</style>\n",
       "<table border=\"1\" class=\"dataframe\">\n",
       "  <thead>\n",
       "    <tr style=\"text-align: right;\">\n",
       "      <th></th>\n",
       "      <th>fit_time</th>\n",
       "      <th>score_time</th>\n",
       "      <th>test_roc_auc</th>\n",
       "      <th>test_f1</th>\n",
       "      <th>test_accuracy</th>\n",
       "    </tr>\n",
       "  </thead>\n",
       "  <tbody>\n",
       "    <tr>\n",
       "      <th>count</th>\n",
       "      <td>5.000000</td>\n",
       "      <td>5.000000</td>\n",
       "      <td>5.000000</td>\n",
       "      <td>5.000000</td>\n",
       "      <td>5.000000</td>\n",
       "    </tr>\n",
       "    <tr>\n",
       "      <th>mean</th>\n",
       "      <td>5.148440</td>\n",
       "      <td>0.123871</td>\n",
       "      <td>0.692077</td>\n",
       "      <td>0.575464</td>\n",
       "      <td>0.635290</td>\n",
       "    </tr>\n",
       "    <tr>\n",
       "      <th>std</th>\n",
       "      <td>0.455626</td>\n",
       "      <td>0.029433</td>\n",
       "      <td>0.010649</td>\n",
       "      <td>0.055023</td>\n",
       "      <td>0.009440</td>\n",
       "    </tr>\n",
       "    <tr>\n",
       "      <th>min</th>\n",
       "      <td>4.695625</td>\n",
       "      <td>0.104228</td>\n",
       "      <td>0.680447</td>\n",
       "      <td>0.502916</td>\n",
       "      <td>0.625903</td>\n",
       "    </tr>\n",
       "    <tr>\n",
       "      <th>25%</th>\n",
       "      <td>4.827207</td>\n",
       "      <td>0.104720</td>\n",
       "      <td>0.686062</td>\n",
       "      <td>0.542394</td>\n",
       "      <td>0.627328</td>\n",
       "    </tr>\n",
       "    <tr>\n",
       "      <th>50%</th>\n",
       "      <td>5.078144</td>\n",
       "      <td>0.114693</td>\n",
       "      <td>0.687109</td>\n",
       "      <td>0.573923</td>\n",
       "      <td>0.632732</td>\n",
       "    </tr>\n",
       "    <tr>\n",
       "      <th>75%</th>\n",
       "      <td>5.287105</td>\n",
       "      <td>0.120677</td>\n",
       "      <td>0.702415</td>\n",
       "      <td>0.626907</td>\n",
       "      <td>0.644900</td>\n",
       "    </tr>\n",
       "    <tr>\n",
       "      <th>max</th>\n",
       "      <td>5.854117</td>\n",
       "      <td>0.175038</td>\n",
       "      <td>0.704349</td>\n",
       "      <td>0.631181</td>\n",
       "      <td>0.645588</td>\n",
       "    </tr>\n",
       "  </tbody>\n",
       "</table>\n",
       "</div>"
      ],
      "text/plain": [
       "       fit_time  score_time  test_roc_auc   test_f1  test_accuracy\n",
       "count  5.000000    5.000000      5.000000  5.000000       5.000000\n",
       "mean   5.148440    0.123871      0.692077  0.575464       0.635290\n",
       "std    0.455626    0.029433      0.010649  0.055023       0.009440\n",
       "min    4.695625    0.104228      0.680447  0.502916       0.625903\n",
       "25%    4.827207    0.104720      0.686062  0.542394       0.627328\n",
       "50%    5.078144    0.114693      0.687109  0.573923       0.632732\n",
       "75%    5.287105    0.120677      0.702415  0.626907       0.644900\n",
       "max    5.854117    0.175038      0.704349  0.631181       0.645588"
      ]
     },
     "execution_count": 7,
     "metadata": {},
     "output_type": "execute_result"
    }
   ],
   "source": [
    "res.describe()"
   ]
  },
  {
   "cell_type": "markdown",
   "id": "b2c0ba55-3672-42d2-b276-799c8551b299",
   "metadata": {},
   "source": [
    "# Grid search"
   ]
  },
  {
   "cell_type": "code",
   "execution_count": 8,
   "id": "3a9c742d-f7a9-4e2b-8a2d-146184306729",
   "metadata": {},
   "outputs": [
    {
     "name": "stderr",
     "output_type": "stream",
     "text": [
      "C:\\Users\\PC-Komputer\\Anaconda3\\lib\\site-packages\\sklearn\\utils\\validation.py:70: FutureWarning: Pass scoring=['roc_auc', 'f1', 'accuracy'] as keyword args. From version 1.0 (renaming of 0.25) passing these as positional arguments will result in an error\n",
      "  warnings.warn(f\"Pass {args_msg} as keyword args. From version \"\n"
     ]
    },
    {
     "data": {
      "text/plain": [
       "GridSearchCV(cv=5,\n",
       "             estimator=XGBClassifier(base_score=None, booster=None,\n",
       "                                     colsample_bylevel=None,\n",
       "                                     colsample_bynode=None,\n",
       "                                     colsample_bytree=None,\n",
       "                                     enable_categorical=False, gamma=None,\n",
       "                                     gpu_id=None, importance_type=None,\n",
       "                                     interaction_constraints=None,\n",
       "                                     learning_rate=None, max_delta_step=None,\n",
       "                                     max_depth=None, min_child_weight=None,\n",
       "                                     missing=nan, monotone_constraints=None,...\n",
       "                                     random_state=None, reg_alpha=None,\n",
       "                                     reg_lambda=None, scale_pos_weight=None,\n",
       "                                     subsample=None, tree_method=None,\n",
       "                                     validate_parameters=None, verbosity=None),\n",
       "             param_grid={'eta': [0.1, 0.4], 'eval_metric': ['logloss'],\n",
       "                         'gamma': [1, 2], 'max_depth': [6, 10],\n",
       "                         'min_child_weight': [0.5, 1], 'subsample': [0.7, 1],\n",
       "                         'use_label_encoder': [False]},\n",
       "             refit='roc_auc', scoring=['roc_auc', 'f1', 'accuracy'])"
      ]
     },
     "execution_count": 8,
     "metadata": {},
     "output_type": "execute_result"
    }
   ],
   "source": [
    "from sklearn.model_selection import GridSearchCV\n",
    "parameters = {\n",
    "    'eta': [0.1, 0.4],\n",
    "    'gamma': [1, 2],\n",
    "    'max_depth': [6, 10],\n",
    "    'min_child_weight': [0.5, 1],\n",
    "    'subsample': [0.7, 1],\n",
    "    'use_label_encoder': [False],\n",
    "    'eval_metric': ['logloss']\n",
    "}\n",
    "\n",
    "gridsearch = GridSearchCV(XGBClassifier(), parameters, metrics, refit='roc_auc', cv=cv)\n",
    "gridsearch.fit(X, y)"
   ]
  },
  {
   "cell_type": "markdown",
   "id": "50b23657-f222-413c-b56f-b72a8a70d764",
   "metadata": {},
   "source": [
    "## Najlepsze parametry  i wyniki"
   ]
  },
  {
   "cell_type": "code",
   "execution_count": 9,
   "id": "f615577a-85a7-4f44-98ad-6222213f58d8",
   "metadata": {},
   "outputs": [
    {
     "data": {
      "text/plain": [
       "{'eta': 0.1,\n",
       " 'eval_metric': 'logloss',\n",
       " 'gamma': 2,\n",
       " 'max_depth': 6,\n",
       " 'min_child_weight': 1,\n",
       " 'subsample': 0.7,\n",
       " 'use_label_encoder': False}"
      ]
     },
     "execution_count": 9,
     "metadata": {},
     "output_type": "execute_result"
    }
   ],
   "source": [
    "gridsearch.best_params_"
   ]
  },
  {
   "cell_type": "code",
   "execution_count": 10,
   "id": "afb05adf-b87d-404e-85a9-ab490c505893",
   "metadata": {
    "tags": []
   },
   "outputs": [
    {
     "data": {
      "text/html": [
       "<div>\n",
       "<style scoped>\n",
       "    .dataframe tbody tr th:only-of-type {\n",
       "        vertical-align: middle;\n",
       "    }\n",
       "\n",
       "    .dataframe tbody tr th {\n",
       "        vertical-align: top;\n",
       "    }\n",
       "\n",
       "    .dataframe thead th {\n",
       "        text-align: right;\n",
       "    }\n",
       "</style>\n",
       "<table border=\"1\" class=\"dataframe\">\n",
       "  <thead>\n",
       "    <tr style=\"text-align: right;\">\n",
       "      <th></th>\n",
       "      <th>mean_test_roc_auc</th>\n",
       "      <th>mean_test_accuracy</th>\n",
       "      <th>mean_test_f1</th>\n",
       "    </tr>\n",
       "  </thead>\n",
       "  <tbody>\n",
       "    <tr>\n",
       "      <th>10</th>\n",
       "      <td>0.693639</td>\n",
       "      <td>0.636833</td>\n",
       "      <td>0.567763</td>\n",
       "    </tr>\n",
       "    <tr>\n",
       "      <th>2</th>\n",
       "      <td>0.693585</td>\n",
       "      <td>0.637177</td>\n",
       "      <td>0.567641</td>\n",
       "    </tr>\n",
       "    <tr>\n",
       "      <th>0</th>\n",
       "      <td>0.693444</td>\n",
       "      <td>0.636489</td>\n",
       "      <td>0.566524</td>\n",
       "    </tr>\n",
       "    <tr>\n",
       "      <th>3</th>\n",
       "      <td>0.693366</td>\n",
       "      <td>0.635683</td>\n",
       "      <td>0.566078</td>\n",
       "    </tr>\n",
       "    <tr>\n",
       "      <th>8</th>\n",
       "      <td>0.693269</td>\n",
       "      <td>0.636332</td>\n",
       "      <td>0.566110</td>\n",
       "    </tr>\n",
       "    <tr>\n",
       "      <th>11</th>\n",
       "      <td>0.693102</td>\n",
       "      <td>0.635555</td>\n",
       "      <td>0.565522</td>\n",
       "    </tr>\n",
       "    <tr>\n",
       "      <th>12</th>\n",
       "      <td>0.693022</td>\n",
       "      <td>0.636794</td>\n",
       "      <td>0.573996</td>\n",
       "    </tr>\n",
       "    <tr>\n",
       "      <th>1</th>\n",
       "      <td>0.692943</td>\n",
       "      <td>0.635899</td>\n",
       "      <td>0.566177</td>\n",
       "    </tr>\n",
       "    <tr>\n",
       "      <th>14</th>\n",
       "      <td>0.692841</td>\n",
       "      <td>0.635300</td>\n",
       "      <td>0.572667</td>\n",
       "    </tr>\n",
       "    <tr>\n",
       "      <th>9</th>\n",
       "      <td>0.692786</td>\n",
       "      <td>0.635349</td>\n",
       "      <td>0.565113</td>\n",
       "    </tr>\n",
       "    <tr>\n",
       "      <th>6</th>\n",
       "      <td>0.692730</td>\n",
       "      <td>0.636469</td>\n",
       "      <td>0.573896</td>\n",
       "    </tr>\n",
       "    <tr>\n",
       "      <th>4</th>\n",
       "      <td>0.692717</td>\n",
       "      <td>0.636263</td>\n",
       "      <td>0.574538</td>\n",
       "    </tr>\n",
       "    <tr>\n",
       "      <th>7</th>\n",
       "      <td>0.692362</td>\n",
       "      <td>0.635339</td>\n",
       "      <td>0.571936</td>\n",
       "    </tr>\n",
       "    <tr>\n",
       "      <th>13</th>\n",
       "      <td>0.692352</td>\n",
       "      <td>0.636597</td>\n",
       "      <td>0.573383</td>\n",
       "    </tr>\n",
       "    <tr>\n",
       "      <th>15</th>\n",
       "      <td>0.692321</td>\n",
       "      <td>0.635113</td>\n",
       "      <td>0.571908</td>\n",
       "    </tr>\n",
       "    <tr>\n",
       "      <th>5</th>\n",
       "      <td>0.691899</td>\n",
       "      <td>0.634858</td>\n",
       "      <td>0.573016</td>\n",
       "    </tr>\n",
       "    <tr>\n",
       "      <th>27</th>\n",
       "      <td>0.689453</td>\n",
       "      <td>0.633777</td>\n",
       "      <td>0.577295</td>\n",
       "    </tr>\n",
       "    <tr>\n",
       "      <th>25</th>\n",
       "      <td>0.689262</td>\n",
       "      <td>0.633472</td>\n",
       "      <td>0.576480</td>\n",
       "    </tr>\n",
       "    <tr>\n",
       "      <th>19</th>\n",
       "      <td>0.688464</td>\n",
       "      <td>0.633354</td>\n",
       "      <td>0.577639</td>\n",
       "    </tr>\n",
       "    <tr>\n",
       "      <th>17</th>\n",
       "      <td>0.688140</td>\n",
       "      <td>0.632617</td>\n",
       "      <td>0.573265</td>\n",
       "    </tr>\n",
       "    <tr>\n",
       "      <th>24</th>\n",
       "      <td>0.684572</td>\n",
       "      <td>0.630966</td>\n",
       "      <td>0.575863</td>\n",
       "    </tr>\n",
       "    <tr>\n",
       "      <th>18</th>\n",
       "      <td>0.683668</td>\n",
       "      <td>0.629748</td>\n",
       "      <td>0.575030</td>\n",
       "    </tr>\n",
       "    <tr>\n",
       "      <th>16</th>\n",
       "      <td>0.683446</td>\n",
       "      <td>0.629699</td>\n",
       "      <td>0.575696</td>\n",
       "    </tr>\n",
       "    <tr>\n",
       "      <th>26</th>\n",
       "      <td>0.683309</td>\n",
       "      <td>0.629620</td>\n",
       "      <td>0.575420</td>\n",
       "    </tr>\n",
       "    <tr>\n",
       "      <th>23</th>\n",
       "      <td>0.677905</td>\n",
       "      <td>0.625119</td>\n",
       "      <td>0.571601</td>\n",
       "    </tr>\n",
       "    <tr>\n",
       "      <th>29</th>\n",
       "      <td>0.677810</td>\n",
       "      <td>0.626593</td>\n",
       "      <td>0.573755</td>\n",
       "    </tr>\n",
       "    <tr>\n",
       "      <th>31</th>\n",
       "      <td>0.677254</td>\n",
       "      <td>0.626583</td>\n",
       "      <td>0.573051</td>\n",
       "    </tr>\n",
       "    <tr>\n",
       "      <th>21</th>\n",
       "      <td>0.676805</td>\n",
       "      <td>0.625552</td>\n",
       "      <td>0.570744</td>\n",
       "    </tr>\n",
       "    <tr>\n",
       "      <th>28</th>\n",
       "      <td>0.671136</td>\n",
       "      <td>0.620216</td>\n",
       "      <td>0.569294</td>\n",
       "    </tr>\n",
       "    <tr>\n",
       "      <th>30</th>\n",
       "      <td>0.670742</td>\n",
       "      <td>0.620383</td>\n",
       "      <td>0.571445</td>\n",
       "    </tr>\n",
       "    <tr>\n",
       "      <th>22</th>\n",
       "      <td>0.670658</td>\n",
       "      <td>0.621031</td>\n",
       "      <td>0.572283</td>\n",
       "    </tr>\n",
       "    <tr>\n",
       "      <th>20</th>\n",
       "      <td>0.666948</td>\n",
       "      <td>0.616934</td>\n",
       "      <td>0.566813</td>\n",
       "    </tr>\n",
       "  </tbody>\n",
       "</table>\n",
       "</div>"
      ],
      "text/plain": [
       "    mean_test_roc_auc  mean_test_accuracy  mean_test_f1\n",
       "10           0.693639            0.636833      0.567763\n",
       "2            0.693585            0.637177      0.567641\n",
       "0            0.693444            0.636489      0.566524\n",
       "3            0.693366            0.635683      0.566078\n",
       "8            0.693269            0.636332      0.566110\n",
       "11           0.693102            0.635555      0.565522\n",
       "12           0.693022            0.636794      0.573996\n",
       "1            0.692943            0.635899      0.566177\n",
       "14           0.692841            0.635300      0.572667\n",
       "9            0.692786            0.635349      0.565113\n",
       "6            0.692730            0.636469      0.573896\n",
       "4            0.692717            0.636263      0.574538\n",
       "7            0.692362            0.635339      0.571936\n",
       "13           0.692352            0.636597      0.573383\n",
       "15           0.692321            0.635113      0.571908\n",
       "5            0.691899            0.634858      0.573016\n",
       "27           0.689453            0.633777      0.577295\n",
       "25           0.689262            0.633472      0.576480\n",
       "19           0.688464            0.633354      0.577639\n",
       "17           0.688140            0.632617      0.573265\n",
       "24           0.684572            0.630966      0.575863\n",
       "18           0.683668            0.629748      0.575030\n",
       "16           0.683446            0.629699      0.575696\n",
       "26           0.683309            0.629620      0.575420\n",
       "23           0.677905            0.625119      0.571601\n",
       "29           0.677810            0.626593      0.573755\n",
       "31           0.677254            0.626583      0.573051\n",
       "21           0.676805            0.625552      0.570744\n",
       "28           0.671136            0.620216      0.569294\n",
       "30           0.670742            0.620383      0.571445\n",
       "22           0.670658            0.621031      0.572283\n",
       "20           0.666948            0.616934      0.566813"
      ]
     },
     "execution_count": 10,
     "metadata": {},
     "output_type": "execute_result"
    }
   ],
   "source": [
    "res = pd.DataFrame(gridsearch.cv_results_)\n",
    "res.sort_values(by='mean_test_roc_auc', ascending=False)[['mean_test_roc_auc', 'mean_test_accuracy', 'mean_test_f1']]"
   ]
  },
  {
   "cell_type": "code",
   "execution_count": 11,
   "id": "5860dd64-fcec-4474-a45d-eb17ea0a9f85",
   "metadata": {},
   "outputs": [
    {
     "data": {
      "text/plain": [
       "0.6936390084278511"
      ]
     },
     "execution_count": 11,
     "metadata": {},
     "output_type": "execute_result"
    }
   ],
   "source": [
    "gridsearch.best_score_"
   ]
  },
  {
   "cell_type": "markdown",
   "id": "0501360b-adde-4332-b9f4-4d6914402d5b",
   "metadata": {},
   "source": [
    "# Randomized search"
   ]
  },
  {
   "cell_type": "code",
   "execution_count": 12,
   "id": "41efcc3a-074b-4b10-b912-5bc8d5a7b4ed",
   "metadata": {},
   "outputs": [],
   "source": [
    "import scipy.stats\n",
    "parameters_dict = {\n",
    "    'eta': scipy.stats.uniform(),\n",
    "    'gamma': scipy.stats.expon(scale=2),\n",
    "    'max_depth': scipy.stats.poisson(loc=2, mu=5),\n",
    "    'min_child_weight': scipy.stats.uniform(loc=0.2, scale=2),\n",
    "    'subsample': scipy.stats.uniform(loc=0.4, scale=0.6),\n",
    "    'use_label_encoder': [False],\n",
    "    'eval_metric': ['logloss']\n",
    "}\n"
   ]
  },
  {
   "cell_type": "code",
   "execution_count": 13,
   "id": "870c7536-49a3-4c70-9f04-932d90c3b48b",
   "metadata": {},
   "outputs": [
    {
     "data": {
      "text/plain": [
       "RandomizedSearchCV(cv=5,\n",
       "                   estimator=XGBClassifier(base_score=None, booster=None,\n",
       "                                           colsample_bylevel=None,\n",
       "                                           colsample_bynode=None,\n",
       "                                           colsample_bytree=None,\n",
       "                                           enable_categorical=False, gamma=None,\n",
       "                                           gpu_id=None, importance_type=None,\n",
       "                                           interaction_constraints=None,\n",
       "                                           learning_rate=None,\n",
       "                                           max_delta_step=None, max_depth=None,\n",
       "                                           min_child_weight=None, missing=nan,\n",
       "                                           monotone_constraints...\n",
       "                                        'gamma': <scipy.stats._distn_infrastructure.rv_frozen object at 0x00000198EEC042B0>,\n",
       "                                        'max_depth': <scipy.stats._distn_infrastructure.rv_frozen object at 0x00000198EEC04D30>,\n",
       "                                        'min_child_weight': <scipy.stats._distn_infrastructure.rv_frozen object at 0x00000198EEB97D60>,\n",
       "                                        'subsample': <scipy.stats._distn_infrastructure.rv_frozen object at 0x00000198EEB979D0>,\n",
       "                                        'use_label_encoder': [False]},\n",
       "                   refit='roc_auc', scoring=['roc_auc', 'f1', 'accuracy'])"
      ]
     },
     "execution_count": 13,
     "metadata": {},
     "output_type": "execute_result"
    }
   ],
   "source": [
    "from sklearn.model_selection import RandomizedSearchCV\n",
    "\n",
    "random_search = RandomizedSearchCV(XGBClassifier(),\n",
    "                                   parameters_dict,\n",
    "                                   n_iter=15,\n",
    "                                   scoring=metrics,\n",
    "                                   cv=cv,\n",
    "                                   refit='roc_auc')\n",
    "random_search.fit(X, y)"
   ]
  },
  {
   "cell_type": "markdown",
   "id": "3947a0d8-ba1a-4790-bf3a-9f08d93f7c86",
   "metadata": {},
   "source": [
    "## Najlepsze parametry  i wyniki"
   ]
  },
  {
   "cell_type": "code",
   "execution_count": 14,
   "id": "c508ab8b-22d6-482a-a3af-e4e6e61d5c92",
   "metadata": {},
   "outputs": [
    {
     "data": {
      "text/plain": [
       "{'eta': 0.18578928224710567,\n",
       " 'eval_metric': 'logloss',\n",
       " 'gamma': 5.241902239056384,\n",
       " 'max_depth': 7,\n",
       " 'min_child_weight': 2.090460476921252,\n",
       " 'subsample': 0.8188008141658946,\n",
       " 'use_label_encoder': False}"
      ]
     },
     "execution_count": 14,
     "metadata": {},
     "output_type": "execute_result"
    }
   ],
   "source": [
    "random_search.best_params_"
   ]
  },
  {
   "cell_type": "code",
   "execution_count": 15,
   "id": "79a29821-e593-41a0-966e-0c41a1fa00a8",
   "metadata": {},
   "outputs": [
    {
     "data": {
      "text/html": [
       "<div>\n",
       "<style scoped>\n",
       "    .dataframe tbody tr th:only-of-type {\n",
       "        vertical-align: middle;\n",
       "    }\n",
       "\n",
       "    .dataframe tbody tr th {\n",
       "        vertical-align: top;\n",
       "    }\n",
       "\n",
       "    .dataframe thead th {\n",
       "        text-align: right;\n",
       "    }\n",
       "</style>\n",
       "<table border=\"1\" class=\"dataframe\">\n",
       "  <thead>\n",
       "    <tr style=\"text-align: right;\">\n",
       "      <th></th>\n",
       "      <th>mean_test_roc_auc</th>\n",
       "      <th>mean_test_accuracy</th>\n",
       "      <th>mean_test_f1</th>\n",
       "    </tr>\n",
       "  </thead>\n",
       "  <tbody>\n",
       "    <tr>\n",
       "      <th>9</th>\n",
       "      <td>0.695282</td>\n",
       "      <td>0.637865</td>\n",
       "      <td>0.575026</td>\n",
       "    </tr>\n",
       "    <tr>\n",
       "      <th>2</th>\n",
       "      <td>0.695128</td>\n",
       "      <td>0.637688</td>\n",
       "      <td>0.569668</td>\n",
       "    </tr>\n",
       "    <tr>\n",
       "      <th>11</th>\n",
       "      <td>0.694413</td>\n",
       "      <td>0.636430</td>\n",
       "      <td>0.568677</td>\n",
       "    </tr>\n",
       "    <tr>\n",
       "      <th>5</th>\n",
       "      <td>0.694307</td>\n",
       "      <td>0.636224</td>\n",
       "      <td>0.568199</td>\n",
       "    </tr>\n",
       "    <tr>\n",
       "      <th>12</th>\n",
       "      <td>0.693608</td>\n",
       "      <td>0.636538</td>\n",
       "      <td>0.572562</td>\n",
       "    </tr>\n",
       "    <tr>\n",
       "      <th>10</th>\n",
       "      <td>0.684113</td>\n",
       "      <td>0.630671</td>\n",
       "      <td>0.574304</td>\n",
       "    </tr>\n",
       "    <tr>\n",
       "      <th>4</th>\n",
       "      <td>0.683699</td>\n",
       "      <td>0.630475</td>\n",
       "      <td>0.577110</td>\n",
       "    </tr>\n",
       "    <tr>\n",
       "      <th>1</th>\n",
       "      <td>0.682123</td>\n",
       "      <td>0.627733</td>\n",
       "      <td>0.573198</td>\n",
       "    </tr>\n",
       "    <tr>\n",
       "      <th>13</th>\n",
       "      <td>0.678541</td>\n",
       "      <td>0.625915</td>\n",
       "      <td>0.572993</td>\n",
       "    </tr>\n",
       "    <tr>\n",
       "      <th>6</th>\n",
       "      <td>0.677432</td>\n",
       "      <td>0.626986</td>\n",
       "      <td>0.546774</td>\n",
       "    </tr>\n",
       "    <tr>\n",
       "      <th>3</th>\n",
       "      <td>0.674703</td>\n",
       "      <td>0.622928</td>\n",
       "      <td>0.571705</td>\n",
       "    </tr>\n",
       "    <tr>\n",
       "      <th>8</th>\n",
       "      <td>0.674383</td>\n",
       "      <td>0.623154</td>\n",
       "      <td>0.571117</td>\n",
       "    </tr>\n",
       "    <tr>\n",
       "      <th>14</th>\n",
       "      <td>0.659181</td>\n",
       "      <td>0.614261</td>\n",
       "      <td>0.561405</td>\n",
       "    </tr>\n",
       "    <tr>\n",
       "      <th>7</th>\n",
       "      <td>0.646582</td>\n",
       "      <td>0.604021</td>\n",
       "      <td>0.555632</td>\n",
       "    </tr>\n",
       "    <tr>\n",
       "      <th>0</th>\n",
       "      <td>0.625750</td>\n",
       "      <td>0.588672</td>\n",
       "      <td>0.543750</td>\n",
       "    </tr>\n",
       "  </tbody>\n",
       "</table>\n",
       "</div>"
      ],
      "text/plain": [
       "    mean_test_roc_auc  mean_test_accuracy  mean_test_f1\n",
       "9            0.695282            0.637865      0.575026\n",
       "2            0.695128            0.637688      0.569668\n",
       "11           0.694413            0.636430      0.568677\n",
       "5            0.694307            0.636224      0.568199\n",
       "12           0.693608            0.636538      0.572562\n",
       "10           0.684113            0.630671      0.574304\n",
       "4            0.683699            0.630475      0.577110\n",
       "1            0.682123            0.627733      0.573198\n",
       "13           0.678541            0.625915      0.572993\n",
       "6            0.677432            0.626986      0.546774\n",
       "3            0.674703            0.622928      0.571705\n",
       "8            0.674383            0.623154      0.571117\n",
       "14           0.659181            0.614261      0.561405\n",
       "7            0.646582            0.604021      0.555632\n",
       "0            0.625750            0.588672      0.543750"
      ]
     },
     "execution_count": 15,
     "metadata": {},
     "output_type": "execute_result"
    }
   ],
   "source": [
    "res = pd.DataFrame(random_search.cv_results_)\n",
    "res.sort_values(by='mean_test_roc_auc', ascending=False)[['mean_test_roc_auc', 'mean_test_accuracy', 'mean_test_f1']]"
   ]
  },
  {
   "cell_type": "code",
   "execution_count": 16,
   "id": "57d82775-d871-44a0-a7b0-ac1f2c0174f3",
   "metadata": {},
   "outputs": [
    {
     "data": {
      "text/plain": [
       "0.6952823219899329"
      ]
     },
     "execution_count": 16,
     "metadata": {},
     "output_type": "execute_result"
    }
   ],
   "source": [
    "random_search.best_score_"
   ]
  },
  {
   "cell_type": "markdown",
   "id": "c7f2661f-42c0-43dc-bd16-03ebbb5b3914",
   "metadata": {},
   "source": [
    "# Bayesian search"
   ]
  },
  {
   "cell_type": "code",
   "execution_count": 17,
   "id": "7ec19218-fd72-4454-9470-3dc46ad11a3a",
   "metadata": {},
   "outputs": [],
   "source": [
    "import skopt\n",
    "search_spaces = {\n",
    "    'eta': skopt.space.space.Real(0.1, 1),\n",
    "    'gamma': skopt.space.space.Real(0.5, 6),\n",
    "    'max_depth': skopt.space.space.Integer(2, 15),\n",
    "    'min_child_weight': skopt.space.space.Real(0.5, 6),\n",
    "    'subsample': skopt.space.space.Real(0.4, 1),\n",
    "    'use_label_encoder': [False],\n",
    "    'eval_metric': ['logloss']\n",
    "}"
   ]
  },
  {
   "cell_type": "code",
   "execution_count": 18,
   "id": "d3379277-ac37-4fca-85fd-96ada655f7a5",
   "metadata": {},
   "outputs": [
    {
     "data": {
      "text/plain": [
       "BayesSearchCV(cv=5,\n",
       "              estimator=XGBClassifier(base_score=None, booster=None,\n",
       "                                      colsample_bylevel=None,\n",
       "                                      colsample_bynode=None,\n",
       "                                      colsample_bytree=None,\n",
       "                                      enable_categorical=False, gamma=None,\n",
       "                                      gpu_id=None, importance_type=None,\n",
       "                                      interaction_constraints=None,\n",
       "                                      learning_rate=None, max_delta_step=None,\n",
       "                                      max_depth=None, min_child_weight=None,\n",
       "                                      missing=nan, monotone_constraints=None...\n",
       "              search_spaces={'eta': Real(low=0.1, high=1, prior='uniform', transform='normalize'),\n",
       "                             'eval_metric': ['logloss'],\n",
       "                             'gamma': Real(low=0.5, high=6, prior='uniform', transform='normalize'),\n",
       "                             'max_depth': Integer(low=2, high=15, prior='uniform', transform='normalize'),\n",
       "                             'min_child_weight': Real(low=0.5, high=6, prior='uniform', transform='normalize'),\n",
       "                             'subsample': Real(low=0.4, high=1, prior='uniform', transform='normalize'),\n",
       "                             'use_label_encoder': [False]})"
      ]
     },
     "execution_count": 18,
     "metadata": {},
     "output_type": "execute_result"
    }
   ],
   "source": [
    "opt = skopt.BayesSearchCV(\n",
    "        estimator=XGBClassifier(),\n",
    "        search_spaces=search_spaces,\n",
    "        scoring='roc_auc',\n",
    "        n_iter=15,\n",
    "        verbose=0,\n",
    "        cv=cv\n",
    ")\n",
    "opt.fit(X, y)"
   ]
  },
  {
   "cell_type": "markdown",
   "id": "73a13198-6dc6-4897-9854-2460cfcac96a",
   "metadata": {},
   "source": [
    "## Najlepsze parametry  i wyniki"
   ]
  },
  {
   "cell_type": "code",
   "execution_count": 19,
   "id": "3a381c10-5b08-40e7-8244-a720fdecff4b",
   "metadata": {},
   "outputs": [
    {
     "data": {
      "text/plain": [
       "OrderedDict([('eta', 0.1),\n",
       "             ('eval_metric', 'logloss'),\n",
       "             ('gamma', 6.0),\n",
       "             ('max_depth', 9),\n",
       "             ('min_child_weight', 0.601287375759972),\n",
       "             ('subsample', 0.5567221893212329),\n",
       "             ('use_label_encoder', False)])"
      ]
     },
     "execution_count": 19,
     "metadata": {},
     "output_type": "execute_result"
    }
   ],
   "source": [
    "opt.best_params_"
   ]
  },
  {
   "cell_type": "code",
   "execution_count": 20,
   "id": "fd0eaaa5-befe-4b9f-aa42-2a3de43444b7",
   "metadata": {},
   "outputs": [
    {
     "data": {
      "text/plain": [
       "0.6955181467398923"
      ]
     },
     "execution_count": 20,
     "metadata": {},
     "output_type": "execute_result"
    }
   ],
   "source": [
    "opt.best_score_"
   ]
  },
  {
   "cell_type": "code",
   "execution_count": null,
   "id": "b28f6696-e752-428b-8ca1-c2d8a0841118",
   "metadata": {},
   "outputs": [],
   "source": [
    "score_default = cross_validate(opt.best_estimator_, X, y, cv=cv, scoring=metrics)\n",
    "pd.DataFrame(score_default).describe()"
   ]
  },
  {
   "cell_type": "markdown",
   "id": "0e8fc33e-e718-4ba5-af1d-421d40450dc0",
   "metadata": {},
   "source": [
    "# Podsumowanie\n",
    "Jak widzimy wraz z kolejnymi etapami dostawaliśmy lepsze wyniki. Jednak różnica pomiędzy wynikami była niewielka, ponieważ wyniki wachały się w zakresie\n",
    "$0.69 - 0.6955$."
   ]
  }
 ],
 "metadata": {
  "kernelspec": {
   "display_name": "Python 3",
   "language": "python",
   "name": "python3"
  },
  "language_info": {
   "codemirror_mode": {
    "name": "ipython",
    "version": 3
   },
   "file_extension": ".py",
   "mimetype": "text/x-python",
   "name": "python",
   "nbconvert_exporter": "python",
   "pygments_lexer": "ipython3",
   "version": "3.8.8"
  }
 },
 "nbformat": 4,
 "nbformat_minor": 5
}
