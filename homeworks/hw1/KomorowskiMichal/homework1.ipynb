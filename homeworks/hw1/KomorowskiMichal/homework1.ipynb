{
 "cells":[
  {
   "cell_type":"code",
   "source":[
    "import pandas as pd\n",
    "import numpy as np\n",
    "\n",
    "import seaborn as sns\n",
    "from matplotlib import pyplot as plt\n",
    "\n",
    "from sklearn.compose import make_column_transformer\n",
    "from sklearn.preprocessing import OneHotEncoder, OrdinalEncoder"
   ],
   "execution_count":14,
   "outputs":[
    
   ],
   "metadata":{
    "datalore":{
     "type":"CODE",
     "hide_input_from_viewers":false,
     "hide_output_from_viewers":false,
     "node_id":"Gbp5l0CAC9mp2h5JtYv19Q"
    }
   }
  },
  {
   "cell_type":"code",
   "source":[
    "df = pd.read_csv('diabetic_data.csv', na_values='?')\n",
    "\n",
    "df.head()"
   ],
   "execution_count":28,
   "outputs":[
    {
     "name":"stderr",
     "text":[
      "\/opt\/python\/envs\/default\/lib\/python3.8\/site-packages\/IPython\/core\/interactiveshell.py:3457: DtypeWarning: Columns (10) have mixed types.Specify dtype option on import or set low_memory=False.\n",
      "  exec(code_obj, self.user_global_ns, self.user_ns)\n"
     ],
     "output_type":"stream"
    },
    {
     "data":{
      "text\/html":[
       "<div>\n",
       "<style scoped>\n",
       "    .dataframe tbody tr th:only-of-type {\n",
       "        vertical-align: middle;\n",
       "    }\n",
       "\n",
       "    .dataframe tbody tr th {\n",
       "        vertical-align: top;\n",
       "    }\n",
       "\n",
       "    .dataframe thead th {\n",
       "        text-align: right;\n",
       "    }\n",
       "<\/style>\n",
       "<table border=\"1\" class=\"dataframe\">\n",
       "  <thead>\n",
       "    <tr style=\"text-align: right;\">\n",
       "      <th><\/th>\n",
       "      <th>encounter_id<\/th>\n",
       "      <th>patient_nbr<\/th>\n",
       "      <th>race<\/th>\n",
       "      <th>gender<\/th>\n",
       "      <th>age<\/th>\n",
       "      <th>weight<\/th>\n",
       "      <th>admission_type_id<\/th>\n",
       "      <th>discharge_disposition_id<\/th>\n",
       "      <th>admission_source_id<\/th>\n",
       "      <th>time_in_hospital<\/th>\n",
       "      <th>...<\/th>\n",
       "      <th>citoglipton<\/th>\n",
       "      <th>insulin<\/th>\n",
       "      <th>glyburide-metformin<\/th>\n",
       "      <th>glipizide-metformin<\/th>\n",
       "      <th>glimepiride-pioglitazone<\/th>\n",
       "      <th>metformin-rosiglitazone<\/th>\n",
       "      <th>metformin-pioglitazone<\/th>\n",
       "      <th>change<\/th>\n",
       "      <th>diabetesMed<\/th>\n",
       "      <th>readmitted<\/th>\n",
       "    <\/tr>\n",
       "  <\/thead>\n",
       "  <tbody>\n",
       "    <tr>\n",
       "      <th>0<\/th>\n",
       "      <td>2278392<\/td>\n",
       "      <td>8222157<\/td>\n",
       "      <td>Caucasian<\/td>\n",
       "      <td>Female<\/td>\n",
       "      <td>[0-10)<\/td>\n",
       "      <td>NaN<\/td>\n",
       "      <td>6<\/td>\n",
       "      <td>25<\/td>\n",
       "      <td>1<\/td>\n",
       "      <td>1<\/td>\n",
       "      <td>...<\/td>\n",
       "      <td>No<\/td>\n",
       "      <td>No<\/td>\n",
       "      <td>No<\/td>\n",
       "      <td>No<\/td>\n",
       "      <td>No<\/td>\n",
       "      <td>No<\/td>\n",
       "      <td>No<\/td>\n",
       "      <td>No<\/td>\n",
       "      <td>No<\/td>\n",
       "      <td>NO<\/td>\n",
       "    <\/tr>\n",
       "    <tr>\n",
       "      <th>1<\/th>\n",
       "      <td>149190<\/td>\n",
       "      <td>55629189<\/td>\n",
       "      <td>Caucasian<\/td>\n",
       "      <td>Female<\/td>\n",
       "      <td>[10-20)<\/td>\n",
       "      <td>NaN<\/td>\n",
       "      <td>1<\/td>\n",
       "      <td>1<\/td>\n",
       "      <td>7<\/td>\n",
       "      <td>3<\/td>\n",
       "      <td>...<\/td>\n",
       "      <td>No<\/td>\n",
       "      <td>Up<\/td>\n",
       "      <td>No<\/td>\n",
       "      <td>No<\/td>\n",
       "      <td>No<\/td>\n",
       "      <td>No<\/td>\n",
       "      <td>No<\/td>\n",
       "      <td>Ch<\/td>\n",
       "      <td>Yes<\/td>\n",
       "      <td>&gt;30<\/td>\n",
       "    <\/tr>\n",
       "    <tr>\n",
       "      <th>2<\/th>\n",
       "      <td>64410<\/td>\n",
       "      <td>86047875<\/td>\n",
       "      <td>AfricanAmerican<\/td>\n",
       "      <td>Female<\/td>\n",
       "      <td>[20-30)<\/td>\n",
       "      <td>NaN<\/td>\n",
       "      <td>1<\/td>\n",
       "      <td>1<\/td>\n",
       "      <td>7<\/td>\n",
       "      <td>2<\/td>\n",
       "      <td>...<\/td>\n",
       "      <td>No<\/td>\n",
       "      <td>No<\/td>\n",
       "      <td>No<\/td>\n",
       "      <td>No<\/td>\n",
       "      <td>No<\/td>\n",
       "      <td>No<\/td>\n",
       "      <td>No<\/td>\n",
       "      <td>No<\/td>\n",
       "      <td>Yes<\/td>\n",
       "      <td>NO<\/td>\n",
       "    <\/tr>\n",
       "    <tr>\n",
       "      <th>3<\/th>\n",
       "      <td>500364<\/td>\n",
       "      <td>82442376<\/td>\n",
       "      <td>Caucasian<\/td>\n",
       "      <td>Male<\/td>\n",
       "      <td>[30-40)<\/td>\n",
       "      <td>NaN<\/td>\n",
       "      <td>1<\/td>\n",
       "      <td>1<\/td>\n",
       "      <td>7<\/td>\n",
       "      <td>2<\/td>\n",
       "      <td>...<\/td>\n",
       "      <td>No<\/td>\n",
       "      <td>Up<\/td>\n",
       "      <td>No<\/td>\n",
       "      <td>No<\/td>\n",
       "      <td>No<\/td>\n",
       "      <td>No<\/td>\n",
       "      <td>No<\/td>\n",
       "      <td>Ch<\/td>\n",
       "      <td>Yes<\/td>\n",
       "      <td>NO<\/td>\n",
       "    <\/tr>\n",
       "    <tr>\n",
       "      <th>4<\/th>\n",
       "      <td>16680<\/td>\n",
       "      <td>42519267<\/td>\n",
       "      <td>Caucasian<\/td>\n",
       "      <td>Male<\/td>\n",
       "      <td>[40-50)<\/td>\n",
       "      <td>NaN<\/td>\n",
       "      <td>1<\/td>\n",
       "      <td>1<\/td>\n",
       "      <td>7<\/td>\n",
       "      <td>1<\/td>\n",
       "      <td>...<\/td>\n",
       "      <td>No<\/td>\n",
       "      <td>Steady<\/td>\n",
       "      <td>No<\/td>\n",
       "      <td>No<\/td>\n",
       "      <td>No<\/td>\n",
       "      <td>No<\/td>\n",
       "      <td>No<\/td>\n",
       "      <td>Ch<\/td>\n",
       "      <td>Yes<\/td>\n",
       "      <td>NO<\/td>\n",
       "    <\/tr>\n",
       "  <\/tbody>\n",
       "<\/table>\n",
       "<p>5 rows × 50 columns<\/p>\n",
       "<\/div>"
      ]
     },
     "metadata":{
      
     },
     "output_type":"display_data"
    }
   ],
   "metadata":{
    "datalore":{
     "type":"CODE",
     "hide_input_from_viewers":false,
     "hide_output_from_viewers":false,
     "node_id":"XTxsgn9vkDXAfXBiv4YDeo"
    }
   }
  },
  {
   "cell_type":"markdown",
   "source":[
    "#### Identyfikacja kolumn"
   ],
   "attachments":{
    
   },
   "metadata":{
    "datalore":{
     "type":"MD",
     "hide_input_from_viewers":false,
     "hide_output_from_viewers":false,
     "node_id":"stSWxzkXdG7WNocMAPjc6D"
    }
   }
  },
  {
   "cell_type":"markdown",
   "source":[
    "Zmienną objaśnianą jest `readmitted` - ilość dni, która upłyneła do ponownego przyjęcia do szpitala.\\\n",
    "Klasy nie są zbalansowane, więc prawdopodobnie użyta będzie inna metryka niż accuracy."
   ],
   "attachments":{
    
   },
   "metadata":{
    "datalore":{
     "type":"MD",
     "hide_input_from_viewers":false,
     "hide_output_from_viewers":false,
     "node_id":"sOxLxWHdaOlP5BUwnAFWHA"
    }
   }
  },
  {
   "cell_type":"code",
   "source":[
    "df.readmitted.value_counts()"
   ],
   "execution_count":4,
   "outputs":[
    {
     "data":{
      "text\/html":[
       
      ]
     },
     "metadata":{
      
     },
     "output_type":"display_data"
    }
   ],
   "metadata":{
    "datalore":{
     "type":"CODE",
     "hide_input_from_viewers":false,
     "hide_output_from_viewers":false,
     "node_id":"P8vi96xCFZHSUExRzIvChZ"
    }
   }
  },
  {
   "cell_type":"markdown",
   "source":[
    "Pierwsze dwie kolumny czyli `encounter_id` i `patient_nbr` są identyfikatorami, więc nie są zmiennymi objaśniającymi."
   ],
   "attachments":{
    
   },
   "metadata":{
    "datalore":{
     "type":"MD",
     "hide_input_from_viewers":false,
     "hide_output_from_viewers":false,
     "node_id":"ND6jr7lyBxzu7a9Gf6nCWj"
    }
   }
  },
  {
   "cell_type":"code",
   "source":[
    "df.drop(['encounter_id', 'patient_nbr'], axis=1, inplace=True)"
   ],
   "execution_count":29,
   "outputs":[
    
   ],
   "metadata":{
    "datalore":{
     "type":"CODE",
     "hide_input_from_viewers":false,
     "hide_output_from_viewers":false,
     "node_id":"ph8N58vEOvNu983bvnGV4K"
    }
   }
  },
  {
   "cell_type":"markdown",
   "source":[
    "#### Braki danych "
   ],
   "attachments":{
    
   },
   "metadata":{
    "datalore":{
     "type":"MD",
     "hide_input_from_viewers":false,
     "hide_output_from_viewers":false,
     "node_id":"RfMbzgpk3EOBwyOAjfcEtT"
    }
   }
  },
  {
   "cell_type":"code",
   "source":[
    "na_count = df.isnull().sum(axis = 0) \/ df.shape[0]\n",
    "na_count[na_count > 0]"
   ],
   "execution_count":6,
   "outputs":[
    {
     "data":{
      "text\/html":[
       
      ]
     },
     "metadata":{
      
     },
     "output_type":"display_data"
    }
   ],
   "metadata":{
    "datalore":{
     "type":"CODE",
     "hide_input_from_viewers":false,
     "hide_output_from_viewers":false,
     "node_id":"C4TAb7ZSdpn6o8psZ4DKGg"
    }
   }
  },
  {
   "cell_type":"markdown",
   "source":[
    "W zmiennej `weight`, `payer_code` oraz `medical_speciality` brakuje zbyt dużo obserwacji, zatem imputacja nie ma tutaj sensu i lepiej usunąć te zmienne. "
   ],
   "attachments":{
    
   },
   "metadata":{
    "datalore":{
     "type":"MD",
     "hide_input_from_viewers":false,
     "hide_output_from_viewers":false,
     "node_id":"5OArZLuG2gSVzEndWBm1zE"
    }
   }
  },
  {
   "cell_type":"code",
   "source":[
    "df.drop(['weight', 'payer_code', 'medical_specialty'], axis=1, inplace=True)"
   ],
   "execution_count":30,
   "outputs":[
    
   ],
   "metadata":{
    "datalore":{
     "type":"CODE",
     "hide_input_from_viewers":false,
     "hide_output_from_viewers":false,
     "node_id":"o3zzUfHilGyu0v3MFuBuCr"
    }
   }
  },
  {
   "cell_type":"markdown",
   "source":[
    "W zmiennych `race`, `diag_1`, `diag_2` oraz `diag_3` nie brakuje dużo obserwacji, zatem usuwając brakujące wiersze nie stracimy dużo informacji."
   ],
   "attachments":{
    
   },
   "metadata":{
    "datalore":{
     "type":"MD",
     "hide_input_from_viewers":false,
     "hide_output_from_viewers":false,
     "node_id":"4OJo9dbKe8r1M4zsCJpbW7"
    }
   }
  },
  {
   "cell_type":"code",
   "source":[
    "df.shape[0]"
   ],
   "execution_count":8,
   "outputs":[
    {
     "data":{
      "text\/plain":[
       "101766"
      ]
     },
     "metadata":{
      
     },
     "output_type":"display_data"
    }
   ],
   "metadata":{
    "datalore":{
     "type":"CODE",
     "hide_input_from_viewers":false,
     "hide_output_from_viewers":false,
     "node_id":"nHvOZ8ob4HDnLeBwssJ15o"
    }
   }
  },
  {
   "cell_type":"code",
   "source":[
    "df = df[ df['race'].notna() ]\n",
    "df = df[ df['diag_1'].notna() ]\n",
    "df = df[ df['diag_2'].notna() ]\n",
    "df = df[ df['diag_3'].notna() ]"
   ],
   "execution_count":9,
   "outputs":[
    
   ],
   "metadata":{
    "datalore":{
     "type":"CODE",
     "hide_input_from_viewers":false,
     "hide_output_from_viewers":false,
     "node_id":"b9C53zkNUjP83nBBIAtSkl"
    }
   }
  },
  {
   "cell_type":"code",
   "source":[
    "df.shape[0]"
   ],
   "execution_count":10,
   "outputs":[
    {
     "data":{
      "text\/plain":[
       "98053"
      ]
     },
     "metadata":{
      
     },
     "output_type":"display_data"
    }
   ],
   "metadata":{
    "datalore":{
     "type":"CODE",
     "hide_input_from_viewers":false,
     "hide_output_from_viewers":false,
     "node_id":"mcmBK4Z217B7kHrhhCHR25"
    }
   }
  },
  {
   "cell_type":"code",
   "source":[
    "na_count = df.isnull().sum(axis = 0) \/ df.shape[0]\n",
    "na_count[na_count > 0].shape[0]"
   ],
   "execution_count":11,
   "outputs":[
    {
     "data":{
      "text\/plain":[
       "0"
      ]
     },
     "metadata":{
      
     },
     "output_type":"display_data"
    }
   ],
   "metadata":{
    "datalore":{
     "type":"CODE",
     "hide_input_from_viewers":false,
     "hide_output_from_viewers":false,
     "node_id":"CcN8yd55cR5Mbkm4O5i1Tg"
    }
   }
  },
  {
   "cell_type":"markdown",
   "source":[
    "#### Korelacje"
   ],
   "attachments":{
    
   },
   "metadata":{
    "datalore":{
     "type":"MD",
     "hide_input_from_viewers":false,
     "hide_output_from_viewers":false,
     "node_id":"qtEAMwGAlYoLU6SW7K9oMJ"
    }
   }
  },
  {
   "cell_type":"code",
   "source":[
    "c = df.corr()\n",
    "mask = np.triu(np.ones_like(c, dtype=bool))\n",
    "\n",
    "plt.figure(figsize=(10, 6))\n",
    "sns.heatmap(c, mask=mask, annot=True, vmin=-1, vmax=1, cmap=\"seismic\")\n",
    "plt.show()"
   ],
   "execution_count":21,
   "outputs":[
    {
     "data":{
      "image\/png":"[encoded data removed]"
     },
     "metadata":{
      "image\/png":{
       
      }
     },
     "output_type":"display_data"
    }
   ],
   "metadata":{
    "datalore":{
     "type":"CODE",
     "hide_input_from_viewers":false,
     "hide_output_from_viewers":false,
     "node_id":"kRf6IZWT1MAQIZdFmRaFqL"
    }
   }
  },
  {
   "cell_type":"markdown",
   "source":[
    
   ],
   "attachments":{
    
   },
   "metadata":{
    "datalore":{
     "type":"MD",
     "hide_input_from_viewers":false,
     "hide_output_from_viewers":false,
     "node_id":"xF2spL7RM6BAGIIWjJrpqp"
    }
   }
  },
  {
   "cell_type":"markdown",
   "source":[
    "#### Encoding zmiennych"
   ],
   "attachments":{
    
   },
   "metadata":{
    "datalore":{
     "type":"MD",
     "hide_input_from_viewers":false,
     "hide_output_from_viewers":false,
     "node_id":"nInO9LHWddCKAUovfMuVtP"
    }
   }
  },
  {
   "cell_type":"code",
   "source":[
    "df.info()"
   ],
   "execution_count":22,
   "outputs":[
    {
     "name":"stdout",
     "text":[
      "<class 'pandas.core.frame.DataFrame'>\n",
      "Int64Index: 98053 entries, 1 to 101765\n",
      "Data columns (total 45 columns):\n",
      " #   Column                    Non-Null Count  Dtype \n",
      "---  ------                    --------------  ----- \n",
      " 0   race                      98053 non-null  object\n",
      " 1   gender                    98053 non-null  object\n",
      " 2   age                       98053 non-null  object\n",
      " 3   admission_type_id         98053 non-null  int64 \n",
      " 4   discharge_disposition_id  98053 non-null  int64 \n",
      " 5   admission_source_id       98053 non-null  int64 \n",
      " 6   time_in_hospital          98053 non-null  int64 \n",
      " 7   num_lab_procedures        98053 non-null  int64 \n",
      " 8   num_procedures            98053 non-null  int64 \n",
      " 9   num_medications           98053 non-null  int64 \n",
      " 10  number_outpatient         98053 non-null  int64 \n",
      " 11  number_emergency          98053 non-null  int64 \n",
      " 12  number_inpatient          98053 non-null  int64 \n",
      " 13  diag_1                    98053 non-null  object\n",
      " 14  diag_2                    98053 non-null  object\n",
      " 15  diag_3                    98053 non-null  object\n",
      " 16  number_diagnoses          98053 non-null  int64 \n",
      " 17  max_glu_serum             98053 non-null  object\n",
      " 18  A1Cresult                 98053 non-null  object\n",
      " 19  metformin                 98053 non-null  object\n",
      " 20  repaglinide               98053 non-null  object\n",
      " 21  nateglinide               98053 non-null  object\n",
      " 22  chlorpropamide            98053 non-null  object\n",
      " 23  glimepiride               98053 non-null  object\n",
      " 24  acetohexamide             98053 non-null  object\n",
      " 25  glipizide                 98053 non-null  object\n",
      " 26  glyburide                 98053 non-null  object\n",
      " 27  tolbutamide               98053 non-null  object\n",
      " 28  pioglitazone              98053 non-null  object\n",
      " 29  rosiglitazone             98053 non-null  object\n",
      " 30  acarbose                  98053 non-null  object\n",
      " 31  miglitol                  98053 non-null  object\n",
      " 32  troglitazone              98053 non-null  object\n",
      " 33  tolazamide                98053 non-null  object\n",
      " 34  examide                   98053 non-null  object\n",
      " 35  citoglipton               98053 non-null  object\n",
      " 36  insulin                   98053 non-null  object\n",
      " 37  glyburide-metformin       98053 non-null  object\n",
      " 38  glipizide-metformin       98053 non-null  object\n",
      " 39  glimepiride-pioglitazone  98053 non-null  object\n",
      " 40  metformin-rosiglitazone   98053 non-null  object\n",
      " 41  metformin-pioglitazone    98053 non-null  object\n",
      " 42  change                    98053 non-null  object\n",
      " 43  diabetesMed               98053 non-null  object\n",
      " 44  readmitted                98053 non-null  object\n",
      "dtypes: int64(11), object(34)\n",
      "memory usage: 34.4+ MB\n"
     ],
     "output_type":"stream"
    }
   ],
   "metadata":{
    "datalore":{
     "type":"CODE",
     "hide_input_from_viewers":false,
     "hide_output_from_viewers":false,
     "node_id":"4oQJj5g8mOM7WqphYkszoJ"
    }
   }
  },
  {
   "cell_type":"code",
   "source":[
    "one_hot_features = ['race', 'gender', 'admission_type_id', 'max_glu_serum', 'A1Cresult', 'metformin', 'repaglinide', 'nateglinide',\n",
    "                    'chlorpropamide', 'glimepiride', 'acetohexamide', 'glipizide', 'glyburide', 'tolbutamide', 'pioglitazone',\n",
    "                    'rosiglitazone', 'acarbose', 'miglitol', 'troglitazone', 'tolazamide', 'examide', 'citoglipton', 'insulin',\n",
    "                    'glyburide-metformin', 'glipizide-metformin', 'glimepiride-pioglitazone', 'metformin-rosiglitazone', \n",
    "                    'metformin-pioglitazone', 'discharge_disposition_id', 'admission_source_id', 'diag_1', 'diag_2', 'diag_3']\n",
    "\n",
    "binary_features = ['change', 'diabetesMed']\n",
    "ordinal_feautures = ['age']"
   ],
   "execution_count":23,
   "outputs":[
    
   ],
   "metadata":{
    "datalore":{
     "type":"CODE",
     "hide_input_from_viewers":false,
     "hide_output_from_viewers":false,
     "node_id":"Utd1gKOnvuyZGEKd34mIRa"
    }
   }
  },
  {
   "cell_type":"code",
   "source":[
    "age_levels = [['[0-10)', '[10-20)', '[20-30)', '[30-40)', '[40-50)', '[50-60)', '[60-70)', '[70-80)', '[80-90)', '[90-100)']]\n",
    "\n",
    "\n",
    "transformer = make_column_transformer(\n",
    "    (OneHotEncoder(handle_unknown=\"ignore\"), one_hot_features),\n",
    "    (OrdinalEncoder(categories=age_levels), ['age']),\n",
    "    (OneHotEncoder(sparse=False), binary_features),\n",
    ")\n",
    "\n",
    "df = pd.DataFrame(transformer.fit_transform(df))"
   ],
   "execution_count":31,
   "outputs":[
    
   ],
   "metadata":{
    "datalore":{
     "type":"CODE",
     "hide_input_from_viewers":false,
     "hide_output_from_viewers":false,
     "node_id":"wcYNxgwJoe36XvdqLv1IJC"
    }
   }
  }
 ],
 "metadata":{
  "datalore":{
   "version":1,
   "computation_mode":"JUPYTER",
   "package_manager":"pip",
   "base_environment":"default",
   "packages":[
    {
     "name":"category-encoders",
     "version":"2.4.0",
     "source":"PIP"
    }
   ]
  }
 },
 "nbformat":4,
 "nbformat_minor":4
}