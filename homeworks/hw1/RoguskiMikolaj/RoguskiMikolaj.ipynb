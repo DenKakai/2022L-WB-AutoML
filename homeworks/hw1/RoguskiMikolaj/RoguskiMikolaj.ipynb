{
 "cells": [
  {
   "cell_type": "markdown",
   "id": "ad83cf38",
   "metadata": {},
   "source": [
    "# Praca domowa 1\n",
    "Mikołaj Roguski\n",
    "\n",
    "Zadanie polega na eksploracyjnej analizie danych oraz ich preprocessingu ze zbioru : [prediction on hospital admission](https://archive.ics.uci.edu/ml/datasets/diabetes+130-us+hospitals+for+years+1999-2008)"
   ]
  },
  {
   "cell_type": "markdown",
   "id": "78bfc9c6",
   "metadata": {},
   "source": [
    "## import danych i bibliotek"
   ]
  },
  {
   "cell_type": "code",
   "execution_count": 308,
   "id": "249ea973",
   "metadata": {},
   "outputs": [],
   "source": [
    "import pandas as pd\n",
    "import numpy\n",
    "import seaborn as sns\n",
    "import matplotlib.pyplot as plt\n",
    "from sklearn.preprocessing import OneHotEncoder\n"
   ]
  },
  {
   "cell_type": "code",
   "execution_count": 309,
   "id": "0f0f1814",
   "metadata": {},
   "outputs": [
    {
     "data": {
      "text/html": [
       "<div>\n",
       "<style scoped>\n",
       "    .dataframe tbody tr th:only-of-type {\n",
       "        vertical-align: middle;\n",
       "    }\n",
       "\n",
       "    .dataframe tbody tr th {\n",
       "        vertical-align: top;\n",
       "    }\n",
       "\n",
       "    .dataframe thead th {\n",
       "        text-align: right;\n",
       "    }\n",
       "</style>\n",
       "<table border=\"1\" class=\"dataframe\">\n",
       "  <thead>\n",
       "    <tr style=\"text-align: right;\">\n",
       "      <th></th>\n",
       "      <th>encounter_id</th>\n",
       "      <th>patient_nbr</th>\n",
       "      <th>race</th>\n",
       "      <th>gender</th>\n",
       "      <th>age</th>\n",
       "      <th>weight</th>\n",
       "      <th>admission_type_id</th>\n",
       "      <th>discharge_disposition_id</th>\n",
       "      <th>admission_source_id</th>\n",
       "      <th>time_in_hospital</th>\n",
       "      <th>...</th>\n",
       "      <th>citoglipton</th>\n",
       "      <th>insulin</th>\n",
       "      <th>glyburide-metformin</th>\n",
       "      <th>glipizide-metformin</th>\n",
       "      <th>glimepiride-pioglitazone</th>\n",
       "      <th>metformin-rosiglitazone</th>\n",
       "      <th>metformin-pioglitazone</th>\n",
       "      <th>change</th>\n",
       "      <th>diabetesMed</th>\n",
       "      <th>readmitted</th>\n",
       "    </tr>\n",
       "  </thead>\n",
       "  <tbody>\n",
       "    <tr>\n",
       "      <th>0</th>\n",
       "      <td>2278392</td>\n",
       "      <td>8222157</td>\n",
       "      <td>Caucasian</td>\n",
       "      <td>Female</td>\n",
       "      <td>[0-10)</td>\n",
       "      <td>?</td>\n",
       "      <td>6</td>\n",
       "      <td>25</td>\n",
       "      <td>1</td>\n",
       "      <td>1</td>\n",
       "      <td>...</td>\n",
       "      <td>No</td>\n",
       "      <td>No</td>\n",
       "      <td>No</td>\n",
       "      <td>No</td>\n",
       "      <td>No</td>\n",
       "      <td>No</td>\n",
       "      <td>No</td>\n",
       "      <td>No</td>\n",
       "      <td>No</td>\n",
       "      <td>NO</td>\n",
       "    </tr>\n",
       "    <tr>\n",
       "      <th>1</th>\n",
       "      <td>149190</td>\n",
       "      <td>55629189</td>\n",
       "      <td>Caucasian</td>\n",
       "      <td>Female</td>\n",
       "      <td>[10-20)</td>\n",
       "      <td>?</td>\n",
       "      <td>1</td>\n",
       "      <td>1</td>\n",
       "      <td>7</td>\n",
       "      <td>3</td>\n",
       "      <td>...</td>\n",
       "      <td>No</td>\n",
       "      <td>Up</td>\n",
       "      <td>No</td>\n",
       "      <td>No</td>\n",
       "      <td>No</td>\n",
       "      <td>No</td>\n",
       "      <td>No</td>\n",
       "      <td>Ch</td>\n",
       "      <td>Yes</td>\n",
       "      <td>&gt;30</td>\n",
       "    </tr>\n",
       "    <tr>\n",
       "      <th>2</th>\n",
       "      <td>64410</td>\n",
       "      <td>86047875</td>\n",
       "      <td>AfricanAmerican</td>\n",
       "      <td>Female</td>\n",
       "      <td>[20-30)</td>\n",
       "      <td>?</td>\n",
       "      <td>1</td>\n",
       "      <td>1</td>\n",
       "      <td>7</td>\n",
       "      <td>2</td>\n",
       "      <td>...</td>\n",
       "      <td>No</td>\n",
       "      <td>No</td>\n",
       "      <td>No</td>\n",
       "      <td>No</td>\n",
       "      <td>No</td>\n",
       "      <td>No</td>\n",
       "      <td>No</td>\n",
       "      <td>No</td>\n",
       "      <td>Yes</td>\n",
       "      <td>NO</td>\n",
       "    </tr>\n",
       "    <tr>\n",
       "      <th>3</th>\n",
       "      <td>500364</td>\n",
       "      <td>82442376</td>\n",
       "      <td>Caucasian</td>\n",
       "      <td>Male</td>\n",
       "      <td>[30-40)</td>\n",
       "      <td>?</td>\n",
       "      <td>1</td>\n",
       "      <td>1</td>\n",
       "      <td>7</td>\n",
       "      <td>2</td>\n",
       "      <td>...</td>\n",
       "      <td>No</td>\n",
       "      <td>Up</td>\n",
       "      <td>No</td>\n",
       "      <td>No</td>\n",
       "      <td>No</td>\n",
       "      <td>No</td>\n",
       "      <td>No</td>\n",
       "      <td>Ch</td>\n",
       "      <td>Yes</td>\n",
       "      <td>NO</td>\n",
       "    </tr>\n",
       "    <tr>\n",
       "      <th>4</th>\n",
       "      <td>16680</td>\n",
       "      <td>42519267</td>\n",
       "      <td>Caucasian</td>\n",
       "      <td>Male</td>\n",
       "      <td>[40-50)</td>\n",
       "      <td>?</td>\n",
       "      <td>1</td>\n",
       "      <td>1</td>\n",
       "      <td>7</td>\n",
       "      <td>1</td>\n",
       "      <td>...</td>\n",
       "      <td>No</td>\n",
       "      <td>Steady</td>\n",
       "      <td>No</td>\n",
       "      <td>No</td>\n",
       "      <td>No</td>\n",
       "      <td>No</td>\n",
       "      <td>No</td>\n",
       "      <td>Ch</td>\n",
       "      <td>Yes</td>\n",
       "      <td>NO</td>\n",
       "    </tr>\n",
       "  </tbody>\n",
       "</table>\n",
       "<p>5 rows × 50 columns</p>\n",
       "</div>"
      ],
      "text/plain": [
       "   encounter_id  patient_nbr             race  gender      age weight  \\\n",
       "0       2278392      8222157        Caucasian  Female   [0-10)      ?   \n",
       "1        149190     55629189        Caucasian  Female  [10-20)      ?   \n",
       "2         64410     86047875  AfricanAmerican  Female  [20-30)      ?   \n",
       "3        500364     82442376        Caucasian    Male  [30-40)      ?   \n",
       "4         16680     42519267        Caucasian    Male  [40-50)      ?   \n",
       "\n",
       "   admission_type_id  discharge_disposition_id  admission_source_id  \\\n",
       "0                  6                        25                    1   \n",
       "1                  1                         1                    7   \n",
       "2                  1                         1                    7   \n",
       "3                  1                         1                    7   \n",
       "4                  1                         1                    7   \n",
       "\n",
       "   time_in_hospital  ... citoglipton insulin  glyburide-metformin  \\\n",
       "0                 1  ...          No      No                   No   \n",
       "1                 3  ...          No      Up                   No   \n",
       "2                 2  ...          No      No                   No   \n",
       "3                 2  ...          No      Up                   No   \n",
       "4                 1  ...          No  Steady                   No   \n",
       "\n",
       "   glipizide-metformin  glimepiride-pioglitazone  metformin-rosiglitazone  \\\n",
       "0                   No                        No                       No   \n",
       "1                   No                        No                       No   \n",
       "2                   No                        No                       No   \n",
       "3                   No                        No                       No   \n",
       "4                   No                        No                       No   \n",
       "\n",
       "   metformin-pioglitazone  change diabetesMed readmitted  \n",
       "0                      No      No          No         NO  \n",
       "1                      No      Ch         Yes        >30  \n",
       "2                      No      No         Yes         NO  \n",
       "3                      No      Ch         Yes         NO  \n",
       "4                      No      Ch         Yes         NO  \n",
       "\n",
       "[5 rows x 50 columns]"
      ]
     },
     "execution_count": 309,
     "metadata": {},
     "output_type": "execute_result"
    }
   ],
   "source": [
    "df = pd.read_csv(\"diabetic_data.csv\")\n",
    "df.head()\n"
   ]
  },
  {
   "cell_type": "markdown",
   "id": "3201a647",
   "metadata": {},
   "source": [
    "Zmienną objaśnianą będzie `readmitted` do jej objaśnienia możemy wykorzystać wszystkie zmienne oprócz `encounter_id`, `patient_nbr`, `payer_code` oraz `medical_specialty`,`admission_source`,  ponieważ albo nie mają one związku z chorobą pacjenta, lub go identyfikują. Braki danych zapisane są w danych jako \"?\" lub \"None\""
   ]
  },
  {
   "cell_type": "markdown",
   "id": "79759a4c",
   "metadata": {},
   "source": [
    "## eda"
   ]
  },
  {
   "cell_type": "code",
   "execution_count": 310,
   "id": "ffb7a326",
   "metadata": {},
   "outputs": [
    {
     "name": "stdout",
     "output_type": "stream",
     "text": [
      "<class 'pandas.core.frame.DataFrame'>\n",
      "RangeIndex: 101766 entries, 0 to 101765\n",
      "Data columns (total 50 columns):\n",
      " #   Column                    Non-Null Count   Dtype \n",
      "---  ------                    --------------   ----- \n",
      " 0   encounter_id              101766 non-null  int64 \n",
      " 1   patient_nbr               101766 non-null  int64 \n",
      " 2   race                      101766 non-null  object\n",
      " 3   gender                    101766 non-null  object\n",
      " 4   age                       101766 non-null  object\n",
      " 5   weight                    101766 non-null  object\n",
      " 6   admission_type_id         101766 non-null  int64 \n",
      " 7   discharge_disposition_id  101766 non-null  int64 \n",
      " 8   admission_source_id       101766 non-null  int64 \n",
      " 9   time_in_hospital          101766 non-null  int64 \n",
      " 10  payer_code                101766 non-null  object\n",
      " 11  medical_specialty         101766 non-null  object\n",
      " 12  num_lab_procedures        101766 non-null  int64 \n",
      " 13  num_procedures            101766 non-null  int64 \n",
      " 14  num_medications           101766 non-null  int64 \n",
      " 15  number_outpatient         101766 non-null  int64 \n",
      " 16  number_emergency          101766 non-null  int64 \n",
      " 17  number_inpatient          101766 non-null  int64 \n",
      " 18  diag_1                    101766 non-null  object\n",
      " 19  diag_2                    101766 non-null  object\n",
      " 20  diag_3                    101766 non-null  object\n",
      " 21  number_diagnoses          101766 non-null  int64 \n",
      " 22  max_glu_serum             101766 non-null  object\n",
      " 23  A1Cresult                 101766 non-null  object\n",
      " 24  metformin                 101766 non-null  object\n",
      " 25  repaglinide               101766 non-null  object\n",
      " 26  nateglinide               101766 non-null  object\n",
      " 27  chlorpropamide            101766 non-null  object\n",
      " 28  glimepiride               101766 non-null  object\n",
      " 29  acetohexamide             101766 non-null  object\n",
      " 30  glipizide                 101766 non-null  object\n",
      " 31  glyburide                 101766 non-null  object\n",
      " 32  tolbutamide               101766 non-null  object\n",
      " 33  pioglitazone              101766 non-null  object\n",
      " 34  rosiglitazone             101766 non-null  object\n",
      " 35  acarbose                  101766 non-null  object\n",
      " 36  miglitol                  101766 non-null  object\n",
      " 37  troglitazone              101766 non-null  object\n",
      " 38  tolazamide                101766 non-null  object\n",
      " 39  examide                   101766 non-null  object\n",
      " 40  citoglipton               101766 non-null  object\n",
      " 41  insulin                   101766 non-null  object\n",
      " 42  glyburide-metformin       101766 non-null  object\n",
      " 43  glipizide-metformin       101766 non-null  object\n",
      " 44  glimepiride-pioglitazone  101766 non-null  object\n",
      " 45  metformin-rosiglitazone   101766 non-null  object\n",
      " 46  metformin-pioglitazone    101766 non-null  object\n",
      " 47  change                    101766 non-null  object\n",
      " 48  diabetesMed               101766 non-null  object\n",
      " 49  readmitted                101766 non-null  object\n",
      "dtypes: int64(13), object(37)\n",
      "memory usage: 38.8+ MB\n"
     ]
    }
   ],
   "source": [
    "df.info()"
   ]
  },
  {
   "cell_type": "code",
   "execution_count": 311,
   "id": "2a9dc611",
   "metadata": {},
   "outputs": [
    {
     "name": "stderr",
     "output_type": "stream",
     "text": [
      "<ipython-input-311-70d1e954a912>:3: UserWarning: To output multiple subplots, the figure containing the passed axes is being cleared\n",
      "  df[df.columns[df.dtypes == 'int64']].hist(ax = ax)\n"
     ]
    },
    {
     "data": {
      "text/plain": [
       "array([[<AxesSubplot:title={'center':'encounter_id'}>,\n",
       "        <AxesSubplot:title={'center':'patient_nbr'}>,\n",
       "        <AxesSubplot:title={'center':'admission_type_id'}>,\n",
       "        <AxesSubplot:title={'center':'discharge_disposition_id'}>],\n",
       "       [<AxesSubplot:title={'center':'admission_source_id'}>,\n",
       "        <AxesSubplot:title={'center':'time_in_hospital'}>,\n",
       "        <AxesSubplot:title={'center':'num_lab_procedures'}>,\n",
       "        <AxesSubplot:title={'center':'num_procedures'}>],\n",
       "       [<AxesSubplot:title={'center':'num_medications'}>,\n",
       "        <AxesSubplot:title={'center':'number_outpatient'}>,\n",
       "        <AxesSubplot:title={'center':'number_emergency'}>,\n",
       "        <AxesSubplot:title={'center':'number_inpatient'}>],\n",
       "       [<AxesSubplot:title={'center':'number_diagnoses'}>,\n",
       "        <AxesSubplot:>, <AxesSubplot:>, <AxesSubplot:>]], dtype=object)"
      ]
     },
     "execution_count": 311,
     "metadata": {},
     "output_type": "execute_result"
    },
    {
     "data": {
      "image/png": "[encoded data removed]",
      "text/plain": [
       "<Figure size 1080x1440 with 16 Axes>"
      ]
     },
     "metadata": {
      "needs_background": "light"
     },
     "output_type": "display_data"
    }
   ],
   "source": [
    "fig = plt.figure(figsize = (15,20))\n",
    "ax = fig.gca()\n",
    "df[df.columns[df.dtypes == 'int64']].hist(ax = ax)"
   ]
  },
  {
   "cell_type": "code",
   "execution_count": 312,
   "id": "e05808cf",
   "metadata": {
    "scrolled": true
   },
   "outputs": [
    {
     "data": {
      "text/plain": [
       "<AxesSubplot:xlabel='index', ylabel='counts'>"
      ]
     },
     "execution_count": 312,
     "metadata": {},
     "output_type": "execute_result"
    },
    {
     "data": {
      "image/png": "[encoded data removed]",
      "text/plain": [
       "<Figure size 432x288 with 1 Axes>"
      ]
     },
     "metadata": {
      "needs_background": "light"
     },
     "output_type": "display_data"
    }
   ],
   "source": [
    "sns.barplot(x = 'index', y ='counts', data = df.age.value_counts().reset_index(name = 'counts'), order = ['[0-10)','[10-20)','[20-30)','[30-40)','[40-50)','[50-60)','[60-70)','[70-80)','[80-90)','[90-100)'], color= 'blue')"
   ]
  },
  {
   "cell_type": "code",
   "execution_count": 313,
   "id": "8a786d4f",
   "metadata": {},
   "outputs": [
    {
     "data": {
      "text/html": [
       "<div>\n",
       "<style scoped>\n",
       "    .dataframe tbody tr th:only-of-type {\n",
       "        vertical-align: middle;\n",
       "    }\n",
       "\n",
       "    .dataframe tbody tr th {\n",
       "        vertical-align: top;\n",
       "    }\n",
       "\n",
       "    .dataframe thead th {\n",
       "        text-align: right;\n",
       "    }\n",
       "</style>\n",
       "<table border=\"1\" class=\"dataframe\">\n",
       "  <thead>\n",
       "    <tr style=\"text-align: right;\">\n",
       "      <th></th>\n",
       "      <th>encounter_id</th>\n",
       "      <th>patient_nbr</th>\n",
       "      <th>admission_type_id</th>\n",
       "      <th>discharge_disposition_id</th>\n",
       "      <th>admission_source_id</th>\n",
       "      <th>time_in_hospital</th>\n",
       "      <th>num_lab_procedures</th>\n",
       "      <th>num_procedures</th>\n",
       "      <th>num_medications</th>\n",
       "      <th>number_outpatient</th>\n",
       "      <th>number_emergency</th>\n",
       "      <th>number_inpatient</th>\n",
       "      <th>number_diagnoses</th>\n",
       "    </tr>\n",
       "  </thead>\n",
       "  <tbody>\n",
       "    <tr>\n",
       "      <th>count</th>\n",
       "      <td>1.017660e+05</td>\n",
       "      <td>1.017660e+05</td>\n",
       "      <td>101766.000000</td>\n",
       "      <td>101766.000000</td>\n",
       "      <td>101766.000000</td>\n",
       "      <td>101766.000000</td>\n",
       "      <td>101766.000000</td>\n",
       "      <td>101766.000000</td>\n",
       "      <td>101766.000000</td>\n",
       "      <td>101766.000000</td>\n",
       "      <td>101766.000000</td>\n",
       "      <td>101766.000000</td>\n",
       "      <td>101766.000000</td>\n",
       "    </tr>\n",
       "    <tr>\n",
       "      <th>mean</th>\n",
       "      <td>1.652016e+08</td>\n",
       "      <td>5.433040e+07</td>\n",
       "      <td>2.024006</td>\n",
       "      <td>3.715642</td>\n",
       "      <td>5.754437</td>\n",
       "      <td>4.395987</td>\n",
       "      <td>43.095641</td>\n",
       "      <td>1.339730</td>\n",
       "      <td>16.021844</td>\n",
       "      <td>0.369357</td>\n",
       "      <td>0.197836</td>\n",
       "      <td>0.635566</td>\n",
       "      <td>7.422607</td>\n",
       "    </tr>\n",
       "    <tr>\n",
       "      <th>std</th>\n",
       "      <td>1.026403e+08</td>\n",
       "      <td>3.869636e+07</td>\n",
       "      <td>1.445403</td>\n",
       "      <td>5.280166</td>\n",
       "      <td>4.064081</td>\n",
       "      <td>2.985108</td>\n",
       "      <td>19.674362</td>\n",
       "      <td>1.705807</td>\n",
       "      <td>8.127566</td>\n",
       "      <td>1.267265</td>\n",
       "      <td>0.930472</td>\n",
       "      <td>1.262863</td>\n",
       "      <td>1.933600</td>\n",
       "    </tr>\n",
       "    <tr>\n",
       "      <th>min</th>\n",
       "      <td>1.252200e+04</td>\n",
       "      <td>1.350000e+02</td>\n",
       "      <td>1.000000</td>\n",
       "      <td>1.000000</td>\n",
       "      <td>1.000000</td>\n",
       "      <td>1.000000</td>\n",
       "      <td>1.000000</td>\n",
       "      <td>0.000000</td>\n",
       "      <td>1.000000</td>\n",
       "      <td>0.000000</td>\n",
       "      <td>0.000000</td>\n",
       "      <td>0.000000</td>\n",
       "      <td>1.000000</td>\n",
       "    </tr>\n",
       "    <tr>\n",
       "      <th>25%</th>\n",
       "      <td>8.496119e+07</td>\n",
       "      <td>2.341322e+07</td>\n",
       "      <td>1.000000</td>\n",
       "      <td>1.000000</td>\n",
       "      <td>1.000000</td>\n",
       "      <td>2.000000</td>\n",
       "      <td>31.000000</td>\n",
       "      <td>0.000000</td>\n",
       "      <td>10.000000</td>\n",
       "      <td>0.000000</td>\n",
       "      <td>0.000000</td>\n",
       "      <td>0.000000</td>\n",
       "      <td>6.000000</td>\n",
       "    </tr>\n",
       "    <tr>\n",
       "      <th>50%</th>\n",
       "      <td>1.523890e+08</td>\n",
       "      <td>4.550514e+07</td>\n",
       "      <td>1.000000</td>\n",
       "      <td>1.000000</td>\n",
       "      <td>7.000000</td>\n",
       "      <td>4.000000</td>\n",
       "      <td>44.000000</td>\n",
       "      <td>1.000000</td>\n",
       "      <td>15.000000</td>\n",
       "      <td>0.000000</td>\n",
       "      <td>0.000000</td>\n",
       "      <td>0.000000</td>\n",
       "      <td>8.000000</td>\n",
       "    </tr>\n",
       "    <tr>\n",
       "      <th>75%</th>\n",
       "      <td>2.302709e+08</td>\n",
       "      <td>8.754595e+07</td>\n",
       "      <td>3.000000</td>\n",
       "      <td>4.000000</td>\n",
       "      <td>7.000000</td>\n",
       "      <td>6.000000</td>\n",
       "      <td>57.000000</td>\n",
       "      <td>2.000000</td>\n",
       "      <td>20.000000</td>\n",
       "      <td>0.000000</td>\n",
       "      <td>0.000000</td>\n",
       "      <td>1.000000</td>\n",
       "      <td>9.000000</td>\n",
       "    </tr>\n",
       "    <tr>\n",
       "      <th>max</th>\n",
       "      <td>4.438672e+08</td>\n",
       "      <td>1.895026e+08</td>\n",
       "      <td>8.000000</td>\n",
       "      <td>28.000000</td>\n",
       "      <td>25.000000</td>\n",
       "      <td>14.000000</td>\n",
       "      <td>132.000000</td>\n",
       "      <td>6.000000</td>\n",
       "      <td>81.000000</td>\n",
       "      <td>42.000000</td>\n",
       "      <td>76.000000</td>\n",
       "      <td>21.000000</td>\n",
       "      <td>16.000000</td>\n",
       "    </tr>\n",
       "  </tbody>\n",
       "</table>\n",
       "</div>"
      ],
      "text/plain": [
       "       encounter_id   patient_nbr  admission_type_id  \\\n",
       "count  1.017660e+05  1.017660e+05      101766.000000   \n",
       "mean   1.652016e+08  5.433040e+07           2.024006   \n",
       "std    1.026403e+08  3.869636e+07           1.445403   \n",
       "min    1.252200e+04  1.350000e+02           1.000000   \n",
       "25%    8.496119e+07  2.341322e+07           1.000000   \n",
       "50%    1.523890e+08  4.550514e+07           1.000000   \n",
       "75%    2.302709e+08  8.754595e+07           3.000000   \n",
       "max    4.438672e+08  1.895026e+08           8.000000   \n",
       "\n",
       "       discharge_disposition_id  admission_source_id  time_in_hospital  \\\n",
       "count             101766.000000        101766.000000     101766.000000   \n",
       "mean                   3.715642             5.754437          4.395987   \n",
       "std                    5.280166             4.064081          2.985108   \n",
       "min                    1.000000             1.000000          1.000000   \n",
       "25%                    1.000000             1.000000          2.000000   \n",
       "50%                    1.000000             7.000000          4.000000   \n",
       "75%                    4.000000             7.000000          6.000000   \n",
       "max                   28.000000            25.000000         14.000000   \n",
       "\n",
       "       num_lab_procedures  num_procedures  num_medications  number_outpatient  \\\n",
       "count       101766.000000   101766.000000    101766.000000      101766.000000   \n",
       "mean            43.095641        1.339730        16.021844           0.369357   \n",
       "std             19.674362        1.705807         8.127566           1.267265   \n",
       "min              1.000000        0.000000         1.000000           0.000000   \n",
       "25%             31.000000        0.000000        10.000000           0.000000   \n",
       "50%             44.000000        1.000000        15.000000           0.000000   \n",
       "75%             57.000000        2.000000        20.000000           0.000000   \n",
       "max            132.000000        6.000000        81.000000          42.000000   \n",
       "\n",
       "       number_emergency  number_inpatient  number_diagnoses  \n",
       "count     101766.000000     101766.000000     101766.000000  \n",
       "mean           0.197836          0.635566          7.422607  \n",
       "std            0.930472          1.262863          1.933600  \n",
       "min            0.000000          0.000000          1.000000  \n",
       "25%            0.000000          0.000000          6.000000  \n",
       "50%            0.000000          0.000000          8.000000  \n",
       "75%            0.000000          1.000000          9.000000  \n",
       "max           76.000000         21.000000         16.000000  "
      ]
     },
     "execution_count": 313,
     "metadata": {},
     "output_type": "execute_result"
    }
   ],
   "source": [
    "df.describe()"
   ]
  },
  {
   "cell_type": "code",
   "execution_count": 314,
   "id": "71f56c45",
   "metadata": {},
   "outputs": [
    {
     "data": {
      "text/html": [
       "<div>\n",
       "<style scoped>\n",
       "    .dataframe tbody tr th:only-of-type {\n",
       "        vertical-align: middle;\n",
       "    }\n",
       "\n",
       "    .dataframe tbody tr th {\n",
       "        vertical-align: top;\n",
       "    }\n",
       "\n",
       "    .dataframe thead th {\n",
       "        text-align: right;\n",
       "    }\n",
       "</style>\n",
       "<table border=\"1\" class=\"dataframe\">\n",
       "  <thead>\n",
       "    <tr style=\"text-align: right;\">\n",
       "      <th></th>\n",
       "      <th>encounter_id</th>\n",
       "      <th>patient_nbr</th>\n",
       "      <th>admission_type_id</th>\n",
       "      <th>discharge_disposition_id</th>\n",
       "      <th>admission_source_id</th>\n",
       "      <th>time_in_hospital</th>\n",
       "      <th>num_lab_procedures</th>\n",
       "      <th>num_procedures</th>\n",
       "      <th>num_medications</th>\n",
       "      <th>number_outpatient</th>\n",
       "      <th>number_emergency</th>\n",
       "      <th>number_inpatient</th>\n",
       "      <th>number_diagnoses</th>\n",
       "    </tr>\n",
       "  </thead>\n",
       "  <tbody>\n",
       "    <tr>\n",
       "      <th>encounter_id</th>\n",
       "      <td>1.000000</td>\n",
       "      <td>0.512028</td>\n",
       "      <td>-0.158961</td>\n",
       "      <td>-0.132876</td>\n",
       "      <td>-0.112402</td>\n",
       "      <td>-0.062221</td>\n",
       "      <td>-0.026062</td>\n",
       "      <td>-0.014225</td>\n",
       "      <td>0.076113</td>\n",
       "      <td>0.103756</td>\n",
       "      <td>0.082803</td>\n",
       "      <td>0.030962</td>\n",
       "      <td>0.265149</td>\n",
       "    </tr>\n",
       "    <tr>\n",
       "      <th>patient_nbr</th>\n",
       "      <td>0.512028</td>\n",
       "      <td>1.000000</td>\n",
       "      <td>-0.011128</td>\n",
       "      <td>-0.136814</td>\n",
       "      <td>-0.032568</td>\n",
       "      <td>-0.024092</td>\n",
       "      <td>0.015946</td>\n",
       "      <td>-0.015570</td>\n",
       "      <td>0.020665</td>\n",
       "      <td>0.103379</td>\n",
       "      <td>0.062352</td>\n",
       "      <td>0.012480</td>\n",
       "      <td>0.226847</td>\n",
       "    </tr>\n",
       "    <tr>\n",
       "      <th>admission_type_id</th>\n",
       "      <td>-0.158961</td>\n",
       "      <td>-0.011128</td>\n",
       "      <td>1.000000</td>\n",
       "      <td>0.083483</td>\n",
       "      <td>0.106654</td>\n",
       "      <td>-0.012500</td>\n",
       "      <td>-0.143713</td>\n",
       "      <td>0.129888</td>\n",
       "      <td>0.079535</td>\n",
       "      <td>0.026511</td>\n",
       "      <td>-0.019116</td>\n",
       "      <td>-0.038161</td>\n",
       "      <td>-0.117126</td>\n",
       "    </tr>\n",
       "    <tr>\n",
       "      <th>discharge_disposition_id</th>\n",
       "      <td>-0.132876</td>\n",
       "      <td>-0.136814</td>\n",
       "      <td>0.083483</td>\n",
       "      <td>1.000000</td>\n",
       "      <td>0.018193</td>\n",
       "      <td>0.162748</td>\n",
       "      <td>0.023415</td>\n",
       "      <td>0.015921</td>\n",
       "      <td>0.108753</td>\n",
       "      <td>-0.008715</td>\n",
       "      <td>-0.024471</td>\n",
       "      <td>0.020787</td>\n",
       "      <td>0.046891</td>\n",
       "    </tr>\n",
       "    <tr>\n",
       "      <th>admission_source_id</th>\n",
       "      <td>-0.112402</td>\n",
       "      <td>-0.032568</td>\n",
       "      <td>0.106654</td>\n",
       "      <td>0.018193</td>\n",
       "      <td>1.000000</td>\n",
       "      <td>-0.006965</td>\n",
       "      <td>0.048885</td>\n",
       "      <td>-0.135400</td>\n",
       "      <td>-0.054533</td>\n",
       "      <td>0.027244</td>\n",
       "      <td>0.059892</td>\n",
       "      <td>0.036314</td>\n",
       "      <td>0.072114</td>\n",
       "    </tr>\n",
       "    <tr>\n",
       "      <th>time_in_hospital</th>\n",
       "      <td>-0.062221</td>\n",
       "      <td>-0.024092</td>\n",
       "      <td>-0.012500</td>\n",
       "      <td>0.162748</td>\n",
       "      <td>-0.006965</td>\n",
       "      <td>1.000000</td>\n",
       "      <td>0.318450</td>\n",
       "      <td>0.191472</td>\n",
       "      <td>0.466135</td>\n",
       "      <td>-0.008916</td>\n",
       "      <td>-0.009681</td>\n",
       "      <td>0.073623</td>\n",
       "      <td>0.220186</td>\n",
       "    </tr>\n",
       "    <tr>\n",
       "      <th>num_lab_procedures</th>\n",
       "      <td>-0.026062</td>\n",
       "      <td>0.015946</td>\n",
       "      <td>-0.143713</td>\n",
       "      <td>0.023415</td>\n",
       "      <td>0.048885</td>\n",
       "      <td>0.318450</td>\n",
       "      <td>1.000000</td>\n",
       "      <td>0.058066</td>\n",
       "      <td>0.268161</td>\n",
       "      <td>-0.007602</td>\n",
       "      <td>-0.002279</td>\n",
       "      <td>0.039231</td>\n",
       "      <td>0.152773</td>\n",
       "    </tr>\n",
       "    <tr>\n",
       "      <th>num_procedures</th>\n",
       "      <td>-0.014225</td>\n",
       "      <td>-0.015570</td>\n",
       "      <td>0.129888</td>\n",
       "      <td>0.015921</td>\n",
       "      <td>-0.135400</td>\n",
       "      <td>0.191472</td>\n",
       "      <td>0.058066</td>\n",
       "      <td>1.000000</td>\n",
       "      <td>0.385767</td>\n",
       "      <td>-0.024819</td>\n",
       "      <td>-0.038179</td>\n",
       "      <td>-0.066236</td>\n",
       "      <td>0.073734</td>\n",
       "    </tr>\n",
       "    <tr>\n",
       "      <th>num_medications</th>\n",
       "      <td>0.076113</td>\n",
       "      <td>0.020665</td>\n",
       "      <td>0.079535</td>\n",
       "      <td>0.108753</td>\n",
       "      <td>-0.054533</td>\n",
       "      <td>0.466135</td>\n",
       "      <td>0.268161</td>\n",
       "      <td>0.385767</td>\n",
       "      <td>1.000000</td>\n",
       "      <td>0.045197</td>\n",
       "      <td>0.013180</td>\n",
       "      <td>0.064194</td>\n",
       "      <td>0.261526</td>\n",
       "    </tr>\n",
       "    <tr>\n",
       "      <th>number_outpatient</th>\n",
       "      <td>0.103756</td>\n",
       "      <td>0.103379</td>\n",
       "      <td>0.026511</td>\n",
       "      <td>-0.008715</td>\n",
       "      <td>0.027244</td>\n",
       "      <td>-0.008916</td>\n",
       "      <td>-0.007602</td>\n",
       "      <td>-0.024819</td>\n",
       "      <td>0.045197</td>\n",
       "      <td>1.000000</td>\n",
       "      <td>0.091459</td>\n",
       "      <td>0.107338</td>\n",
       "      <td>0.094152</td>\n",
       "    </tr>\n",
       "    <tr>\n",
       "      <th>number_emergency</th>\n",
       "      <td>0.082803</td>\n",
       "      <td>0.062352</td>\n",
       "      <td>-0.019116</td>\n",
       "      <td>-0.024471</td>\n",
       "      <td>0.059892</td>\n",
       "      <td>-0.009681</td>\n",
       "      <td>-0.002279</td>\n",
       "      <td>-0.038179</td>\n",
       "      <td>0.013180</td>\n",
       "      <td>0.091459</td>\n",
       "      <td>1.000000</td>\n",
       "      <td>0.266559</td>\n",
       "      <td>0.055539</td>\n",
       "    </tr>\n",
       "    <tr>\n",
       "      <th>number_inpatient</th>\n",
       "      <td>0.030962</td>\n",
       "      <td>0.012480</td>\n",
       "      <td>-0.038161</td>\n",
       "      <td>0.020787</td>\n",
       "      <td>0.036314</td>\n",
       "      <td>0.073623</td>\n",
       "      <td>0.039231</td>\n",
       "      <td>-0.066236</td>\n",
       "      <td>0.064194</td>\n",
       "      <td>0.107338</td>\n",
       "      <td>0.266559</td>\n",
       "      <td>1.000000</td>\n",
       "      <td>0.104710</td>\n",
       "    </tr>\n",
       "    <tr>\n",
       "      <th>number_diagnoses</th>\n",
       "      <td>0.265149</td>\n",
       "      <td>0.226847</td>\n",
       "      <td>-0.117126</td>\n",
       "      <td>0.046891</td>\n",
       "      <td>0.072114</td>\n",
       "      <td>0.220186</td>\n",
       "      <td>0.152773</td>\n",
       "      <td>0.073734</td>\n",
       "      <td>0.261526</td>\n",
       "      <td>0.094152</td>\n",
       "      <td>0.055539</td>\n",
       "      <td>0.104710</td>\n",
       "      <td>1.000000</td>\n",
       "    </tr>\n",
       "  </tbody>\n",
       "</table>\n",
       "</div>"
      ],
      "text/plain": [
       "                          encounter_id  patient_nbr  admission_type_id  \\\n",
       "encounter_id                  1.000000     0.512028          -0.158961   \n",
       "patient_nbr                   0.512028     1.000000          -0.011128   \n",
       "admission_type_id            -0.158961    -0.011128           1.000000   \n",
       "discharge_disposition_id     -0.132876    -0.136814           0.083483   \n",
       "admission_source_id          -0.112402    -0.032568           0.106654   \n",
       "time_in_hospital             -0.062221    -0.024092          -0.012500   \n",
       "num_lab_procedures           -0.026062     0.015946          -0.143713   \n",
       "num_procedures               -0.014225    -0.015570           0.129888   \n",
       "num_medications               0.076113     0.020665           0.079535   \n",
       "number_outpatient             0.103756     0.103379           0.026511   \n",
       "number_emergency              0.082803     0.062352          -0.019116   \n",
       "number_inpatient              0.030962     0.012480          -0.038161   \n",
       "number_diagnoses              0.265149     0.226847          -0.117126   \n",
       "\n",
       "                          discharge_disposition_id  admission_source_id  \\\n",
       "encounter_id                             -0.132876            -0.112402   \n",
       "patient_nbr                              -0.136814            -0.032568   \n",
       "admission_type_id                         0.083483             0.106654   \n",
       "discharge_disposition_id                  1.000000             0.018193   \n",
       "admission_source_id                       0.018193             1.000000   \n",
       "time_in_hospital                          0.162748            -0.006965   \n",
       "num_lab_procedures                        0.023415             0.048885   \n",
       "num_procedures                            0.015921            -0.135400   \n",
       "num_medications                           0.108753            -0.054533   \n",
       "number_outpatient                        -0.008715             0.027244   \n",
       "number_emergency                         -0.024471             0.059892   \n",
       "number_inpatient                          0.020787             0.036314   \n",
       "number_diagnoses                          0.046891             0.072114   \n",
       "\n",
       "                          time_in_hospital  num_lab_procedures  \\\n",
       "encounter_id                     -0.062221           -0.026062   \n",
       "patient_nbr                      -0.024092            0.015946   \n",
       "admission_type_id                -0.012500           -0.143713   \n",
       "discharge_disposition_id          0.162748            0.023415   \n",
       "admission_source_id              -0.006965            0.048885   \n",
       "time_in_hospital                  1.000000            0.318450   \n",
       "num_lab_procedures                0.318450            1.000000   \n",
       "num_procedures                    0.191472            0.058066   \n",
       "num_medications                   0.466135            0.268161   \n",
       "number_outpatient                -0.008916           -0.007602   \n",
       "number_emergency                 -0.009681           -0.002279   \n",
       "number_inpatient                  0.073623            0.039231   \n",
       "number_diagnoses                  0.220186            0.152773   \n",
       "\n",
       "                          num_procedures  num_medications  number_outpatient  \\\n",
       "encounter_id                   -0.014225         0.076113           0.103756   \n",
       "patient_nbr                    -0.015570         0.020665           0.103379   \n",
       "admission_type_id               0.129888         0.079535           0.026511   \n",
       "discharge_disposition_id        0.015921         0.108753          -0.008715   \n",
       "admission_source_id            -0.135400        -0.054533           0.027244   \n",
       "time_in_hospital                0.191472         0.466135          -0.008916   \n",
       "num_lab_procedures              0.058066         0.268161          -0.007602   \n",
       "num_procedures                  1.000000         0.385767          -0.024819   \n",
       "num_medications                 0.385767         1.000000           0.045197   \n",
       "number_outpatient              -0.024819         0.045197           1.000000   \n",
       "number_emergency               -0.038179         0.013180           0.091459   \n",
       "number_inpatient               -0.066236         0.064194           0.107338   \n",
       "number_diagnoses                0.073734         0.261526           0.094152   \n",
       "\n",
       "                          number_emergency  number_inpatient  number_diagnoses  \n",
       "encounter_id                      0.082803          0.030962          0.265149  \n",
       "patient_nbr                       0.062352          0.012480          0.226847  \n",
       "admission_type_id                -0.019116         -0.038161         -0.117126  \n",
       "discharge_disposition_id         -0.024471          0.020787          0.046891  \n",
       "admission_source_id               0.059892          0.036314          0.072114  \n",
       "time_in_hospital                 -0.009681          0.073623          0.220186  \n",
       "num_lab_procedures               -0.002279          0.039231          0.152773  \n",
       "num_procedures                   -0.038179         -0.066236          0.073734  \n",
       "num_medications                   0.013180          0.064194          0.261526  \n",
       "number_outpatient                 0.091459          0.107338          0.094152  \n",
       "number_emergency                  1.000000          0.266559          0.055539  \n",
       "number_inpatient                  0.266559          1.000000          0.104710  \n",
       "number_diagnoses                  0.055539          0.104710          1.000000  "
      ]
     },
     "execution_count": 314,
     "metadata": {},
     "output_type": "execute_result"
    }
   ],
   "source": [
    "df.corr()"
   ]
  },
  {
   "cell_type": "markdown",
   "id": "b359c071",
   "metadata": {},
   "source": [
    "### zmienne o zerowej i blisko zerowej wariancji"
   ]
  },
  {
   "cell_type": "code",
   "execution_count": 315,
   "id": "09cb95a4",
   "metadata": {
    "scrolled": true
   },
   "outputs": [
    {
     "data": {
      "text/plain": [
       "insulin                      47383\n",
       "metformin                    81778\n",
       "glipizide                    89080\n",
       "glyburide                    91116\n",
       "pioglitazone                 94438\n",
       "rosiglitazone                95401\n",
       "glimepiride                  96575\n",
       "repaglinide                 100227\n",
       "glyburide-metformin         101060\n",
       "nateglinide                 101063\n",
       "acarbose                    101458\n",
       "chlorpropamide              101680\n",
       "tolazamide                  101727\n",
       "miglitol                    101728\n",
       "tolbutamide                 101743\n",
       "glipizide-metformin         101753\n",
       "troglitazone                101763\n",
       "metformin-rosiglitazone     101764\n",
       "acetohexamide               101765\n",
       "glimepiride-pioglitazone    101765\n",
       "metformin-pioglitazone      101765\n",
       "examide                     101766\n",
       "citoglipton                 101766\n",
       "dtype: int64"
      ]
     },
     "execution_count": 315,
     "metadata": {},
     "output_type": "execute_result"
    }
   ],
   "source": [
    "a = lambda x: x.str.count(\"No\").sum()\n",
    "df.loc[:,'metformin':'metformin-pioglitazone'].apply(a).sort_values()"
   ]
  },
  {
   "cell_type": "markdown",
   "id": "192952e8",
   "metadata": {},
   "source": [
    "usunę zmienne gdzie mniej niż 0.1% rekordów jest różnych od \"NO\""
   ]
  },
  {
   "cell_type": "code",
   "execution_count": 316,
   "id": "a79e344d",
   "metadata": {},
   "outputs": [],
   "source": [
    "df.drop(['chlorpropamide','acetohexamide','tolbutamide','miglitol','troglitazone','tolazamide','examide','citoglipton','glipizide-metformin','glimepiride-pioglitazone','metformin-rosiglitazone','metformin-pioglitazone'],axis = 1, inplace = True)"
   ]
  },
  {
   "cell_type": "markdown",
   "id": "1755a7bc",
   "metadata": {},
   "source": [
    "## braki danych\n"
   ]
  },
  {
   "cell_type": "code",
   "execution_count": 317,
   "id": "8fc5ff7d",
   "metadata": {
    "scrolled": true
   },
   "outputs": [
    {
     "data": {
      "text/plain": [
       "repaglinide                0\n",
       "change                     0\n",
       "glyburide-metformin        0\n",
       "insulin                    0\n",
       "acarbose                   0\n",
       "rosiglitazone              0\n",
       "pioglitazone               0\n",
       "glyburide                  0\n",
       "glipizide                  0\n",
       "glimepiride                0\n",
       "nateglinide                0\n",
       "diabetesMed                0\n",
       "readmitted                 0\n",
       "A1Cresult                  0\n",
       "max_glu_serum              0\n",
       "age                        0\n",
       "gender                     0\n",
       "metformin                  0\n",
       "diag_1                    21\n",
       "diag_2                   358\n",
       "diag_3                  1423\n",
       "race                    2273\n",
       "payer_code             40256\n",
       "medical_specialty      49949\n",
       "weight                 98569\n",
       "dtype: int64"
      ]
     },
     "execution_count": 317,
     "metadata": {},
     "output_type": "execute_result"
    }
   ],
   "source": [
    "# dla zmiennych object o brakach zaznaczonych ?\n",
    "a = lambda x : x.str.count(\"\\?\").sum()\n",
    "df[df.columns[df.dtypes == 'object']].apply(a).sort_values()\n"
   ]
  },
  {
   "cell_type": "code",
   "execution_count": 318,
   "id": "b6967efe",
   "metadata": {},
   "outputs": [
    {
     "data": {
      "text/plain": [
       "encounter_id                0\n",
       "patient_nbr                 0\n",
       "admission_type_id           0\n",
       "discharge_disposition_id    0\n",
       "admission_source_id         0\n",
       "time_in_hospital            0\n",
       "num_lab_procedures          0\n",
       "num_procedures              0\n",
       "num_medications             0\n",
       "number_outpatient           0\n",
       "number_emergency            0\n",
       "number_inpatient            0\n",
       "number_diagnoses            0\n",
       "dtype: int64"
      ]
     },
     "execution_count": 318,
     "metadata": {},
     "output_type": "execute_result"
    }
   ],
   "source": [
    "# dla zmiennych int64\n",
    "df[df.columns[df.dtypes == 'int64']].isna().sum()"
   ]
  },
  {
   "cell_type": "markdown",
   "id": "32e1409b",
   "metadata": {},
   "source": [
    "    widzimy, że w przypadku `weight` brakuje aż niecałych 97% danych! natomiast w przypadku `payer_code` i `medical_specialty` brakuje około 40%. Usunę te kolumny. W przypadku `diag_123` ponieważ brak danych o diagnozie = brak diagnozy utworzymy nową klasę dla tych kolumn '-1'. kilumny `payer_code` oraz `medical_specialty` nie powinny wnosić za wiele do modelu, oraz brakuje ich około 50% obserwacji, dlatego usunę te kolumny. w przypadku zmiennej `race` brakuje ok 0,2% zmiennych, które nie powinny zawierać specjalncch przypadków, dlatego usunę te wiersze. Usunę też zmienną `weight`."
   ]
  },
  {
   "cell_type": "code",
   "execution_count": 319,
   "id": "f471967f",
   "metadata": {},
   "outputs": [],
   "source": [
    "df.drop(['weight','payer_code','medical_specialty','encounter_id'],axis = 1, inplace = True)\n",
    "df.loc[:,['diag_1','diag_2','diag_3']] = df.loc[:,['diag_1','diag_2','diag_3']].apply(lambda x : x.replace('?',-1))\n",
    "df = df.loc[df.race != \"?\",]"
   ]
  },
  {
   "cell_type": "code",
   "execution_count": 320,
   "id": "e663fa54",
   "metadata": {},
   "outputs": [
    {
     "data": {
      "text/plain": [
       "1    52900\n",
       "3    18508\n",
       "2    17786\n",
       "6     5225\n",
       "5     4727\n",
       "8      317\n",
       "7       20\n",
       "4       10\n",
       "Name: admission_type_id, dtype: int64"
      ]
     },
     "execution_count": 320,
     "metadata": {},
     "output_type": "execute_result"
    }
   ],
   "source": [
    "df.admission_type_id.value_counts()"
   ]
  },
  {
   "cell_type": "code",
   "execution_count": 321,
   "id": "abaaf635",
   "metadata": {},
   "outputs": [
    {
     "data": {
      "text/plain": [
       "1     58768\n",
       "3     13614\n",
       "6     12698\n",
       "18     3673\n",
       "2      2061\n",
       "22     1981\n",
       "11     1608\n",
       "5      1143\n",
       "25      973\n",
       "4       765\n",
       "7       611\n",
       "23      406\n",
       "13      397\n",
       "14      369\n",
       "28      138\n",
       "8       107\n",
       "15       63\n",
       "24       48\n",
       "9        21\n",
       "17       14\n",
       "16       11\n",
       "19        8\n",
       "10        6\n",
       "27        5\n",
       "12        3\n",
       "20        2\n",
       "Name: discharge_disposition_id, dtype: int64"
      ]
     },
     "execution_count": 321,
     "metadata": {},
     "output_type": "execute_result"
    }
   ],
   "source": [
    "df.discharge_disposition_id.value_counts()"
   ]
  },
  {
   "cell_type": "code",
   "execution_count": 322,
   "id": "729053da",
   "metadata": {},
   "outputs": [
    {
     "data": {
      "text/plain": [
       "7     56632\n",
       "1     28855\n",
       "17     6698\n",
       "4      2986\n",
       "6      1989\n",
       "2      1042\n",
       "5       848\n",
       "3       187\n",
       "20      160\n",
       "9        54\n",
       "8        16\n",
       "22       12\n",
       "10        7\n",
       "11        2\n",
       "14        2\n",
       "25        2\n",
       "13        1\n",
       "Name: admission_source_id, dtype: int64"
      ]
     },
     "execution_count": 322,
     "metadata": {},
     "output_type": "execute_result"
    }
   ],
   "source": [
    "df.admission_source_id.value_counts()"
   ]
  },
  {
   "cell_type": "code",
   "execution_count": 323,
   "id": "b452369a",
   "metadata": {},
   "outputs": [
    {
     "data": {
      "text/plain": [
       "Female             53575\n",
       "Male               45917\n",
       "Unknown/Invalid        1\n",
       "Name: gender, dtype: int64"
      ]
     },
     "execution_count": 323,
     "metadata": {},
     "output_type": "execute_result"
    }
   ],
   "source": [
    "df.gender.value_counts()"
   ]
  },
  {
   "cell_type": "markdown",
   "id": "cf6b989f",
   "metadata": {},
   "source": [
    "kolejno 6 18 i 17 oznaczają 'NULL' wg `IDs_mapping` stanowią nie wielką część wszystkich recordów, dlatego mogą zostać jak są. Problemem jest natomiast 8 w `admission_type_id`, 25 w `discharge_disposition_id` oraz 20 w `admission_source_id` które nie są zmapowane, jednak pojawiają się w zbiorach danych. Ponieważ najprawdopodobniej wynika to z błędu a ich liczba jest znikoma usunę te recordy. podobnie z `gender` ponieważ brakuje tylko jednej płci usunę ten rekord."
   ]
  },
  {
   "cell_type": "code",
   "execution_count": 324,
   "id": "d29772ec",
   "metadata": {},
   "outputs": [],
   "source": [
    "df = df.loc[(df.admission_type_id != 8) & (df.discharge_disposition_id != 25) & (df.admission_source_id != 20) & (df.gender != \"Unknown/Invalid\"),]"
   ]
  },
  {
   "cell_type": "code",
   "execution_count": 325,
   "id": "c1d7546f",
   "metadata": {},
   "outputs": [
    {
     "data": {
      "text/plain": [
       "None    93105\n",
       "Norm     2406\n",
       ">200     1346\n",
       ">300     1187\n",
       "Name: max_glu_serum, dtype: int64"
      ]
     },
     "execution_count": 325,
     "metadata": {},
     "output_type": "execute_result"
    }
   ],
   "source": [
    "df['max_glu_serum'].value_counts()"
   ]
  },
  {
   "cell_type": "code",
   "execution_count": 326,
   "id": "d8416f4d",
   "metadata": {},
   "outputs": [
    {
     "data": {
      "text/plain": [
       "None    81683\n",
       ">8       7818\n",
       "Norm     4861\n",
       ">7       3682\n",
       "Name: A1Cresult, dtype: int64"
      ]
     },
     "execution_count": 326,
     "metadata": {},
     "output_type": "execute_result"
    }
   ],
   "source": [
    "df['A1Cresult'].value_counts()"
   ]
  },
  {
   "cell_type": "markdown",
   "id": "80d49714",
   "metadata": {},
   "source": [
    "'none' oznacza tutaj, że nie wykonano testu brakuje więc 93% i 82% obesrwacji usuwam te kolumny"
   ]
  },
  {
   "cell_type": "code",
   "execution_count": 327,
   "id": "f2ead515",
   "metadata": {},
   "outputs": [],
   "source": [
    "df.drop(['A1Cresult','max_glu_serum'],axis = 1, inplace = True)"
   ]
  },
  {
   "cell_type": "markdown",
   "id": "db4f4d9e",
   "metadata": {},
   "source": [
    "## encoding zmiennyc"
   ]
  },
  {
   "cell_type": "code",
   "execution_count": 328,
   "id": "8e92c75e",
   "metadata": {},
   "outputs": [],
   "source": [
    "encoder = OneHotEncoder()\n",
    "df.race.value_counts()\n",
    "df.reset_index(inplace = True)\n"
   ]
  },
  {
   "cell_type": "markdown",
   "id": "b0feb8dd",
   "metadata": {},
   "source": [
    "W przypadku zmiennych kategorycznych małe klasy połącze tak, aby każda stanowiła co najmniej 5% rekordów. wiek zamienię średnią przedziału, do którego należy"
   ]
  },
  {
   "cell_type": "code",
   "execution_count": 329,
   "id": "1a897a56",
   "metadata": {},
   "outputs": [
    {
     "name": "stdout",
     "output_type": "stream",
     "text": [
      "Caucasian          74928\n",
      "AfricanAmerican    18968\n",
      "Other               4148\n",
      "Name: race, dtype: int64\n"
     ]
    }
   ],
   "source": [
    "df.race.replace(to_replace  = ['Hispanic','Asian','Other'], value =  'Other', inplace  = True)\n",
    "print(df.race.value_counts())\n",
    "edf = pd.DataFrame(encoder.fit_transform(df[['race']]).toarray(), columns = ['Race_Afroamerican','Race_Caucasian','Race_Other'])\n",
    "df = df.join(edf)"
   ]
  },
  {
   "cell_type": "code",
   "execution_count": 330,
   "id": "9d4352a6",
   "metadata": {},
   "outputs": [
    {
     "data": {
      "text/plain": [
       "0        15\n",
       "1        25\n",
       "2        35\n",
       "3        45\n",
       "4        55\n",
       "         ..\n",
       "98039    75\n",
       "98040    85\n",
       "98041    75\n",
       "98042    85\n",
       "98043    75\n",
       "Name: age, Length: 98044, dtype: int64"
      ]
     },
     "execution_count": 330,
     "metadata": {},
     "output_type": "execute_result"
    }
   ],
   "source": [
    "df['age'] = df['age'].map({'[0-10)':5,'[10-20)':15,'[20-30)':25, '[30-40)':35, '[40-50)':45, '[50-60)':55, '[60-70)':65, '[70-80)':75, '[80-90)':85, '[90-100)':95})\n",
    "df['age']\n"
   ]
  },
  {
   "cell_type": "code",
   "execution_count": 331,
   "id": "0b252dc2",
   "metadata": {},
   "outputs": [],
   "source": [
    "df['admission_type_id']= df['admission_type_id'].map({1:'Admission_Emergency',2:'Admisison_Urgent',3:'Admission_Elective',4:'Admission_Other',5:'Admission_Other',6:'Admission_Other',7:'Admission_Other',8:'Admission_Other'}) # pozbywam się rzadkich\n"
   ]
  },
  {
   "cell_type": "code",
   "execution_count": 332,
   "id": "58ff2b58",
   "metadata": {},
   "outputs": [],
   "source": [
    "edf = pd.DataFrame(encoder.fit_transform(df[['admission_type_id']]).toarray(),columns = ['Admission_Emergency','Admission_Urgent','Admission_Elective','Admission_Other'])\n",
    "df = df.join(edf)"
   ]
  },
  {
   "cell_type": "code",
   "execution_count": 333,
   "id": "1c07732a",
   "metadata": {},
   "outputs": [],
   "source": [
    "edf = pd.DataFrame(encoder.fit_transform(df[['gender']]).toarray(),columns = ['female','male'])\n",
    "df = df.join(edf)"
   ]
  },
  {
   "cell_type": "code",
   "execution_count": 334,
   "id": "de474b5f",
   "metadata": {
    "scrolled": true
   },
   "outputs": [],
   "source": [
    "df.drop(['race','gender','admission_type_id'], axis = 1, inplace = True)"
   ]
  },
  {
   "cell_type": "code",
   "execution_count": 335,
   "id": "04d4ca7c",
   "metadata": {},
   "outputs": [
    {
     "name": "stdout",
     "output_type": "stream",
     "text": [
      "<class 'pandas.core.frame.DataFrame'>\n",
      "RangeIndex: 98044 entries, 0 to 98043\n",
      "Data columns (total 39 columns):\n",
      " #   Column                    Non-Null Count  Dtype  \n",
      "---  ------                    --------------  -----  \n",
      " 0   index                     98044 non-null  int64  \n",
      " 1   patient_nbr               98044 non-null  int64  \n",
      " 2   age                       98044 non-null  int64  \n",
      " 3   discharge_disposition_id  98044 non-null  int64  \n",
      " 4   admission_source_id       98044 non-null  int64  \n",
      " 5   time_in_hospital          98044 non-null  int64  \n",
      " 6   num_lab_procedures        98044 non-null  int64  \n",
      " 7   num_procedures            98044 non-null  int64  \n",
      " 8   num_medications           98044 non-null  int64  \n",
      " 9   number_outpatient         98044 non-null  int64  \n",
      " 10  number_emergency          98044 non-null  int64  \n",
      " 11  number_inpatient          98044 non-null  int64  \n",
      " 12  diag_1                    98044 non-null  object \n",
      " 13  diag_2                    98044 non-null  object \n",
      " 14  diag_3                    98044 non-null  object \n",
      " 15  number_diagnoses          98044 non-null  int64  \n",
      " 16  metformin                 98044 non-null  object \n",
      " 17  repaglinide               98044 non-null  object \n",
      " 18  nateglinide               98044 non-null  object \n",
      " 19  glimepiride               98044 non-null  object \n",
      " 20  glipizide                 98044 non-null  object \n",
      " 21  glyburide                 98044 non-null  object \n",
      " 22  pioglitazone              98044 non-null  object \n",
      " 23  rosiglitazone             98044 non-null  object \n",
      " 24  acarbose                  98044 non-null  object \n",
      " 25  insulin                   98044 non-null  object \n",
      " 26  glyburide-metformin       98044 non-null  object \n",
      " 27  change                    98044 non-null  object \n",
      " 28  diabetesMed               98044 non-null  object \n",
      " 29  readmitted                98044 non-null  object \n",
      " 30  Race_Afroamerican         98044 non-null  float64\n",
      " 31  Race_Caucasian            98044 non-null  float64\n",
      " 32  Race_Other                98044 non-null  float64\n",
      " 33  Admission_Emergency       98044 non-null  float64\n",
      " 34  Admission_Urgent          98044 non-null  float64\n",
      " 35  Admission_Elective        98044 non-null  float64\n",
      " 36  Admission_Other           98044 non-null  float64\n",
      " 37  female                    98044 non-null  float64\n",
      " 38  male                      98044 non-null  float64\n",
      "dtypes: float64(9), int64(13), object(17)\n",
      "memory usage: 29.2+ MB\n"
     ]
    }
   ],
   "source": [
    "df.info()"
   ]
  },
  {
   "cell_type": "code",
   "execution_count": 336,
   "id": "b7f0badc",
   "metadata": {},
   "outputs": [],
   "source": [
    "edf = pd.DataFrame(encoder.fit_transform(df.loc[:,'metformin':'glyburide-metformin']).toarray())\n",
    "df = df.join(edf)\n"
   ]
  },
  {
   "cell_type": "code",
   "execution_count": 337,
   "id": "5308035a",
   "metadata": {},
   "outputs": [],
   "source": [
    "df.discharge_disposition_id.value_counts()\n",
    "from collections import defaultdict\n",
    "d = defaultdict(lambda : 'other')\n",
    "d[1] = 'discharged to home'\n",
    "d[3] = 'transferred to snf'\n",
    "d[6] = 'Discharged/transferred to home with home health service'\n",
    "df['discharge_disposition_id'] = df['discharge_disposition_id'].map(d)\n",
    "edf = pd.DataFrame(encoder.fit_transform(df[['discharge_disposition_id']]).toarray(),columns=['discharge_home','discharge_snf','discharge_hs','discharge_other'])\n",
    "df = df.join(edf)"
   ]
  },
  {
   "cell_type": "code",
   "execution_count": 338,
   "id": "683fee5c",
   "metadata": {
    "scrolled": true
   },
   "outputs": [],
   "source": [
    "df.drop(df.loc[:,'metformin':'glyburide-metformin'].columns,axis = 1, inplace = True)\n",
    "df.drop(['patient_nbr','discharge_disposition_id'],axis = 1, inplace = True)"
   ]
  },
  {
   "cell_type": "code",
   "execution_count": 339,
   "id": "e38b06b8",
   "metadata": {},
   "outputs": [],
   "source": [
    "df.admission_source_id.value_counts()\n",
    "d = defaultdict(lambda : 'other')\n",
    "d[7] = 'er'\n",
    "d[1] = 'physician_referral'\n",
    "df['admission_source_id'] = df['admission_source_id'].map(d)\n",
    "edf = pd.DataFrame(encoder.fit_transform(df[['admission_source_id']]).toarray(),columns=['admission_source_er','admission_source_physician','admission_source_other'])\n",
    "df = df.join(edf)"
   ]
  },
  {
   "cell_type": "code",
   "execution_count": 340,
   "id": "9854d811",
   "metadata": {},
   "outputs": [],
   "source": [
    "df.drop('admission_source_id',axis = 1, inplace = True)"
   ]
  },
  {
   "cell_type": "code",
   "execution_count": 341,
   "id": "8e74e3ef",
   "metadata": {},
   "outputs": [
    {
     "data": {
      "text/plain": [
       "0    52776\n",
       "1    45268\n",
       "Name: change, dtype: int64"
      ]
     },
     "execution_count": 341,
     "metadata": {},
     "output_type": "execute_result"
    }
   ],
   "source": [
    "df['change'] = df['change'].map({'Ch':1,'No':0})\n",
    "df['change'].value_counts()"
   ]
  },
  {
   "cell_type": "code",
   "execution_count": 342,
   "id": "eba26229",
   "metadata": {},
   "outputs": [
    {
     "data": {
      "text/plain": [
       "1    75329\n",
       "0    22715\n",
       "Name: diabetesMed, dtype: int64"
      ]
     },
     "execution_count": 342,
     "metadata": {},
     "output_type": "execute_result"
    }
   ],
   "source": [
    "df['diabetesMed'] = df['diabetesMed'].map({'Yes':1, 'No':0})\n",
    "df['diabetesMed'].value_counts()"
   ]
  },
  {
   "cell_type": "code",
   "execution_count": 343,
   "id": "d1852a8f",
   "metadata": {},
   "outputs": [],
   "source": [
    "def fix(x):\n",
    "    try:\n",
    "        return int(x)\n",
    "    except:\n",
    "        return -1"
   ]
  },
  {
   "cell_type": "code",
   "execution_count": 344,
   "id": "294384af",
   "metadata": {},
   "outputs": [],
   "source": [
    "df[['diag_1','diag_2','diag_3']] = df[['diag_1','diag_2','diag_3']].applymap(fix)"
   ]
  },
  {
   "cell_type": "code",
   "execution_count": 345,
   "id": "e2b2062c",
   "metadata": {},
   "outputs": [],
   "source": [
    "df['diag_1'] = pd.cut(df['diag_1'],bins= [-2,0,139,239,279,289,319,389,459,519,579,629,679,709,739,759,779,799,1000])\n",
    "df['diag_2'] = pd.cut(df['diag_2'],bins= [-2,0,139,239,279,289,319,389,459,519,579,629,679,709,739,759,779,799,1000])\n",
    "df['diag_3'] = pd.cut(df['diag_3'],bins= [-2,0,139,239,279,289,319,389,459,519,579,629,679,709,739,759,779,799,1000])\n",
    "d = defaultdict(lambda : 'other')\n",
    "d[pd.Interval(389,459)] = 'circulatory'\n",
    "d[pd.Interval(459,519)] = 'endocrine'\n",
    "d[pd.Interval(519,579)] = 'respiratory'\n",
    "d[pd.Interval(579, 629)] = 'genitourinary'\n",
    "df['diag_1'] = df['diag_1'].map(d)\n",
    "df['diag_2'] = df['diag_2'].map(d)\n",
    "df['diag_3'] = df['diag_3'].map(d)"
   ]
  },
  {
   "cell_type": "code",
   "execution_count": 346,
   "id": "77b6f704",
   "metadata": {},
   "outputs": [],
   "source": [
    "df['diag_other'] = 1*((df['diag_1']=='other') | (df['diag_2'] == 'other') | (df['diag_3'] == 'other'))+0\n",
    "df['diag_circulatory'] = 1*((df['diag_1']=='circulatory') | (df['diag_2'] == 'circulatory') | (df['diag_3'] == 'circulatory'))+0\n",
    "df['diag_endocrine'] = 1*((df['diag_1']=='endocrine') | (df['diag_2'] == 'endocrine') | (df['diag_3'] == 'endocrine'))+0\n",
    "df['diag_respiratory'] = 1*((df['diag_1']=='respiratory') | (df['diag_2'] == 'respiratory') | (df['diag_3'] == 'respiratory'))+0\n",
    "df['diag_genitourinary'] = 1*((df['diag_1']=='genitourinary') | (df['diag_2'] == 'genitourinary') | (df['diag_3'] == 'genitourinary'))+0\n"
   ]
  },
  {
   "cell_type": "code",
   "execution_count": 347,
   "id": "266c3a9c",
   "metadata": {},
   "outputs": [],
   "source": [
    "df.drop(['diag_1','diag_2','diag_3'],axis = 1, inplace = True)"
   ]
  },
  {
   "cell_type": "code",
   "execution_count": 348,
   "id": "fcde964d",
   "metadata": {},
   "outputs": [],
   "source": [
    "d = defaultdict(lambda :numpy.array([0,0,1]))\n",
    "d[\">30\"] = numpy.array([1,0,0])\n",
    "d[\"<30\"] = numpy.array([1,1,0])\n",
    "df['readmitted'] = df['readmitted'].map(d)"
   ]
  },
  {
   "cell_type": "code",
   "execution_count": 349,
   "id": "fcf66b92",
   "metadata": {},
   "outputs": [],
   "source": [
    "df.drop('index',axis = 1, inplace = True)"
   ]
  },
  {
   "cell_type": "markdown",
   "id": "22e1237a",
   "metadata": {},
   "source": [
    "## wynikowa ramka"
   ]
  },
  {
   "cell_type": "code",
   "execution_count": 350,
   "id": "fcf97d75",
   "metadata": {},
   "outputs": [
    {
     "name": "stdout",
     "output_type": "stream",
     "text": [
      "<class 'pandas.core.frame.DataFrame'>\n",
      "RangeIndex: 98044 entries, 0 to 98043\n",
      "Data columns (total 77 columns):\n",
      " #   Column                      Non-Null Count  Dtype  \n",
      "---  ------                      --------------  -----  \n",
      " 0   age                         98044 non-null  int64  \n",
      " 1   time_in_hospital            98044 non-null  int64  \n",
      " 2   num_lab_procedures          98044 non-null  int64  \n",
      " 3   num_procedures              98044 non-null  int64  \n",
      " 4   num_medications             98044 non-null  int64  \n",
      " 5   number_outpatient           98044 non-null  int64  \n",
      " 6   number_emergency            98044 non-null  int64  \n",
      " 7   number_inpatient            98044 non-null  int64  \n",
      " 8   number_diagnoses            98044 non-null  int64  \n",
      " 9   change                      98044 non-null  int64  \n",
      " 10  diabetesMed                 98044 non-null  int64  \n",
      " 11  readmitted                  98044 non-null  object \n",
      " 12  Race_Afroamerican           98044 non-null  float64\n",
      " 13  Race_Caucasian              98044 non-null  float64\n",
      " 14  Race_Other                  98044 non-null  float64\n",
      " 15  Admission_Emergency         98044 non-null  float64\n",
      " 16  Admission_Urgent            98044 non-null  float64\n",
      " 17  Admission_Elective          98044 non-null  float64\n",
      " 18  Admission_Other             98044 non-null  float64\n",
      " 19  female                      98044 non-null  float64\n",
      " 20  male                        98044 non-null  float64\n",
      " 21  0                           98044 non-null  float64\n",
      " 22  1                           98044 non-null  float64\n",
      " 23  2                           98044 non-null  float64\n",
      " 24  3                           98044 non-null  float64\n",
      " 25  4                           98044 non-null  float64\n",
      " 26  5                           98044 non-null  float64\n",
      " 27  6                           98044 non-null  float64\n",
      " 28  7                           98044 non-null  float64\n",
      " 29  8                           98044 non-null  float64\n",
      " 30  9                           98044 non-null  float64\n",
      " 31  10                          98044 non-null  float64\n",
      " 32  11                          98044 non-null  float64\n",
      " 33  12                          98044 non-null  float64\n",
      " 34  13                          98044 non-null  float64\n",
      " 35  14                          98044 non-null  float64\n",
      " 36  15                          98044 non-null  float64\n",
      " 37  16                          98044 non-null  float64\n",
      " 38  17                          98044 non-null  float64\n",
      " 39  18                          98044 non-null  float64\n",
      " 40  19                          98044 non-null  float64\n",
      " 41  20                          98044 non-null  float64\n",
      " 42  21                          98044 non-null  float64\n",
      " 43  22                          98044 non-null  float64\n",
      " 44  23                          98044 non-null  float64\n",
      " 45  24                          98044 non-null  float64\n",
      " 46  25                          98044 non-null  float64\n",
      " 47  26                          98044 non-null  float64\n",
      " 48  27                          98044 non-null  float64\n",
      " 49  28                          98044 non-null  float64\n",
      " 50  29                          98044 non-null  float64\n",
      " 51  30                          98044 non-null  float64\n",
      " 52  31                          98044 non-null  float64\n",
      " 53  32                          98044 non-null  float64\n",
      " 54  33                          98044 non-null  float64\n",
      " 55  34                          98044 non-null  float64\n",
      " 56  35                          98044 non-null  float64\n",
      " 57  36                          98044 non-null  float64\n",
      " 58  37                          98044 non-null  float64\n",
      " 59  38                          98044 non-null  float64\n",
      " 60  39                          98044 non-null  float64\n",
      " 61  40                          98044 non-null  float64\n",
      " 62  41                          98044 non-null  float64\n",
      " 63  42                          98044 non-null  float64\n",
      " 64  43                          98044 non-null  float64\n",
      " 65  discharge_home              98044 non-null  float64\n",
      " 66  discharge_snf               98044 non-null  float64\n",
      " 67  discharge_hs                98044 non-null  float64\n",
      " 68  discharge_other             98044 non-null  float64\n",
      " 69  admission_source_er         98044 non-null  float64\n",
      " 70  admission_source_physician  98044 non-null  float64\n",
      " 71  admission_source_other      98044 non-null  float64\n",
      " 72  diag_other                  98044 non-null  int32  \n",
      " 73  diag_circulatory            98044 non-null  int32  \n",
      " 74  diag_endocrine              98044 non-null  int32  \n",
      " 75  diag_respiratory            98044 non-null  int32  \n",
      " 76  diag_genitourinary          98044 non-null  int32  \n",
      "dtypes: float64(60), int32(5), int64(11), object(1)\n",
      "memory usage: 55.7+ MB\n"
     ]
    }
   ],
   "source": [
    "df.info()"
   ]
  }
 ],
 "metadata": {
  "kernelspec": {
   "display_name": "Python 3",
   "language": "python",
   "name": "python3"
  },
  "language_info": {
   "codemirror_mode": {
    "name": "ipython",
    "version": 3
   },
   "file_extension": ".py",
   "mimetype": "text/x-python",
   "name": "python",
   "nbconvert_exporter": "python",
   "pygments_lexer": "ipython3",
   "version": "3.8.10"
  }
 },
 "nbformat": 4,
 "nbformat_minor": 5
}
