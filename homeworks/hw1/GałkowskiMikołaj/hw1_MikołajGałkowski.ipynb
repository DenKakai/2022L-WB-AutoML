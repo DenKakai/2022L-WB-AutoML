{
 "cells": [
  {
   "cell_type": "markdown",
   "metadata": {},
   "source": [
    "# HW1 - EDA + PREPROCESSING - MIKOŁAJ GAŁKOWSKI"
   ]
  },
  {
   "cell_type": "code",
   "execution_count": 1,
   "metadata": {},
   "outputs": [],
   "source": [
    "import pandas as pd\n",
    "import numpy as np\n",
    "import matplotlib.pyplot as plt\n",
    "import seaborn as sns"
   ]
  },
  {
   "cell_type": "markdown",
   "metadata": {},
   "source": [
    "# Loading the data"
   ]
  },
  {
   "cell_type": "code",
   "execution_count": 2,
   "metadata": {},
   "outputs": [],
   "source": [
    "data = pd.read_csv('dataset_diabetes/diabetic_data.csv')"
   ]
  },
  {
   "cell_type": "markdown",
   "metadata": {},
   "source": [
    "### Shape of the data"
   ]
  },
  {
   "cell_type": "code",
   "execution_count": 3,
   "metadata": {},
   "outputs": [
    {
     "name": "stdout",
     "output_type": "stream",
     "text": [
      "(101766, 50)\n"
     ]
    }
   ],
   "source": [
    "print(data.shape)"
   ]
  },
  {
   "cell_type": "markdown",
   "metadata": {},
   "source": [
    "### First look at the data"
   ]
  },
  {
   "cell_type": "code",
   "execution_count": 4,
   "metadata": {},
   "outputs": [
    {
     "data": {
      "text/html": [
       "<div>\n",
       "<style scoped>\n",
       "    .dataframe tbody tr th:only-of-type {\n",
       "        vertical-align: middle;\n",
       "    }\n",
       "\n",
       "    .dataframe tbody tr th {\n",
       "        vertical-align: top;\n",
       "    }\n",
       "\n",
       "    .dataframe thead th {\n",
       "        text-align: right;\n",
       "    }\n",
       "</style>\n",
       "<table border=\"1\" class=\"dataframe\">\n",
       "  <thead>\n",
       "    <tr style=\"text-align: right;\">\n",
       "      <th></th>\n",
       "      <th>encounter_id</th>\n",
       "      <th>patient_nbr</th>\n",
       "      <th>race</th>\n",
       "      <th>gender</th>\n",
       "      <th>age</th>\n",
       "      <th>weight</th>\n",
       "      <th>admission_type_id</th>\n",
       "      <th>discharge_disposition_id</th>\n",
       "      <th>admission_source_id</th>\n",
       "      <th>time_in_hospital</th>\n",
       "      <th>...</th>\n",
       "      <th>citoglipton</th>\n",
       "      <th>insulin</th>\n",
       "      <th>glyburide-metformin</th>\n",
       "      <th>glipizide-metformin</th>\n",
       "      <th>glimepiride-pioglitazone</th>\n",
       "      <th>metformin-rosiglitazone</th>\n",
       "      <th>metformin-pioglitazone</th>\n",
       "      <th>change</th>\n",
       "      <th>diabetesMed</th>\n",
       "      <th>readmitted</th>\n",
       "    </tr>\n",
       "  </thead>\n",
       "  <tbody>\n",
       "    <tr>\n",
       "      <th>0</th>\n",
       "      <td>2278392</td>\n",
       "      <td>8222157</td>\n",
       "      <td>Caucasian</td>\n",
       "      <td>Female</td>\n",
       "      <td>[0-10)</td>\n",
       "      <td>?</td>\n",
       "      <td>6</td>\n",
       "      <td>25</td>\n",
       "      <td>1</td>\n",
       "      <td>1</td>\n",
       "      <td>...</td>\n",
       "      <td>No</td>\n",
       "      <td>No</td>\n",
       "      <td>No</td>\n",
       "      <td>No</td>\n",
       "      <td>No</td>\n",
       "      <td>No</td>\n",
       "      <td>No</td>\n",
       "      <td>No</td>\n",
       "      <td>No</td>\n",
       "      <td>NO</td>\n",
       "    </tr>\n",
       "    <tr>\n",
       "      <th>1</th>\n",
       "      <td>149190</td>\n",
       "      <td>55629189</td>\n",
       "      <td>Caucasian</td>\n",
       "      <td>Female</td>\n",
       "      <td>[10-20)</td>\n",
       "      <td>?</td>\n",
       "      <td>1</td>\n",
       "      <td>1</td>\n",
       "      <td>7</td>\n",
       "      <td>3</td>\n",
       "      <td>...</td>\n",
       "      <td>No</td>\n",
       "      <td>Up</td>\n",
       "      <td>No</td>\n",
       "      <td>No</td>\n",
       "      <td>No</td>\n",
       "      <td>No</td>\n",
       "      <td>No</td>\n",
       "      <td>Ch</td>\n",
       "      <td>Yes</td>\n",
       "      <td>&gt;30</td>\n",
       "    </tr>\n",
       "    <tr>\n",
       "      <th>2</th>\n",
       "      <td>64410</td>\n",
       "      <td>86047875</td>\n",
       "      <td>AfricanAmerican</td>\n",
       "      <td>Female</td>\n",
       "      <td>[20-30)</td>\n",
       "      <td>?</td>\n",
       "      <td>1</td>\n",
       "      <td>1</td>\n",
       "      <td>7</td>\n",
       "      <td>2</td>\n",
       "      <td>...</td>\n",
       "      <td>No</td>\n",
       "      <td>No</td>\n",
       "      <td>No</td>\n",
       "      <td>No</td>\n",
       "      <td>No</td>\n",
       "      <td>No</td>\n",
       "      <td>No</td>\n",
       "      <td>No</td>\n",
       "      <td>Yes</td>\n",
       "      <td>NO</td>\n",
       "    </tr>\n",
       "    <tr>\n",
       "      <th>3</th>\n",
       "      <td>500364</td>\n",
       "      <td>82442376</td>\n",
       "      <td>Caucasian</td>\n",
       "      <td>Male</td>\n",
       "      <td>[30-40)</td>\n",
       "      <td>?</td>\n",
       "      <td>1</td>\n",
       "      <td>1</td>\n",
       "      <td>7</td>\n",
       "      <td>2</td>\n",
       "      <td>...</td>\n",
       "      <td>No</td>\n",
       "      <td>Up</td>\n",
       "      <td>No</td>\n",
       "      <td>No</td>\n",
       "      <td>No</td>\n",
       "      <td>No</td>\n",
       "      <td>No</td>\n",
       "      <td>Ch</td>\n",
       "      <td>Yes</td>\n",
       "      <td>NO</td>\n",
       "    </tr>\n",
       "    <tr>\n",
       "      <th>4</th>\n",
       "      <td>16680</td>\n",
       "      <td>42519267</td>\n",
       "      <td>Caucasian</td>\n",
       "      <td>Male</td>\n",
       "      <td>[40-50)</td>\n",
       "      <td>?</td>\n",
       "      <td>1</td>\n",
       "      <td>1</td>\n",
       "      <td>7</td>\n",
       "      <td>1</td>\n",
       "      <td>...</td>\n",
       "      <td>No</td>\n",
       "      <td>Steady</td>\n",
       "      <td>No</td>\n",
       "      <td>No</td>\n",
       "      <td>No</td>\n",
       "      <td>No</td>\n",
       "      <td>No</td>\n",
       "      <td>Ch</td>\n",
       "      <td>Yes</td>\n",
       "      <td>NO</td>\n",
       "    </tr>\n",
       "  </tbody>\n",
       "</table>\n",
       "<p>5 rows × 50 columns</p>\n",
       "</div>"
      ],
      "text/plain": [
       "   encounter_id  patient_nbr             race  gender      age weight  \\\n",
       "0       2278392      8222157        Caucasian  Female   [0-10)      ?   \n",
       "1        149190     55629189        Caucasian  Female  [10-20)      ?   \n",
       "2         64410     86047875  AfricanAmerican  Female  [20-30)      ?   \n",
       "3        500364     82442376        Caucasian    Male  [30-40)      ?   \n",
       "4         16680     42519267        Caucasian    Male  [40-50)      ?   \n",
       "\n",
       "   admission_type_id  discharge_disposition_id  admission_source_id  \\\n",
       "0                  6                        25                    1   \n",
       "1                  1                         1                    7   \n",
       "2                  1                         1                    7   \n",
       "3                  1                         1                    7   \n",
       "4                  1                         1                    7   \n",
       "\n",
       "   time_in_hospital  ... citoglipton insulin  glyburide-metformin  \\\n",
       "0                 1  ...          No      No                   No   \n",
       "1                 3  ...          No      Up                   No   \n",
       "2                 2  ...          No      No                   No   \n",
       "3                 2  ...          No      Up                   No   \n",
       "4                 1  ...          No  Steady                   No   \n",
       "\n",
       "   glipizide-metformin  glimepiride-pioglitazone  metformin-rosiglitazone  \\\n",
       "0                   No                        No                       No   \n",
       "1                   No                        No                       No   \n",
       "2                   No                        No                       No   \n",
       "3                   No                        No                       No   \n",
       "4                   No                        No                       No   \n",
       "\n",
       "   metformin-pioglitazone  change diabetesMed readmitted  \n",
       "0                      No      No          No         NO  \n",
       "1                      No      Ch         Yes        >30  \n",
       "2                      No      No         Yes         NO  \n",
       "3                      No      Ch         Yes         NO  \n",
       "4                      No      Ch         Yes         NO  \n",
       "\n",
       "[5 rows x 50 columns]"
      ]
     },
     "execution_count": 4,
     "metadata": {},
     "output_type": "execute_result"
    }
   ],
   "source": [
    "data.head(5)"
   ]
  },
  {
   "cell_type": "code",
   "execution_count": 5,
   "metadata": {},
   "outputs": [
    {
     "data": {
      "text/html": [
       "<div>\n",
       "<style scoped>\n",
       "    .dataframe tbody tr th:only-of-type {\n",
       "        vertical-align: middle;\n",
       "    }\n",
       "\n",
       "    .dataframe tbody tr th {\n",
       "        vertical-align: top;\n",
       "    }\n",
       "\n",
       "    .dataframe thead th {\n",
       "        text-align: right;\n",
       "    }\n",
       "</style>\n",
       "<table border=\"1\" class=\"dataframe\">\n",
       "  <thead>\n",
       "    <tr style=\"text-align: right;\">\n",
       "      <th></th>\n",
       "      <th>0</th>\n",
       "      <th>1</th>\n",
       "      <th>2</th>\n",
       "      <th>3</th>\n",
       "      <th>4</th>\n",
       "    </tr>\n",
       "  </thead>\n",
       "  <tbody>\n",
       "    <tr>\n",
       "      <th>encounter_id</th>\n",
       "      <td>2278392</td>\n",
       "      <td>149190</td>\n",
       "      <td>64410</td>\n",
       "      <td>500364</td>\n",
       "      <td>16680</td>\n",
       "    </tr>\n",
       "    <tr>\n",
       "      <th>patient_nbr</th>\n",
       "      <td>8222157</td>\n",
       "      <td>55629189</td>\n",
       "      <td>86047875</td>\n",
       "      <td>82442376</td>\n",
       "      <td>42519267</td>\n",
       "    </tr>\n",
       "    <tr>\n",
       "      <th>race</th>\n",
       "      <td>Caucasian</td>\n",
       "      <td>Caucasian</td>\n",
       "      <td>AfricanAmerican</td>\n",
       "      <td>Caucasian</td>\n",
       "      <td>Caucasian</td>\n",
       "    </tr>\n",
       "    <tr>\n",
       "      <th>gender</th>\n",
       "      <td>Female</td>\n",
       "      <td>Female</td>\n",
       "      <td>Female</td>\n",
       "      <td>Male</td>\n",
       "      <td>Male</td>\n",
       "    </tr>\n",
       "    <tr>\n",
       "      <th>age</th>\n",
       "      <td>[0-10)</td>\n",
       "      <td>[10-20)</td>\n",
       "      <td>[20-30)</td>\n",
       "      <td>[30-40)</td>\n",
       "      <td>[40-50)</td>\n",
       "    </tr>\n",
       "    <tr>\n",
       "      <th>weight</th>\n",
       "      <td>?</td>\n",
       "      <td>?</td>\n",
       "      <td>?</td>\n",
       "      <td>?</td>\n",
       "      <td>?</td>\n",
       "    </tr>\n",
       "    <tr>\n",
       "      <th>admission_type_id</th>\n",
       "      <td>6</td>\n",
       "      <td>1</td>\n",
       "      <td>1</td>\n",
       "      <td>1</td>\n",
       "      <td>1</td>\n",
       "    </tr>\n",
       "    <tr>\n",
       "      <th>discharge_disposition_id</th>\n",
       "      <td>25</td>\n",
       "      <td>1</td>\n",
       "      <td>1</td>\n",
       "      <td>1</td>\n",
       "      <td>1</td>\n",
       "    </tr>\n",
       "    <tr>\n",
       "      <th>admission_source_id</th>\n",
       "      <td>1</td>\n",
       "      <td>7</td>\n",
       "      <td>7</td>\n",
       "      <td>7</td>\n",
       "      <td>7</td>\n",
       "    </tr>\n",
       "    <tr>\n",
       "      <th>time_in_hospital</th>\n",
       "      <td>1</td>\n",
       "      <td>3</td>\n",
       "      <td>2</td>\n",
       "      <td>2</td>\n",
       "      <td>1</td>\n",
       "    </tr>\n",
       "    <tr>\n",
       "      <th>payer_code</th>\n",
       "      <td>?</td>\n",
       "      <td>?</td>\n",
       "      <td>?</td>\n",
       "      <td>?</td>\n",
       "      <td>?</td>\n",
       "    </tr>\n",
       "    <tr>\n",
       "      <th>medical_specialty</th>\n",
       "      <td>Pediatrics-Endocrinology</td>\n",
       "      <td>?</td>\n",
       "      <td>?</td>\n",
       "      <td>?</td>\n",
       "      <td>?</td>\n",
       "    </tr>\n",
       "    <tr>\n",
       "      <th>num_lab_procedures</th>\n",
       "      <td>41</td>\n",
       "      <td>59</td>\n",
       "      <td>11</td>\n",
       "      <td>44</td>\n",
       "      <td>51</td>\n",
       "    </tr>\n",
       "    <tr>\n",
       "      <th>num_procedures</th>\n",
       "      <td>0</td>\n",
       "      <td>0</td>\n",
       "      <td>5</td>\n",
       "      <td>1</td>\n",
       "      <td>0</td>\n",
       "    </tr>\n",
       "    <tr>\n",
       "      <th>num_medications</th>\n",
       "      <td>1</td>\n",
       "      <td>18</td>\n",
       "      <td>13</td>\n",
       "      <td>16</td>\n",
       "      <td>8</td>\n",
       "    </tr>\n",
       "    <tr>\n",
       "      <th>number_outpatient</th>\n",
       "      <td>0</td>\n",
       "      <td>0</td>\n",
       "      <td>2</td>\n",
       "      <td>0</td>\n",
       "      <td>0</td>\n",
       "    </tr>\n",
       "    <tr>\n",
       "      <th>number_emergency</th>\n",
       "      <td>0</td>\n",
       "      <td>0</td>\n",
       "      <td>0</td>\n",
       "      <td>0</td>\n",
       "      <td>0</td>\n",
       "    </tr>\n",
       "    <tr>\n",
       "      <th>number_inpatient</th>\n",
       "      <td>0</td>\n",
       "      <td>0</td>\n",
       "      <td>1</td>\n",
       "      <td>0</td>\n",
       "      <td>0</td>\n",
       "    </tr>\n",
       "    <tr>\n",
       "      <th>diag_1</th>\n",
       "      <td>250.83</td>\n",
       "      <td>276</td>\n",
       "      <td>648</td>\n",
       "      <td>8</td>\n",
       "      <td>197</td>\n",
       "    </tr>\n",
       "    <tr>\n",
       "      <th>diag_2</th>\n",
       "      <td>?</td>\n",
       "      <td>250.01</td>\n",
       "      <td>250</td>\n",
       "      <td>250.43</td>\n",
       "      <td>157</td>\n",
       "    </tr>\n",
       "    <tr>\n",
       "      <th>diag_3</th>\n",
       "      <td>?</td>\n",
       "      <td>255</td>\n",
       "      <td>V27</td>\n",
       "      <td>403</td>\n",
       "      <td>250</td>\n",
       "    </tr>\n",
       "    <tr>\n",
       "      <th>number_diagnoses</th>\n",
       "      <td>1</td>\n",
       "      <td>9</td>\n",
       "      <td>6</td>\n",
       "      <td>7</td>\n",
       "      <td>5</td>\n",
       "    </tr>\n",
       "    <tr>\n",
       "      <th>max_glu_serum</th>\n",
       "      <td>None</td>\n",
       "      <td>None</td>\n",
       "      <td>None</td>\n",
       "      <td>None</td>\n",
       "      <td>None</td>\n",
       "    </tr>\n",
       "    <tr>\n",
       "      <th>A1Cresult</th>\n",
       "      <td>None</td>\n",
       "      <td>None</td>\n",
       "      <td>None</td>\n",
       "      <td>None</td>\n",
       "      <td>None</td>\n",
       "    </tr>\n",
       "    <tr>\n",
       "      <th>metformin</th>\n",
       "      <td>No</td>\n",
       "      <td>No</td>\n",
       "      <td>No</td>\n",
       "      <td>No</td>\n",
       "      <td>No</td>\n",
       "    </tr>\n",
       "    <tr>\n",
       "      <th>repaglinide</th>\n",
       "      <td>No</td>\n",
       "      <td>No</td>\n",
       "      <td>No</td>\n",
       "      <td>No</td>\n",
       "      <td>No</td>\n",
       "    </tr>\n",
       "    <tr>\n",
       "      <th>nateglinide</th>\n",
       "      <td>No</td>\n",
       "      <td>No</td>\n",
       "      <td>No</td>\n",
       "      <td>No</td>\n",
       "      <td>No</td>\n",
       "    </tr>\n",
       "    <tr>\n",
       "      <th>chlorpropamide</th>\n",
       "      <td>No</td>\n",
       "      <td>No</td>\n",
       "      <td>No</td>\n",
       "      <td>No</td>\n",
       "      <td>No</td>\n",
       "    </tr>\n",
       "    <tr>\n",
       "      <th>glimepiride</th>\n",
       "      <td>No</td>\n",
       "      <td>No</td>\n",
       "      <td>No</td>\n",
       "      <td>No</td>\n",
       "      <td>No</td>\n",
       "    </tr>\n",
       "    <tr>\n",
       "      <th>acetohexamide</th>\n",
       "      <td>No</td>\n",
       "      <td>No</td>\n",
       "      <td>No</td>\n",
       "      <td>No</td>\n",
       "      <td>No</td>\n",
       "    </tr>\n",
       "    <tr>\n",
       "      <th>glipizide</th>\n",
       "      <td>No</td>\n",
       "      <td>No</td>\n",
       "      <td>Steady</td>\n",
       "      <td>No</td>\n",
       "      <td>Steady</td>\n",
       "    </tr>\n",
       "    <tr>\n",
       "      <th>glyburide</th>\n",
       "      <td>No</td>\n",
       "      <td>No</td>\n",
       "      <td>No</td>\n",
       "      <td>No</td>\n",
       "      <td>No</td>\n",
       "    </tr>\n",
       "    <tr>\n",
       "      <th>tolbutamide</th>\n",
       "      <td>No</td>\n",
       "      <td>No</td>\n",
       "      <td>No</td>\n",
       "      <td>No</td>\n",
       "      <td>No</td>\n",
       "    </tr>\n",
       "    <tr>\n",
       "      <th>pioglitazone</th>\n",
       "      <td>No</td>\n",
       "      <td>No</td>\n",
       "      <td>No</td>\n",
       "      <td>No</td>\n",
       "      <td>No</td>\n",
       "    </tr>\n",
       "    <tr>\n",
       "      <th>rosiglitazone</th>\n",
       "      <td>No</td>\n",
       "      <td>No</td>\n",
       "      <td>No</td>\n",
       "      <td>No</td>\n",
       "      <td>No</td>\n",
       "    </tr>\n",
       "    <tr>\n",
       "      <th>acarbose</th>\n",
       "      <td>No</td>\n",
       "      <td>No</td>\n",
       "      <td>No</td>\n",
       "      <td>No</td>\n",
       "      <td>No</td>\n",
       "    </tr>\n",
       "    <tr>\n",
       "      <th>miglitol</th>\n",
       "      <td>No</td>\n",
       "      <td>No</td>\n",
       "      <td>No</td>\n",
       "      <td>No</td>\n",
       "      <td>No</td>\n",
       "    </tr>\n",
       "    <tr>\n",
       "      <th>troglitazone</th>\n",
       "      <td>No</td>\n",
       "      <td>No</td>\n",
       "      <td>No</td>\n",
       "      <td>No</td>\n",
       "      <td>No</td>\n",
       "    </tr>\n",
       "    <tr>\n",
       "      <th>tolazamide</th>\n",
       "      <td>No</td>\n",
       "      <td>No</td>\n",
       "      <td>No</td>\n",
       "      <td>No</td>\n",
       "      <td>No</td>\n",
       "    </tr>\n",
       "    <tr>\n",
       "      <th>examide</th>\n",
       "      <td>No</td>\n",
       "      <td>No</td>\n",
       "      <td>No</td>\n",
       "      <td>No</td>\n",
       "      <td>No</td>\n",
       "    </tr>\n",
       "    <tr>\n",
       "      <th>citoglipton</th>\n",
       "      <td>No</td>\n",
       "      <td>No</td>\n",
       "      <td>No</td>\n",
       "      <td>No</td>\n",
       "      <td>No</td>\n",
       "    </tr>\n",
       "    <tr>\n",
       "      <th>insulin</th>\n",
       "      <td>No</td>\n",
       "      <td>Up</td>\n",
       "      <td>No</td>\n",
       "      <td>Up</td>\n",
       "      <td>Steady</td>\n",
       "    </tr>\n",
       "    <tr>\n",
       "      <th>glyburide-metformin</th>\n",
       "      <td>No</td>\n",
       "      <td>No</td>\n",
       "      <td>No</td>\n",
       "      <td>No</td>\n",
       "      <td>No</td>\n",
       "    </tr>\n",
       "    <tr>\n",
       "      <th>glipizide-metformin</th>\n",
       "      <td>No</td>\n",
       "      <td>No</td>\n",
       "      <td>No</td>\n",
       "      <td>No</td>\n",
       "      <td>No</td>\n",
       "    </tr>\n",
       "    <tr>\n",
       "      <th>glimepiride-pioglitazone</th>\n",
       "      <td>No</td>\n",
       "      <td>No</td>\n",
       "      <td>No</td>\n",
       "      <td>No</td>\n",
       "      <td>No</td>\n",
       "    </tr>\n",
       "    <tr>\n",
       "      <th>metformin-rosiglitazone</th>\n",
       "      <td>No</td>\n",
       "      <td>No</td>\n",
       "      <td>No</td>\n",
       "      <td>No</td>\n",
       "      <td>No</td>\n",
       "    </tr>\n",
       "    <tr>\n",
       "      <th>metformin-pioglitazone</th>\n",
       "      <td>No</td>\n",
       "      <td>No</td>\n",
       "      <td>No</td>\n",
       "      <td>No</td>\n",
       "      <td>No</td>\n",
       "    </tr>\n",
       "    <tr>\n",
       "      <th>change</th>\n",
       "      <td>No</td>\n",
       "      <td>Ch</td>\n",
       "      <td>No</td>\n",
       "      <td>Ch</td>\n",
       "      <td>Ch</td>\n",
       "    </tr>\n",
       "    <tr>\n",
       "      <th>diabetesMed</th>\n",
       "      <td>No</td>\n",
       "      <td>Yes</td>\n",
       "      <td>Yes</td>\n",
       "      <td>Yes</td>\n",
       "      <td>Yes</td>\n",
       "    </tr>\n",
       "    <tr>\n",
       "      <th>readmitted</th>\n",
       "      <td>NO</td>\n",
       "      <td>&gt;30</td>\n",
       "      <td>NO</td>\n",
       "      <td>NO</td>\n",
       "      <td>NO</td>\n",
       "    </tr>\n",
       "  </tbody>\n",
       "</table>\n",
       "</div>"
      ],
      "text/plain": [
       "                                                 0          1  \\\n",
       "encounter_id                               2278392     149190   \n",
       "patient_nbr                                8222157   55629189   \n",
       "race                                     Caucasian  Caucasian   \n",
       "gender                                      Female     Female   \n",
       "age                                         [0-10)    [10-20)   \n",
       "weight                                           ?          ?   \n",
       "admission_type_id                                6          1   \n",
       "discharge_disposition_id                        25          1   \n",
       "admission_source_id                              1          7   \n",
       "time_in_hospital                                 1          3   \n",
       "payer_code                                       ?          ?   \n",
       "medical_specialty         Pediatrics-Endocrinology          ?   \n",
       "num_lab_procedures                              41         59   \n",
       "num_procedures                                   0          0   \n",
       "num_medications                                  1         18   \n",
       "number_outpatient                                0          0   \n",
       "number_emergency                                 0          0   \n",
       "number_inpatient                                 0          0   \n",
       "diag_1                                      250.83        276   \n",
       "diag_2                                           ?     250.01   \n",
       "diag_3                                           ?        255   \n",
       "number_diagnoses                                 1          9   \n",
       "max_glu_serum                                 None       None   \n",
       "A1Cresult                                     None       None   \n",
       "metformin                                       No         No   \n",
       "repaglinide                                     No         No   \n",
       "nateglinide                                     No         No   \n",
       "chlorpropamide                                  No         No   \n",
       "glimepiride                                     No         No   \n",
       "acetohexamide                                   No         No   \n",
       "glipizide                                       No         No   \n",
       "glyburide                                       No         No   \n",
       "tolbutamide                                     No         No   \n",
       "pioglitazone                                    No         No   \n",
       "rosiglitazone                                   No         No   \n",
       "acarbose                                        No         No   \n",
       "miglitol                                        No         No   \n",
       "troglitazone                                    No         No   \n",
       "tolazamide                                      No         No   \n",
       "examide                                         No         No   \n",
       "citoglipton                                     No         No   \n",
       "insulin                                         No         Up   \n",
       "glyburide-metformin                             No         No   \n",
       "glipizide-metformin                             No         No   \n",
       "glimepiride-pioglitazone                        No         No   \n",
       "metformin-rosiglitazone                         No         No   \n",
       "metformin-pioglitazone                          No         No   \n",
       "change                                          No         Ch   \n",
       "diabetesMed                                     No        Yes   \n",
       "readmitted                                      NO        >30   \n",
       "\n",
       "                                        2          3          4  \n",
       "encounter_id                        64410     500364      16680  \n",
       "patient_nbr                      86047875   82442376   42519267  \n",
       "race                      AfricanAmerican  Caucasian  Caucasian  \n",
       "gender                             Female       Male       Male  \n",
       "age                               [20-30)    [30-40)    [40-50)  \n",
       "weight                                  ?          ?          ?  \n",
       "admission_type_id                       1          1          1  \n",
       "discharge_disposition_id                1          1          1  \n",
       "admission_source_id                     7          7          7  \n",
       "time_in_hospital                        2          2          1  \n",
       "payer_code                              ?          ?          ?  \n",
       "medical_specialty                       ?          ?          ?  \n",
       "num_lab_procedures                     11         44         51  \n",
       "num_procedures                          5          1          0  \n",
       "num_medications                        13         16          8  \n",
       "number_outpatient                       2          0          0  \n",
       "number_emergency                        0          0          0  \n",
       "number_inpatient                        1          0          0  \n",
       "diag_1                                648          8        197  \n",
       "diag_2                                250     250.43        157  \n",
       "diag_3                                V27        403        250  \n",
       "number_diagnoses                        6          7          5  \n",
       "max_glu_serum                        None       None       None  \n",
       "A1Cresult                            None       None       None  \n",
       "metformin                              No         No         No  \n",
       "repaglinide                            No         No         No  \n",
       "nateglinide                            No         No         No  \n",
       "chlorpropamide                         No         No         No  \n",
       "glimepiride                            No         No         No  \n",
       "acetohexamide                          No         No         No  \n",
       "glipizide                          Steady         No     Steady  \n",
       "glyburide                              No         No         No  \n",
       "tolbutamide                            No         No         No  \n",
       "pioglitazone                           No         No         No  \n",
       "rosiglitazone                          No         No         No  \n",
       "acarbose                               No         No         No  \n",
       "miglitol                               No         No         No  \n",
       "troglitazone                           No         No         No  \n",
       "tolazamide                             No         No         No  \n",
       "examide                                No         No         No  \n",
       "citoglipton                            No         No         No  \n",
       "insulin                                No         Up     Steady  \n",
       "glyburide-metformin                    No         No         No  \n",
       "glipizide-metformin                    No         No         No  \n",
       "glimepiride-pioglitazone               No         No         No  \n",
       "metformin-rosiglitazone                No         No         No  \n",
       "metformin-pioglitazone                 No         No         No  \n",
       "change                                 No         Ch         Ch  \n",
       "diabetesMed                           Yes        Yes        Yes  \n",
       "readmitted                             NO         NO         NO  "
      ]
     },
     "execution_count": 5,
     "metadata": {},
     "output_type": "execute_result"
    }
   ],
   "source": [
    "data.head(5).T"
   ]
  },
  {
   "cell_type": "markdown",
   "metadata": {},
   "source": [
    "**We can notice that some columns have '?', we can suppose that these are NULL values.**"
   ]
  },
  {
   "cell_type": "code",
   "execution_count": 6,
   "metadata": {},
   "outputs": [
    {
     "name": "stdout",
     "output_type": "stream",
     "text": [
      "<class 'pandas.core.frame.DataFrame'>\n",
      "RangeIndex: 101766 entries, 0 to 101765\n",
      "Data columns (total 50 columns):\n",
      " #   Column                    Non-Null Count   Dtype \n",
      "---  ------                    --------------   ----- \n",
      " 0   encounter_id              101766 non-null  int64 \n",
      " 1   patient_nbr               101766 non-null  int64 \n",
      " 2   race                      101766 non-null  object\n",
      " 3   gender                    101766 non-null  object\n",
      " 4   age                       101766 non-null  object\n",
      " 5   weight                    101766 non-null  object\n",
      " 6   admission_type_id         101766 non-null  int64 \n",
      " 7   discharge_disposition_id  101766 non-null  int64 \n",
      " 8   admission_source_id       101766 non-null  int64 \n",
      " 9   time_in_hospital          101766 non-null  int64 \n",
      " 10  payer_code                101766 non-null  object\n",
      " 11  medical_specialty         101766 non-null  object\n",
      " 12  num_lab_procedures        101766 non-null  int64 \n",
      " 13  num_procedures            101766 non-null  int64 \n",
      " 14  num_medications           101766 non-null  int64 \n",
      " 15  number_outpatient         101766 non-null  int64 \n",
      " 16  number_emergency          101766 non-null  int64 \n",
      " 17  number_inpatient          101766 non-null  int64 \n",
      " 18  diag_1                    101766 non-null  object\n",
      " 19  diag_2                    101766 non-null  object\n",
      " 20  diag_3                    101766 non-null  object\n",
      " 21  number_diagnoses          101766 non-null  int64 \n",
      " 22  max_glu_serum             101766 non-null  object\n",
      " 23  A1Cresult                 101766 non-null  object\n",
      " 24  metformin                 101766 non-null  object\n",
      " 25  repaglinide               101766 non-null  object\n",
      " 26  nateglinide               101766 non-null  object\n",
      " 27  chlorpropamide            101766 non-null  object\n",
      " 28  glimepiride               101766 non-null  object\n",
      " 29  acetohexamide             101766 non-null  object\n",
      " 30  glipizide                 101766 non-null  object\n",
      " 31  glyburide                 101766 non-null  object\n",
      " 32  tolbutamide               101766 non-null  object\n",
      " 33  pioglitazone              101766 non-null  object\n",
      " 34  rosiglitazone             101766 non-null  object\n",
      " 35  acarbose                  101766 non-null  object\n",
      " 36  miglitol                  101766 non-null  object\n",
      " 37  troglitazone              101766 non-null  object\n",
      " 38  tolazamide                101766 non-null  object\n",
      " 39  examide                   101766 non-null  object\n",
      " 40  citoglipton               101766 non-null  object\n",
      " 41  insulin                   101766 non-null  object\n",
      " 42  glyburide-metformin       101766 non-null  object\n",
      " 43  glipizide-metformin       101766 non-null  object\n",
      " 44  glimepiride-pioglitazone  101766 non-null  object\n",
      " 45  metformin-rosiglitazone   101766 non-null  object\n",
      " 46  metformin-pioglitazone    101766 non-null  object\n",
      " 47  change                    101766 non-null  object\n",
      " 48  diabetesMed               101766 non-null  object\n",
      " 49  readmitted                101766 non-null  object\n",
      "dtypes: int64(13), object(37)\n",
      "memory usage: 38.8+ MB\n"
     ]
    }
   ],
   "source": [
    "data.info()"
   ]
  },
  {
   "cell_type": "markdown",
   "metadata": {},
   "source": [
    "## Columns decription (https://www.hindawi.com/journals/bmri/2014/781670/)"
   ]
  },
  {
   "cell_type": "markdown",
   "metadata": {},
   "source": [
    "- **Encounter ID** Unique identifier of an encounter\n",
    "- **Patient number** Unique identifier of a patient\n",
    "- **Race** Values: Caucasian, Asian, African American, Hispanic, and other\n",
    "- **Gender** Values: male, female, and unknown/invalid\n",
    "- **Age** Grouped in 10-year intervals: 0, 10), 10, 20), …, 90, 100)\n",
    "- **Weight** Weight in pounds\n",
    "- **Admission type** Integer identifier corresponding to 9 distinct values, for example, emergency, urgent, elective, newborn, and not available\n",
    "- **Discharge disposition** Integer identifier corresponding to 29 distinct values, for example, discharged to home, expired, and not available\n",
    "- **Admission source** Integer identifier corresponding to 21 distinct values, for example, physician referral, emergency room, and transfer from a hospital\n",
    "- **Time in hospital** Integer number of days between admission and discharge\n",
    "- **Payer code** Integer identifier corresponding to 23 distinct values, for example, Blue Cross/Blue Shield, Medicare, and self-pay Medical\n",
    "- **Medical specialty** Integer identifier of a specialty of the admitting physician, corresponding to 84 distinct values, for example, cardiology, internal medicine, family/general practice, and surgeon\n",
    "- **Number of lab procedures** Number of lab tests performed during the encounter\n",
    "- **Number of procedures** Numeric Number of procedures (other than lab tests) performed during the encounter\n",
    "- **Number of medications** Number of distinct generic names administered during the encounter\n",
    "- **Number of outpatient visits** Number of outpatient visits of the patient in the year preceding the encounter\n",
    "- **Number of emergency visits** Number of emergency visits of the patient in the year preceding the encounter\n",
    "- **Number of inpatient visits** Number of inpatient visits of the patient in the year preceding the encounter\n",
    "- **Diagnosis 1** The primary diagnosis (coded as first three digits of ICD9); 848 distinct values\n",
    "- **Diagnosis 2** Secondary diagnosis (coded as first three digits of ICD9); 923 distinct values\n",
    "- **Diagnosis 3** Additional secondary diagnosis (coded as first three digits of ICD9); 954 distinct values\n",
    "- **Number of diagnoses** Number of diagnoses entered to the system 0%\n",
    "- **Glucose serum test result** Indicates the range of the result or if the test was not taken. Values: “>200,” “>300,” “normal,” and “none” if not measured\n",
    "- **A1c test result** Indicates the range of the result or if the test was not taken. Values: “>8” if the result was greater than 8%, “>7” if the result was greater than 7% but less than 8%, “normal” if the result was less than 7%, and “none” if not measured.\n",
    "- **Change of medications** Indicates if there was a change in diabetic medications (either dosage or generic name). Values: “change” and “no change”\n",
    "- **Diabetes medications** Indicates if there was any diabetic medication prescribed. Values: “yes” and “no”\n",
    "- **24 features for medications** For the generic names: metformin, repaglinide, nateglinide, chlorpropamide, glimepiride, acetohexamide, glipizide, glyburide, tolbutamide, pioglitazone, rosiglitazone, acarbose, miglitol, troglitazone, tolazamide, examide, sitagliptin, insulin, glyburide-metformin, glipizide-metformin, glimepiride- pioglitazone, metformin-rosiglitazone, and metformin- pioglitazone, the feature indicates whether the drug was prescribed or there was a change in the dosage. Values: “up” if the dosage was increased during the encounter, “down” if the dosage was decreased, “steady” if the dosage did not change, and “no” if the drug was not prescribed\n",
    "- **Readmitted** Days to inpatient readmission. Values: “<30” if the patient was readmitted in less than 30 days, “>30” if the patient was readmitted in more than 30 days, and “No” for no record of readmission"
   ]
  },
  {
   "cell_type": "markdown",
   "metadata": {},
   "source": [
    "#### From the page linked above we can see that some columns have missing values, although they are not represented by NULL values which we could notice when we ran cell containing data.head(5).T.\n",
    "\n",
    "**% missing**:\n",
    "- Race - **2%**\n",
    "- Weight - **97%**\n",
    "- Payer code - **52%**\n",
    "- Medical specialty - **53%**\n",
    "- Diagnosis 3 - **1%**"
   ]
  },
  {
   "cell_type": "markdown",
   "metadata": {},
   "source": [
    "**Our dependent value is column `readmitted`. Our explanatory variables would be all remaining columns excluding `encounter_id` and `patient_id`, because they are not giving us information about the patient.**"
   ]
  },
  {
   "cell_type": "markdown",
   "metadata": {},
   "source": [
    "Let's drop columns `encounter_id` and `patient_nbr`."
   ]
  },
  {
   "cell_type": "code",
   "execution_count": 7,
   "metadata": {},
   "outputs": [],
   "source": [
    "data.drop(['encounter_id', 'patient_nbr'], inplace=True, axis=1)"
   ]
  },
  {
   "cell_type": "markdown",
   "metadata": {},
   "source": [
    "Columns `admission_type_id`, `discharge_disposition_id`, `admission_source_id` need to be categorical, because they are representing different options."
   ]
  },
  {
   "cell_type": "code",
   "execution_count": 8,
   "metadata": {},
   "outputs": [],
   "source": [
    "data.admission_type_id = data.admission_type_id.astype('object')\n",
    "data.discharge_disposition_id = data.discharge_disposition_id.astype('object')\n",
    "data.admission_source_id = data.admission_source_id.astype('object')\n",
    "\n",
    "data['admission_type_id'] = data['admission_type_id'].apply(str)\n",
    "data['discharge_disposition_id'] = data['discharge_disposition_id'].apply(str)\n",
    "data['admission_source_id'] = data['admission_source_id'].apply(str)"
   ]
  },
  {
   "cell_type": "markdown",
   "metadata": {},
   "source": [
    "##### Let's check if some columns which have approximately 0% missing values have some NULL values."
   ]
  },
  {
   "cell_type": "code",
   "execution_count": 9,
   "metadata": {},
   "outputs": [
    {
     "name": "stdout",
     "output_type": "stream",
     "text": [
      "race 2273\n",
      "gender 0\n",
      "age 0\n",
      "weight 98569\n",
      "admission_type_id 0\n",
      "discharge_disposition_id 0\n",
      "admission_source_id 0\n",
      "payer_code 40256\n",
      "medical_specialty 49949\n",
      "diag_1 21\n",
      "diag_2 358\n",
      "diag_3 1423\n",
      "max_glu_serum 0\n",
      "A1Cresult 0\n",
      "metformin 0\n",
      "repaglinide 0\n",
      "nateglinide 0\n",
      "chlorpropamide 0\n",
      "glimepiride 0\n",
      "acetohexamide 0\n",
      "glipizide 0\n",
      "glyburide 0\n",
      "tolbutamide 0\n",
      "pioglitazone 0\n",
      "rosiglitazone 0\n",
      "acarbose 0\n",
      "miglitol 0\n",
      "troglitazone 0\n",
      "tolazamide 0\n",
      "examide 0\n",
      "citoglipton 0\n",
      "insulin 0\n",
      "glyburide-metformin 0\n",
      "glipizide-metformin 0\n",
      "glimepiride-pioglitazone 0\n",
      "metformin-rosiglitazone 0\n",
      "metformin-pioglitazone 0\n",
      "change 0\n",
      "diabetesMed 0\n",
      "readmitted 0\n"
     ]
    }
   ],
   "source": [
    "for column in data.columns:\n",
    "    if data[column].dtype == object:\n",
    "         print(column, data[column][data[column] == '?'].count())"
   ]
  },
  {
   "cell_type": "markdown",
   "metadata": {},
   "source": [
    "**We can see that also diag_1 and diag_2 have some NULL values.**"
   ]
  },
  {
   "cell_type": "code",
   "execution_count": 10,
   "metadata": {},
   "outputs": [
    {
     "data": {
      "text/plain": [
       "Caucasian          76099\n",
       "AfricanAmerican    19210\n",
       "?                   2273\n",
       "Name: race, dtype: int64"
      ]
     },
     "execution_count": 10,
     "metadata": {},
     "output_type": "execute_result"
    }
   ],
   "source": [
    "data.race.value_counts().head(3)"
   ]
  },
  {
   "cell_type": "code",
   "execution_count": 11,
   "metadata": {},
   "outputs": [
    {
     "data": {
      "text/plain": [
       "?           98569\n",
       "[75-100)     1336\n",
       "Name: weight, dtype: int64"
      ]
     },
     "execution_count": 11,
     "metadata": {},
     "output_type": "execute_result"
    }
   ],
   "source": [
    "data.weight.value_counts().head(2)"
   ]
  },
  {
   "cell_type": "code",
   "execution_count": 12,
   "metadata": {},
   "outputs": [
    {
     "data": {
      "text/plain": [
       "?     40256\n",
       "MC    32439\n",
       "Name: payer_code, dtype: int64"
      ]
     },
     "execution_count": 12,
     "metadata": {},
     "output_type": "execute_result"
    }
   ],
   "source": [
    "data.payer_code.value_counts().head(2)"
   ]
  },
  {
   "cell_type": "code",
   "execution_count": 13,
   "metadata": {},
   "outputs": [
    {
     "data": {
      "text/plain": [
       "?                   49949\n",
       "InternalMedicine    14635\n",
       "Name: medical_specialty, dtype: int64"
      ]
     },
     "execution_count": 13,
     "metadata": {},
     "output_type": "execute_result"
    }
   ],
   "source": [
    "data.medical_specialty.value_counts().head(2)"
   ]
  },
  {
   "cell_type": "code",
   "execution_count": 14,
   "metadata": {},
   "outputs": [
    {
     "data": {
      "text/plain": [
       "250    11555\n",
       "401     8289\n",
       "Name: diag_3, dtype: int64"
      ]
     },
     "execution_count": 14,
     "metadata": {},
     "output_type": "execute_result"
    }
   ],
   "source": [
    "data.diag_3.value_counts().head(2)                    "
   ]
  },
  {
   "cell_type": "code",
   "execution_count": 15,
   "metadata": {},
   "outputs": [
    {
     "data": {
      "text/plain": [
       "0     ?\n",
       "66    ?\n",
       "Name: diag_3, dtype: object"
      ]
     },
     "execution_count": 15,
     "metadata": {},
     "output_type": "execute_result"
    }
   ],
   "source": [
    "data.diag_3[data.diag_3 == '?'].head(2)"
   ]
  },
  {
   "cell_type": "markdown",
   "metadata": {},
   "source": [
    "**As we can see NULL values are represented by ?.**\n",
    "\n",
    "**Let's replace them by np.nan, but we can drop weight column, because NULL values represents 97% of all values.**"
   ]
  },
  {
   "cell_type": "code",
   "execution_count": 16,
   "metadata": {},
   "outputs": [],
   "source": [
    "data.drop('weight', inplace=True, axis=1)"
   ]
  },
  {
   "cell_type": "code",
   "execution_count": 17,
   "metadata": {},
   "outputs": [],
   "source": [
    "data = data.replace('?', np.nan)"
   ]
  },
  {
   "cell_type": "markdown",
   "metadata": {},
   "source": [
    "# EDA and feature engineering"
   ]
  },
  {
   "cell_type": "markdown",
   "metadata": {},
   "source": [
    "## One-dimensional analysis"
   ]
  },
  {
   "cell_type": "code",
   "execution_count": 18,
   "metadata": {},
   "outputs": [
    {
     "data": {
      "text/html": [
       "<div>\n",
       "<style scoped>\n",
       "    .dataframe tbody tr th:only-of-type {\n",
       "        vertical-align: middle;\n",
       "    }\n",
       "\n",
       "    .dataframe tbody tr th {\n",
       "        vertical-align: top;\n",
       "    }\n",
       "\n",
       "    .dataframe thead th {\n",
       "        text-align: right;\n",
       "    }\n",
       "</style>\n",
       "<table border=\"1\" class=\"dataframe\">\n",
       "  <thead>\n",
       "    <tr style=\"text-align: right;\">\n",
       "      <th></th>\n",
       "      <th>count</th>\n",
       "      <th>mean</th>\n",
       "      <th>std</th>\n",
       "      <th>min</th>\n",
       "      <th>25%</th>\n",
       "      <th>50%</th>\n",
       "      <th>75%</th>\n",
       "      <th>max</th>\n",
       "    </tr>\n",
       "  </thead>\n",
       "  <tbody>\n",
       "    <tr>\n",
       "      <th>time_in_hospital</th>\n",
       "      <td>101766.0</td>\n",
       "      <td>4.395987</td>\n",
       "      <td>2.985108</td>\n",
       "      <td>1.0</td>\n",
       "      <td>2.0</td>\n",
       "      <td>4.0</td>\n",
       "      <td>6.0</td>\n",
       "      <td>14.0</td>\n",
       "    </tr>\n",
       "    <tr>\n",
       "      <th>num_lab_procedures</th>\n",
       "      <td>101766.0</td>\n",
       "      <td>43.095641</td>\n",
       "      <td>19.674362</td>\n",
       "      <td>1.0</td>\n",
       "      <td>31.0</td>\n",
       "      <td>44.0</td>\n",
       "      <td>57.0</td>\n",
       "      <td>132.0</td>\n",
       "    </tr>\n",
       "    <tr>\n",
       "      <th>num_procedures</th>\n",
       "      <td>101766.0</td>\n",
       "      <td>1.339730</td>\n",
       "      <td>1.705807</td>\n",
       "      <td>0.0</td>\n",
       "      <td>0.0</td>\n",
       "      <td>1.0</td>\n",
       "      <td>2.0</td>\n",
       "      <td>6.0</td>\n",
       "    </tr>\n",
       "    <tr>\n",
       "      <th>num_medications</th>\n",
       "      <td>101766.0</td>\n",
       "      <td>16.021844</td>\n",
       "      <td>8.127566</td>\n",
       "      <td>1.0</td>\n",
       "      <td>10.0</td>\n",
       "      <td>15.0</td>\n",
       "      <td>20.0</td>\n",
       "      <td>81.0</td>\n",
       "    </tr>\n",
       "    <tr>\n",
       "      <th>number_outpatient</th>\n",
       "      <td>101766.0</td>\n",
       "      <td>0.369357</td>\n",
       "      <td>1.267265</td>\n",
       "      <td>0.0</td>\n",
       "      <td>0.0</td>\n",
       "      <td>0.0</td>\n",
       "      <td>0.0</td>\n",
       "      <td>42.0</td>\n",
       "    </tr>\n",
       "    <tr>\n",
       "      <th>number_emergency</th>\n",
       "      <td>101766.0</td>\n",
       "      <td>0.197836</td>\n",
       "      <td>0.930472</td>\n",
       "      <td>0.0</td>\n",
       "      <td>0.0</td>\n",
       "      <td>0.0</td>\n",
       "      <td>0.0</td>\n",
       "      <td>76.0</td>\n",
       "    </tr>\n",
       "    <tr>\n",
       "      <th>number_inpatient</th>\n",
       "      <td>101766.0</td>\n",
       "      <td>0.635566</td>\n",
       "      <td>1.262863</td>\n",
       "      <td>0.0</td>\n",
       "      <td>0.0</td>\n",
       "      <td>0.0</td>\n",
       "      <td>1.0</td>\n",
       "      <td>21.0</td>\n",
       "    </tr>\n",
       "    <tr>\n",
       "      <th>number_diagnoses</th>\n",
       "      <td>101766.0</td>\n",
       "      <td>7.422607</td>\n",
       "      <td>1.933600</td>\n",
       "      <td>1.0</td>\n",
       "      <td>6.0</td>\n",
       "      <td>8.0</td>\n",
       "      <td>9.0</td>\n",
       "      <td>16.0</td>\n",
       "    </tr>\n",
       "  </tbody>\n",
       "</table>\n",
       "</div>"
      ],
      "text/plain": [
       "                       count       mean        std  min   25%   50%   75%  \\\n",
       "time_in_hospital    101766.0   4.395987   2.985108  1.0   2.0   4.0   6.0   \n",
       "num_lab_procedures  101766.0  43.095641  19.674362  1.0  31.0  44.0  57.0   \n",
       "num_procedures      101766.0   1.339730   1.705807  0.0   0.0   1.0   2.0   \n",
       "num_medications     101766.0  16.021844   8.127566  1.0  10.0  15.0  20.0   \n",
       "number_outpatient   101766.0   0.369357   1.267265  0.0   0.0   0.0   0.0   \n",
       "number_emergency    101766.0   0.197836   0.930472  0.0   0.0   0.0   0.0   \n",
       "number_inpatient    101766.0   0.635566   1.262863  0.0   0.0   0.0   1.0   \n",
       "number_diagnoses    101766.0   7.422607   1.933600  1.0   6.0   8.0   9.0   \n",
       "\n",
       "                      max  \n",
       "time_in_hospital     14.0  \n",
       "num_lab_procedures  132.0  \n",
       "num_procedures        6.0  \n",
       "num_medications      81.0  \n",
       "number_outpatient    42.0  \n",
       "number_emergency     76.0  \n",
       "number_inpatient     21.0  \n",
       "number_diagnoses     16.0  "
      ]
     },
     "execution_count": 18,
     "metadata": {},
     "output_type": "execute_result"
    }
   ],
   "source": [
    "data.describe().T"
   ]
  },
  {
   "cell_type": "code",
   "execution_count": 19,
   "metadata": {},
   "outputs": [
    {
     "name": "stdout",
     "output_type": "stream",
     "text": [
      "numeric_features:\n",
      "['time_in_hospital', 'num_lab_procedures', 'num_procedures', 'num_medications', 'number_outpatient', 'number_emergency', 'number_inpatient', 'number_diagnoses']\n",
      "length:8\n",
      "\n",
      "categorical_features:\n",
      "['race', 'gender', 'age', 'admission_type_id', 'discharge_disposition_id', 'admission_source_id', 'payer_code', 'medical_specialty', 'diag_1', 'diag_2', 'diag_3', 'max_glu_serum', 'A1Cresult', 'metformin', 'repaglinide', 'nateglinide', 'chlorpropamide', 'glimepiride', 'acetohexamide', 'glipizide', 'glyburide', 'tolbutamide', 'pioglitazone', 'rosiglitazone', 'acarbose', 'miglitol', 'troglitazone', 'tolazamide', 'examide', 'citoglipton', 'insulin', 'glyburide-metformin', 'glipizide-metformin', 'glimepiride-pioglitazone', 'metformin-rosiglitazone', 'metformin-pioglitazone', 'change', 'diabetesMed', 'readmitted']\n",
      "length:39\n"
     ]
    }
   ],
   "source": [
    "numeric_features = list(data.select_dtypes(\"int64\").columns)\n",
    "indexes_num_features = data.dtypes[data.dtypes!='object'].index\n",
    "categorical_features = list(data.select_dtypes(\"object\").columns)\n",
    "print(f'numeric_features:\\n{numeric_features}\\nlength:{len(numeric_features)}\\n\\ncategorical_features:\\n{categorical_features}\\nlength:{len(categorical_features)}')"
   ]
  },
  {
   "cell_type": "code",
   "execution_count": 20,
   "metadata": {},
   "outputs": [
    {
     "data": {
      "text/plain": [
       "number_emergency      22.855582\n",
       "number_outpatient      8.832959\n",
       "number_inpatient       3.614139\n",
       "num_medications        1.326672\n",
       "num_procedures         1.316415\n",
       "time_in_hospital       1.133999\n",
       "num_lab_procedures    -0.236544\n",
       "number_diagnoses      -0.876746\n",
       "dtype: float64"
      ]
     },
     "execution_count": 20,
     "metadata": {},
     "output_type": "execute_result"
    }
   ],
   "source": [
    "skewed_features = data[indexes_num_features].skew().sort_values(ascending=False)\n",
    "skewed_features"
   ]
  },
  {
   "cell_type": "markdown",
   "metadata": {},
   "source": [
    "`number_emergency`, `number_outpatient` and `number_inpatient` columns have high skewness, let's reduce it by transforming those columns using sqrt."
   ]
  },
  {
   "cell_type": "code",
   "execution_count": 21,
   "metadata": {},
   "outputs": [
    {
     "data": {
      "image/png": "[encoded data removed]",
      "text/plain": [
       "<Figure size 720x720 with 8 Axes>"
      ]
     },
     "metadata": {
      "needs_background": "light"
     },
     "output_type": "display_data"
    }
   ],
   "source": [
    "fig,ax = plt.subplots(3,3,figsize=(10,10))\n",
    "row = col = 0\n",
    "for n,i in enumerate(numeric_features):\n",
    "    if (n%3 == 0) & (n > 0):\n",
    "        row += 1\n",
    "        col = 0\n",
    "    data[i].hist(ax=ax[row,col])\n",
    "    ax[row,col].set_title(i)\n",
    "    col += 1\n",
    "\n",
    "fig.tight_layout()\n",
    "\n",
    "fig.delaxes(ax[2, 2])\n",
    "\n",
    "plt.show()"
   ]
  },
  {
   "cell_type": "code",
   "execution_count": 22,
   "metadata": {},
   "outputs": [
    {
     "data": {
      "text/plain": [
       "22.855582151471214"
      ]
     },
     "execution_count": 22,
     "metadata": {},
     "output_type": "execute_result"
    }
   ],
   "source": [
    "data.number_emergency.skew()"
   ]
  },
  {
   "cell_type": "code",
   "execution_count": 23,
   "metadata": {},
   "outputs": [],
   "source": [
    "data['number_emergency'] = np.sqrt(data['number_emergency'])"
   ]
  },
  {
   "cell_type": "code",
   "execution_count": 24,
   "metadata": {},
   "outputs": [
    {
     "data": {
      "text/plain": [
       "3.6796062463950276"
      ]
     },
     "execution_count": 24,
     "metadata": {},
     "output_type": "execute_result"
    }
   ],
   "source": [
    "data.number_emergency.skew()"
   ]
  },
  {
   "cell_type": "code",
   "execution_count": 25,
   "metadata": {},
   "outputs": [
    {
     "data": {
      "text/plain": [
       "8.832958927156984"
      ]
     },
     "execution_count": 25,
     "metadata": {},
     "output_type": "execute_result"
    }
   ],
   "source": [
    "data.number_outpatient.skew()"
   ]
  },
  {
   "cell_type": "code",
   "execution_count": 26,
   "metadata": {},
   "outputs": [],
   "source": [
    "data['number_outpatient'] = np.sqrt(data['number_outpatient'])"
   ]
  },
  {
   "cell_type": "code",
   "execution_count": 27,
   "metadata": {},
   "outputs": [
    {
     "data": {
      "text/plain": [
       "2.7391998067755163"
      ]
     },
     "execution_count": 27,
     "metadata": {},
     "output_type": "execute_result"
    }
   ],
   "source": [
    "data.number_outpatient.skew()"
   ]
  },
  {
   "cell_type": "code",
   "execution_count": 28,
   "metadata": {},
   "outputs": [
    {
     "data": {
      "text/plain": [
       "3.6141389923026286"
      ]
     },
     "execution_count": 28,
     "metadata": {},
     "output_type": "execute_result"
    }
   ],
   "source": [
    "data.number_inpatient.skew()"
   ]
  },
  {
   "cell_type": "code",
   "execution_count": 29,
   "metadata": {},
   "outputs": [],
   "source": [
    "data['number_inpatient'] = np.sqrt(data['number_inpatient'])"
   ]
  },
  {
   "cell_type": "code",
   "execution_count": 30,
   "metadata": {},
   "outputs": [
    {
     "data": {
      "text/plain": [
       "1.300660695669053"
      ]
     },
     "execution_count": 30,
     "metadata": {},
     "output_type": "execute_result"
    }
   ],
   "source": [
    "data.number_inpatient.skew()"
   ]
  },
  {
   "cell_type": "markdown",
   "metadata": {},
   "source": [
    "For categorical variables let's count relative frequencies of values. "
   ]
  },
  {
   "cell_type": "code",
   "execution_count": 31,
   "metadata": {},
   "outputs": [
    {
     "name": "stdout",
     "output_type": "stream",
     "text": [
      "#####################\n",
      "race\n",
      "Caucasian          76.49\n",
      "AfricanAmerican    19.31\n",
      "Hispanic            2.05\n",
      "Other               1.51\n",
      "Asian               0.64\n",
      "Name: race, dtype: float64\n",
      "#####################\n",
      "\n",
      "\n",
      "#####################\n",
      "gender\n",
      "Female             53.76\n",
      "Male               46.24\n",
      "Unknown/Invalid     0.00\n",
      "Name: gender, dtype: float64\n",
      "#####################\n",
      "\n",
      "\n",
      "#####################\n",
      "age\n",
      "[70-80)     25.62\n",
      "[60-70)     22.09\n",
      "[50-60)     16.96\n",
      "[80-90)     16.90\n",
      "[40-50)      9.52\n",
      "[30-40)      3.71\n",
      "[90-100)     2.74\n",
      "[20-30)      1.63\n",
      "[10-20)      0.68\n",
      "[0-10)       0.16\n",
      "Name: age, dtype: float64\n",
      "#####################\n",
      "\n",
      "\n",
      "#####################\n",
      "admission_type_id\n",
      "1    53.05\n",
      "3    18.54\n",
      "2    18.16\n",
      "6     5.20\n",
      "5     4.70\n",
      "8     0.31\n",
      "7     0.02\n",
      "4     0.01\n",
      "Name: admission_type_id, dtype: float64\n",
      "#####################\n",
      "\n",
      "\n",
      "#####################\n",
      "discharge_disposition_id\n",
      "1     59.19\n",
      "3     13.71\n",
      "6     12.68\n",
      "18     3.63\n",
      "2      2.09\n",
      "22     1.96\n",
      "11     1.61\n",
      "5      1.16\n",
      "25     0.97\n",
      "4      0.80\n",
      "7      0.61\n",
      "23     0.40\n",
      "13     0.39\n",
      "14     0.37\n",
      "28     0.14\n",
      "8      0.11\n",
      "15     0.06\n",
      "24     0.05\n",
      "9      0.02\n",
      "17     0.01\n",
      "16     0.01\n",
      "19     0.01\n",
      "10     0.01\n",
      "27     0.00\n",
      "12     0.00\n",
      "20     0.00\n",
      "Name: discharge_disposition_id, dtype: float64\n",
      "#####################\n",
      "\n",
      "\n",
      "#####################\n",
      "admission_source_id\n",
      "7     56.50\n",
      "1     29.05\n",
      "17     6.66\n",
      "4      3.13\n",
      "6      2.22\n",
      "2      1.08\n",
      "5      0.84\n",
      "3      0.18\n",
      "20     0.16\n",
      "9      0.12\n",
      "8      0.02\n",
      "22     0.01\n",
      "10     0.01\n",
      "25     0.00\n",
      "11     0.00\n",
      "14     0.00\n",
      "13     0.00\n",
      "Name: admission_source_id, dtype: float64\n",
      "#####################\n",
      "\n",
      "\n",
      "#####################\n",
      "payer_code\n",
      "MC    52.74\n",
      "HM    10.20\n",
      "SP     8.14\n",
      "BC     7.57\n",
      "MD     5.74\n",
      "CP     4.12\n",
      "UN     3.98\n",
      "CM     3.15\n",
      "OG     1.68\n",
      "PO     0.96\n",
      "DM     0.89\n",
      "CH     0.24\n",
      "WC     0.22\n",
      "OT     0.15\n",
      "MP     0.13\n",
      "SI     0.09\n",
      "FR     0.00\n",
      "Name: payer_code, dtype: float64\n",
      "#####################\n",
      "\n",
      "\n",
      "#####################\n",
      "medical_specialty\n",
      "InternalMedicine          28.24\n",
      "Emergency/Trauma          14.60\n",
      "Family/GeneralPractice    14.36\n",
      "Cardiology                10.33\n",
      "Surgery-General            5.98\n",
      "                          ...  \n",
      "Speech                     0.00\n",
      "Psychiatry-Addictive       0.00\n",
      "Dermatology                0.00\n",
      "Neurophysiology            0.00\n",
      "SportsMedicine             0.00\n",
      "Name: medical_specialty, Length: 72, dtype: float64\n",
      "#####################\n",
      "\n",
      "\n",
      "#####################\n",
      "diag_1\n",
      "428    6.74\n",
      "414    6.47\n",
      "786    3.95\n",
      "410    3.55\n",
      "486    3.45\n",
      "       ... \n",
      "366    0.00\n",
      "903    0.00\n",
      "833    0.00\n",
      "974    0.00\n",
      "671    0.00\n",
      "Name: diag_1, Length: 716, dtype: float64\n",
      "#####################\n",
      "\n",
      "\n",
      "#####################\n",
      "diag_2\n",
      "276     6.66\n",
      "428     6.57\n",
      "250     5.99\n",
      "427     4.97\n",
      "401     3.68\n",
      "        ... \n",
      "E980    0.00\n",
      "843     0.00\n",
      "271     0.00\n",
      "990     0.00\n",
      "E968    0.00\n",
      "Name: diag_2, Length: 748, dtype: float64\n",
      "#####################\n",
      "\n",
      "\n",
      "#####################\n",
      "diag_3\n",
      "250     11.52\n",
      "401      8.26\n",
      "276      5.16\n",
      "428      4.56\n",
      "427      3.94\n",
      "        ...  \n",
      "193      0.00\n",
      "243      0.00\n",
      "E900     0.00\n",
      "863      0.00\n",
      "E965     0.00\n",
      "Name: diag_3, Length: 789, dtype: float64\n",
      "#####################\n",
      "\n",
      "\n",
      "#####################\n",
      "max_glu_serum\n",
      "None    94.75\n",
      "Norm     2.55\n",
      ">200     1.46\n",
      ">300     1.24\n",
      "Name: max_glu_serum, dtype: float64\n",
      "#####################\n",
      "\n",
      "\n",
      "#####################\n",
      "A1Cresult\n",
      "None    83.28\n",
      ">8       8.07\n",
      "Norm     4.90\n",
      ">7       3.75\n",
      "Name: A1Cresult, dtype: float64\n",
      "#####################\n",
      "\n",
      "\n",
      "#####################\n",
      "metformin\n",
      "No        80.36\n",
      "Steady    18.03\n",
      "Up         1.05\n",
      "Down       0.57\n",
      "Name: metformin, dtype: float64\n",
      "#####################\n",
      "\n",
      "\n",
      "#####################\n",
      "repaglinide\n",
      "No        98.49\n",
      "Steady     1.36\n",
      "Up         0.11\n",
      "Down       0.04\n",
      "Name: repaglinide, dtype: float64\n",
      "#####################\n",
      "\n",
      "\n",
      "#####################\n",
      "nateglinide\n",
      "No        99.31\n",
      "Steady     0.66\n",
      "Up         0.02\n",
      "Down       0.01\n",
      "Name: nateglinide, dtype: float64\n",
      "#####################\n",
      "\n",
      "\n",
      "#####################\n",
      "chlorpropamide\n",
      "No        99.92\n",
      "Steady     0.08\n",
      "Up         0.01\n",
      "Down       0.00\n",
      "Name: chlorpropamide, dtype: float64\n",
      "#####################\n",
      "\n",
      "\n",
      "#####################\n",
      "glimepiride\n",
      "No        94.90\n",
      "Steady     4.59\n",
      "Up         0.32\n",
      "Down       0.19\n",
      "Name: glimepiride, dtype: float64\n",
      "#####################\n",
      "\n",
      "\n",
      "#####################\n",
      "acetohexamide\n",
      "No        100.0\n",
      "Steady      0.0\n",
      "Name: acetohexamide, dtype: float64\n",
      "#####################\n",
      "\n",
      "\n",
      "#####################\n",
      "glipizide\n",
      "No        87.53\n",
      "Steady    11.16\n",
      "Up         0.76\n",
      "Down       0.55\n",
      "Name: glipizide, dtype: float64\n",
      "#####################\n",
      "\n",
      "\n",
      "#####################\n",
      "glyburide\n",
      "No        89.53\n",
      "Steady     9.11\n",
      "Up         0.80\n",
      "Down       0.55\n",
      "Name: glyburide, dtype: float64\n",
      "#####################\n",
      "\n",
      "\n",
      "#####################\n",
      "tolbutamide\n",
      "No        99.98\n",
      "Steady     0.02\n",
      "Name: tolbutamide, dtype: float64\n",
      "#####################\n",
      "\n",
      "\n",
      "#####################\n",
      "pioglitazone\n",
      "No        92.80\n",
      "Steady     6.85\n",
      "Up         0.23\n",
      "Down       0.12\n",
      "Name: pioglitazone, dtype: float64\n",
      "#####################\n",
      "\n",
      "\n",
      "#####################\n",
      "rosiglitazone\n",
      "No        93.75\n",
      "Steady     5.99\n",
      "Up         0.17\n",
      "Down       0.09\n",
      "Name: rosiglitazone, dtype: float64\n",
      "#####################\n",
      "\n",
      "\n",
      "#####################\n",
      "acarbose\n",
      "No        99.70\n",
      "Steady     0.29\n",
      "Up         0.01\n",
      "Down       0.00\n",
      "Name: acarbose, dtype: float64\n",
      "#####################\n",
      "\n",
      "\n",
      "#####################\n",
      "miglitol\n",
      "No        99.96\n",
      "Steady     0.03\n",
      "Down       0.00\n",
      "Up         0.00\n",
      "Name: miglitol, dtype: float64\n",
      "#####################\n",
      "\n",
      "\n",
      "#####################\n",
      "troglitazone\n",
      "No        100.0\n",
      "Steady      0.0\n",
      "Name: troglitazone, dtype: float64\n",
      "#####################\n",
      "\n",
      "\n",
      "#####################\n",
      "tolazamide\n",
      "No        99.96\n",
      "Steady     0.04\n",
      "Up         0.00\n",
      "Name: tolazamide, dtype: float64\n",
      "#####################\n",
      "\n",
      "\n",
      "#####################\n",
      "examide\n",
      "No    100.0\n",
      "Name: examide, dtype: float64\n",
      "#####################\n",
      "\n",
      "\n",
      "#####################\n",
      "citoglipton\n",
      "No    100.0\n",
      "Name: citoglipton, dtype: float64\n",
      "#####################\n",
      "\n",
      "\n",
      "#####################\n",
      "insulin\n",
      "No        46.56\n",
      "Steady    30.31\n",
      "Down      12.01\n",
      "Up        11.12\n",
      "Name: insulin, dtype: float64\n",
      "#####################\n",
      "\n",
      "\n",
      "#####################\n",
      "glyburide-metformin\n",
      "No        99.31\n",
      "Steady     0.68\n",
      "Up         0.01\n",
      "Down       0.01\n",
      "Name: glyburide-metformin, dtype: float64\n",
      "#####################\n",
      "\n",
      "\n",
      "#####################\n",
      "glipizide-metformin\n",
      "No        99.99\n",
      "Steady     0.01\n",
      "Name: glipizide-metformin, dtype: float64\n",
      "#####################\n",
      "\n",
      "\n",
      "#####################\n",
      "glimepiride-pioglitazone\n",
      "No        100.0\n",
      "Steady      0.0\n",
      "Name: glimepiride-pioglitazone, dtype: float64\n",
      "#####################\n",
      "\n",
      "\n",
      "#####################\n",
      "metformin-rosiglitazone\n",
      "No        100.0\n",
      "Steady      0.0\n",
      "Name: metformin-rosiglitazone, dtype: float64\n",
      "#####################\n",
      "\n",
      "\n",
      "#####################\n",
      "metformin-pioglitazone\n",
      "No        100.0\n",
      "Steady      0.0\n",
      "Name: metformin-pioglitazone, dtype: float64\n",
      "#####################\n",
      "\n",
      "\n",
      "#####################\n",
      "change\n",
      "No    53.8\n",
      "Ch    46.2\n",
      "Name: change, dtype: float64\n",
      "#####################\n",
      "\n",
      "\n",
      "#####################\n",
      "diabetesMed\n",
      "Yes    77.0\n",
      "No     23.0\n",
      "Name: diabetesMed, dtype: float64\n",
      "#####################\n",
      "\n",
      "\n",
      "#####################\n",
      "readmitted\n",
      "NO     53.91\n",
      ">30    34.93\n",
      "<30    11.16\n",
      "Name: readmitted, dtype: float64\n",
      "#####################\n",
      "\n",
      "\n"
     ]
    }
   ],
   "source": [
    "for i in categorical_features:\n",
    "    print('#####################')\n",
    "    print(f'{i}\\n{np.round((data[i].value_counts() / data[i].value_counts().sum()) * 100,2)}')\n",
    "    print('#####################\\n\\n')"
   ]
  },
  {
   "cell_type": "markdown",
   "metadata": {},
   "source": [
    "Let's check why in gender column there is 0% of Unknow/Invalid category."
   ]
  },
  {
   "cell_type": "code",
   "execution_count": 32,
   "metadata": {},
   "outputs": [
    {
     "data": {
      "text/plain": [
       "30506    Unknown/Invalid\n",
       "75551    Unknown/Invalid\n",
       "82573    Unknown/Invalid\n",
       "Name: gender, dtype: object"
      ]
     },
     "execution_count": 32,
     "metadata": {},
     "output_type": "execute_result"
    }
   ],
   "source": [
    "data.gender[data.gender == 'Unknown/Invalid']"
   ]
  },
  {
   "cell_type": "markdown",
   "metadata": {},
   "source": [
    "There are 3 people which does not identify as a male/female, so let's remove these records just to simplify this column."
   ]
  },
  {
   "cell_type": "code",
   "execution_count": 33,
   "metadata": {},
   "outputs": [
    {
     "data": {
      "text/plain": [
       "(101766, 47)"
      ]
     },
     "execution_count": 33,
     "metadata": {},
     "output_type": "execute_result"
    }
   ],
   "source": [
    "data.shape"
   ]
  },
  {
   "cell_type": "code",
   "execution_count": 34,
   "metadata": {},
   "outputs": [],
   "source": [
    "data = data[data.gender != 'Unknown/Invalid']"
   ]
  },
  {
   "cell_type": "code",
   "execution_count": 35,
   "metadata": {},
   "outputs": [
    {
     "data": {
      "text/plain": [
       "(101763, 47)"
      ]
     },
     "execution_count": 35,
     "metadata": {},
     "output_type": "execute_result"
    }
   ],
   "source": [
    "data.shape"
   ]
  },
  {
   "cell_type": "code",
   "execution_count": 36,
   "metadata": {},
   "outputs": [
    {
     "data": {
      "text/plain": [
       "26086    Steady\n",
       "Name: acetohexamide, dtype: object"
      ]
     },
     "execution_count": 36,
     "metadata": {},
     "output_type": "execute_result"
    }
   ],
   "source": [
    "data.acetohexamide[data.acetohexamide == 'Steady']"
   ]
  },
  {
   "cell_type": "code",
   "execution_count": 37,
   "metadata": {},
   "outputs": [
    {
     "data": {
      "text/plain": [
       "61     Steady\n",
       "63     Steady\n",
       "121    Steady\n",
       "Name: troglitazone, dtype: object"
      ]
     },
     "execution_count": 37,
     "metadata": {},
     "output_type": "execute_result"
    }
   ],
   "source": [
    "data.troglitazone[data.troglitazone == 'Steady']"
   ]
  },
  {
   "cell_type": "code",
   "execution_count": 38,
   "metadata": {},
   "outputs": [
    {
     "data": {
      "text/plain": [
       "77130    Steady\n",
       "Name: glimepiride-pioglitazone, dtype: object"
      ]
     },
     "execution_count": 38,
     "metadata": {},
     "output_type": "execute_result"
    }
   ],
   "source": [
    "data['glimepiride-pioglitazone'][data['glimepiride-pioglitazone'] == 'Steady']"
   ]
  },
  {
   "cell_type": "code",
   "execution_count": 39,
   "metadata": {},
   "outputs": [
    {
     "data": {
      "text/plain": [
       "86564    Steady\n",
       "95470    Steady\n",
       "Name: metformin-rosiglitazone, dtype: object"
      ]
     },
     "execution_count": 39,
     "metadata": {},
     "output_type": "execute_result"
    }
   ],
   "source": [
    "data['metformin-rosiglitazone'][data['metformin-rosiglitazone'] == 'Steady']"
   ]
  },
  {
   "cell_type": "markdown",
   "metadata": {},
   "source": [
    "Columns: **acetohexamide**, **troglitazone**, **examide**, **citoglipton**, **glimepiride-pioglitazone**, **metformin-rosiglitazone**, **metformin-pioglitazone** does not give any addictional information so let's drop them."
   ]
  },
  {
   "cell_type": "code",
   "execution_count": 40,
   "metadata": {},
   "outputs": [],
   "source": [
    "columns_to_drop = [\"acetohexamide\", \"troglitazone\", \"examide\", \"citoglipton\", \n",
    "                   \"glimepiride-pioglitazone\", \"metformin-rosiglitazone\",\n",
    "                   \"metformin-pioglitazone\"]\n",
    "\n",
    "for column in columns_to_drop:\n",
    "    data.drop(column, inplace=True, axis=1)"
   ]
  },
  {
   "cell_type": "code",
   "execution_count": 41,
   "metadata": {
    "scrolled": false
   },
   "outputs": [
    {
     "data": {
      "text/plain": [
       "race                         2.232\n",
       "gender                       0.000\n",
       "age                          0.000\n",
       "admission_type_id            0.000\n",
       "discharge_disposition_id     0.000\n",
       "admission_source_id          0.000\n",
       "time_in_hospital             0.000\n",
       "payer_code                  39.558\n",
       "medical_specialty           49.082\n",
       "num_lab_procedures           0.000\n",
       "num_procedures               0.000\n",
       "num_medications              0.000\n",
       "number_outpatient            0.000\n",
       "number_emergency             0.000\n",
       "number_inpatient             0.000\n",
       "diag_1                       0.021\n",
       "diag_2                       0.352\n",
       "diag_3                       1.398\n",
       "number_diagnoses             0.000\n",
       "max_glu_serum                0.000\n",
       "A1Cresult                    0.000\n",
       "metformin                    0.000\n",
       "repaglinide                  0.000\n",
       "nateglinide                  0.000\n",
       "chlorpropamide               0.000\n",
       "glimepiride                  0.000\n",
       "glipizide                    0.000\n",
       "glyburide                    0.000\n",
       "tolbutamide                  0.000\n",
       "pioglitazone                 0.000\n",
       "rosiglitazone                0.000\n",
       "acarbose                     0.000\n",
       "miglitol                     0.000\n",
       "tolazamide                   0.000\n",
       "insulin                      0.000\n",
       "glyburide-metformin          0.000\n",
       "glipizide-metformin          0.000\n",
       "change                       0.000\n",
       "diabetesMed                  0.000\n",
       "readmitted                   0.000\n",
       "dtype: float64"
      ]
     },
     "execution_count": 41,
     "metadata": {},
     "output_type": "execute_result"
    }
   ],
   "source": [
    "np.round(data.isnull().mean() * 100,3)"
   ]
  },
  {
   "cell_type": "code",
   "execution_count": 42,
   "metadata": {
    "scrolled": true
   },
   "outputs": [
    {
     "data": {
      "text/plain": [
       "MC    32439\n",
       "HM     6274\n",
       "SP     5007\n",
       "BC     4655\n",
       "MD     3532\n",
       "CP     2531\n",
       "UN     2448\n",
       "CM     1937\n",
       "OG     1033\n",
       "PO      592\n",
       "DM      549\n",
       "CH      146\n",
       "WC      135\n",
       "OT       95\n",
       "MP       79\n",
       "SI       55\n",
       "FR        1\n",
       "Name: payer_code, dtype: int64"
      ]
     },
     "execution_count": 42,
     "metadata": {},
     "output_type": "execute_result"
    }
   ],
   "source": [
    "data.payer_code.value_counts()"
   ]
  },
  {
   "cell_type": "markdown",
   "metadata": {},
   "source": [
    "\n",
    "We can drop rows which contains NULLS in **race**, **diag_1**, **diag_2**, **diag_3**, because it's a small percentage of all observations."
   ]
  },
  {
   "cell_type": "code",
   "execution_count": 43,
   "metadata": {},
   "outputs": [],
   "source": [
    "data = data[(data.race.notnull()) & (data.diag_1.notnull()) & (data.diag_2.notnull()) & (data.diag_3.notnull())]"
   ]
  },
  {
   "cell_type": "code",
   "execution_count": 44,
   "metadata": {},
   "outputs": [
    {
     "data": {
      "text/plain": [
       "race                         0.000\n",
       "gender                       0.000\n",
       "age                          0.000\n",
       "admission_type_id            0.000\n",
       "discharge_disposition_id     0.000\n",
       "admission_source_id          0.000\n",
       "time_in_hospital             0.000\n",
       "payer_code                  39.696\n",
       "medical_specialty           49.278\n",
       "num_lab_procedures           0.000\n",
       "num_procedures               0.000\n",
       "num_medications              0.000\n",
       "number_outpatient            0.000\n",
       "number_emergency             0.000\n",
       "number_inpatient             0.000\n",
       "diag_1                       0.000\n",
       "diag_2                       0.000\n",
       "diag_3                       0.000\n",
       "number_diagnoses             0.000\n",
       "max_glu_serum                0.000\n",
       "A1Cresult                    0.000\n",
       "metformin                    0.000\n",
       "repaglinide                  0.000\n",
       "nateglinide                  0.000\n",
       "chlorpropamide               0.000\n",
       "glimepiride                  0.000\n",
       "glipizide                    0.000\n",
       "glyburide                    0.000\n",
       "tolbutamide                  0.000\n",
       "pioglitazone                 0.000\n",
       "rosiglitazone                0.000\n",
       "acarbose                     0.000\n",
       "miglitol                     0.000\n",
       "tolazamide                   0.000\n",
       "insulin                      0.000\n",
       "glyburide-metformin          0.000\n",
       "glipizide-metformin          0.000\n",
       "change                       0.000\n",
       "diabetesMed                  0.000\n",
       "readmitted                   0.000\n",
       "dtype: float64"
      ]
     },
     "execution_count": 44,
     "metadata": {},
     "output_type": "execute_result"
    }
   ],
   "source": [
    "np.round(data.isnull().mean() * 100, 3)"
   ]
  },
  {
   "cell_type": "markdown",
   "metadata": {},
   "source": [
    "Due to the fact that there are so many missing values in columns `payer_code` and `medical_specialty`, because there is not a perfect way how to impute those missing values."
   ]
  },
  {
   "cell_type": "code",
   "execution_count": 45,
   "metadata": {},
   "outputs": [],
   "source": [
    "data = data.drop(['payer_code', 'medical_specialty'], axis = 1)"
   ]
  },
  {
   "cell_type": "markdown",
   "metadata": {},
   "source": [
    "#### Let's encode target value `readmitted`, let's simplify it to binary classification problem. When readmitted (1), when not (0)."
   ]
  },
  {
   "cell_type": "code",
   "execution_count": 46,
   "metadata": {},
   "outputs": [],
   "source": [
    "data['readmitted'] = np.where(data['readmitted']=='NO', 0, 1)\n",
    "data['readmitted'] = data['readmitted'].astype('int64')"
   ]
  },
  {
   "cell_type": "code",
   "execution_count": 47,
   "metadata": {},
   "outputs": [],
   "source": [
    "numeric_features.append('readmitted')"
   ]
  },
  {
   "cell_type": "code",
   "execution_count": 48,
   "metadata": {},
   "outputs": [
    {
     "data": {
      "image/png": "[encoded data removed]",
      "text/plain": [
       "<Figure size 864x720 with 1 Axes>"
      ]
     },
     "metadata": {
      "needs_background": "light"
     },
     "output_type": "display_data"
    }
   ],
   "source": [
    "plt.figure(figsize=(12, 10))\n",
    "heatmap = sns.heatmap(data[numeric_features].corr(), annot=True, vmin=-1, vmax=1, cmap=\"BrBG\", cbar=False)\n",
    "plt.show()"
   ]
  },
  {
   "cell_type": "code",
   "execution_count": 49,
   "metadata": {},
   "outputs": [
    {
     "data": {
      "text/plain": [
       "Index(['race', 'gender', 'age', 'admission_type_id',\n",
       "       'discharge_disposition_id', 'admission_source_id', 'time_in_hospital',\n",
       "       'num_lab_procedures', 'num_procedures', 'num_medications',\n",
       "       'number_outpatient', 'number_emergency', 'number_inpatient', 'diag_1',\n",
       "       'diag_2', 'diag_3', 'number_diagnoses', 'max_glu_serum', 'A1Cresult',\n",
       "       'metformin', 'repaglinide', 'nateglinide', 'chlorpropamide',\n",
       "       'glimepiride', 'glipizide', 'glyburide', 'tolbutamide', 'pioglitazone',\n",
       "       'rosiglitazone', 'acarbose', 'miglitol', 'tolazamide', 'insulin',\n",
       "       'glyburide-metformin', 'glipizide-metformin', 'change', 'diabetesMed',\n",
       "       'readmitted'],\n",
       "      dtype='object')"
      ]
     },
     "execution_count": 49,
     "metadata": {},
     "output_type": "execute_result"
    }
   ],
   "source": [
    "data.columns"
   ]
  },
  {
   "cell_type": "code",
   "execution_count": 50,
   "metadata": {},
   "outputs": [
    {
     "data": {
      "text/plain": [
       "38"
      ]
     },
     "execution_count": 50,
     "metadata": {},
     "output_type": "execute_result"
    }
   ],
   "source": [
    "len(data.columns)"
   ]
  },
  {
   "cell_type": "code",
   "execution_count": 51,
   "metadata": {},
   "outputs": [
    {
     "data": {
      "text/plain": [
       "0"
      ]
     },
     "execution_count": 51,
     "metadata": {},
     "output_type": "execute_result"
    }
   ],
   "source": [
    "data.duplicated().sum()"
   ]
  },
  {
   "cell_type": "markdown",
   "metadata": {},
   "source": [
    "## Two-dimensional analysis"
   ]
  },
  {
   "cell_type": "markdown",
   "metadata": {},
   "source": [
    "From correlation matrix we can see that there might be some interesting correlations between `time_in_hospital` and `num_medications` / `num_lab_procedures` / `number_diagnoses`."
   ]
  },
  {
   "cell_type": "code",
   "execution_count": 52,
   "metadata": {},
   "outputs": [],
   "source": [
    "sns.set(rc={'figure.figsize':(16,12)})"
   ]
  },
  {
   "cell_type": "code",
   "execution_count": 53,
   "metadata": {},
   "outputs": [
    {
     "data": {
      "image/png": "[encoded data removed]",
      "text/plain": [
       "<Figure size 648x432 with 1 Axes>"
      ]
     },
     "metadata": {},
     "output_type": "display_data"
    }
   ],
   "source": [
    "sns.lmplot(x = 'time_in_hospital', y = 'num_medications', data=data, height=6, aspect=1.5)\n",
    "plt.show()"
   ]
  },
  {
   "cell_type": "code",
   "execution_count": 54,
   "metadata": {},
   "outputs": [
    {
     "data": {
      "image/png": "[encoded data removed]",
      "text/plain": [
       "<Figure size 648x432 with 1 Axes>"
      ]
     },
     "metadata": {},
     "output_type": "display_data"
    }
   ],
   "source": [
    "sns.lmplot(x = 'time_in_hospital', y = 'num_lab_procedures', data=data, height=6, aspect=1.5)\n",
    "plt.show()"
   ]
  },
  {
   "cell_type": "code",
   "execution_count": 55,
   "metadata": {},
   "outputs": [
    {
     "data": {
      "image/png": "[encoded data removed]",
      "text/plain": [
       "<Figure size 648x432 with 1 Axes>"
      ]
     },
     "metadata": {},
     "output_type": "display_data"
    }
   ],
   "source": [
    "sns.lmplot(x = 'time_in_hospital', y = 'number_diagnoses', data=data, height=6, aspect=1.5)\n",
    "plt.show()"
   ]
  },
  {
   "cell_type": "markdown",
   "metadata": {},
   "source": [
    "As we can see, what\\`s quite normal, as longer you stay in hospital, the more medications or lab procedures you might have. Also more diagnoses."
   ]
  },
  {
   "cell_type": "markdown",
   "metadata": {},
   "source": [
    "**Also let's check plot for `number_emergency` and `number_inpatient`.**"
   ]
  },
  {
   "cell_type": "code",
   "execution_count": 56,
   "metadata": {},
   "outputs": [
    {
     "data": {
      "image/png": "[encoded data removed]",
      "text/plain": [
       "<Figure size 648x432 with 1 Axes>"
      ]
     },
     "metadata": {},
     "output_type": "display_data"
    }
   ],
   "source": [
    "sns.lmplot(x = 'number_emergency', y = 'number_inpatient', data = data, height=6, aspect=1.5)\n",
    "plt.show()"
   ]
  },
  {
   "cell_type": "markdown",
   "metadata": {},
   "source": [
    "As we can see linear model does not represent well the correlation."
   ]
  },
  {
   "cell_type": "code",
   "execution_count": 57,
   "metadata": {},
   "outputs": [
    {
     "data": {
      "image/png": "[encoded data removed]",
      "text/plain": [
       "<Figure size 648x432 with 1 Axes>"
      ]
     },
     "metadata": {},
     "output_type": "display_data"
    }
   ],
   "source": [
    "sns.lmplot(x = 'number_emergency', y = 'number_inpatient', data = data, order = 5, height=6, aspect=1.5)\n",
    "plt.show()"
   ]
  },
  {
   "cell_type": "markdown",
   "metadata": {},
   "source": [
    "It does look a lot better, as we can notice the more you have no. of emergency visits, the more you can land in hospital just by normal visit, but after some no. it does not matter."
   ]
  },
  {
   "cell_type": "markdown",
   "metadata": {},
   "source": [
    "#### Maybe now let's check whether gender, race or age has some correlation with time spent in hospitals."
   ]
  },
  {
   "cell_type": "code",
   "execution_count": 58,
   "metadata": {},
   "outputs": [
    {
     "data": {
      "image/png": "[encoded data removed]",
      "text/plain": [
       "<Figure size 1152x864 with 1 Axes>"
      ]
     },
     "metadata": {},
     "output_type": "display_data"
    }
   ],
   "source": [
    "sns.boxplot(x=\"gender\", y=\"time_in_hospital\", data=data)\n",
    "plt.show()"
   ]
  },
  {
   "cell_type": "code",
   "execution_count": 59,
   "metadata": {},
   "outputs": [
    {
     "data": {
      "image/png": "[encoded data removed]",
      "text/plain": [
       "<Figure size 1152x864 with 1 Axes>"
      ]
     },
     "metadata": {},
     "output_type": "display_data"
    }
   ],
   "source": [
    "sns.boxplot(x=\"race\", y=\"time_in_hospital\", data=data)\n",
    "plt.show()"
   ]
  },
  {
   "cell_type": "code",
   "execution_count": 60,
   "metadata": {},
   "outputs": [
    {
     "data": {
      "image/png": "[encoded data removed]",
      "text/plain": [
       "<Figure size 1152x864 with 1 Axes>"
      ]
     },
     "metadata": {},
     "output_type": "display_data"
    }
   ],
   "source": [
    "sns.boxplot(x=\"age\", y=\"time_in_hospital\", data=data)\n",
    "plt.show()"
   ]
  },
  {
   "cell_type": "markdown",
   "metadata": {},
   "source": [
    "The older you are, the longer you stay in hospital. Race and gender does not have any correlation."
   ]
  },
  {
   "cell_type": "markdown",
   "metadata": {},
   "source": [
    "### Handling Numeric Variables"
   ]
  },
  {
   "cell_type": "code",
   "execution_count": 61,
   "metadata": {
    "scrolled": true
   },
   "outputs": [
    {
     "data": {
      "text/plain": [
       "['time_in_hospital',\n",
       " 'num_lab_procedures',\n",
       " 'num_procedures',\n",
       " 'num_medications',\n",
       " 'number_diagnoses']"
      ]
     },
     "execution_count": 61,
     "metadata": {},
     "output_type": "execute_result"
    }
   ],
   "source": [
    "numeric_features = list(data.select_dtypes(\"int64\", exclude='object').columns)\n",
    "numeric_features.remove('readmitted')\n",
    "numeric_features"
   ]
  },
  {
   "cell_type": "markdown",
   "metadata": {},
   "source": [
    "I decided to MinMax all numeric features, just to transform them, I am aware it might not be the best option and it might be worth checking if some of them have normal distribution to Standarize them. Dependently on the model we choose in the future it might work better on scaled or not scaled features."
   ]
  },
  {
   "cell_type": "code",
   "execution_count": 62,
   "metadata": {},
   "outputs": [],
   "source": [
    "from sklearn.pipeline import Pipeline\n",
    "from sklearn.preprocessing import MinMaxScaler\n",
    "\n",
    "scalerMinMax = MinMaxScaler()"
   ]
  },
  {
   "cell_type": "markdown",
   "metadata": {},
   "source": [
    "### Handling Categorical Variables"
   ]
  },
  {
   "cell_type": "code",
   "execution_count": 63,
   "metadata": {},
   "outputs": [
    {
     "name": "stdout",
     "output_type": "stream",
     "text": [
      "length: 29\n",
      "\n"
     ]
    },
    {
     "data": {
      "text/plain": [
       "['race',\n",
       " 'gender',\n",
       " 'age',\n",
       " 'admission_type_id',\n",
       " 'discharge_disposition_id',\n",
       " 'admission_source_id',\n",
       " 'diag_1',\n",
       " 'diag_2',\n",
       " 'diag_3',\n",
       " 'max_glu_serum',\n",
       " 'A1Cresult',\n",
       " 'metformin',\n",
       " 'repaglinide',\n",
       " 'nateglinide',\n",
       " 'chlorpropamide',\n",
       " 'glimepiride',\n",
       " 'glipizide',\n",
       " 'glyburide',\n",
       " 'tolbutamide',\n",
       " 'pioglitazone',\n",
       " 'rosiglitazone',\n",
       " 'acarbose',\n",
       " 'miglitol',\n",
       " 'tolazamide',\n",
       " 'insulin',\n",
       " 'glyburide-metformin',\n",
       " 'glipizide-metformin',\n",
       " 'change',\n",
       " 'diabetesMed']"
      ]
     },
     "execution_count": 63,
     "metadata": {},
     "output_type": "execute_result"
    }
   ],
   "source": [
    "categorical_features = list(data.select_dtypes(\"object\").columns)\n",
    "print('length: ' + str(len(categorical_features)) + '\\n')\n",
    "categorical_features"
   ]
  },
  {
   "cell_type": "code",
   "execution_count": 64,
   "metadata": {},
   "outputs": [
    {
     "name": "stdout",
     "output_type": "stream",
     "text": [
      "#####################\n",
      "race\n",
      "Caucasian          75079\n",
      "AfricanAmerican    18881\n",
      "Hispanic            1984\n",
      "Other               1483\n",
      "Asian                625\n",
      "Name: race, dtype: int64\n",
      "#####################\n",
      "\n",
      "\n",
      "#####################\n",
      "gender\n",
      "Female    52833\n",
      "Male      45219\n",
      "Name: gender, dtype: int64\n",
      "#####################\n",
      "\n",
      "\n",
      "#####################\n",
      "age\n",
      "[70-80)     25305\n",
      "[60-70)     21809\n",
      "[80-90)     16702\n",
      "[50-60)     16697\n",
      "[40-50)      9265\n",
      "[30-40)      3548\n",
      "[90-100)     2717\n",
      "[20-30)      1478\n",
      "[10-20)       466\n",
      "[0-10)         65\n",
      "Name: age, dtype: int64\n",
      "#####################\n",
      "\n",
      "\n",
      "#####################\n",
      "admission_type_id\n",
      "1    52178\n",
      "3    18193\n",
      "2    17543\n",
      "6     5135\n",
      "5     4661\n",
      "8      312\n",
      "7       20\n",
      "4       10\n",
      "Name: admission_type_id, dtype: int64\n",
      "#####################\n",
      "\n",
      "\n",
      "#####################\n",
      "discharge_disposition_id\n",
      "1     57609\n",
      "3     13564\n",
      "6     12626\n",
      "18     3624\n",
      "2      2049\n",
      "22     1970\n",
      "11     1606\n",
      "5      1127\n",
      "25      941\n",
      "4       756\n",
      "7       592\n",
      "23      400\n",
      "13      396\n",
      "14      368\n",
      "28      137\n",
      "8       106\n",
      "15       63\n",
      "24       48\n",
      "9        21\n",
      "17       14\n",
      "16       11\n",
      "19        8\n",
      "10        6\n",
      "27        5\n",
      "12        3\n",
      "20        2\n",
      "Name: discharge_disposition_id, dtype: int64\n",
      "#####################\n",
      "\n",
      "\n",
      "#####################\n",
      "admission_source_id\n",
      "7     55951\n",
      "1     28355\n",
      "17     6602\n",
      "4      2945\n",
      "6      1893\n",
      "2      1031\n",
      "5       846\n",
      "3       179\n",
      "20      160\n",
      "9        49\n",
      "8        15\n",
      "22       12\n",
      "10        7\n",
      "25        2\n",
      "11        2\n",
      "14        2\n",
      "13        1\n",
      "Name: admission_source_id, dtype: int64\n",
      "#####################\n",
      "\n",
      "\n",
      "#####################\n",
      "diag_1\n",
      "428    6730\n",
      "414    6373\n",
      "786    3900\n",
      "410    3514\n",
      "486    3412\n",
      "       ... \n",
      "V26       1\n",
      "347       1\n",
      "640       1\n",
      "704       1\n",
      "219       1\n",
      "Name: diag_1, Length: 713, dtype: int64\n",
      "#####################\n",
      "\n",
      "\n",
      "#####################\n",
      "diag_2\n",
      "428     6517\n",
      "276     6513\n",
      "250     5412\n",
      "427     4919\n",
      "401     3613\n",
      "        ... \n",
      "E900       1\n",
      "863        1\n",
      "E938       1\n",
      "E980       1\n",
      "E968       1\n",
      "Name: diag_2, Length: 740, dtype: int64\n",
      "#####################\n",
      "\n",
      "\n",
      "#####################\n",
      "diag_3\n",
      "250     11208\n",
      "401      8089\n",
      "276      5097\n",
      "428      4491\n",
      "427      3865\n",
      "        ...  \n",
      "540         1\n",
      "49          1\n",
      "853         1\n",
      "841         1\n",
      "E965        1\n",
      "Name: diag_3, Length: 786, dtype: int64\n",
      "#####################\n",
      "\n",
      "\n",
      "#####################\n",
      "max_glu_serum\n",
      "None    92844\n",
      "Norm     2532\n",
      ">200     1449\n",
      ">300     1227\n",
      "Name: max_glu_serum, dtype: int64\n",
      "#####################\n",
      "\n",
      "\n",
      "#####################\n",
      "A1Cresult\n",
      "None    81859\n",
      ">8       7631\n",
      "Norm     4854\n",
      ">7       3708\n",
      "Name: A1Cresult, dtype: int64\n",
      "#####################\n",
      "\n",
      "\n",
      "#####################\n",
      "metformin\n",
      "No        78807\n",
      "Steady    17677\n",
      "Up         1017\n",
      "Down        551\n",
      "Name: metformin, dtype: int64\n",
      "#####################\n",
      "\n",
      "\n",
      "#####################\n",
      "repaglinide\n",
      "No        96529\n",
      "Steady     1371\n",
      "Up          107\n",
      "Down         45\n",
      "Name: repaglinide, dtype: int64\n",
      "#####################\n",
      "\n",
      "\n",
      "#####################\n",
      "nateglinide\n",
      "No        97361\n",
      "Steady      657\n",
      "Up           23\n",
      "Down         11\n",
      "Name: nateglinide, dtype: int64\n",
      "#####################\n",
      "\n",
      "\n",
      "#####################\n",
      "chlorpropamide\n",
      "No        97969\n",
      "Steady       76\n",
      "Up            6\n",
      "Down          1\n",
      "Name: chlorpropamide, dtype: int64\n",
      "#####################\n",
      "\n",
      "\n",
      "#####################\n",
      "glimepiride\n",
      "No        93065\n",
      "Steady     4488\n",
      "Up          315\n",
      "Down        184\n",
      "Name: glimepiride, dtype: int64\n",
      "#####################\n",
      "\n",
      "\n",
      "#####################\n",
      "glipizide\n",
      "No        85769\n",
      "Steady    10990\n",
      "Up          752\n",
      "Down        541\n",
      "Name: glipizide, dtype: int64\n",
      "#####################\n",
      "\n",
      "\n",
      "#####################\n",
      "glyburide\n",
      "No        87791\n",
      "Steady     8932\n",
      "Up          791\n",
      "Down        538\n",
      "Name: glyburide, dtype: int64\n",
      "#####################\n",
      "\n",
      "\n",
      "#####################\n",
      "tolbutamide\n",
      "No        98030\n",
      "Steady       22\n",
      "Name: tolbutamide, dtype: int64\n",
      "#####################\n",
      "\n",
      "\n",
      "#####################\n",
      "pioglitazone\n",
      "No        90955\n",
      "Steady     6755\n",
      "Up          227\n",
      "Down        115\n",
      "Name: pioglitazone, dtype: int64\n",
      "#####################\n",
      "\n",
      "\n",
      "#####################\n",
      "rosiglitazone\n",
      "No        91886\n",
      "Steady     5908\n",
      "Up          174\n",
      "Down         84\n",
      "Name: rosiglitazone, dtype: int64\n",
      "#####################\n",
      "\n",
      "\n",
      "#####################\n",
      "acarbose\n",
      "No        97753\n",
      "Steady      286\n",
      "Up           10\n",
      "Down          3\n",
      "Name: acarbose, dtype: int64\n",
      "#####################\n",
      "\n",
      "\n",
      "#####################\n",
      "miglitol\n",
      "No        98015\n",
      "Steady       31\n",
      "Down          4\n",
      "Up            2\n",
      "Name: miglitol, dtype: int64\n",
      "#####################\n",
      "\n",
      "\n",
      "#####################\n",
      "tolazamide\n",
      "No        98015\n",
      "Steady       36\n",
      "Up            1\n",
      "Name: tolazamide, dtype: int64\n",
      "#####################\n",
      "\n",
      "\n",
      "#####################\n",
      "insulin\n",
      "No        45942\n",
      "Steady    29368\n",
      "Down      11843\n",
      "Up        10899\n",
      "Name: insulin, dtype: int64\n",
      "#####################\n",
      "\n",
      "\n",
      "#####################\n",
      "glyburide-metformin\n",
      "No        97383\n",
      "Steady      660\n",
      "Up            6\n",
      "Down          3\n",
      "Name: glyburide-metformin, dtype: int64\n",
      "#####################\n",
      "\n",
      "\n",
      "#####################\n",
      "glipizide-metformin\n",
      "No        98039\n",
      "Steady       13\n",
      "Name: glipizide-metformin, dtype: int64\n",
      "#####################\n",
      "\n",
      "\n",
      "#####################\n",
      "change\n",
      "No    52774\n",
      "Ch    45278\n",
      "Name: change, dtype: int64\n",
      "#####################\n",
      "\n",
      "\n",
      "#####################\n",
      "diabetesMed\n",
      "Yes    75350\n",
      "No     22702\n",
      "Name: diabetesMed, dtype: int64\n",
      "#####################\n",
      "\n",
      "\n"
     ]
    }
   ],
   "source": [
    "for i in categorical_features:\n",
    "    print('#####################')\n",
    "    print(f'{i}\\n{data[i].value_counts()}')\n",
    "    print('#####################\\n\\n')"
   ]
  },
  {
   "cell_type": "markdown",
   "metadata": {},
   "source": [
    "Columns `race`, `gender`, `admission_type_id`, `discharge_disposition_id`, `admission_source_id` ,`metformin`, `repaglinide`, `nateglinide`, `chlorpropamide`, `glimepiride`, `glipizide`, `glyburide`, `tolbutamide`, `pioglitazone`, `rosiglitazone`, `acarbose`, `miglitol`, `tolazamide`, `insulin`, `glyburide-metformin`, `glipizide-metformin`, `change`, `diabetesMed` need to be encoded using **OneHotEncoder**."
   ]
  },
  {
   "cell_type": "code",
   "execution_count": 65,
   "metadata": {},
   "outputs": [],
   "source": [
    "from sklearn.preprocessing import OneHotEncoder\n",
    "\n",
    "hotenc = OneHotEncoder()"
   ]
  },
  {
   "cell_type": "markdown",
   "metadata": {},
   "source": [
    "Column `age` we will also encode using **One Hot Encoder**, but firstly let's simplify those categories."
   ]
  },
  {
   "cell_type": "code",
   "execution_count": 66,
   "metadata": {},
   "outputs": [],
   "source": [
    "data.age = data.age.str.replace('[', '')\n",
    "data.age = data.age.str.replace(')', '')\n",
    "data.age = data.age.str.replace('-', ' ')\n",
    "data.age = data.age.str.split(' ')"
   ]
  },
  {
   "cell_type": "code",
   "execution_count": 67,
   "metadata": {},
   "outputs": [],
   "source": [
    "data.age = data.age.str[0]"
   ]
  },
  {
   "cell_type": "markdown",
   "metadata": {},
   "source": [
    "In columns `diag_1`, `diag_2`, `diag_3` we need to decrease number of categories and then encode it using **One Hot Encoder**. Photo below shows how can we recognise which type of disease patient had."
   ]
  },
  {
   "cell_type": "markdown",
   "metadata": {},
   "source": [
    "![title](choroby.jpg)"
   ]
  },
  {
   "cell_type": "markdown",
   "metadata": {},
   "source": [
    "### Decreasing number of categories"
   ]
  },
  {
   "cell_type": "code",
   "execution_count": 68,
   "metadata": {
    "scrolled": false
   },
   "outputs": [],
   "source": [
    "data.loc[(data.diag_1 >= '390') & (data.diag_1 <= \"459\"), 'diag_1'] = 'Circulatory'\n",
    "data.loc[data.diag_1 == '785', 'diag_1'] = 'Circulatory'\n",
    "data.loc[(data.diag_2 >= '390') & (data.diag_2 <= \"459\"), 'diag_2'] = 'Circulatory'\n",
    "data.loc[data.diag_2 == '785', 'diag_2'] = 'Circulatory'\n",
    "data.loc[(data.diag_3 >= '390') & (data.diag_3 <= \"459\"), 'diag_3'] = 'Circulatory'\n",
    "data.loc[data.diag_3 == '785', 'diag_3'] = 'Circulatory'\n",
    "\n",
    "data.loc[(data.diag_1 >= '460') & (data.diag_1 <= \"519\"), 'diag_1'] = 'Respiratory'\n",
    "data.loc[data.diag_1 == '786', 'diag_1'] = 'Respiratory'\n",
    "data.loc[(data.diag_2 >= '460') & (data.diag_2 <= \"519\"), 'diag_2'] = 'Respiratory'\n",
    "data.loc[data.diag_2 == '786', 'diag_2'] = 'Respiratory'\n",
    "data.loc[(data.diag_3 >= '460') & (data.diag_3 <= \"519\"), 'diag_3'] = 'Respiratory'\n",
    "data.loc[data.diag_3 == '786', 'diag_3'] = 'Respiratory'\n",
    "\n",
    "data.loc[(data.diag_1 >= '520') & (data.diag_1 <= \"579\"), 'diag_1'] = 'Digestive'\n",
    "data.loc[data.diag_1 == '787', 'diag_1'] = 'Digestive'\n",
    "data.loc[(data.diag_2 >= '520') & (data.diag_2 <= \"579\"), 'diag_2'] = 'Digestive'\n",
    "data.loc[data.diag_2 == '787', 'diag_2'] = 'Digestive'\n",
    "data.loc[(data.diag_3 >= '520') & (data.diag_3 <= \"579\"), 'diag_3'] = 'Digestive'\n",
    "data.loc[data.diag_3 == '787', 'diag_3'] = 'Digestive'\n",
    "\n",
    "data.loc[data.diag_1 == '250', 'diag_1'] = 'Diabetes'\n",
    "data.loc[data.diag_2 == '250', 'diag_2'] = 'Diabetes'\n",
    "data.loc[data.diag_3 == '250', 'diag_3'] = 'Diabetes'\n",
    "\n",
    "data.loc[(data.diag_1 >= '800') & (data.diag_1 <= \"999\"), 'diag_1'] = 'Injury'\n",
    "data.loc[(data.diag_2 >= '800') & (data.diag_2 <= \"999\"), 'diag_2'] = 'Injury'\n",
    "data.loc[(data.diag_3 >= '800') & (data.diag_3 <= \"999\"), 'diag_3'] = 'Injury'\n",
    "\n",
    "data.loc[(data.diag_1 >= '710') & (data.diag_1 <= \"739\"), 'diag_1'] = 'Musculoskeletal'\n",
    "data.loc[(data.diag_2 >= '710') & (data.diag_2 <= \"739\"), 'diag_2'] = 'Musculoskeletal'\n",
    "data.loc[(data.diag_3 >= '710') & (data.diag_3 <= \"739\"), 'diag_3'] = 'Musculoskeletal'\n",
    "\n",
    "data.loc[(data.diag_1 >= '580') & (data.diag_1 <= \"629\"), 'diag_1'] = 'Genitourinary'\n",
    "data.loc[(data.diag_2 >= '580') & (data.diag_2 <= \"629\"), 'diag_2'] = 'Genitourinary'\n",
    "data.loc[(data.diag_3 >= '580') & (data.diag_3 <= \"629\"), 'diag_3'] = 'Genitourinary'\n",
    "data.loc[data.diag_1 == '788', 'diag_1'] = 'Genitourinary'\n",
    "data.loc[data.diag_2 == '788', 'diag_2'] = 'Genitourinary'\n",
    "data.loc[data.diag_3 == '788', 'diag_3'] = 'Genitourinary'\n",
    "\n",
    "data.loc[(data.diag_1 >= '140') & (data.diag_1 <= \"279\") & (data.diag_1 != '250'), 'diag_1'] = 'Neoplasms'\n",
    "data.loc[(data.diag_2 >= '140') & (data.diag_2 <= \"279\") & (data.diag_2 != '250'), 'diag_2'] = 'Neoplasms'\n",
    "data.loc[(data.diag_3 >= '140') & (data.diag_3 <= \"279\") & (data.diag_3 != '250'), 'diag_3'] = 'Neoplasms'\n",
    "data.loc[(data.diag_1 == '780') | (data.diag_1 == '781') | (data.diag_1 == '784') | (data.diag_1 == '782'), 'diag_1'] = 'Neoplasms'\n",
    "data.loc[(data.diag_2 == '780') | (data.diag_2 == '781') | (data.diag_2 == '784') | (data.diag_2 == '782'), 'diag_2'] = 'Neoplasms'\n",
    "data.loc[(data.diag_3 == '780') | (data.diag_3 == '781') | (data.diag_3 == '784') | (data.diag_3 == '782'), 'diag_3'] = 'Neoplasms'\n",
    "data.loc[(data.diag_1 >= '790') & (data.diag_1 <= \"799\"), 'diag_1'] = 'Neoplasms'\n",
    "data.loc[(data.diag_2 >= '790') & (data.diag_2 <= \"799\"), 'diag_2'] = 'Neoplasms'\n",
    "data.loc[(data.diag_3 >= '790') & (data.diag_3 <= \"799\"), 'diag_3'] = 'Neoplasms'\n",
    "data.loc[(data.diag_1 >= '680') & (data.diag_1 <= \"709\"), 'diag_1'] = 'Neoplasms'\n",
    "data.loc[(data.diag_2 >= '680') & (data.diag_2 <= \"709\"), 'diag_2'] = 'Neoplasms'\n",
    "data.loc[(data.diag_3 >= '680') & (data.diag_3 <= \"709\"), 'diag_3'] = 'Neoplasms'\n",
    "data.loc[(data.diag_1 >= '1') & (data.diag_1 <= \"139\"), 'diag_1'] = 'Neoplasms'\n",
    "data.loc[(data.diag_2 >= '1') & (data.diag_2 <= \"139\"), 'diag_2'] = 'Neoplasms'\n",
    "data.loc[(data.diag_3 >= '1') & (data.diag_3 <= \"139\"), 'diag_3'] = 'Neoplasms'\n",
    "\n",
    "data.loc[(data.diag_1 >= '280') & (data.diag_1 <= \"389\"), 'diag_1'] = 'Other'\n",
    "data.loc[(data.diag_2 >= '280') & (data.diag_2 <= \"389\"), 'diag_2'] = 'Other'\n",
    "data.loc[(data.diag_3 >= '280') & (data.diag_3 <= \"389\"), 'diag_3'] = 'Other'\n",
    "data.loc[(data.diag_1 >= '630') & (data.diag_1 <= \"679\"), 'diag_1'] = 'Other'\n",
    "data.loc[(data.diag_2 >= '630') & (data.diag_2 <= \"679\"), 'diag_2'] = 'Other'\n",
    "data.loc[(data.diag_3 >= '630') & (data.diag_3 <= \"679\"), 'diag_3'] = 'Other'\n",
    "data.loc[(data.diag_1 >= '740') & (data.diag_1 <= \"759\"), 'diag_1'] = 'Other'\n",
    "data.loc[(data.diag_2 >= '740') & (data.diag_2 <= \"759\"), 'diag_2'] = 'Other'\n",
    "data.loc[(data.diag_3 >= '740') & (data.diag_3 <= \"759\"), 'diag_3'] = 'Other'\n",
    "data.loc[data['diag_1'].str.contains('V'), 'diag_1'] = 'Other'\n",
    "data.loc[data['diag_2'].str.contains('V'), 'diag_2'] = 'Other'\n",
    "data.loc[data['diag_3'].str.contains('V'), 'diag_3'] = 'Other'\n",
    "data.loc[data['diag_1'].str.contains('E'), 'diag_1'] = 'Other'\n",
    "data.loc[data['diag_2'].str.contains('E'), 'diag_2'] = 'Other'\n",
    "data.loc[data['diag_3'].str.contains('E'), 'diag_3'] = 'Other'\n",
    "\n",
    "data.loc[(data.diag_1 != 'Circulatory') & (data.diag_1 != 'Respiratory') & (data.diag_1 != 'Digestive') & (data.diag_1 != 'Diabetes') &\n",
    "        (data.diag_1 != 'Injury') & (data.diag_1 != 'Musculoskeletal') & (data.diag_1 != 'Genitourinary') & (data.diag_1 != 'Neoplasms'), 'diag_1'] = 'Other'\n",
    "data.loc[(data.diag_2 != 'Circulatory') & (data.diag_2 != 'Respiratory') & (data.diag_2 != 'Digestive') & (data.diag_2 != 'Diabetes') &\n",
    "        (data.diag_2 != 'Injury') & (data.diag_2 != 'Musculoskeletal') & (data.diag_2 != 'Genitourinary') & (data.diag_2 != 'Neoplasms'), 'diag_2'] = 'Other'\n",
    "data.loc[(data.diag_3 != 'Circulatory') & (data.diag_3 != 'Respiratory') & (data.diag_3 != 'Digestive') & (data.diag_3 != 'Diabetes') &\n",
    "        (data.diag_3 != 'Injury') & (data.diag_3 != 'Musculoskeletal') & (data.diag_3 != 'Genitourinary') & (data.diag_3 != 'Neoplasms'), 'diag_3'] = 'Other'"
   ]
  },
  {
   "cell_type": "code",
   "execution_count": 69,
   "metadata": {},
   "outputs": [
    {
     "data": {
      "text/plain": [
       "Circulatory        29680\n",
       "Neoplasms          18855\n",
       "Respiratory        14035\n",
       "Other               9542\n",
       "Digestive           9252\n",
       "Injury              6774\n",
       "Genitourinary       4984\n",
       "Musculoskeletal     4739\n",
       "Diabetes             191\n",
       "Name: diag_1, dtype: int64"
      ]
     },
     "execution_count": 69,
     "metadata": {},
     "output_type": "execute_result"
    }
   ],
   "source": [
    "data.diag_1.value_counts()"
   ]
  },
  {
   "cell_type": "code",
   "execution_count": 70,
   "metadata": {},
   "outputs": [
    {
     "data": {
      "text/plain": [
       "Circulatory        31570\n",
       "Neoplasms          23405\n",
       "Other              10662\n",
       "Respiratory        10638\n",
       "Genitourinary       8203\n",
       "Diabetes            5412\n",
       "Digestive           4090\n",
       "Injury              2362\n",
       "Musculoskeletal     1710\n",
       "Name: diag_2, dtype: int64"
      ]
     },
     "execution_count": 70,
     "metadata": {},
     "output_type": "execute_result"
    }
   ],
   "source": [
    "data.diag_2.value_counts()"
   ]
  },
  {
   "cell_type": "code",
   "execution_count": 71,
   "metadata": {},
   "outputs": [
    {
     "data": {
      "text/plain": [
       "Circulatory        30364\n",
       "Neoplasms          21766\n",
       "Other              13312\n",
       "Diabetes           11208\n",
       "Respiratory         7204\n",
       "Genitourinary       6527\n",
       "Digestive           3892\n",
       "Injury              1917\n",
       "Musculoskeletal     1862\n",
       "Name: diag_3, dtype: int64"
      ]
     },
     "execution_count": 71,
     "metadata": {},
     "output_type": "execute_result"
    }
   ],
   "source": [
    "data.diag_3.value_counts()"
   ]
  },
  {
   "cell_type": "markdown",
   "metadata": {},
   "source": [
    "Columns `max_glu_serum` and `A1Cresult` should be ecoded by **OrdinalEncoder**."
   ]
  },
  {
   "cell_type": "code",
   "execution_count": 72,
   "metadata": {},
   "outputs": [
    {
     "data": {
      "text/plain": [
       "None    92844\n",
       "Norm     2532\n",
       ">200     1449\n",
       ">300     1227\n",
       "Name: max_glu_serum, dtype: int64"
      ]
     },
     "execution_count": 72,
     "metadata": {},
     "output_type": "execute_result"
    }
   ],
   "source": [
    "data.max_glu_serum.value_counts()"
   ]
  },
  {
   "cell_type": "code",
   "execution_count": 73,
   "metadata": {},
   "outputs": [
    {
     "data": {
      "text/plain": [
       "None    81859\n",
       ">8       7631\n",
       "Norm     4854\n",
       ">7       3708\n",
       "Name: A1Cresult, dtype: int64"
      ]
     },
     "execution_count": 73,
     "metadata": {},
     "output_type": "execute_result"
    }
   ],
   "source": [
    "data.A1Cresult.value_counts()"
   ]
  },
  {
   "cell_type": "code",
   "execution_count": 74,
   "metadata": {},
   "outputs": [],
   "source": [
    "categories_max_glu = ['None', 'Norm', '>200', '>300']\n",
    "categories_A1Cresult = ['None', 'Norm', '>7', '>8']\n",
    "\n",
    "from sklearn.preprocessing import OrdinalEncoder\n",
    "\n",
    "ord_enc = OrdinalEncoder(categories = [categories_max_glu, \n",
    "                                       categories_A1Cresult])\n",
    "\n",
    "data[['max_glu_serum', 'A1Cresult']] = ord_enc.fit_transform(data[['max_glu_serum', 'A1Cresult']])"
   ]
  },
  {
   "cell_type": "markdown",
   "metadata": {},
   "source": [
    "## Now let's finally transform all columns."
   ]
  },
  {
   "cell_type": "code",
   "execution_count": 75,
   "metadata": {},
   "outputs": [
    {
     "name": "stdout",
     "output_type": "stream",
     "text": [
      "27\n"
     ]
    }
   ],
   "source": [
    "categorical_features.remove('max_glu_serum')\n",
    "categorical_features.remove('A1Cresult')\n",
    "print(len(categorical_features))"
   ]
  },
  {
   "cell_type": "code",
   "execution_count": 76,
   "metadata": {},
   "outputs": [
    {
     "data": {
      "text/plain": [
       "['time_in_hospital',\n",
       " 'num_lab_procedures',\n",
       " 'num_procedures',\n",
       " 'num_medications',\n",
       " 'number_diagnoses']"
      ]
     },
     "execution_count": 76,
     "metadata": {},
     "output_type": "execute_result"
    }
   ],
   "source": [
    "numeric_features"
   ]
  },
  {
   "cell_type": "code",
   "execution_count": 77,
   "metadata": {},
   "outputs": [
    {
     "data": {
      "text/plain": [
       "['race',\n",
       " 'gender',\n",
       " 'age',\n",
       " 'admission_type_id',\n",
       " 'discharge_disposition_id',\n",
       " 'admission_source_id',\n",
       " 'diag_1',\n",
       " 'diag_2',\n",
       " 'diag_3',\n",
       " 'metformin',\n",
       " 'repaglinide',\n",
       " 'nateglinide',\n",
       " 'chlorpropamide',\n",
       " 'glimepiride',\n",
       " 'glipizide',\n",
       " 'glyburide',\n",
       " 'tolbutamide',\n",
       " 'pioglitazone',\n",
       " 'rosiglitazone',\n",
       " 'acarbose',\n",
       " 'miglitol',\n",
       " 'tolazamide',\n",
       " 'insulin',\n",
       " 'glyburide-metformin',\n",
       " 'glipizide-metformin',\n",
       " 'change',\n",
       " 'diabetesMed']"
      ]
     },
     "execution_count": 77,
     "metadata": {},
     "output_type": "execute_result"
    }
   ],
   "source": [
    "categorical_features"
   ]
  },
  {
   "cell_type": "code",
   "execution_count": 78,
   "metadata": {},
   "outputs": [],
   "source": [
    "for col in numeric_features:\n",
    "    data[col] = scalerMinMax.fit_transform(data[[col]])\n",
    "    \n",
    "data = pd.get_dummies(data = data, columns=categorical_features)"
   ]
  },
  {
   "cell_type": "markdown",
   "metadata": {},
   "source": [
    "# Final dataset prepared for the model."
   ]
  },
  {
   "cell_type": "code",
   "execution_count": 79,
   "metadata": {
    "scrolled": true
   },
   "outputs": [
    {
     "data": {
      "text/html": [
       "<div>\n",
       "<style scoped>\n",
       "    .dataframe tbody tr th:only-of-type {\n",
       "        vertical-align: middle;\n",
       "    }\n",
       "\n",
       "    .dataframe tbody tr th {\n",
       "        vertical-align: top;\n",
       "    }\n",
       "\n",
       "    .dataframe thead th {\n",
       "        text-align: right;\n",
       "    }\n",
       "</style>\n",
       "<table border=\"1\" class=\"dataframe\">\n",
       "  <thead>\n",
       "    <tr style=\"text-align: right;\">\n",
       "      <th></th>\n",
       "      <th>time_in_hospital</th>\n",
       "      <th>num_lab_procedures</th>\n",
       "      <th>num_procedures</th>\n",
       "      <th>num_medications</th>\n",
       "      <th>number_outpatient</th>\n",
       "      <th>number_emergency</th>\n",
       "      <th>number_inpatient</th>\n",
       "      <th>number_diagnoses</th>\n",
       "      <th>max_glu_serum</th>\n",
       "      <th>A1Cresult</th>\n",
       "      <th>...</th>\n",
       "      <th>glyburide-metformin_Down</th>\n",
       "      <th>glyburide-metformin_No</th>\n",
       "      <th>glyburide-metformin_Steady</th>\n",
       "      <th>glyburide-metformin_Up</th>\n",
       "      <th>glipizide-metformin_No</th>\n",
       "      <th>glipizide-metformin_Steady</th>\n",
       "      <th>change_Ch</th>\n",
       "      <th>change_No</th>\n",
       "      <th>diabetesMed_No</th>\n",
       "      <th>diabetesMed_Yes</th>\n",
       "    </tr>\n",
       "  </thead>\n",
       "  <tbody>\n",
       "    <tr>\n",
       "      <th>1</th>\n",
       "      <td>0.153846</td>\n",
       "      <td>0.442748</td>\n",
       "      <td>0.000000</td>\n",
       "      <td>0.2125</td>\n",
       "      <td>0.000000</td>\n",
       "      <td>0.0</td>\n",
       "      <td>0.0</td>\n",
       "      <td>0.461538</td>\n",
       "      <td>0.0</td>\n",
       "      <td>0.0</td>\n",
       "      <td>...</td>\n",
       "      <td>0</td>\n",
       "      <td>1</td>\n",
       "      <td>0</td>\n",
       "      <td>0</td>\n",
       "      <td>1</td>\n",
       "      <td>0</td>\n",
       "      <td>1</td>\n",
       "      <td>0</td>\n",
       "      <td>0</td>\n",
       "      <td>1</td>\n",
       "    </tr>\n",
       "    <tr>\n",
       "      <th>2</th>\n",
       "      <td>0.076923</td>\n",
       "      <td>0.076336</td>\n",
       "      <td>0.833333</td>\n",
       "      <td>0.1500</td>\n",
       "      <td>1.414214</td>\n",
       "      <td>0.0</td>\n",
       "      <td>1.0</td>\n",
       "      <td>0.230769</td>\n",
       "      <td>0.0</td>\n",
       "      <td>0.0</td>\n",
       "      <td>...</td>\n",
       "      <td>0</td>\n",
       "      <td>1</td>\n",
       "      <td>0</td>\n",
       "      <td>0</td>\n",
       "      <td>1</td>\n",
       "      <td>0</td>\n",
       "      <td>0</td>\n",
       "      <td>1</td>\n",
       "      <td>0</td>\n",
       "      <td>1</td>\n",
       "    </tr>\n",
       "    <tr>\n",
       "      <th>3</th>\n",
       "      <td>0.076923</td>\n",
       "      <td>0.328244</td>\n",
       "      <td>0.166667</td>\n",
       "      <td>0.1875</td>\n",
       "      <td>0.000000</td>\n",
       "      <td>0.0</td>\n",
       "      <td>0.0</td>\n",
       "      <td>0.307692</td>\n",
       "      <td>0.0</td>\n",
       "      <td>0.0</td>\n",
       "      <td>...</td>\n",
       "      <td>0</td>\n",
       "      <td>1</td>\n",
       "      <td>0</td>\n",
       "      <td>0</td>\n",
       "      <td>1</td>\n",
       "      <td>0</td>\n",
       "      <td>1</td>\n",
       "      <td>0</td>\n",
       "      <td>0</td>\n",
       "      <td>1</td>\n",
       "    </tr>\n",
       "    <tr>\n",
       "      <th>4</th>\n",
       "      <td>0.000000</td>\n",
       "      <td>0.381679</td>\n",
       "      <td>0.000000</td>\n",
       "      <td>0.0875</td>\n",
       "      <td>0.000000</td>\n",
       "      <td>0.0</td>\n",
       "      <td>0.0</td>\n",
       "      <td>0.153846</td>\n",
       "      <td>0.0</td>\n",
       "      <td>0.0</td>\n",
       "      <td>...</td>\n",
       "      <td>0</td>\n",
       "      <td>1</td>\n",
       "      <td>0</td>\n",
       "      <td>0</td>\n",
       "      <td>1</td>\n",
       "      <td>0</td>\n",
       "      <td>1</td>\n",
       "      <td>0</td>\n",
       "      <td>0</td>\n",
       "      <td>1</td>\n",
       "    </tr>\n",
       "    <tr>\n",
       "      <th>5</th>\n",
       "      <td>0.153846</td>\n",
       "      <td>0.229008</td>\n",
       "      <td>1.000000</td>\n",
       "      <td>0.1875</td>\n",
       "      <td>0.000000</td>\n",
       "      <td>0.0</td>\n",
       "      <td>0.0</td>\n",
       "      <td>0.461538</td>\n",
       "      <td>0.0</td>\n",
       "      <td>0.0</td>\n",
       "      <td>...</td>\n",
       "      <td>0</td>\n",
       "      <td>1</td>\n",
       "      <td>0</td>\n",
       "      <td>0</td>\n",
       "      <td>1</td>\n",
       "      <td>0</td>\n",
       "      <td>0</td>\n",
       "      <td>1</td>\n",
       "      <td>0</td>\n",
       "      <td>1</td>\n",
       "    </tr>\n",
       "  </tbody>\n",
       "</table>\n",
       "<p>5 rows × 169 columns</p>\n",
       "</div>"
      ],
      "text/plain": [
       "   time_in_hospital  num_lab_procedures  num_procedures  num_medications  \\\n",
       "1          0.153846            0.442748        0.000000           0.2125   \n",
       "2          0.076923            0.076336        0.833333           0.1500   \n",
       "3          0.076923            0.328244        0.166667           0.1875   \n",
       "4          0.000000            0.381679        0.000000           0.0875   \n",
       "5          0.153846            0.229008        1.000000           0.1875   \n",
       "\n",
       "   number_outpatient  number_emergency  number_inpatient  number_diagnoses  \\\n",
       "1           0.000000               0.0               0.0          0.461538   \n",
       "2           1.414214               0.0               1.0          0.230769   \n",
       "3           0.000000               0.0               0.0          0.307692   \n",
       "4           0.000000               0.0               0.0          0.153846   \n",
       "5           0.000000               0.0               0.0          0.461538   \n",
       "\n",
       "   max_glu_serum  A1Cresult  ...  glyburide-metformin_Down  \\\n",
       "1            0.0        0.0  ...                         0   \n",
       "2            0.0        0.0  ...                         0   \n",
       "3            0.0        0.0  ...                         0   \n",
       "4            0.0        0.0  ...                         0   \n",
       "5            0.0        0.0  ...                         0   \n",
       "\n",
       "   glyburide-metformin_No  glyburide-metformin_Steady  glyburide-metformin_Up  \\\n",
       "1                       1                           0                       0   \n",
       "2                       1                           0                       0   \n",
       "3                       1                           0                       0   \n",
       "4                       1                           0                       0   \n",
       "5                       1                           0                       0   \n",
       "\n",
       "   glipizide-metformin_No  glipizide-metformin_Steady  change_Ch  change_No  \\\n",
       "1                       1                           0          1          0   \n",
       "2                       1                           0          0          1   \n",
       "3                       1                           0          1          0   \n",
       "4                       1                           0          1          0   \n",
       "5                       1                           0          0          1   \n",
       "\n",
       "   diabetesMed_No  diabetesMed_Yes  \n",
       "1               0                1  \n",
       "2               0                1  \n",
       "3               0                1  \n",
       "4               0                1  \n",
       "5               0                1  \n",
       "\n",
       "[5 rows x 169 columns]"
      ]
     },
     "execution_count": 79,
     "metadata": {},
     "output_type": "execute_result"
    }
   ],
   "source": [
    "data.head()"
   ]
  },
  {
   "cell_type": "code",
   "execution_count": 80,
   "metadata": {},
   "outputs": [
    {
     "data": {
      "text/plain": [
       "(98052, 169)"
      ]
     },
     "execution_count": 80,
     "metadata": {},
     "output_type": "execute_result"
    }
   ],
   "source": [
    "data.shape"
   ]
  }
 ],
 "metadata": {
  "kernelspec": {
   "display_name": "Python 3",
   "language": "python",
   "name": "python3"
  },
  "language_info": {
   "codemirror_mode": {
    "name": "ipython",
    "version": 3
   },
   "file_extension": ".py",
   "mimetype": "text/x-python",
   "name": "python",
   "nbconvert_exporter": "python",
   "pygments_lexer": "ipython3",
   "version": "3.8.5"
  }
 },
 "nbformat": 4,
 "nbformat_minor": 4
}
