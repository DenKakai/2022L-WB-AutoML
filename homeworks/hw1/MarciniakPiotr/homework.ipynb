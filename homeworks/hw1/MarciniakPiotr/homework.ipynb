{
 "cells": [
  {
   "cell_type": "markdown",
   "id": "0fa4798a-7f8a-4800-8fae-0213d0ebef87",
   "metadata": {},
   "source": [
    "# Wczytanie pakietów i danych\n",
    "## Pakiety"
   ]
  },
  {
   "cell_type": "code",
   "execution_count": 1,
   "id": "2bcd98d6-da48-4dc5-b061-70ff18b78cf2",
   "metadata": {},
   "outputs": [],
   "source": [
    "import pandas as pd\n",
    "import matplotlib.pyplot as plt\n",
    "import seaborn as sns\n",
    "import numpy as np"
   ]
  },
  {
   "cell_type": "markdown",
   "id": "261b570f-96f8-47d0-9221-fa18319245d1",
   "metadata": {},
   "source": [
    "## Dane"
   ]
  },
  {
   "cell_type": "code",
   "execution_count": 2,
   "id": "5cb29dfe-4d07-4abc-9806-990c675859ad",
   "metadata": {},
   "outputs": [
    {
     "data": {
      "text/html": [
       "<div>\n",
       "<style scoped>\n",
       "    .dataframe tbody tr th:only-of-type {\n",
       "        vertical-align: middle;\n",
       "    }\n",
       "\n",
       "    .dataframe tbody tr th {\n",
       "        vertical-align: top;\n",
       "    }\n",
       "\n",
       "    .dataframe thead th {\n",
       "        text-align: right;\n",
       "    }\n",
       "</style>\n",
       "<table border=\"1\" class=\"dataframe\">\n",
       "  <thead>\n",
       "    <tr style=\"text-align: right;\">\n",
       "      <th></th>\n",
       "      <th>encounter_id</th>\n",
       "      <th>patient_nbr</th>\n",
       "      <th>race</th>\n",
       "      <th>gender</th>\n",
       "      <th>age</th>\n",
       "      <th>weight</th>\n",
       "      <th>admission_type_id</th>\n",
       "      <th>discharge_disposition_id</th>\n",
       "      <th>admission_source_id</th>\n",
       "      <th>time_in_hospital</th>\n",
       "      <th>...</th>\n",
       "      <th>citoglipton</th>\n",
       "      <th>insulin</th>\n",
       "      <th>glyburide-metformin</th>\n",
       "      <th>glipizide-metformin</th>\n",
       "      <th>glimepiride-pioglitazone</th>\n",
       "      <th>metformin-rosiglitazone</th>\n",
       "      <th>metformin-pioglitazone</th>\n",
       "      <th>change</th>\n",
       "      <th>diabetesMed</th>\n",
       "      <th>readmitted</th>\n",
       "    </tr>\n",
       "  </thead>\n",
       "  <tbody>\n",
       "    <tr>\n",
       "      <th>0</th>\n",
       "      <td>2278392</td>\n",
       "      <td>8222157</td>\n",
       "      <td>Caucasian</td>\n",
       "      <td>Female</td>\n",
       "      <td>[0-10)</td>\n",
       "      <td>?</td>\n",
       "      <td>6</td>\n",
       "      <td>25</td>\n",
       "      <td>1</td>\n",
       "      <td>1</td>\n",
       "      <td>...</td>\n",
       "      <td>No</td>\n",
       "      <td>No</td>\n",
       "      <td>No</td>\n",
       "      <td>No</td>\n",
       "      <td>No</td>\n",
       "      <td>No</td>\n",
       "      <td>No</td>\n",
       "      <td>No</td>\n",
       "      <td>No</td>\n",
       "      <td>NO</td>\n",
       "    </tr>\n",
       "    <tr>\n",
       "      <th>1</th>\n",
       "      <td>149190</td>\n",
       "      <td>55629189</td>\n",
       "      <td>Caucasian</td>\n",
       "      <td>Female</td>\n",
       "      <td>[10-20)</td>\n",
       "      <td>?</td>\n",
       "      <td>1</td>\n",
       "      <td>1</td>\n",
       "      <td>7</td>\n",
       "      <td>3</td>\n",
       "      <td>...</td>\n",
       "      <td>No</td>\n",
       "      <td>Up</td>\n",
       "      <td>No</td>\n",
       "      <td>No</td>\n",
       "      <td>No</td>\n",
       "      <td>No</td>\n",
       "      <td>No</td>\n",
       "      <td>Ch</td>\n",
       "      <td>Yes</td>\n",
       "      <td>&gt;30</td>\n",
       "    </tr>\n",
       "    <tr>\n",
       "      <th>2</th>\n",
       "      <td>64410</td>\n",
       "      <td>86047875</td>\n",
       "      <td>AfricanAmerican</td>\n",
       "      <td>Female</td>\n",
       "      <td>[20-30)</td>\n",
       "      <td>?</td>\n",
       "      <td>1</td>\n",
       "      <td>1</td>\n",
       "      <td>7</td>\n",
       "      <td>2</td>\n",
       "      <td>...</td>\n",
       "      <td>No</td>\n",
       "      <td>No</td>\n",
       "      <td>No</td>\n",
       "      <td>No</td>\n",
       "      <td>No</td>\n",
       "      <td>No</td>\n",
       "      <td>No</td>\n",
       "      <td>No</td>\n",
       "      <td>Yes</td>\n",
       "      <td>NO</td>\n",
       "    </tr>\n",
       "    <tr>\n",
       "      <th>3</th>\n",
       "      <td>500364</td>\n",
       "      <td>82442376</td>\n",
       "      <td>Caucasian</td>\n",
       "      <td>Male</td>\n",
       "      <td>[30-40)</td>\n",
       "      <td>?</td>\n",
       "      <td>1</td>\n",
       "      <td>1</td>\n",
       "      <td>7</td>\n",
       "      <td>2</td>\n",
       "      <td>...</td>\n",
       "      <td>No</td>\n",
       "      <td>Up</td>\n",
       "      <td>No</td>\n",
       "      <td>No</td>\n",
       "      <td>No</td>\n",
       "      <td>No</td>\n",
       "      <td>No</td>\n",
       "      <td>Ch</td>\n",
       "      <td>Yes</td>\n",
       "      <td>NO</td>\n",
       "    </tr>\n",
       "    <tr>\n",
       "      <th>4</th>\n",
       "      <td>16680</td>\n",
       "      <td>42519267</td>\n",
       "      <td>Caucasian</td>\n",
       "      <td>Male</td>\n",
       "      <td>[40-50)</td>\n",
       "      <td>?</td>\n",
       "      <td>1</td>\n",
       "      <td>1</td>\n",
       "      <td>7</td>\n",
       "      <td>1</td>\n",
       "      <td>...</td>\n",
       "      <td>No</td>\n",
       "      <td>Steady</td>\n",
       "      <td>No</td>\n",
       "      <td>No</td>\n",
       "      <td>No</td>\n",
       "      <td>No</td>\n",
       "      <td>No</td>\n",
       "      <td>Ch</td>\n",
       "      <td>Yes</td>\n",
       "      <td>NO</td>\n",
       "    </tr>\n",
       "  </tbody>\n",
       "</table>\n",
       "<p>5 rows × 50 columns</p>\n",
       "</div>"
      ],
      "text/plain": [
       "   encounter_id  patient_nbr             race  gender      age weight  \\\n",
       "0       2278392      8222157        Caucasian  Female   [0-10)      ?   \n",
       "1        149190     55629189        Caucasian  Female  [10-20)      ?   \n",
       "2         64410     86047875  AfricanAmerican  Female  [20-30)      ?   \n",
       "3        500364     82442376        Caucasian    Male  [30-40)      ?   \n",
       "4         16680     42519267        Caucasian    Male  [40-50)      ?   \n",
       "\n",
       "   admission_type_id  discharge_disposition_id  admission_source_id  \\\n",
       "0                  6                        25                    1   \n",
       "1                  1                         1                    7   \n",
       "2                  1                         1                    7   \n",
       "3                  1                         1                    7   \n",
       "4                  1                         1                    7   \n",
       "\n",
       "   time_in_hospital  ... citoglipton insulin  glyburide-metformin  \\\n",
       "0                 1  ...          No      No                   No   \n",
       "1                 3  ...          No      Up                   No   \n",
       "2                 2  ...          No      No                   No   \n",
       "3                 2  ...          No      Up                   No   \n",
       "4                 1  ...          No  Steady                   No   \n",
       "\n",
       "   glipizide-metformin  glimepiride-pioglitazone  metformin-rosiglitazone  \\\n",
       "0                   No                        No                       No   \n",
       "1                   No                        No                       No   \n",
       "2                   No                        No                       No   \n",
       "3                   No                        No                       No   \n",
       "4                   No                        No                       No   \n",
       "\n",
       "   metformin-pioglitazone  change diabetesMed readmitted  \n",
       "0                      No      No          No         NO  \n",
       "1                      No      Ch         Yes        >30  \n",
       "2                      No      No         Yes         NO  \n",
       "3                      No      Ch         Yes         NO  \n",
       "4                      No      Ch         Yes         NO  \n",
       "\n",
       "[5 rows x 50 columns]"
      ]
     },
     "execution_count": 2,
     "metadata": {},
     "output_type": "execute_result"
    }
   ],
   "source": [
    "diabetic_data = pd.read_csv('dataset_diabetes/diabetic_data.csv')\n",
    "diabetic_data.head()"
   ]
  },
  {
   "cell_type": "markdown",
   "id": "241b94cf-bafc-4748-b957-67056730f377",
   "metadata": {},
   "source": [
    "## Wyjaśnienie wartości id"
   ]
  },
  {
   "cell_type": "code",
   "execution_count": 3,
   "id": "e12d3536-51b4-4bda-9ed1-53dc2624639f",
   "metadata": {},
   "outputs": [
    {
     "data": {
      "text/html": [
       "<div>\n",
       "<style scoped>\n",
       "    .dataframe tbody tr th:only-of-type {\n",
       "        vertical-align: middle;\n",
       "    }\n",
       "\n",
       "    .dataframe tbody tr th {\n",
       "        vertical-align: top;\n",
       "    }\n",
       "\n",
       "    .dataframe thead th {\n",
       "        text-align: right;\n",
       "    }\n",
       "</style>\n",
       "<table border=\"1\" class=\"dataframe\">\n",
       "  <thead>\n",
       "    <tr style=\"text-align: right;\">\n",
       "      <th></th>\n",
       "      <th>admission_type_id</th>\n",
       "      <th>description</th>\n",
       "    </tr>\n",
       "  </thead>\n",
       "  <tbody>\n",
       "    <tr>\n",
       "      <th>0</th>\n",
       "      <td>1</td>\n",
       "      <td>Emergency</td>\n",
       "    </tr>\n",
       "    <tr>\n",
       "      <th>1</th>\n",
       "      <td>2</td>\n",
       "      <td>Urgent</td>\n",
       "    </tr>\n",
       "    <tr>\n",
       "      <th>2</th>\n",
       "      <td>3</td>\n",
       "      <td>Elective</td>\n",
       "    </tr>\n",
       "    <tr>\n",
       "      <th>3</th>\n",
       "      <td>4</td>\n",
       "      <td>Newborn</td>\n",
       "    </tr>\n",
       "    <tr>\n",
       "      <th>4</th>\n",
       "      <td>5</td>\n",
       "      <td>Not Available</td>\n",
       "    </tr>\n",
       "    <tr>\n",
       "      <th>5</th>\n",
       "      <td>6</td>\n",
       "      <td>NaN</td>\n",
       "    </tr>\n",
       "    <tr>\n",
       "      <th>6</th>\n",
       "      <td>7</td>\n",
       "      <td>Trauma Center</td>\n",
       "    </tr>\n",
       "    <tr>\n",
       "      <th>7</th>\n",
       "      <td>8</td>\n",
       "      <td>Not Mapped</td>\n",
       "    </tr>\n",
       "  </tbody>\n",
       "</table>\n",
       "</div>"
      ],
      "text/plain": [
       "   admission_type_id    description\n",
       "0                  1      Emergency\n",
       "1                  2         Urgent\n",
       "2                  3       Elective\n",
       "3                  4        Newborn\n",
       "4                  5  Not Available\n",
       "5                  6            NaN\n",
       "6                  7  Trauma Center\n",
       "7                  8     Not Mapped"
      ]
     },
     "execution_count": 3,
     "metadata": {},
     "output_type": "execute_result"
    }
   ],
   "source": [
    "pd.read_csv('dataset_diabetes/IDs_mapping.csv', skipfooter=59, engine='python')"
   ]
  },
  {
   "cell_type": "markdown",
   "id": "6f7dece8-ca9d-4a2c-94a9-0bf434502f5e",
   "metadata": {},
   "source": [
    "Jak widzimy $5, 6, 8$ w kolumnie admission_type_id oznacza de facto nieznany typ przyjęcia, ponieważ nie był on dostępny/znany/zmapowany. Ja osobiście trochę nie widzę różnicy pomiędzy emergency i urgent, ponieważ oba oznaczają pilne przypadki (pewnie emergency oznacza krytyczny przypadek przez co bardziej istotny)."
   ]
  },
  {
   "cell_type": "code",
   "execution_count": 4,
   "id": "4e5cbbf2-eebf-45e6-bd2d-45b5520258db",
   "metadata": {},
   "outputs": [
    {
     "data": {
      "text/html": [
       "<div>\n",
       "<style scoped>\n",
       "    .dataframe tbody tr th:only-of-type {\n",
       "        vertical-align: middle;\n",
       "    }\n",
       "\n",
       "    .dataframe tbody tr th {\n",
       "        vertical-align: top;\n",
       "    }\n",
       "\n",
       "    .dataframe thead th {\n",
       "        text-align: right;\n",
       "    }\n",
       "</style>\n",
       "<table border=\"1\" class=\"dataframe\">\n",
       "  <thead>\n",
       "    <tr style=\"text-align: right;\">\n",
       "      <th></th>\n",
       "      <th>discharge_disposition_id</th>\n",
       "      <th>description</th>\n",
       "    </tr>\n",
       "  </thead>\n",
       "  <tbody>\n",
       "    <tr>\n",
       "      <th>0</th>\n",
       "      <td>1</td>\n",
       "      <td>Discharged to home</td>\n",
       "    </tr>\n",
       "    <tr>\n",
       "      <th>1</th>\n",
       "      <td>2</td>\n",
       "      <td>Discharged/transferred to another short term hospital</td>\n",
       "    </tr>\n",
       "    <tr>\n",
       "      <th>2</th>\n",
       "      <td>3</td>\n",
       "      <td>Discharged/transferred to SNF</td>\n",
       "    </tr>\n",
       "    <tr>\n",
       "      <th>3</th>\n",
       "      <td>4</td>\n",
       "      <td>Discharged/transferred to ICF</td>\n",
       "    </tr>\n",
       "    <tr>\n",
       "      <th>4</th>\n",
       "      <td>5</td>\n",
       "      <td>Discharged/transferred to another type of inpatient care institution</td>\n",
       "    </tr>\n",
       "    <tr>\n",
       "      <th>5</th>\n",
       "      <td>6</td>\n",
       "      <td>Discharged/transferred to home with home health service</td>\n",
       "    </tr>\n",
       "    <tr>\n",
       "      <th>6</th>\n",
       "      <td>7</td>\n",
       "      <td>Left AMA</td>\n",
       "    </tr>\n",
       "    <tr>\n",
       "      <th>7</th>\n",
       "      <td>8</td>\n",
       "      <td>Discharged/transferred to home under care of Home IV provider</td>\n",
       "    </tr>\n",
       "    <tr>\n",
       "      <th>8</th>\n",
       "      <td>9</td>\n",
       "      <td>Admitted as an inpatient to this hospital</td>\n",
       "    </tr>\n",
       "    <tr>\n",
       "      <th>9</th>\n",
       "      <td>10</td>\n",
       "      <td>Neonate discharged to another hospital for neonatal aftercare</td>\n",
       "    </tr>\n",
       "    <tr>\n",
       "      <th>10</th>\n",
       "      <td>11</td>\n",
       "      <td>Expired</td>\n",
       "    </tr>\n",
       "    <tr>\n",
       "      <th>11</th>\n",
       "      <td>12</td>\n",
       "      <td>Still patient or expected to return for outpatient services</td>\n",
       "    </tr>\n",
       "    <tr>\n",
       "      <th>12</th>\n",
       "      <td>13</td>\n",
       "      <td>Hospice / home</td>\n",
       "    </tr>\n",
       "    <tr>\n",
       "      <th>13</th>\n",
       "      <td>14</td>\n",
       "      <td>Hospice / medical facility</td>\n",
       "    </tr>\n",
       "    <tr>\n",
       "      <th>14</th>\n",
       "      <td>15</td>\n",
       "      <td>Discharged/transferred within this institution to Medicare approved swing bed</td>\n",
       "    </tr>\n",
       "    <tr>\n",
       "      <th>15</th>\n",
       "      <td>16</td>\n",
       "      <td>Discharged/transferred/referred another institution for outpatient services</td>\n",
       "    </tr>\n",
       "    <tr>\n",
       "      <th>16</th>\n",
       "      <td>17</td>\n",
       "      <td>Discharged/transferred/referred to this institution for outpatient services</td>\n",
       "    </tr>\n",
       "    <tr>\n",
       "      <th>17</th>\n",
       "      <td>18</td>\n",
       "      <td>NaN</td>\n",
       "    </tr>\n",
       "    <tr>\n",
       "      <th>18</th>\n",
       "      <td>19</td>\n",
       "      <td>Expired at home. Medicaid only, hospice.</td>\n",
       "    </tr>\n",
       "    <tr>\n",
       "      <th>19</th>\n",
       "      <td>20</td>\n",
       "      <td>Expired in a medical facility. Medicaid only, hospice.</td>\n",
       "    </tr>\n",
       "    <tr>\n",
       "      <th>20</th>\n",
       "      <td>21</td>\n",
       "      <td>Expired, place unknown. Medicaid only, hospice.</td>\n",
       "    </tr>\n",
       "    <tr>\n",
       "      <th>21</th>\n",
       "      <td>22</td>\n",
       "      <td>Discharged/transferred to another rehab fac including rehab units of a hospital .</td>\n",
       "    </tr>\n",
       "    <tr>\n",
       "      <th>22</th>\n",
       "      <td>23</td>\n",
       "      <td>Discharged/transferred to a long term care hospital.</td>\n",
       "    </tr>\n",
       "    <tr>\n",
       "      <th>23</th>\n",
       "      <td>24</td>\n",
       "      <td>Discharged/transferred to a nursing facility certified under Medicaid but not certified under Medicare.</td>\n",
       "    </tr>\n",
       "    <tr>\n",
       "      <th>24</th>\n",
       "      <td>25</td>\n",
       "      <td>Not Mapped</td>\n",
       "    </tr>\n",
       "    <tr>\n",
       "      <th>25</th>\n",
       "      <td>26</td>\n",
       "      <td>Unknown/Invalid</td>\n",
       "    </tr>\n",
       "    <tr>\n",
       "      <th>26</th>\n",
       "      <td>30</td>\n",
       "      <td>Discharged/transferred to another Type of Health Care Institution not Defined Elsewhere</td>\n",
       "    </tr>\n",
       "    <tr>\n",
       "      <th>27</th>\n",
       "      <td>27</td>\n",
       "      <td>Discharged/transferred to a federal health care facility.</td>\n",
       "    </tr>\n",
       "    <tr>\n",
       "      <th>28</th>\n",
       "      <td>28</td>\n",
       "      <td>Discharged/transferred/referred to a psychiatric hospital of psychiatric distinct part unit of a hospital</td>\n",
       "    </tr>\n",
       "    <tr>\n",
       "      <th>29</th>\n",
       "      <td>29</td>\n",
       "      <td>Discharged/transferred to a Critical Access Hospital (CAH).</td>\n",
       "    </tr>\n",
       "  </tbody>\n",
       "</table>\n",
       "</div>"
      ],
      "text/plain": [
       "    discharge_disposition_id  \\\n",
       "0                          1   \n",
       "1                          2   \n",
       "2                          3   \n",
       "3                          4   \n",
       "4                          5   \n",
       "5                          6   \n",
       "6                          7   \n",
       "7                          8   \n",
       "8                          9   \n",
       "9                         10   \n",
       "10                        11   \n",
       "11                        12   \n",
       "12                        13   \n",
       "13                        14   \n",
       "14                        15   \n",
       "15                        16   \n",
       "16                        17   \n",
       "17                        18   \n",
       "18                        19   \n",
       "19                        20   \n",
       "20                        21   \n",
       "21                        22   \n",
       "22                        23   \n",
       "23                        24   \n",
       "24                        25   \n",
       "25                        26   \n",
       "26                        30   \n",
       "27                        27   \n",
       "28                        28   \n",
       "29                        29   \n",
       "\n",
       "                                                                                                  description  \n",
       "0                                                                                          Discharged to home  \n",
       "1                                                       Discharged/transferred to another short term hospital  \n",
       "2                                                                               Discharged/transferred to SNF  \n",
       "3                                                                               Discharged/transferred to ICF  \n",
       "4                                        Discharged/transferred to another type of inpatient care institution  \n",
       "5                                                     Discharged/transferred to home with home health service  \n",
       "6                                                                                                    Left AMA  \n",
       "7                                               Discharged/transferred to home under care of Home IV provider  \n",
       "8                                                                   Admitted as an inpatient to this hospital  \n",
       "9                                               Neonate discharged to another hospital for neonatal aftercare  \n",
       "10                                                                                                    Expired  \n",
       "11                                                Still patient or expected to return for outpatient services  \n",
       "12                                                                                             Hospice / home  \n",
       "13                                                                                 Hospice / medical facility  \n",
       "14                              Discharged/transferred within this institution to Medicare approved swing bed  \n",
       "15                                Discharged/transferred/referred another institution for outpatient services  \n",
       "16                                Discharged/transferred/referred to this institution for outpatient services  \n",
       "17                                                                                                        NaN  \n",
       "18                                                                   Expired at home. Medicaid only, hospice.  \n",
       "19                                                     Expired in a medical facility. Medicaid only, hospice.  \n",
       "20                                                            Expired, place unknown. Medicaid only, hospice.  \n",
       "21                          Discharged/transferred to another rehab fac including rehab units of a hospital .  \n",
       "22                                                       Discharged/transferred to a long term care hospital.  \n",
       "23    Discharged/transferred to a nursing facility certified under Medicaid but not certified under Medicare.  \n",
       "24                                                                                                 Not Mapped  \n",
       "25                                                                                            Unknown/Invalid  \n",
       "26                    Discharged/transferred to another Type of Health Care Institution not Defined Elsewhere  \n",
       "27                                                  Discharged/transferred to a federal health care facility.  \n",
       "28  Discharged/transferred/referred to a psychiatric hospital of psychiatric distinct part unit of a hospital  \n",
       "29                                                Discharged/transferred to a Critical Access Hospital (CAH).  "
      ]
     },
     "metadata": {},
     "output_type": "display_data"
    }
   ],
   "source": [
    "from IPython.display import display\n",
    "with pd.option_context('max_colwidth', 800):\n",
    "    display(pd.read_csv('dataset_diabetes/IDs_mapping.csv', skiprows=10, skipfooter=27, engine='python'))"
   ]
  },
  {
   "cell_type": "markdown",
   "id": "cc54f0b5-e26d-4a82-bc14-6aa585671646",
   "metadata": {},
   "source": [
    "Znowu widzimy, że id o numerach $18, 25, 26$ oznaczają to samo, czyli nieznany wypis szpitalny."
   ]
  },
  {
   "cell_type": "code",
   "execution_count": 5,
   "id": "ce86bee9-d0fd-4f44-87a2-7acf388281e7",
   "metadata": {},
   "outputs": [
    {
     "data": {
      "text/html": [
       "<div>\n",
       "<style scoped>\n",
       "    .dataframe tbody tr th:only-of-type {\n",
       "        vertical-align: middle;\n",
       "    }\n",
       "\n",
       "    .dataframe tbody tr th {\n",
       "        vertical-align: top;\n",
       "    }\n",
       "\n",
       "    .dataframe thead th {\n",
       "        text-align: right;\n",
       "    }\n",
       "</style>\n",
       "<table border=\"1\" class=\"dataframe\">\n",
       "  <thead>\n",
       "    <tr style=\"text-align: right;\">\n",
       "      <th></th>\n",
       "      <th>admission_source_id</th>\n",
       "      <th>description</th>\n",
       "    </tr>\n",
       "  </thead>\n",
       "  <tbody>\n",
       "    <tr>\n",
       "      <th>0</th>\n",
       "      <td>1</td>\n",
       "      <td>Physician Referral</td>\n",
       "    </tr>\n",
       "    <tr>\n",
       "      <th>1</th>\n",
       "      <td>2</td>\n",
       "      <td>Clinic Referral</td>\n",
       "    </tr>\n",
       "    <tr>\n",
       "      <th>2</th>\n",
       "      <td>3</td>\n",
       "      <td>HMO Referral</td>\n",
       "    </tr>\n",
       "    <tr>\n",
       "      <th>3</th>\n",
       "      <td>4</td>\n",
       "      <td>Transfer from a hospital</td>\n",
       "    </tr>\n",
       "    <tr>\n",
       "      <th>4</th>\n",
       "      <td>5</td>\n",
       "      <td>Transfer from a Skilled Nursing Facility (SNF)</td>\n",
       "    </tr>\n",
       "    <tr>\n",
       "      <th>5</th>\n",
       "      <td>6</td>\n",
       "      <td>Transfer from another health care facility</td>\n",
       "    </tr>\n",
       "    <tr>\n",
       "      <th>6</th>\n",
       "      <td>7</td>\n",
       "      <td>Emergency Room</td>\n",
       "    </tr>\n",
       "    <tr>\n",
       "      <th>7</th>\n",
       "      <td>8</td>\n",
       "      <td>Court/Law Enforcement</td>\n",
       "    </tr>\n",
       "    <tr>\n",
       "      <th>8</th>\n",
       "      <td>9</td>\n",
       "      <td>Not Available</td>\n",
       "    </tr>\n",
       "    <tr>\n",
       "      <th>9</th>\n",
       "      <td>10</td>\n",
       "      <td>Transfer from critial access hospital</td>\n",
       "    </tr>\n",
       "    <tr>\n",
       "      <th>10</th>\n",
       "      <td>11</td>\n",
       "      <td>Normal Delivery</td>\n",
       "    </tr>\n",
       "    <tr>\n",
       "      <th>11</th>\n",
       "      <td>12</td>\n",
       "      <td>Premature Delivery</td>\n",
       "    </tr>\n",
       "    <tr>\n",
       "      <th>12</th>\n",
       "      <td>13</td>\n",
       "      <td>Sick Baby</td>\n",
       "    </tr>\n",
       "    <tr>\n",
       "      <th>13</th>\n",
       "      <td>14</td>\n",
       "      <td>Extramural Birth</td>\n",
       "    </tr>\n",
       "    <tr>\n",
       "      <th>14</th>\n",
       "      <td>15</td>\n",
       "      <td>Not Available</td>\n",
       "    </tr>\n",
       "    <tr>\n",
       "      <th>15</th>\n",
       "      <td>17</td>\n",
       "      <td>NaN</td>\n",
       "    </tr>\n",
       "    <tr>\n",
       "      <th>16</th>\n",
       "      <td>18</td>\n",
       "      <td>Transfer From Another Home Health Agency</td>\n",
       "    </tr>\n",
       "    <tr>\n",
       "      <th>17</th>\n",
       "      <td>19</td>\n",
       "      <td>Readmission to Same Home Health Agency</td>\n",
       "    </tr>\n",
       "    <tr>\n",
       "      <th>18</th>\n",
       "      <td>20</td>\n",
       "      <td>Not Mapped</td>\n",
       "    </tr>\n",
       "    <tr>\n",
       "      <th>19</th>\n",
       "      <td>21</td>\n",
       "      <td>Unknown/Invalid</td>\n",
       "    </tr>\n",
       "    <tr>\n",
       "      <th>20</th>\n",
       "      <td>22</td>\n",
       "      <td>Transfer from hospital inpt/same fac reslt in...</td>\n",
       "    </tr>\n",
       "    <tr>\n",
       "      <th>21</th>\n",
       "      <td>23</td>\n",
       "      <td>Born inside this hospital</td>\n",
       "    </tr>\n",
       "    <tr>\n",
       "      <th>22</th>\n",
       "      <td>24</td>\n",
       "      <td>Born outside this hospital</td>\n",
       "    </tr>\n",
       "    <tr>\n",
       "      <th>23</th>\n",
       "      <td>25</td>\n",
       "      <td>Transfer from Ambulatory Surgery Center</td>\n",
       "    </tr>\n",
       "    <tr>\n",
       "      <th>24</th>\n",
       "      <td>26</td>\n",
       "      <td>Transfer from Hospice</td>\n",
       "    </tr>\n",
       "  </tbody>\n",
       "</table>\n",
       "</div>"
      ],
      "text/plain": [
       "    admission_source_id                                        description\n",
       "0                     1                                 Physician Referral\n",
       "1                     2                                    Clinic Referral\n",
       "2                     3                                       HMO Referral\n",
       "3                     4                           Transfer from a hospital\n",
       "4                     5     Transfer from a Skilled Nursing Facility (SNF)\n",
       "5                     6         Transfer from another health care facility\n",
       "6                     7                                     Emergency Room\n",
       "7                     8                              Court/Law Enforcement\n",
       "8                     9                                      Not Available\n",
       "9                    10              Transfer from critial access hospital\n",
       "10                   11                                    Normal Delivery\n",
       "11                   12                                 Premature Delivery\n",
       "12                   13                                          Sick Baby\n",
       "13                   14                                   Extramural Birth\n",
       "14                   15                                      Not Available\n",
       "15                   17                                                NaN\n",
       "16                   18           Transfer From Another Home Health Agency\n",
       "17                   19             Readmission to Same Home Health Agency\n",
       "18                   20                                         Not Mapped\n",
       "19                   21                                    Unknown/Invalid\n",
       "20                   22   Transfer from hospital inpt/same fac reslt in...\n",
       "21                   23                          Born inside this hospital\n",
       "22                   24                         Born outside this hospital\n",
       "23                   25            Transfer from Ambulatory Surgery Center\n",
       "24                   26                              Transfer from Hospice"
      ]
     },
     "execution_count": 5,
     "metadata": {},
     "output_type": "execute_result"
    }
   ],
   "source": [
    "pd.read_csv('dataset_diabetes/IDs_mapping.csv', skiprows=42, engine='python')"
   ]
  },
  {
   "cell_type": "markdown",
   "id": "1db12de4-8e01-4fa5-b9e7-4f91007b1e8c",
   "metadata": {},
   "source": [
    "Znowu widzimy to samo, to znaczy, że id numer $9, 15, 17, 20, 21$ oznacza to samo, czyli brak danych."
   ]
  },
  {
   "cell_type": "code",
   "execution_count": 6,
   "id": "84d41c99-aca7-497a-bc5c-8b21eabd1219",
   "metadata": {},
   "outputs": [
    {
     "data": {
      "text/plain": [
       "Index(['encounter_id', 'patient_nbr', 'race', 'gender', 'age', 'weight',\n",
       "       'admission_type_id', 'discharge_disposition_id', 'admission_source_id',\n",
       "       'time_in_hospital', 'payer_code', 'medical_specialty',\n",
       "       'num_lab_procedures', 'num_procedures', 'num_medications',\n",
       "       'number_outpatient', 'number_emergency', 'number_inpatient', 'diag_1',\n",
       "       'diag_2', 'diag_3', 'number_diagnoses', 'max_glu_serum', 'A1Cresult',\n",
       "       'metformin', 'repaglinide', 'nateglinide', 'chlorpropamide',\n",
       "       'glimepiride', 'acetohexamide', 'glipizide', 'glyburide', 'tolbutamide',\n",
       "       'pioglitazone', 'rosiglitazone', 'acarbose', 'miglitol', 'troglitazone',\n",
       "       'tolazamide', 'examide', 'citoglipton', 'insulin',\n",
       "       'glyburide-metformin', 'glipizide-metformin',\n",
       "       'glimepiride-pioglitazone', 'metformin-rosiglitazone',\n",
       "       'metformin-pioglitazone', 'change', 'diabetesMed', 'readmitted'],\n",
       "      dtype='object')"
      ]
     },
     "execution_count": 6,
     "metadata": {},
     "output_type": "execute_result"
    }
   ],
   "source": [
    "diabetic_data.columns"
   ]
  },
  {
   "cell_type": "markdown",
   "id": "b308bdc4-859d-48e3-a204-582a90024a98",
   "metadata": {},
   "source": [
    "# Próba ustalenia zmiennej objaśnianej\n",
    "Wydaje mi się, że możemy wyrzucić z jakiekolwiek próby predykcji kolumny:\n",
    "* ``encounter_id``, ponieważ jest ona tylko identyfikatorem przyjęcia pacjenta, \n",
    "* ``patient_nbr`` , ponieważ zawierają one dane, które indentyfikują konkretnego pacjenta (wydaje mi się, że pacjenci raczej nie powtarzają się w predykcjach, więc ciężko będzie predykować na nowych danych, ponieważ co chwilę będziemy dostawać nowe numery).\n",
    "\n",
    "W przypadku ``patient_nbr`` może dochodzić często do przeuczenia związanym z konkretną osobą. Poza tym jest to rzecz unikalna, która sprawiłaby, że nie bylibyśmy w stanie predykować na nowych osobach.\n",
    "\n",
    "Ciekawymi problemami do predykcji mogą być\n",
    "* próba predykcji zmiennej ``time_in_hospital``, na podstawie ogólnych danych, takich jak ``race``, ``gender``, ``age``, ``weight``, ``admission_type_id``, ``payer_code``, ``number_outpatient``, ``number_inpatient``, ``number_emergency``. Reszta danych wydaję się pobierana w trakcie pobytu w szpitalu, więc próba predykcji na jej podstawie jest raczej nie wskazana (przynajmniej mi się tak wydaje). Interesuje nas ile dana osoba spędzi czasu w szpitalu, co może być przydatne w próbie określenia procentu zapełnienia szpitalu w danym momencie. (Problem regresji)\n",
    "* próba predykcji jednej z zmiennych ``num_lab_procedures``, ``num_procedures``, ``num_medications``, na podstawie ogólnych danych, takich jak ``race``, ``gender``, ``age``, ``weight``, ``admission_type_id``, ``payer_code``, ``number_outpatient``, ``number_inpatient``, ``number_emergency``. Mogą wydać się istotne z punktu widzenia, ile personelu potrzeba do danych procedur. (Problem regresji)\n",
    "* próba predykcji zmiennej ``readmitted`` na podstawie wszystkich innych zmiennych oprócz tych wskazanych na początku. Istotne może się okazać, czy dany pacjent ponownie trafi do szpitalu. Ewentualnie, który czynnik ma największy wpływ na to. (Problem klasyfikacji)\n",
    "\n",
    "Najbardziej istotnym problemem wydaje mi się **ostatni**, dlatego nim się zajmę."
   ]
  },
  {
   "cell_type": "code",
   "execution_count": 7,
   "id": "f97def0e-0b4f-408f-87e7-5e8c8ea9d1af",
   "metadata": {},
   "outputs": [
    {
     "data": {
      "text/plain": [
       "77856768     1\n",
       "279188820    1\n",
       "96928116     1\n",
       "117757260    1\n",
       "166782282    1\n",
       "            ..\n",
       "390757988    1\n",
       "109989474    1\n",
       "241154934    1\n",
       "51363420     1\n",
       "96210942     1\n",
       "Name: encounter_id, Length: 101766, dtype: int64"
      ]
     },
     "execution_count": 7,
     "metadata": {},
     "output_type": "execute_result"
    }
   ],
   "source": [
    "diabetic_data.encounter_id.value_counts() # potwierdzenie unikalności"
   ]
  },
  {
   "cell_type": "code",
   "execution_count": 8,
   "id": "9b89852b-c00c-4515-8ad9-4eab803b291d",
   "metadata": {},
   "outputs": [
    {
     "data": {
      "text/plain": [
       "0.9113649710562376"
      ]
     },
     "execution_count": 8,
     "metadata": {},
     "output_type": "execute_result"
    }
   ],
   "source": [
    "counted_patient = diabetic_data.patient_nbr.value_counts()\n",
    "sum(counted_patient <= 2)/len(counted_patient)"
   ]
  },
  {
   "cell_type": "markdown",
   "id": "068e0506-1838-4e7e-b401-c0ce294bee12",
   "metadata": {},
   "source": [
    "Jak widzimy $91\\%$ pacjentów miało mniej bądź 2 wizyty. "
   ]
  },
  {
   "cell_type": "code",
   "execution_count": 9,
   "id": "2bf5c330-cbb2-431b-9d68-9d83b317fb61",
   "metadata": {},
   "outputs": [],
   "source": [
    "diabetic_data.drop(columns=['encounter_id', 'patient_nbr'], inplace=True)"
   ]
  },
  {
   "cell_type": "markdown",
   "id": "79419e58-6759-459d-b967-f16ddef64076",
   "metadata": {},
   "source": [
    "Sprawdźmy, czy występują jakieś duplikaty w danych"
   ]
  },
  {
   "cell_type": "code",
   "execution_count": 10,
   "id": "0fffdf4c-1fb3-4a13-91c4-c80402d37ccd",
   "metadata": {},
   "outputs": [
    {
     "data": {
      "text/plain": [
       "0"
      ]
     },
     "execution_count": 10,
     "metadata": {},
     "output_type": "execute_result"
    }
   ],
   "source": [
    "sum(diabetic_data.duplicated())"
   ]
  },
  {
   "cell_type": "markdown",
   "id": "de8ea10b-a01d-4661-8e6b-a3af95557b24",
   "metadata": {},
   "source": [
    "# Ustalenie typów kolumn"
   ]
  },
  {
   "cell_type": "code",
   "execution_count": 11,
   "id": "ae9ce6ff-7459-424f-9249-6758d5d89c15",
   "metadata": {},
   "outputs": [
    {
     "name": "stdout",
     "output_type": "stream",
     "text": [
      "<class 'pandas.core.frame.DataFrame'>\n",
      "RangeIndex: 101766 entries, 0 to 101765\n",
      "Data columns (total 48 columns):\n",
      " #   Column                    Non-Null Count   Dtype \n",
      "---  ------                    --------------   ----- \n",
      " 0   race                      101766 non-null  object\n",
      " 1   gender                    101766 non-null  object\n",
      " 2   age                       101766 non-null  object\n",
      " 3   weight                    101766 non-null  object\n",
      " 4   admission_type_id         101766 non-null  int64 \n",
      " 5   discharge_disposition_id  101766 non-null  int64 \n",
      " 6   admission_source_id       101766 non-null  int64 \n",
      " 7   time_in_hospital          101766 non-null  int64 \n",
      " 8   payer_code                101766 non-null  object\n",
      " 9   medical_specialty         101766 non-null  object\n",
      " 10  num_lab_procedures        101766 non-null  int64 \n",
      " 11  num_procedures            101766 non-null  int64 \n",
      " 12  num_medications           101766 non-null  int64 \n",
      " 13  number_outpatient         101766 non-null  int64 \n",
      " 14  number_emergency          101766 non-null  int64 \n",
      " 15  number_inpatient          101766 non-null  int64 \n",
      " 16  diag_1                    101766 non-null  object\n",
      " 17  diag_2                    101766 non-null  object\n",
      " 18  diag_3                    101766 non-null  object\n",
      " 19  number_diagnoses          101766 non-null  int64 \n",
      " 20  max_glu_serum             101766 non-null  object\n",
      " 21  A1Cresult                 101766 non-null  object\n",
      " 22  metformin                 101766 non-null  object\n",
      " 23  repaglinide               101766 non-null  object\n",
      " 24  nateglinide               101766 non-null  object\n",
      " 25  chlorpropamide            101766 non-null  object\n",
      " 26  glimepiride               101766 non-null  object\n",
      " 27  acetohexamide             101766 non-null  object\n",
      " 28  glipizide                 101766 non-null  object\n",
      " 29  glyburide                 101766 non-null  object\n",
      " 30  tolbutamide               101766 non-null  object\n",
      " 31  pioglitazone              101766 non-null  object\n",
      " 32  rosiglitazone             101766 non-null  object\n",
      " 33  acarbose                  101766 non-null  object\n",
      " 34  miglitol                  101766 non-null  object\n",
      " 35  troglitazone              101766 non-null  object\n",
      " 36  tolazamide                101766 non-null  object\n",
      " 37  examide                   101766 non-null  object\n",
      " 38  citoglipton               101766 non-null  object\n",
      " 39  insulin                   101766 non-null  object\n",
      " 40  glyburide-metformin       101766 non-null  object\n",
      " 41  glipizide-metformin       101766 non-null  object\n",
      " 42  glimepiride-pioglitazone  101766 non-null  object\n",
      " 43  metformin-rosiglitazone   101766 non-null  object\n",
      " 44  metformin-pioglitazone    101766 non-null  object\n",
      " 45  change                    101766 non-null  object\n",
      " 46  diabetesMed               101766 non-null  object\n",
      " 47  readmitted                101766 non-null  object\n",
      "dtypes: int64(11), object(37)\n",
      "memory usage: 37.3+ MB\n"
     ]
    }
   ],
   "source": [
    "diabetic_data.info()"
   ]
  },
  {
   "cell_type": "markdown",
   "id": "2751d720-5da1-48fc-bf1a-8d9a10447340",
   "metadata": {},
   "source": [
    "Mamy $37$ kolumn typu object oraz $11$ typu int64."
   ]
  },
  {
   "cell_type": "markdown",
   "id": "982a7565-6849-4a65-92eb-271e1420bc83",
   "metadata": {},
   "source": [
    "# Identyfikacja brakujących danych"
   ]
  },
  {
   "cell_type": "code",
   "execution_count": 12,
   "id": "84b5fbe6-5bd3-4a18-9579-341da0a2fd40",
   "metadata": {},
   "outputs": [
    {
     "name": "stdout",
     "output_type": "stream",
     "text": [
      "race: 2.23%\n",
      "gender: 0.00%\n",
      "age: 0.00%\n",
      "weight: 96.86%\n",
      "admission_type_id: 0.00%\n",
      "discharge_disposition_id: 0.00%\n",
      "admission_source_id: 0.00%\n",
      "time_in_hospital: 0.00%\n",
      "payer_code: 39.56%\n",
      "medical_specialty: 49.08%\n",
      "num_lab_procedures: 0.00%\n",
      "num_procedures: 0.00%\n",
      "num_medications: 0.00%\n",
      "number_outpatient: 0.00%\n",
      "number_emergency: 0.00%\n",
      "number_inpatient: 0.00%\n",
      "diag_1: 0.02%\n",
      "diag_2: 0.35%\n",
      "diag_3: 1.40%\n",
      "number_diagnoses: 0.00%\n",
      "max_glu_serum: 0.00%\n",
      "A1Cresult: 0.00%\n",
      "metformin: 0.00%\n",
      "repaglinide: 0.00%\n",
      "nateglinide: 0.00%\n",
      "chlorpropamide: 0.00%\n",
      "glimepiride: 0.00%\n",
      "acetohexamide: 0.00%\n",
      "glipizide: 0.00%\n",
      "glyburide: 0.00%\n",
      "tolbutamide: 0.00%\n",
      "pioglitazone: 0.00%\n",
      "rosiglitazone: 0.00%\n",
      "acarbose: 0.00%\n",
      "miglitol: 0.00%\n",
      "troglitazone: 0.00%\n",
      "tolazamide: 0.00%\n",
      "examide: 0.00%\n",
      "citoglipton: 0.00%\n",
      "insulin: 0.00%\n",
      "glyburide-metformin: 0.00%\n",
      "glipizide-metformin: 0.00%\n",
      "glimepiride-pioglitazone: 0.00%\n",
      "metformin-rosiglitazone: 0.00%\n",
      "metformin-pioglitazone: 0.00%\n",
      "change: 0.00%\n",
      "diabetesMed: 0.00%\n",
      "readmitted: 0.00%\n"
     ]
    }
   ],
   "source": [
    "for column in diabetic_data.columns:\n",
    "    print(f'{column}: {sum(diabetic_data[column] == \"?\")/diabetic_data.shape[0]*100:.2f}%')"
   ]
  },
  {
   "cell_type": "code",
   "execution_count": 13,
   "id": "90b1ea02-e55f-4201-adf8-9df05f9b41ef",
   "metadata": {},
   "outputs": [
    {
     "name": "stdout",
     "output_type": "stream",
     "text": [
      "10.22%\n"
     ]
    }
   ],
   "source": [
    "counted_type = diabetic_data.admission_type_id.value_counts()\n",
    "print(f'{sum(counted_type[[5, 6, 8]])/sum(counted_type)*100:.2f}%')"
   ]
  },
  {
   "cell_type": "markdown",
   "id": "857826db-00f8-4c96-b638-abc82fc57dd7",
   "metadata": {},
   "source": [
    "``Admission_type_id`` ma także $10.22\\%$ braku danych wg mojej interpretacji."
   ]
  },
  {
   "cell_type": "code",
   "execution_count": 14,
   "id": "561cbb12-0e5b-43b6-917b-6adda5a23f0d",
   "metadata": {
    "tags": []
   },
   "outputs": [
    {
     "name": "stdout",
     "output_type": "stream",
     "text": [
      "4.60%\n"
     ]
    }
   ],
   "source": [
    "counted_type = diabetic_data.discharge_disposition_id.value_counts() # brak obserwacji dla id = 26\n",
    "print(f'{sum(counted_type[[18,25]])/sum(counted_type)*100:.2f}%')"
   ]
  },
  {
   "cell_type": "markdown",
   "id": "41ef4ffb-44e4-4e7f-880d-24045a513dd6",
   "metadata": {},
   "source": [
    "``discharge_disposition_id`` ma $4.6\\%$ braku danych wg mojej interpretacji."
   ]
  },
  {
   "cell_type": "code",
   "execution_count": 15,
   "id": "a35afa56-aebc-45d4-adbb-cbfa8b06bdeb",
   "metadata": {},
   "outputs": [
    {
     "name": "stdout",
     "output_type": "stream",
     "text": [
      "6.94%\n"
     ]
    }
   ],
   "source": [
    "counted_type = diabetic_data.admission_source_id.value_counts()\n",
    "print(f'{sum(counted_type[[9, 17, 20]])/sum(counted_type)*100:.2f}%') # brak obserwacji dla id 15 i 21"
   ]
  },
  {
   "cell_type": "markdown",
   "id": "18b4e6ec-590d-4758-8cfe-48d7cd750fc3",
   "metadata": {},
   "source": [
    "``admission_source_id`` ma $6.94\\%$ braku danych wg mojej interpretacji."
   ]
  },
  {
   "cell_type": "markdown",
   "id": "dba2d29b-f483-441e-be75-eb459fec6393",
   "metadata": {},
   "source": [
    "Jak widzimy, znaczące braki mamy w kolumnie:\n",
    "* ``weight`` - prawie w ogóle nie mamy w niej danych, więc imputacja za bardzo nie ma sensu dla tej kolumny.\n",
    "* ``medical_speciality`` - kolumna, która wydaje się istotna z punktu widzenia predykcji wartości, bo mówi nam o odziale, z którego przychodzi dany pacjent.\n",
    "* ``payer_code`` - kolumna, która mówi o kodzie ubezpieczyciela naszego pacjenta, więc raczej nie powinna mieć wpływu na predykcję, czy dana osoba będzie ponownie w szpitalu. Dlatego pozbędziemy się tej kolumny.\n",
    "\n",
    "Reszta kolumn nie ma braków, albo ma je na poziomie poniżej $10 \\%$, czyli dotyczy dosyć małej grupy obserwacji."
   ]
  },
  {
   "cell_type": "code",
   "execution_count": 16,
   "id": "47e53ea0-24d2-4b69-9c0e-04b4ef02c067",
   "metadata": {},
   "outputs": [],
   "source": [
    "diabetic_data.drop(columns=['weight', 'payer_code'], inplace=True)"
   ]
  },
  {
   "cell_type": "markdown",
   "id": "ed086c40-0f0b-483e-b6bb-42e077c8f1c5",
   "metadata": {},
   "source": [
    "# Ekspolracja danych\n",
    "## Analiza jednowymiarowa\n",
    "### Dane liczbowe"
   ]
  },
  {
   "cell_type": "code",
   "execution_count": 17,
   "id": "92c44fb8-a1bf-4f34-abb1-7da4e5a81fc8",
   "metadata": {},
   "outputs": [
    {
     "data": {
      "image/png": "[encoded data removed]",
      "text/plain": [
       "<Figure size 1296x864 with 12 Axes>"
      ]
     },
     "metadata": {
      "needs_background": "light"
     },
     "output_type": "display_data"
    }
   ],
   "source": [
    "diabetic_data.hist(bins = 20, figsize=(18,12))\n",
    "plt.show()"
   ]
  },
  {
   "cell_type": "markdown",
   "id": "dfdbddaf-2963-42b8-b128-50218392e93c",
   "metadata": {},
   "source": [
    "Zmienne ``num_medications``, ``number_outpatient``, ``number_emergency``, ``number_inpatient``, ``num_procedures`` mają głównie rozkłady prawoskośny. Natomiast zmienne ``number_diagnoses``, ``num_lab_procedures`` mają rozkłady lewoskośne. "
   ]
  },
  {
   "cell_type": "markdown",
   "id": "8a0cb9b1-e1f3-4ece-8e89-18f1304ae0d6",
   "metadata": {},
   "source": [
    "### Dane kategoryczne"
   ]
  },
  {
   "cell_type": "markdown",
   "id": "fb0e6ae0-eb23-4d4e-b04f-bc9dec7df9ee",
   "metadata": {},
   "source": [
    "Poniższy wypisanie służy do zauważenia pewnych faktów, które są opisane poniżej wydruku."
   ]
  },
  {
   "cell_type": "code",
   "execution_count": 18,
   "id": "e6e0ad8e-e073-4487-a77f-5a5c2a49d528",
   "metadata": {
    "tags": []
   },
   "outputs": [
    {
     "name": "stdout",
     "output_type": "stream",
     "text": [
      "race\n",
      "Caucasian          74.778413\n",
      "AfricanAmerican    18.876639\n",
      "?                   2.233555\n",
      "Hispanic            2.001651\n",
      "Other               1.479866\n",
      "Asian               0.629876\n",
      "Name: race, dtype: float64\n",
      "----------------------------------\n",
      "gender\n",
      "Female             53.758623\n",
      "Male               46.238429\n",
      "Unknown/Invalid     0.002948\n",
      "Name: gender, dtype: float64\n",
      "----------------------------------\n",
      "age\n",
      "[70-80)     25.615628\n",
      "[60-70)     22.092840\n",
      "[50-60)     16.956547\n",
      "[80-90)     16.898571\n",
      "[40-50)      9.516931\n",
      "[30-40)      3.709490\n",
      "[90-100)     2.744532\n",
      "[20-30)      1.628245\n",
      "[10-20)      0.679009\n",
      "[0-10)       0.158206\n",
      "Name: age, dtype: float64\n",
      "----------------------------------\n",
      "medical_specialty\n",
      "?                         49.082208\n",
      "InternalMedicine          14.381031\n",
      "Emergency/Trauma           7.433720\n",
      "Family/GeneralPractice     7.310890\n",
      "Cardiology                 5.259124\n",
      "                            ...    \n",
      "SportsMedicine             0.000983\n",
      "Proctology                 0.000983\n",
      "Speech                     0.000983\n",
      "Dermatology                0.000983\n",
      "Neurophysiology            0.000983\n",
      "Name: medical_specialty, Length: 73, dtype: float64\n",
      "----------------------------------\n",
      "diag_1\n",
      "428    6.742920\n",
      "414    6.466796\n",
      "786    3.946308\n",
      "410    3.551284\n",
      "486    3.447124\n",
      "         ...   \n",
      "903    0.000983\n",
      "114    0.000983\n",
      "976    0.000983\n",
      "363    0.000983\n",
      "839    0.000983\n",
      "Name: diag_1, Length: 717, dtype: float64\n",
      "----------------------------------\n",
      "diag_2\n",
      "276    6.634829\n",
      "428    6.546391\n",
      "250    5.965647\n",
      "427    4.948608\n",
      "401    3.671167\n",
      "         ...   \n",
      "703    0.000983\n",
      "529    0.000983\n",
      "130    0.000983\n",
      "V69    0.000983\n",
      "256    0.000983\n",
      "Name: diag_2, Length: 749, dtype: float64\n",
      "----------------------------------\n",
      "diag_3\n",
      "250       11.354480\n",
      "401        8.145157\n",
      "276        5.085195\n",
      "428        4.497573\n",
      "427        3.886367\n",
      "            ...    \n",
      "E876       0.000983\n",
      "387        0.000983\n",
      "230        0.000983\n",
      "365.44     0.000983\n",
      "V01        0.000983\n",
      "Name: diag_3, Length: 790, dtype: float64\n",
      "----------------------------------\n",
      "max_glu_serum\n",
      "None    94.746772\n",
      "Norm     2.551933\n",
      ">200     1.459230\n",
      ">300     1.242065\n",
      "Name: max_glu_serum, dtype: float64\n",
      "----------------------------------\n",
      "A1Cresult\n",
      "None    83.277322\n",
      ">8       8.073423\n",
      "Norm     4.903406\n",
      ">7       3.745848\n",
      "Name: A1Cresult, dtype: float64\n",
      "----------------------------------\n",
      "metformin\n",
      "No        80.358862\n",
      "Steady    18.027632\n",
      "Up         1.048484\n",
      "Down       0.565022\n",
      "Name: metformin, dtype: float64\n",
      "----------------------------------\n",
      "repaglinide\n",
      "No        98.487707\n",
      "Steady     1.359983\n",
      "Up         0.108091\n",
      "Down       0.044219\n",
      "Name: repaglinide, dtype: float64\n",
      "----------------------------------\n",
      "nateglinide\n",
      "No        99.309200\n",
      "Steady     0.656408\n",
      "Up         0.023584\n",
      "Down       0.010809\n",
      "Name: nateglinide, dtype: float64\n",
      "----------------------------------\n",
      "chlorpropamide\n",
      "No        99.915492\n",
      "Steady     0.077629\n",
      "Up         0.005896\n",
      "Down       0.000983\n",
      "Name: chlorpropamide, dtype: float64\n",
      "----------------------------------\n",
      "glimepiride\n",
      "No        94.899082\n",
      "Steady     4.588959\n",
      "Up         0.321325\n",
      "Down       0.190633\n",
      "Name: glimepiride, dtype: float64\n",
      "----------------------------------\n",
      "acetohexamide\n",
      "No        99.999017\n",
      "Steady     0.000983\n",
      "Name: acetohexamide, dtype: float64\n",
      "----------------------------------\n",
      "glipizide\n",
      "No        87.534147\n",
      "Steady    11.158933\n",
      "Up         0.756638\n",
      "Down       0.550282\n",
      "Name: glipizide, dtype: float64\n",
      "----------------------------------\n",
      "glyburide\n",
      "No        89.534815\n",
      "Steady     9.113063\n",
      "Up         0.797909\n",
      "Down       0.554213\n",
      "Name: glyburide, dtype: float64\n",
      "----------------------------------\n",
      "tolbutamide\n",
      "No        99.977399\n",
      "Steady     0.022601\n",
      "Name: tolbutamide, dtype: float64\n",
      "----------------------------------\n",
      "pioglitazone\n",
      "No        92.799167\n",
      "Steady     6.854942\n",
      "Up         0.229939\n",
      "Down       0.115952\n",
      "Name: pioglitazone, dtype: float64\n",
      "----------------------------------\n",
      "rosiglitazone\n",
      "No        93.745455\n",
      "Steady     5.994143\n",
      "Up         0.174911\n",
      "Down       0.085490\n",
      "Name: rosiglitazone, dtype: float64\n",
      "----------------------------------\n",
      "acarbose\n",
      "No        99.697345\n",
      "Steady     0.289881\n",
      "Up         0.009826\n",
      "Down       0.002948\n",
      "Name: acarbose, dtype: float64\n",
      "----------------------------------\n",
      "miglitol\n",
      "No        99.962659\n",
      "Steady     0.030462\n",
      "Down       0.004913\n",
      "Up         0.001965\n",
      "Name: miglitol, dtype: float64\n",
      "----------------------------------\n",
      "troglitazone\n",
      "No        99.997052\n",
      "Steady     0.002948\n",
      "Name: troglitazone, dtype: float64\n",
      "----------------------------------\n",
      "tolazamide\n",
      "No        99.961677\n",
      "Steady     0.037341\n",
      "Up         0.000983\n",
      "Name: tolazamide, dtype: float64\n",
      "----------------------------------\n",
      "examide\n",
      "No    100.0\n",
      "Name: examide, dtype: float64\n",
      "----------------------------------\n",
      "citoglipton\n",
      "No    100.0\n",
      "Name: citoglipton, dtype: float64\n",
      "----------------------------------\n",
      "insulin\n",
      "No        46.560737\n",
      "Steady    30.313661\n",
      "Down      12.005974\n",
      "Up        11.119627\n",
      "Name: insulin, dtype: float64\n",
      "----------------------------------\n",
      "glyburide-metformin\n",
      "No        99.306252\n",
      "Steady     0.679991\n",
      "Up         0.007861\n",
      "Down       0.005896\n",
      "Name: glyburide-metformin, dtype: float64\n",
      "----------------------------------\n",
      "glipizide-metformin\n",
      "No        99.987226\n",
      "Steady     0.012774\n",
      "Name: glipizide-metformin, dtype: float64\n",
      "----------------------------------\n",
      "glimepiride-pioglitazone\n",
      "No        99.999017\n",
      "Steady     0.000983\n",
      "Name: glimepiride-pioglitazone, dtype: float64\n",
      "----------------------------------\n",
      "metformin-rosiglitazone\n",
      "No        99.998035\n",
      "Steady     0.001965\n",
      "Name: metformin-rosiglitazone, dtype: float64\n",
      "----------------------------------\n",
      "metformin-pioglitazone\n",
      "No        99.999017\n",
      "Steady     0.000983\n",
      "Name: metformin-pioglitazone, dtype: float64\n",
      "----------------------------------\n",
      "change\n",
      "No    53.804807\n",
      "Ch    46.195193\n",
      "Name: change, dtype: float64\n",
      "----------------------------------\n",
      "diabetesMed\n",
      "Yes    77.003125\n",
      "No     22.996875\n",
      "Name: diabetesMed, dtype: float64\n",
      "----------------------------------\n",
      "readmitted\n",
      "NO     53.911916\n",
      ">30    34.928169\n",
      "<30    11.159916\n",
      "Name: readmitted, dtype: float64\n",
      "----------------------------------\n"
     ]
    }
   ],
   "source": [
    "for column in diabetic_data:\n",
    "    if pd.api.types.is_object_dtype(diabetic_data[column]):\n",
    "        print(column)\n",
    "        print(diabetic_data[column].value_counts()/diabetic_data.shape[0]*100)\n",
    "        print('----------------------------------')"
   ]
  },
  {
   "cell_type": "markdown",
   "id": "7e2532a6-7ccc-4143-a1ad-8f78a569b585",
   "metadata": {},
   "source": [
    "Jak widzimy kolumny ``nateglinide``, ``chlorpropamide``, ``acetohexamide``, ``tolbutamide``, ``acarbose``, ``miglitol``, ``troglitazone``, ``tolazamide``, ``examide``, ``citoglipton``, ``glyburide-metformin``, ``glimepiride-pioglitazone``, ``metformin-rosiglitazone``, ``metformin-pioglitazone`` mają powyżej $99 \\%$ obserwacji No\\None, zatem kolumny te nie wnoszą za dużo nowych informacji."
   ]
  },
  {
   "cell_type": "code",
   "execution_count": 19,
   "id": "a621e36f-7879-40ad-80b6-251fdd6e2f8a",
   "metadata": {},
   "outputs": [],
   "source": [
    "columns = ['nateglinide', 'chlorpropamide', 'acetohexamide', 'tolbutamide', 'tolbutamide', \n",
    "           'acarbose', 'miglitol', 'troglitazone', 'tolazamide', 'examide', 'citoglipton', \n",
    "           'glyburide-metformin', 'glimepiride-pioglitazone', 'metformin-rosiglitazone',\n",
    "          'metformin-pioglitazone']\n",
    "diabetic_data.drop(columns=columns, inplace=True)"
   ]
  },
  {
   "cell_type": "markdown",
   "id": "d30fa3df-3c87-4140-a7e4-167aad9be837",
   "metadata": {},
   "source": [
    "#### Race"
   ]
  },
  {
   "cell_type": "code",
   "execution_count": 20,
   "id": "f25d8818-7328-4d9d-8bef-042fa9375559",
   "metadata": {},
   "outputs": [
    {
     "data": {
      "text/plain": [
       "Caucasian          76099\n",
       "AfricanAmerican    19210\n",
       "?                   2273\n",
       "Hispanic            2037\n",
       "Other               1506\n",
       "Asian                641\n",
       "Name: race, dtype: int64"
      ]
     },
     "execution_count": 20,
     "metadata": {},
     "output_type": "execute_result"
    }
   ],
   "source": [
    "diabetic_data['race'].value_counts()"
   ]
  },
  {
   "cell_type": "markdown",
   "id": "898c8d43-a7a7-4a5f-a4c6-90a021415f83",
   "metadata": {},
   "source": [
    "Jak widzimy, obserwacje, których ``race`` jest nieznane, asian, hispanic, other jest relatywnie mało. Dlatego potraktujemy te wszystkie obserwacje jak other."
   ]
  },
  {
   "cell_type": "code",
   "execution_count": 21,
   "id": "54b889eb-91d2-4960-a55d-9f2aaa4d9798",
   "metadata": {},
   "outputs": [
    {
     "data": {
      "text/plain": [
       "Caucasian          76099\n",
       "AfricanAmerican    19210\n",
       "Other               6457\n",
       "Name: race, dtype: int64"
      ]
     },
     "execution_count": 21,
     "metadata": {},
     "output_type": "execute_result"
    }
   ],
   "source": [
    "diabetic_data.loc[diabetic_data.race.isin(['?', 'Asian', 'Hispanic']), 'race'] = 'Other'\n",
    "diabetic_data.race.value_counts()"
   ]
  },
  {
   "cell_type": "markdown",
   "id": "3ba47725-f152-4abd-bead-16f42920b60f",
   "metadata": {},
   "source": [
    "#### Gender"
   ]
  },
  {
   "cell_type": "code",
   "execution_count": 22,
   "id": "cccdbb2f-5b13-42b1-93f7-8101965dae20",
   "metadata": {},
   "outputs": [
    {
     "data": {
      "text/plain": [
       "Female             54708\n",
       "Male               47055\n",
       "Unknown/Invalid        3\n",
       "Name: gender, dtype: int64"
      ]
     },
     "execution_count": 22,
     "metadata": {},
     "output_type": "execute_result"
    }
   ],
   "source": [
    "diabetic_data['gender'].value_counts()"
   ]
  },
  {
   "cell_type": "markdown",
   "id": "01a76bc8-05cd-4fc0-81b3-98891b08b8e9",
   "metadata": {},
   "source": [
    "Obserwacji o nieznanej płci jest dosyć mało, więc możemy się ich pozbyć, aby zmniejszyć granulację danych."
   ]
  },
  {
   "cell_type": "code",
   "execution_count": 23,
   "id": "a96a5b0c-c0ee-464a-a41d-e1ca2de6e6b5",
   "metadata": {},
   "outputs": [],
   "source": [
    "diabetic_data = diabetic_data[diabetic_data.gender != 'Unknown/Invalid']"
   ]
  },
  {
   "cell_type": "markdown",
   "id": "ec096344-fa22-419c-ac5d-7340b20c533f",
   "metadata": {},
   "source": [
    "#### Age"
   ]
  },
  {
   "cell_type": "code",
   "execution_count": 24,
   "id": "6e19d941-4c50-4571-a83c-aaf84cef9502",
   "metadata": {},
   "outputs": [
    {
     "data": {
      "image/png": "[encoded data removed]",
      "text/plain": [
       "<Figure size 576x432 with 1 Axes>"
      ]
     },
     "metadata": {
      "needs_background": "light"
     },
     "output_type": "display_data"
    }
   ],
   "source": [
    "plt.figure(figsize=(8,6))\n",
    "plt.title('age')\n",
    "diabetic_data.age.value_counts().plot(kind = 'bar', rot = 1)\n",
    "plt.show()"
   ]
  },
  {
   "cell_type": "markdown",
   "id": "b14ec0a6-a6b0-44a4-90b8-01d6db2be35a",
   "metadata": {},
   "source": [
    "Widzimy, że większość obserwacji tyczy się osób w wieku 50+. Może dobrym pomysłem było by zebranie tych grup w jeszcze większe przedziały.\n",
    "#### Medical speciality"
   ]
  },
  {
   "cell_type": "code",
   "execution_count": 25,
   "id": "4c5d50a1-3815-4be7-b392-6d2eb0522136",
   "metadata": {
    "tags": []
   },
   "outputs": [
    {
     "data": {
      "text/plain": [
       "49"
      ]
     },
     "execution_count": 25,
     "metadata": {},
     "output_type": "execute_result"
    }
   ],
   "source": [
    "sum(diabetic_data.medical_specialty.value_counts() <= 0.1*diabetic_data.shape[0]/len(diabetic_data.medical_specialty.unique()))"
   ]
  },
  {
   "cell_type": "markdown",
   "id": "26a5344b-a7d0-4af4-a51f-80a9c551120c",
   "metadata": {},
   "source": [
    "Jak widzimy powyżej, aż 49 specjalności ma mniej niż $10\\%$ tego, gdyby wartości były równiernie rozłożone."
   ]
  },
  {
   "cell_type": "code",
   "execution_count": 26,
   "id": "c87d6cc0-d5a2-4da7-abcd-2cc397d757c4",
   "metadata": {},
   "outputs": [
    {
     "data": {
      "text/plain": [
       "0         Pediatrics-Endocrinology\n",
       "1                                ?\n",
       "2                                ?\n",
       "3                                ?\n",
       "4                                ?\n",
       "                    ...           \n",
       "101761                           ?\n",
       "101762                           ?\n",
       "101763                           ?\n",
       "101764             Surgery-General\n",
       "101765                           ?\n",
       "Name: medical_specialty, Length: 101763, dtype: object"
      ]
     },
     "execution_count": 26,
     "metadata": {},
     "output_type": "execute_result"
    }
   ],
   "source": [
    "filtr = diabetic_data.medical_specialty.value_counts() <= 0.1*diabetic_data.shape[0]/len(diabetic_data.medical_specialty.unique())\n",
    "diabetic_data['medical_specialty'] = diabetic_data.medical_specialty.apply(lambda x: \"Other\" if filtr[x] else x)\n",
    "diabetic_data.medical_specialty"
   ]
  },
  {
   "cell_type": "markdown",
   "id": "83acf533-05e4-4483-9dda-a8d964d85c92",
   "metadata": {},
   "source": [
    "#### Diag1, Diag2, Diag3\n",
    "Zastosujemy to samo przekształcenie co powyżej."
   ]
  },
  {
   "cell_type": "code",
   "execution_count": 27,
   "id": "9e40656e-0c72-4b8a-917a-3707ff081472",
   "metadata": {},
   "outputs": [
    {
     "data": {
      "text/plain": [
       "342"
      ]
     },
     "execution_count": 27,
     "metadata": {},
     "output_type": "execute_result"
    }
   ],
   "source": [
    "filtr = diabetic_data.diag_1.value_counts() <= 0.1*diabetic_data.shape[0]/len(diabetic_data.diag_1.unique())\n",
    "diabetic_data['diag_1'] = diabetic_data.diag_1.apply(lambda x: \"Other\" if filtr[x] else x)\n",
    "diabetic_data.diag_1.unique().shape[0]"
   ]
  },
  {
   "cell_type": "code",
   "execution_count": 28,
   "id": "21b7fd17-6daa-4ae2-bdd3-e592036f9341",
   "metadata": {},
   "outputs": [
    {
     "data": {
      "text/plain": [
       "330"
      ]
     },
     "execution_count": 28,
     "metadata": {},
     "output_type": "execute_result"
    }
   ],
   "source": [
    "filtr = diabetic_data.diag_2.value_counts() <= 0.1*diabetic_data.shape[0]/len(diabetic_data.diag_2.unique())\n",
    "diabetic_data['diag_2'] = diabetic_data.diag_2.apply(lambda x: \"Other\" if filtr[x] else x)\n",
    "diabetic_data.diag_2.unique().shape[0]"
   ]
  },
  {
   "cell_type": "code",
   "execution_count": 29,
   "id": "88a139bb-9329-45ab-aaae-b37d95741908",
   "metadata": {},
   "outputs": [
    {
     "data": {
      "text/plain": [
       "364"
      ]
     },
     "execution_count": 29,
     "metadata": {},
     "output_type": "execute_result"
    }
   ],
   "source": [
    "filtr = diabetic_data.diag_3.value_counts() <= 0.1*diabetic_data.shape[0]/len(diabetic_data.diag_3.unique())\n",
    "diabetic_data['diag_3'] = diabetic_data.diag_3.apply(lambda x: \"Other\" if filtr[x] else x)\n",
    "diabetic_data.diag_3.unique().shape[0]"
   ]
  },
  {
   "cell_type": "markdown",
   "id": "d887153b-9795-4569-b7b8-959f71b7120d",
   "metadata": {},
   "source": [
    "#### max_glu_serum, A1Cresult, metformin, glimepiride, glyburide, pioglitazone, rosiglitazone"
   ]
  },
  {
   "cell_type": "code",
   "execution_count": 30,
   "id": "a340f8f1-9e43-4079-8dba-f70dda90f039",
   "metadata": {},
   "outputs": [
    {
     "data": {
      "image/png": "[encoded data removed]",
      "text/plain": [
       "<Figure size 432x288 with 1 Axes>"
      ]
     },
     "metadata": {
      "needs_background": "light"
     },
     "output_type": "display_data"
    },
    {
     "data": {
      "image/png": "[encoded data removed]",
      "text/plain": [
       "<Figure size 432x288 with 1 Axes>"
      ]
     },
     "metadata": {
      "needs_background": "light"
     },
     "output_type": "display_data"
    },
    {
     "data": {
      "image/png": "[encoded data removed]",
      "text/plain": [
       "<Figure size 432x288 with 1 Axes>"
      ]
     },
     "metadata": {
      "needs_background": "light"
     },
     "output_type": "display_data"
    },
    {
     "data": {
      "image/png": "[encoded data removed]",
      "text/plain": [
       "<Figure size 432x288 with 1 Axes>"
      ]
     },
     "metadata": {
      "needs_background": "light"
     },
     "output_type": "display_data"
    },
    {
     "data": {
      "image/png": "[encoded data removed]",
      "text/plain": [
       "<Figure size 432x288 with 1 Axes>"
      ]
     },
     "metadata": {
      "needs_background": "light"
     },
     "output_type": "display_data"
    },
    {
     "data": {
      "image/png": "[encoded data removed]",
      "text/plain": [
       "<Figure size 432x288 with 1 Axes>"
      ]
     },
     "metadata": {
      "needs_background": "light"
     },
     "output_type": "display_data"
    },
    {
     "data": {
      "image/png": "[encoded data removed]",
      "text/plain": [
       "<Figure size 432x288 with 1 Axes>"
      ]
     },
     "metadata": {
      "needs_background": "light"
     },
     "output_type": "display_data"
    }
   ],
   "source": [
    "columns = ['max_glu_serum', 'A1Cresult', 'metformin', 'glimepiride', 'glyburide', 'pioglitazone', 'rosiglitazone']\n",
    "for column in columns:\n",
    "    plt.title(column)\n",
    "    diabetic_data[column].value_counts().plot(kind = 'bar', rot = 1)\n",
    "    plt.show()\n",
    "    "
   ]
  },
  {
   "cell_type": "markdown",
   "id": "fcf9aa5d-d4d1-4400-8b70-a92d8e81ec6b",
   "metadata": {},
   "source": [
    "Widzimy znaczną przewagę w tych zmiennych obserwacji ``None`` i ``No``.\n",
    "#### insulin, change, diabetesMed, readmitted"
   ]
  },
  {
   "cell_type": "code",
   "execution_count": 31,
   "id": "bd98ede8-0456-483d-b6b2-ee04bc1fd1d5",
   "metadata": {},
   "outputs": [
    {
     "data": {
      "image/png": "[encoded data removed]",
      "text/plain": [
       "<Figure size 432x288 with 1 Axes>"
      ]
     },
     "metadata": {
      "needs_background": "light"
     },
     "output_type": "display_data"
    },
    {
     "data": {
      "image/png": "[encoded data removed]",
      "text/plain": [
       "<Figure size 432x288 with 1 Axes>"
      ]
     },
     "metadata": {
      "needs_background": "light"
     },
     "output_type": "display_data"
    },
    {
     "data": {
      "image/png": "[encoded data removed]",
      "text/plain": [
       "<Figure size 432x288 with 1 Axes>"
      ]
     },
     "metadata": {
      "needs_background": "light"
     },
     "output_type": "display_data"
    },
    {
     "data": {
      "image/png": "[encoded data removed]",
      "text/plain": [
       "<Figure size 432x288 with 1 Axes>"
      ]
     },
     "metadata": {
      "needs_background": "light"
     },
     "output_type": "display_data"
    }
   ],
   "source": [
    "columns = ['insulin', 'change', 'diabetesMed', 'readmitted']\n",
    "for column in columns:\n",
    "    plt.title(column)\n",
    "    diabetic_data[column].value_counts().plot(kind = 'bar', rot = 1)\n",
    "    plt.show()\n",
    "    "
   ]
  },
  {
   "cell_type": "markdown",
   "id": "626bbaab-5e6e-429c-b155-12dbb2e5abb6",
   "metadata": {},
   "source": [
    "Zmienna predykowana **readmitted** jest niezbalansowana, widzimy przewagę obserwacji **NO**. Tak samo nie zbilansowanymi zmiennymi są **insulin**, **diabetesMed**. Jedyna zmienna zbilansową jest **change**"
   ]
  },
  {
   "cell_type": "markdown",
   "id": "2439532d-88c0-4419-a4ac-be41c33ce416",
   "metadata": {},
   "source": [
    "## Analiza wielowymiarowa"
   ]
  },
  {
   "cell_type": "code",
   "execution_count": 32,
   "id": "8c6b5ba1-0989-4685-8fa1-3898233a4a2e",
   "metadata": {},
   "outputs": [
    {
     "data": {
      "image/png": "[encoded data removed]",
      "text/plain": [
       "<Figure size 1152x864 with 2 Axes>"
      ]
     },
     "metadata": {
      "needs_background": "light"
     },
     "output_type": "display_data"
    }
   ],
   "source": [
    "corMatrix = diabetic_data.corr()\n",
    "mask = np.triu(np.ones_like(corMatrix, dtype=bool))\n",
    "plt.figure(figsize=(16, 12))\n",
    "sns.heatmap(corMatrix, mask=mask, annot=True, vmin=-1, cmap=\"PiYG\")\n",
    "plt.show()"
   ]
  },
  {
   "cell_type": "markdown",
   "id": "870b1488-e97b-4bd8-bfec-6b120d0b10b6",
   "metadata": {},
   "source": [
    "Jedynymi zmiennymi, które moglibyśmy uznać za skorelowane **time_in_hospital** i **num_medications**. Reszta zmiennych jest raczej słabo skorelowana.\n",
    "Spójrzmy teraz, czy występują jakieś zależności między naszą zmienną celu **readmitted**, a innymi zmiennymi."
   ]
  },
  {
   "cell_type": "code",
   "execution_count": 33,
   "id": "0ee55582-c578-4ae1-a092-c92f5e7eb35f",
   "metadata": {},
   "outputs": [
    {
     "data": {
      "image/png": "[encoded data removed]",
      "text/plain": [
       "<Figure size 576x432 with 1 Axes>"
      ]
     },
     "metadata": {
      "needs_background": "light"
     },
     "output_type": "display_data"
    },
    {
     "data": {
      "image/png": "[encoded data removed]",
      "text/plain": [
       "<Figure size 576x432 with 1 Axes>"
      ]
     },
     "metadata": {
      "needs_background": "light"
     },
     "output_type": "display_data"
    },
    {
     "data": {
      "image/png": "[encoded data removed]",
      "text/plain": [
       "<Figure size 576x432 with 1 Axes>"
      ]
     },
     "metadata": {
      "needs_background": "light"
     },
     "output_type": "display_data"
    },
    {
     "data": {
      "image/png": "[encoded data removed]",
      "text/plain": [
       "<Figure size 576x432 with 1 Axes>"
      ]
     },
     "metadata": {
      "needs_background": "light"
     },
     "output_type": "display_data"
    },
    {
     "data": {
      "image/png": "[encoded data removed]",
      "text/plain": [
       "<Figure size 576x432 with 1 Axes>"
      ]
     },
     "metadata": {
      "needs_background": "light"
     },
     "output_type": "display_data"
    },
    {
     "data": {
      "image/png": "[encoded data removed]",
      "text/plain": [
       "<Figure size 576x432 with 1 Axes>"
      ]
     },
     "metadata": {
      "needs_background": "light"
     },
     "output_type": "display_data"
    },
    {
     "data": {
      "image/png": "[encoded data removed]",
      "text/plain": [
       "<Figure size 576x432 with 1 Axes>"
      ]
     },
     "metadata": {
      "needs_background": "light"
     },
     "output_type": "display_data"
    },
    {
     "data": {
      "image/png": "[encoded data removed]",
      "text/plain": [
       "<Figure size 576x432 with 1 Axes>"
      ]
     },
     "metadata": {
      "needs_background": "light"
     },
     "output_type": "display_data"
    },
    {
     "data": {
      "image/png": "[encoded data removed]",
      "text/plain": [
       "<Figure size 576x432 with 1 Axes>"
      ]
     },
     "metadata": {
      "needs_background": "light"
     },
     "output_type": "display_data"
    },
    {
     "data": {
      "image/png": "[encoded data removed]",
      "text/plain": [
       "<Figure size 576x432 with 1 Axes>"
      ]
     },
     "metadata": {
      "needs_background": "light"
     },
     "output_type": "display_data"
    },
    {
     "data": {
      "image/png": "[encoded data removed]",
      "text/plain": [
       "<Figure size 576x432 with 1 Axes>"
      ]
     },
     "metadata": {
      "needs_background": "light"
     },
     "output_type": "display_data"
    }
   ],
   "source": [
    "num_columns = diabetic_data.select_dtypes('number').columns.tolist()\n",
    "\n",
    "for column in num_columns:\n",
    "    plt.figure(figsize=(8, 6))\n",
    "    sns.boxplot(x='readmitted',y=column, data=diabetic_data, showfliers = False)\n",
    "    plt.show()"
   ]
  },
  {
   "cell_type": "markdown",
   "id": "8bc413de-2617-4f0b-8d04-e4c3f27168fa",
   "metadata": {},
   "source": [
    "Nie widać, za bardzo jakiś zależności z boxplotów między zmienną celu, a zmiennymi numerycznymi. Dosyć ciekawe wydaje się to, że zwiększona liczba hospitalizacji oznacza mniej niż 30 dniowy pobyt, natomiast dłuższe pobyty oznaczają mniej niż 2 hospitalizacje."
   ]
  },
  {
   "cell_type": "markdown",
   "id": "e4b8653a-ee45-470b-9386-d7b461e48fa2",
   "metadata": {},
   "source": [
    "# Imputacja brakujących danych i enkoding zmiennych"
   ]
  },
  {
   "cell_type": "code",
   "execution_count": 34,
   "id": "a18af41d-9b8e-4c23-a108-85625d2957e3",
   "metadata": {},
   "outputs": [
    {
     "data": {
      "text/html": [
       "<div>\n",
       "<style scoped>\n",
       "    .dataframe tbody tr th:only-of-type {\n",
       "        vertical-align: middle;\n",
       "    }\n",
       "\n",
       "    .dataframe tbody tr th {\n",
       "        vertical-align: top;\n",
       "    }\n",
       "\n",
       "    .dataframe thead th {\n",
       "        text-align: right;\n",
       "    }\n",
       "</style>\n",
       "<table border=\"1\" class=\"dataframe\">\n",
       "  <thead>\n",
       "    <tr style=\"text-align: right;\">\n",
       "      <th></th>\n",
       "      <th>race</th>\n",
       "      <th>gender</th>\n",
       "      <th>age</th>\n",
       "      <th>admission_type_id</th>\n",
       "      <th>discharge_disposition_id</th>\n",
       "      <th>admission_source_id</th>\n",
       "      <th>time_in_hospital</th>\n",
       "      <th>medical_specialty</th>\n",
       "      <th>num_lab_procedures</th>\n",
       "      <th>num_procedures</th>\n",
       "      <th>...</th>\n",
       "      <th>glimepiride</th>\n",
       "      <th>glipizide</th>\n",
       "      <th>glyburide</th>\n",
       "      <th>pioglitazone</th>\n",
       "      <th>rosiglitazone</th>\n",
       "      <th>insulin</th>\n",
       "      <th>glipizide-metformin</th>\n",
       "      <th>change</th>\n",
       "      <th>diabetesMed</th>\n",
       "      <th>readmitted</th>\n",
       "    </tr>\n",
       "  </thead>\n",
       "  <tbody>\n",
       "    <tr>\n",
       "      <th>0</th>\n",
       "      <td>Caucasian</td>\n",
       "      <td>Female</td>\n",
       "      <td>[0-10)</td>\n",
       "      <td>6</td>\n",
       "      <td>25</td>\n",
       "      <td>1</td>\n",
       "      <td>1</td>\n",
       "      <td>Pediatrics-Endocrinology</td>\n",
       "      <td>41</td>\n",
       "      <td>0</td>\n",
       "      <td>...</td>\n",
       "      <td>No</td>\n",
       "      <td>No</td>\n",
       "      <td>No</td>\n",
       "      <td>No</td>\n",
       "      <td>No</td>\n",
       "      <td>No</td>\n",
       "      <td>No</td>\n",
       "      <td>No</td>\n",
       "      <td>No</td>\n",
       "      <td>NO</td>\n",
       "    </tr>\n",
       "    <tr>\n",
       "      <th>1</th>\n",
       "      <td>Caucasian</td>\n",
       "      <td>Female</td>\n",
       "      <td>[10-20)</td>\n",
       "      <td>1</td>\n",
       "      <td>1</td>\n",
       "      <td>7</td>\n",
       "      <td>3</td>\n",
       "      <td>NaN</td>\n",
       "      <td>59</td>\n",
       "      <td>0</td>\n",
       "      <td>...</td>\n",
       "      <td>No</td>\n",
       "      <td>No</td>\n",
       "      <td>No</td>\n",
       "      <td>No</td>\n",
       "      <td>No</td>\n",
       "      <td>Up</td>\n",
       "      <td>No</td>\n",
       "      <td>Ch</td>\n",
       "      <td>Yes</td>\n",
       "      <td>&gt;30</td>\n",
       "    </tr>\n",
       "    <tr>\n",
       "      <th>2</th>\n",
       "      <td>AfricanAmerican</td>\n",
       "      <td>Female</td>\n",
       "      <td>[20-30)</td>\n",
       "      <td>1</td>\n",
       "      <td>1</td>\n",
       "      <td>7</td>\n",
       "      <td>2</td>\n",
       "      <td>NaN</td>\n",
       "      <td>11</td>\n",
       "      <td>5</td>\n",
       "      <td>...</td>\n",
       "      <td>No</td>\n",
       "      <td>Steady</td>\n",
       "      <td>No</td>\n",
       "      <td>No</td>\n",
       "      <td>No</td>\n",
       "      <td>No</td>\n",
       "      <td>No</td>\n",
       "      <td>No</td>\n",
       "      <td>Yes</td>\n",
       "      <td>NO</td>\n",
       "    </tr>\n",
       "    <tr>\n",
       "      <th>3</th>\n",
       "      <td>Caucasian</td>\n",
       "      <td>Male</td>\n",
       "      <td>[30-40)</td>\n",
       "      <td>1</td>\n",
       "      <td>1</td>\n",
       "      <td>7</td>\n",
       "      <td>2</td>\n",
       "      <td>NaN</td>\n",
       "      <td>44</td>\n",
       "      <td>1</td>\n",
       "      <td>...</td>\n",
       "      <td>No</td>\n",
       "      <td>No</td>\n",
       "      <td>No</td>\n",
       "      <td>No</td>\n",
       "      <td>No</td>\n",
       "      <td>Up</td>\n",
       "      <td>No</td>\n",
       "      <td>Ch</td>\n",
       "      <td>Yes</td>\n",
       "      <td>NO</td>\n",
       "    </tr>\n",
       "    <tr>\n",
       "      <th>4</th>\n",
       "      <td>Caucasian</td>\n",
       "      <td>Male</td>\n",
       "      <td>[40-50)</td>\n",
       "      <td>1</td>\n",
       "      <td>1</td>\n",
       "      <td>7</td>\n",
       "      <td>1</td>\n",
       "      <td>NaN</td>\n",
       "      <td>51</td>\n",
       "      <td>0</td>\n",
       "      <td>...</td>\n",
       "      <td>No</td>\n",
       "      <td>Steady</td>\n",
       "      <td>No</td>\n",
       "      <td>No</td>\n",
       "      <td>No</td>\n",
       "      <td>Steady</td>\n",
       "      <td>No</td>\n",
       "      <td>Ch</td>\n",
       "      <td>Yes</td>\n",
       "      <td>NO</td>\n",
       "    </tr>\n",
       "    <tr>\n",
       "      <th>...</th>\n",
       "      <td>...</td>\n",
       "      <td>...</td>\n",
       "      <td>...</td>\n",
       "      <td>...</td>\n",
       "      <td>...</td>\n",
       "      <td>...</td>\n",
       "      <td>...</td>\n",
       "      <td>...</td>\n",
       "      <td>...</td>\n",
       "      <td>...</td>\n",
       "      <td>...</td>\n",
       "      <td>...</td>\n",
       "      <td>...</td>\n",
       "      <td>...</td>\n",
       "      <td>...</td>\n",
       "      <td>...</td>\n",
       "      <td>...</td>\n",
       "      <td>...</td>\n",
       "      <td>...</td>\n",
       "      <td>...</td>\n",
       "      <td>...</td>\n",
       "    </tr>\n",
       "    <tr>\n",
       "      <th>101761</th>\n",
       "      <td>AfricanAmerican</td>\n",
       "      <td>Male</td>\n",
       "      <td>[70-80)</td>\n",
       "      <td>1</td>\n",
       "      <td>3</td>\n",
       "      <td>7</td>\n",
       "      <td>3</td>\n",
       "      <td>NaN</td>\n",
       "      <td>51</td>\n",
       "      <td>0</td>\n",
       "      <td>...</td>\n",
       "      <td>No</td>\n",
       "      <td>No</td>\n",
       "      <td>No</td>\n",
       "      <td>No</td>\n",
       "      <td>No</td>\n",
       "      <td>Down</td>\n",
       "      <td>No</td>\n",
       "      <td>Ch</td>\n",
       "      <td>Yes</td>\n",
       "      <td>&gt;30</td>\n",
       "    </tr>\n",
       "    <tr>\n",
       "      <th>101762</th>\n",
       "      <td>AfricanAmerican</td>\n",
       "      <td>Female</td>\n",
       "      <td>[80-90)</td>\n",
       "      <td>1</td>\n",
       "      <td>4</td>\n",
       "      <td>5</td>\n",
       "      <td>5</td>\n",
       "      <td>NaN</td>\n",
       "      <td>33</td>\n",
       "      <td>3</td>\n",
       "      <td>...</td>\n",
       "      <td>No</td>\n",
       "      <td>No</td>\n",
       "      <td>No</td>\n",
       "      <td>No</td>\n",
       "      <td>No</td>\n",
       "      <td>Steady</td>\n",
       "      <td>No</td>\n",
       "      <td>No</td>\n",
       "      <td>Yes</td>\n",
       "      <td>NO</td>\n",
       "    </tr>\n",
       "    <tr>\n",
       "      <th>101763</th>\n",
       "      <td>Caucasian</td>\n",
       "      <td>Male</td>\n",
       "      <td>[70-80)</td>\n",
       "      <td>1</td>\n",
       "      <td>1</td>\n",
       "      <td>7</td>\n",
       "      <td>1</td>\n",
       "      <td>NaN</td>\n",
       "      <td>53</td>\n",
       "      <td>0</td>\n",
       "      <td>...</td>\n",
       "      <td>No</td>\n",
       "      <td>No</td>\n",
       "      <td>No</td>\n",
       "      <td>No</td>\n",
       "      <td>No</td>\n",
       "      <td>Down</td>\n",
       "      <td>No</td>\n",
       "      <td>Ch</td>\n",
       "      <td>Yes</td>\n",
       "      <td>NO</td>\n",
       "    </tr>\n",
       "    <tr>\n",
       "      <th>101764</th>\n",
       "      <td>Caucasian</td>\n",
       "      <td>Female</td>\n",
       "      <td>[80-90)</td>\n",
       "      <td>2</td>\n",
       "      <td>3</td>\n",
       "      <td>7</td>\n",
       "      <td>10</td>\n",
       "      <td>Surgery-General</td>\n",
       "      <td>45</td>\n",
       "      <td>2</td>\n",
       "      <td>...</td>\n",
       "      <td>No</td>\n",
       "      <td>Steady</td>\n",
       "      <td>No</td>\n",
       "      <td>Steady</td>\n",
       "      <td>No</td>\n",
       "      <td>Up</td>\n",
       "      <td>No</td>\n",
       "      <td>Ch</td>\n",
       "      <td>Yes</td>\n",
       "      <td>NO</td>\n",
       "    </tr>\n",
       "    <tr>\n",
       "      <th>101765</th>\n",
       "      <td>Caucasian</td>\n",
       "      <td>Male</td>\n",
       "      <td>[70-80)</td>\n",
       "      <td>1</td>\n",
       "      <td>1</td>\n",
       "      <td>7</td>\n",
       "      <td>6</td>\n",
       "      <td>NaN</td>\n",
       "      <td>13</td>\n",
       "      <td>3</td>\n",
       "      <td>...</td>\n",
       "      <td>No</td>\n",
       "      <td>No</td>\n",
       "      <td>No</td>\n",
       "      <td>No</td>\n",
       "      <td>No</td>\n",
       "      <td>No</td>\n",
       "      <td>No</td>\n",
       "      <td>No</td>\n",
       "      <td>No</td>\n",
       "      <td>NO</td>\n",
       "    </tr>\n",
       "  </tbody>\n",
       "</table>\n",
       "<p>101763 rows × 32 columns</p>\n",
       "</div>"
      ],
      "text/plain": [
       "                   race  gender      age  admission_type_id  \\\n",
       "0             Caucasian  Female   [0-10)                  6   \n",
       "1             Caucasian  Female  [10-20)                  1   \n",
       "2       AfricanAmerican  Female  [20-30)                  1   \n",
       "3             Caucasian    Male  [30-40)                  1   \n",
       "4             Caucasian    Male  [40-50)                  1   \n",
       "...                 ...     ...      ...                ...   \n",
       "101761  AfricanAmerican    Male  [70-80)                  1   \n",
       "101762  AfricanAmerican  Female  [80-90)                  1   \n",
       "101763        Caucasian    Male  [70-80)                  1   \n",
       "101764        Caucasian  Female  [80-90)                  2   \n",
       "101765        Caucasian    Male  [70-80)                  1   \n",
       "\n",
       "        discharge_disposition_id  admission_source_id  time_in_hospital  \\\n",
       "0                             25                    1                 1   \n",
       "1                              1                    7                 3   \n",
       "2                              1                    7                 2   \n",
       "3                              1                    7                 2   \n",
       "4                              1                    7                 1   \n",
       "...                          ...                  ...               ...   \n",
       "101761                         3                    7                 3   \n",
       "101762                         4                    5                 5   \n",
       "101763                         1                    7                 1   \n",
       "101764                         3                    7                10   \n",
       "101765                         1                    7                 6   \n",
       "\n",
       "               medical_specialty  num_lab_procedures  num_procedures  ...  \\\n",
       "0       Pediatrics-Endocrinology                  41               0  ...   \n",
       "1                            NaN                  59               0  ...   \n",
       "2                            NaN                  11               5  ...   \n",
       "3                            NaN                  44               1  ...   \n",
       "4                            NaN                  51               0  ...   \n",
       "...                          ...                 ...             ...  ...   \n",
       "101761                       NaN                  51               0  ...   \n",
       "101762                       NaN                  33               3  ...   \n",
       "101763                       NaN                  53               0  ...   \n",
       "101764           Surgery-General                  45               2  ...   \n",
       "101765                       NaN                  13               3  ...   \n",
       "\n",
       "        glimepiride  glipizide  glyburide  pioglitazone rosiglitazone insulin  \\\n",
       "0                No         No         No            No            No      No   \n",
       "1                No         No         No            No            No      Up   \n",
       "2                No     Steady         No            No            No      No   \n",
       "3                No         No         No            No            No      Up   \n",
       "4                No     Steady         No            No            No  Steady   \n",
       "...             ...        ...        ...           ...           ...     ...   \n",
       "101761           No         No         No            No            No    Down   \n",
       "101762           No         No         No            No            No  Steady   \n",
       "101763           No         No         No            No            No    Down   \n",
       "101764           No     Steady         No        Steady            No      Up   \n",
       "101765           No         No         No            No            No      No   \n",
       "\n",
       "       glipizide-metformin  change diabetesMed readmitted  \n",
       "0                       No      No          No         NO  \n",
       "1                       No      Ch         Yes        >30  \n",
       "2                       No      No         Yes         NO  \n",
       "3                       No      Ch         Yes         NO  \n",
       "4                       No      Ch         Yes         NO  \n",
       "...                    ...     ...         ...        ...  \n",
       "101761                  No      Ch         Yes        >30  \n",
       "101762                  No      No         Yes         NO  \n",
       "101763                  No      Ch         Yes         NO  \n",
       "101764                  No      Ch         Yes         NO  \n",
       "101765                  No      No          No         NO  \n",
       "\n",
       "[101763 rows x 32 columns]"
      ]
     },
     "execution_count": 34,
     "metadata": {},
     "output_type": "execute_result"
    }
   ],
   "source": [
    "diabetic_data = diabetic_data.replace(to_replace='?', value=np.nan)\n",
    "diabetic_data"
   ]
  },
  {
   "cell_type": "markdown",
   "id": "c58a569e-cd7f-4388-bdb2-544da3c8f733",
   "metadata": {},
   "source": [
    "Zamieniamy znaki zapytania na *np.NaN*, aby wygodniej było nam imputować zmienne. Poza tym wszytkie typy id, które wcześniej uznałem za tożsame z brakiem danych zamieniamy na brak danych."
   ]
  },
  {
   "cell_type": "code",
   "execution_count": 35,
   "id": "e2fbaa3c-f356-4827-86d5-7ceb760f40ab",
   "metadata": {},
   "outputs": [],
   "source": [
    "diabetic_data['admission_type_id'] = diabetic_data.admission_type_id.replace(to_replace=[5, 8], value=6)\n",
    "diabetic_data['discharge_disposition_id'] = diabetic_data.discharge_disposition_id.replace(to_replace=[18, 25], value=18)\n",
    "diabetic_data['admission_source_id'] = diabetic_data.admission_source_id.replace(to_replace=[9, 20], value=17)"
   ]
  },
  {
   "cell_type": "code",
   "execution_count": 36,
   "id": "88238337-3a4e-4287-82bc-ff30aefcb291",
   "metadata": {},
   "outputs": [
    {
     "data": {
      "text/html": [
       "<div>\n",
       "<style scoped>\n",
       "    .dataframe tbody tr th:only-of-type {\n",
       "        vertical-align: middle;\n",
       "    }\n",
       "\n",
       "    .dataframe tbody tr th {\n",
       "        vertical-align: top;\n",
       "    }\n",
       "\n",
       "    .dataframe thead th {\n",
       "        text-align: right;\n",
       "    }\n",
       "</style>\n",
       "<table border=\"1\" class=\"dataframe\">\n",
       "  <thead>\n",
       "    <tr style=\"text-align: right;\">\n",
       "      <th></th>\n",
       "      <th>race</th>\n",
       "      <th>gender</th>\n",
       "      <th>age</th>\n",
       "      <th>admission_type_id</th>\n",
       "      <th>discharge_disposition_id</th>\n",
       "      <th>admission_source_id</th>\n",
       "      <th>time_in_hospital</th>\n",
       "      <th>medical_specialty</th>\n",
       "      <th>num_lab_procedures</th>\n",
       "      <th>num_procedures</th>\n",
       "      <th>...</th>\n",
       "      <th>glimepiride</th>\n",
       "      <th>glipizide</th>\n",
       "      <th>glyburide</th>\n",
       "      <th>pioglitazone</th>\n",
       "      <th>rosiglitazone</th>\n",
       "      <th>insulin</th>\n",
       "      <th>glipizide-metformin</th>\n",
       "      <th>change</th>\n",
       "      <th>diabetesMed</th>\n",
       "      <th>readmitted</th>\n",
       "    </tr>\n",
       "  </thead>\n",
       "  <tbody>\n",
       "    <tr>\n",
       "      <th>0</th>\n",
       "      <td>Caucasian</td>\n",
       "      <td>Female</td>\n",
       "      <td>[0-10)</td>\n",
       "      <td>6</td>\n",
       "      <td>18</td>\n",
       "      <td>1</td>\n",
       "      <td>1</td>\n",
       "      <td>Pediatrics-Endocrinology</td>\n",
       "      <td>41</td>\n",
       "      <td>0</td>\n",
       "      <td>...</td>\n",
       "      <td>No</td>\n",
       "      <td>No</td>\n",
       "      <td>No</td>\n",
       "      <td>No</td>\n",
       "      <td>No</td>\n",
       "      <td>No</td>\n",
       "      <td>No</td>\n",
       "      <td>No</td>\n",
       "      <td>No</td>\n",
       "      <td>NO</td>\n",
       "    </tr>\n",
       "    <tr>\n",
       "      <th>1</th>\n",
       "      <td>Caucasian</td>\n",
       "      <td>Female</td>\n",
       "      <td>[10-20)</td>\n",
       "      <td>1</td>\n",
       "      <td>1</td>\n",
       "      <td>7</td>\n",
       "      <td>3</td>\n",
       "      <td>Other</td>\n",
       "      <td>59</td>\n",
       "      <td>0</td>\n",
       "      <td>...</td>\n",
       "      <td>No</td>\n",
       "      <td>No</td>\n",
       "      <td>No</td>\n",
       "      <td>No</td>\n",
       "      <td>No</td>\n",
       "      <td>Up</td>\n",
       "      <td>No</td>\n",
       "      <td>Ch</td>\n",
       "      <td>Yes</td>\n",
       "      <td>&gt;30</td>\n",
       "    </tr>\n",
       "    <tr>\n",
       "      <th>2</th>\n",
       "      <td>AfricanAmerican</td>\n",
       "      <td>Female</td>\n",
       "      <td>[20-30)</td>\n",
       "      <td>1</td>\n",
       "      <td>1</td>\n",
       "      <td>7</td>\n",
       "      <td>2</td>\n",
       "      <td>Other</td>\n",
       "      <td>11</td>\n",
       "      <td>5</td>\n",
       "      <td>...</td>\n",
       "      <td>No</td>\n",
       "      <td>Steady</td>\n",
       "      <td>No</td>\n",
       "      <td>No</td>\n",
       "      <td>No</td>\n",
       "      <td>No</td>\n",
       "      <td>No</td>\n",
       "      <td>No</td>\n",
       "      <td>Yes</td>\n",
       "      <td>NO</td>\n",
       "    </tr>\n",
       "    <tr>\n",
       "      <th>3</th>\n",
       "      <td>Caucasian</td>\n",
       "      <td>Male</td>\n",
       "      <td>[30-40)</td>\n",
       "      <td>1</td>\n",
       "      <td>1</td>\n",
       "      <td>7</td>\n",
       "      <td>2</td>\n",
       "      <td>Other</td>\n",
       "      <td>44</td>\n",
       "      <td>1</td>\n",
       "      <td>...</td>\n",
       "      <td>No</td>\n",
       "      <td>No</td>\n",
       "      <td>No</td>\n",
       "      <td>No</td>\n",
       "      <td>No</td>\n",
       "      <td>Up</td>\n",
       "      <td>No</td>\n",
       "      <td>Ch</td>\n",
       "      <td>Yes</td>\n",
       "      <td>NO</td>\n",
       "    </tr>\n",
       "    <tr>\n",
       "      <th>4</th>\n",
       "      <td>Caucasian</td>\n",
       "      <td>Male</td>\n",
       "      <td>[40-50)</td>\n",
       "      <td>1</td>\n",
       "      <td>1</td>\n",
       "      <td>7</td>\n",
       "      <td>1</td>\n",
       "      <td>Other</td>\n",
       "      <td>51</td>\n",
       "      <td>0</td>\n",
       "      <td>...</td>\n",
       "      <td>No</td>\n",
       "      <td>Steady</td>\n",
       "      <td>No</td>\n",
       "      <td>No</td>\n",
       "      <td>No</td>\n",
       "      <td>Steady</td>\n",
       "      <td>No</td>\n",
       "      <td>Ch</td>\n",
       "      <td>Yes</td>\n",
       "      <td>NO</td>\n",
       "    </tr>\n",
       "    <tr>\n",
       "      <th>...</th>\n",
       "      <td>...</td>\n",
       "      <td>...</td>\n",
       "      <td>...</td>\n",
       "      <td>...</td>\n",
       "      <td>...</td>\n",
       "      <td>...</td>\n",
       "      <td>...</td>\n",
       "      <td>...</td>\n",
       "      <td>...</td>\n",
       "      <td>...</td>\n",
       "      <td>...</td>\n",
       "      <td>...</td>\n",
       "      <td>...</td>\n",
       "      <td>...</td>\n",
       "      <td>...</td>\n",
       "      <td>...</td>\n",
       "      <td>...</td>\n",
       "      <td>...</td>\n",
       "      <td>...</td>\n",
       "      <td>...</td>\n",
       "      <td>...</td>\n",
       "    </tr>\n",
       "    <tr>\n",
       "      <th>101758</th>\n",
       "      <td>AfricanAmerican</td>\n",
       "      <td>Male</td>\n",
       "      <td>[70-80)</td>\n",
       "      <td>1</td>\n",
       "      <td>3</td>\n",
       "      <td>7</td>\n",
       "      <td>3</td>\n",
       "      <td>Other</td>\n",
       "      <td>51</td>\n",
       "      <td>0</td>\n",
       "      <td>...</td>\n",
       "      <td>No</td>\n",
       "      <td>No</td>\n",
       "      <td>No</td>\n",
       "      <td>No</td>\n",
       "      <td>No</td>\n",
       "      <td>Down</td>\n",
       "      <td>No</td>\n",
       "      <td>Ch</td>\n",
       "      <td>Yes</td>\n",
       "      <td>&gt;30</td>\n",
       "    </tr>\n",
       "    <tr>\n",
       "      <th>101759</th>\n",
       "      <td>AfricanAmerican</td>\n",
       "      <td>Female</td>\n",
       "      <td>[80-90)</td>\n",
       "      <td>1</td>\n",
       "      <td>4</td>\n",
       "      <td>5</td>\n",
       "      <td>5</td>\n",
       "      <td>Other</td>\n",
       "      <td>33</td>\n",
       "      <td>3</td>\n",
       "      <td>...</td>\n",
       "      <td>No</td>\n",
       "      <td>No</td>\n",
       "      <td>No</td>\n",
       "      <td>No</td>\n",
       "      <td>No</td>\n",
       "      <td>Steady</td>\n",
       "      <td>No</td>\n",
       "      <td>No</td>\n",
       "      <td>Yes</td>\n",
       "      <td>NO</td>\n",
       "    </tr>\n",
       "    <tr>\n",
       "      <th>101760</th>\n",
       "      <td>Caucasian</td>\n",
       "      <td>Male</td>\n",
       "      <td>[70-80)</td>\n",
       "      <td>1</td>\n",
       "      <td>1</td>\n",
       "      <td>7</td>\n",
       "      <td>1</td>\n",
       "      <td>Other</td>\n",
       "      <td>53</td>\n",
       "      <td>0</td>\n",
       "      <td>...</td>\n",
       "      <td>No</td>\n",
       "      <td>No</td>\n",
       "      <td>No</td>\n",
       "      <td>No</td>\n",
       "      <td>No</td>\n",
       "      <td>Down</td>\n",
       "      <td>No</td>\n",
       "      <td>Ch</td>\n",
       "      <td>Yes</td>\n",
       "      <td>NO</td>\n",
       "    </tr>\n",
       "    <tr>\n",
       "      <th>101761</th>\n",
       "      <td>Caucasian</td>\n",
       "      <td>Female</td>\n",
       "      <td>[80-90)</td>\n",
       "      <td>2</td>\n",
       "      <td>3</td>\n",
       "      <td>7</td>\n",
       "      <td>10</td>\n",
       "      <td>Surgery-General</td>\n",
       "      <td>45</td>\n",
       "      <td>2</td>\n",
       "      <td>...</td>\n",
       "      <td>No</td>\n",
       "      <td>Steady</td>\n",
       "      <td>No</td>\n",
       "      <td>Steady</td>\n",
       "      <td>No</td>\n",
       "      <td>Up</td>\n",
       "      <td>No</td>\n",
       "      <td>Ch</td>\n",
       "      <td>Yes</td>\n",
       "      <td>NO</td>\n",
       "    </tr>\n",
       "    <tr>\n",
       "      <th>101762</th>\n",
       "      <td>Caucasian</td>\n",
       "      <td>Male</td>\n",
       "      <td>[70-80)</td>\n",
       "      <td>1</td>\n",
       "      <td>1</td>\n",
       "      <td>7</td>\n",
       "      <td>6</td>\n",
       "      <td>Other</td>\n",
       "      <td>13</td>\n",
       "      <td>3</td>\n",
       "      <td>...</td>\n",
       "      <td>No</td>\n",
       "      <td>No</td>\n",
       "      <td>No</td>\n",
       "      <td>No</td>\n",
       "      <td>No</td>\n",
       "      <td>No</td>\n",
       "      <td>No</td>\n",
       "      <td>No</td>\n",
       "      <td>No</td>\n",
       "      <td>NO</td>\n",
       "    </tr>\n",
       "  </tbody>\n",
       "</table>\n",
       "<p>101763 rows × 32 columns</p>\n",
       "</div>"
      ],
      "text/plain": [
       "                   race  gender      age admission_type_id  \\\n",
       "0             Caucasian  Female   [0-10)                 6   \n",
       "1             Caucasian  Female  [10-20)                 1   \n",
       "2       AfricanAmerican  Female  [20-30)                 1   \n",
       "3             Caucasian    Male  [30-40)                 1   \n",
       "4             Caucasian    Male  [40-50)                 1   \n",
       "...                 ...     ...      ...               ...   \n",
       "101758  AfricanAmerican    Male  [70-80)                 1   \n",
       "101759  AfricanAmerican  Female  [80-90)                 1   \n",
       "101760        Caucasian    Male  [70-80)                 1   \n",
       "101761        Caucasian  Female  [80-90)                 2   \n",
       "101762        Caucasian    Male  [70-80)                 1   \n",
       "\n",
       "       discharge_disposition_id admission_source_id time_in_hospital  \\\n",
       "0                            18                   1                1   \n",
       "1                             1                   7                3   \n",
       "2                             1                   7                2   \n",
       "3                             1                   7                2   \n",
       "4                             1                   7                1   \n",
       "...                         ...                 ...              ...   \n",
       "101758                        3                   7                3   \n",
       "101759                        4                   5                5   \n",
       "101760                        1                   7                1   \n",
       "101761                        3                   7               10   \n",
       "101762                        1                   7                6   \n",
       "\n",
       "               medical_specialty num_lab_procedures num_procedures  ...  \\\n",
       "0       Pediatrics-Endocrinology                 41              0  ...   \n",
       "1                          Other                 59              0  ...   \n",
       "2                          Other                 11              5  ...   \n",
       "3                          Other                 44              1  ...   \n",
       "4                          Other                 51              0  ...   \n",
       "...                          ...                ...            ...  ...   \n",
       "101758                     Other                 51              0  ...   \n",
       "101759                     Other                 33              3  ...   \n",
       "101760                     Other                 53              0  ...   \n",
       "101761           Surgery-General                 45              2  ...   \n",
       "101762                     Other                 13              3  ...   \n",
       "\n",
       "       glimepiride glipizide glyburide pioglitazone rosiglitazone insulin  \\\n",
       "0               No        No        No           No            No      No   \n",
       "1               No        No        No           No            No      Up   \n",
       "2               No    Steady        No           No            No      No   \n",
       "3               No        No        No           No            No      Up   \n",
       "4               No    Steady        No           No            No  Steady   \n",
       "...            ...       ...       ...          ...           ...     ...   \n",
       "101758          No        No        No           No            No    Down   \n",
       "101759          No        No        No           No            No  Steady   \n",
       "101760          No        No        No           No            No    Down   \n",
       "101761          No    Steady        No       Steady            No      Up   \n",
       "101762          No        No        No           No            No      No   \n",
       "\n",
       "       glipizide-metformin change diabetesMed readmitted  \n",
       "0                       No     No          No         NO  \n",
       "1                       No     Ch         Yes        >30  \n",
       "2                       No     No         Yes         NO  \n",
       "3                       No     Ch         Yes         NO  \n",
       "4                       No     Ch         Yes         NO  \n",
       "...                    ...    ...         ...        ...  \n",
       "101758                  No     Ch         Yes        >30  \n",
       "101759                  No     No         Yes         NO  \n",
       "101760                  No     Ch         Yes         NO  \n",
       "101761                  No     Ch         Yes         NO  \n",
       "101762                  No     No          No         NO  \n",
       "\n",
       "[101763 rows x 32 columns]"
      ]
     },
     "execution_count": 36,
     "metadata": {},
     "output_type": "execute_result"
    }
   ],
   "source": [
    "from sklearn.impute import SimpleImputer\n",
    "imputer = SimpleImputer(strategy='constant', fill_value='Other')\n",
    "imputed_diabetic = pd.DataFrame(imputer.fit_transform(diabetic_data), columns=diabetic_data.columns)\n",
    "imputed_diabetic"
   ]
  },
  {
   "cell_type": "markdown",
   "id": "04762a4d-8326-4317-bbd1-64c6e869f73d",
   "metadata": {},
   "source": [
    "Teraz enkodujemy nasze zmienne."
   ]
  },
  {
   "cell_type": "code",
   "execution_count": 37,
   "id": "7071c68c-d4cc-4de5-914d-19e7c9e68796",
   "metadata": {},
   "outputs": [],
   "source": [
    "from sklearn.preprocessing import OrdinalEncoder, OneHotEncoder, LabelEncoder, FunctionTransformer\n",
    "from sklearn.compose import ColumnTransformer\n",
    "from sklearn.pipeline import Pipeline\n",
    "import category_encoders as ce\n",
    "\n",
    "age_encoder = ce.ordinal.OrdinalEncoder(\n",
    "    cols=['age'],\n",
    "    mapping = [{'col':'age', \n",
    "               'mapping':{\n",
    "                   '[0-10)': 1, '[10-20)': 2, '[20-30)': 3, '[30-40)':4,\n",
    "                   '[40-50)': 5, '[50-60)': 6, '[60-70)': 7, '[70-80)':8,\n",
    "                   '[80-90)': 9, '[90-100)': 10}\n",
    "              }]\n",
    ")"
   ]
  },
  {
   "cell_type": "markdown",
   "id": "f0a351ed-5d6e-4d85-b905-4dc22c029ac0",
   "metadata": {},
   "source": [
    "Wiek enkodujemy porządkowo natomiast resztę one hot encoderem. "
   ]
  },
  {
   "cell_type": "code",
   "execution_count": 38,
   "id": "c260e2af-05dc-4ac0-a650-2dbfa89118de",
   "metadata": {},
   "outputs": [
    {
     "data": {
      "text/plain": [
       "['race',\n",
       " 'gender',\n",
       " 'medical_specialty',\n",
       " 'diag_1',\n",
       " 'diag_2',\n",
       " 'diag_3',\n",
       " 'max_glu_serum',\n",
       " 'A1Cresult',\n",
       " 'metformin',\n",
       " 'repaglinide',\n",
       " 'glimepiride',\n",
       " 'glipizide',\n",
       " 'glyburide',\n",
       " 'pioglitazone',\n",
       " 'rosiglitazone',\n",
       " 'insulin',\n",
       " 'glipizide-metformin',\n",
       " 'change',\n",
       " 'diabetesMed',\n",
       " 'admission_type_id',\n",
       " 'discharge_disposition_id',\n",
       " 'admission_source_id']"
      ]
     },
     "execution_count": 38,
     "metadata": {},
     "output_type": "execute_result"
    }
   ],
   "source": [
    "ohe_columns = diabetic_data.select_dtypes(exclude='number').columns.tolist()\n",
    "ohe_columns.remove('readmitted')\n",
    "ohe_columns.remove('age')\n",
    "ohe_columns.extend(['admission_type_id', 'discharge_disposition_id', 'admission_source_id'])\n",
    "ohe_columns"
   ]
  },
  {
   "cell_type": "markdown",
   "id": "ea5d4456-3010-4314-a897-9dd577ee2bb8",
   "metadata": {},
   "source": [
    "Dodałem kolumny z id, bo są one de facto zmiennymi kategorycznymi. Usunąłem naszą zmienną celu z **One Hot Encodera**, ponieważ w zależności od modelu trzeba będzie ją inaczej za enkodować. Jako, że *Scikit-learn* domyślnie przyjmuje target zaenkodowany **Label Encoderem** to jego użyjemy do encodingu zmiennej readmitted."
   ]
  },
  {
   "cell_type": "code",
   "execution_count": 39,
   "id": "fbdeed23-da2b-4242-8d57-20b5cc4ace0a",
   "metadata": {},
   "outputs": [
    {
     "data": {
      "text/plain": [
       "(101763,)"
      ]
     },
     "execution_count": 39,
     "metadata": {},
     "output_type": "execute_result"
    }
   ],
   "source": [
    "le = LabelEncoder()\n",
    "imputed_diabetic_y = le.fit_transform(imputed_diabetic.readmitted)\n",
    "imputed_diabetic_y.shape"
   ]
  },
  {
   "cell_type": "code",
   "execution_count": 40,
   "id": "01d8ed10-6386-429d-a6b5-ebf82f895c77",
   "metadata": {},
   "outputs": [],
   "source": [
    "imputed_diabetic_x = imputed_diabetic.drop(columns=['readmitted'])"
   ]
  },
  {
   "cell_type": "code",
   "execution_count": 41,
   "id": "b304a397-b0e7-45ae-b778-91a112c7f6fb",
   "metadata": {},
   "outputs": [],
   "source": [
    "encoder = ColumnTransformer([\n",
    "        ('age_encoder', age_encoder, 'age'),\n",
    "        ('one_hot_encoder', OneHotEncoder(drop='first'), ohe_columns),\n",
    "    ],\n",
    "    remainder='passthrough'\n",
    ")\n",
    "imputed_diabetic_x = encoder.fit_transform(imputed_diabetic_x)"
   ]
  },
  {
   "cell_type": "code",
   "execution_count": 42,
   "id": "d4d3a133-27c5-48d4-b208-436fa9f50f12",
   "metadata": {},
   "outputs": [
    {
     "data": {
      "text/plain": [
       "<101763x1141 sparse matrix of type '<class 'numpy.float64'>'\n",
       "\twith 2449804 stored elements in Compressed Sparse Row format>"
      ]
     },
     "execution_count": 42,
     "metadata": {},
     "output_type": "execute_result"
    }
   ],
   "source": [
    "imputed_diabetic_x"
   ]
  },
  {
   "cell_type": "markdown",
   "id": "068e07e1-fa4b-4318-a995-1b4694790128",
   "metadata": {},
   "source": [
    "Jak widzimy powyżej zmienna **imputed_diabetic_y** zawiera zaenkodowaną kolumnę *readmitted*, natomiast **imputed_diabetic_x** jest macierzą rzadką reszty naszych danych."
   ]
  }
 ],
 "metadata": {
  "kernelspec": {
   "display_name": "Python 3",
   "language": "python",
   "name": "python3"
  },
  "language_info": {
   "codemirror_mode": {
    "name": "ipython",
    "version": 3
   },
   "file_extension": ".py",
   "mimetype": "text/x-python",
   "name": "python",
   "nbconvert_exporter": "python",
   "pygments_lexer": "ipython3",
   "version": "3.8.8"
  }
 },
 "nbformat": 4,
 "nbformat_minor": 5
}
